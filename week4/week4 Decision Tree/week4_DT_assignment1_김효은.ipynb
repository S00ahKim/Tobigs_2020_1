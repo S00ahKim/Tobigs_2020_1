{
 "cells": [
  {
   "cell_type": "markdown",
   "metadata": {},
   "source": [
    "# Decision Tree Assignment1\n",
    "\n",
    "김효은\n",
    "\n",
    "---"
   ]
  },
  {
   "cell_type": "markdown",
   "metadata": {},
   "source": [
    "## Data Loading"
   ]
  },
  {
   "cell_type": "code",
   "execution_count": 1,
   "metadata": {},
   "outputs": [],
   "source": [
    "import pandas as pd \n",
    "import numpy as np"
   ]
  },
  {
   "cell_type": "code",
   "execution_count": 2,
   "metadata": {
    "scrolled": true
   },
   "outputs": [],
   "source": [
    "pd_data = pd.read_csv('https://raw.githubusercontent.com/AugustLONG/ML01/master/01decisiontree/AllElectronics.csv')\n",
    "pd_data.drop(\"RID\",axis=1, inplace = True) #RID는 그냥 순서라서 삭제"
   ]
  },
  {
   "cell_type": "code",
   "execution_count": 3,
   "metadata": {},
   "outputs": [
    {
     "data": {
      "text/html": [
       "<div>\n",
       "<style scoped>\n",
       "    .dataframe tbody tr th:only-of-type {\n",
       "        vertical-align: middle;\n",
       "    }\n",
       "\n",
       "    .dataframe tbody tr th {\n",
       "        vertical-align: top;\n",
       "    }\n",
       "\n",
       "    .dataframe thead th {\n",
       "        text-align: right;\n",
       "    }\n",
       "</style>\n",
       "<table border=\"1\" class=\"dataframe\">\n",
       "  <thead>\n",
       "    <tr style=\"text-align: right;\">\n",
       "      <th></th>\n",
       "      <th>age</th>\n",
       "      <th>income</th>\n",
       "      <th>student</th>\n",
       "      <th>credit_rating</th>\n",
       "      <th>class_buys_computer</th>\n",
       "    </tr>\n",
       "  </thead>\n",
       "  <tbody>\n",
       "    <tr>\n",
       "      <th>0</th>\n",
       "      <td>youth</td>\n",
       "      <td>high</td>\n",
       "      <td>no</td>\n",
       "      <td>fair</td>\n",
       "      <td>no</td>\n",
       "    </tr>\n",
       "    <tr>\n",
       "      <th>1</th>\n",
       "      <td>youth</td>\n",
       "      <td>high</td>\n",
       "      <td>no</td>\n",
       "      <td>excellent</td>\n",
       "      <td>no</td>\n",
       "    </tr>\n",
       "    <tr>\n",
       "      <th>2</th>\n",
       "      <td>middle_aged</td>\n",
       "      <td>high</td>\n",
       "      <td>no</td>\n",
       "      <td>fair</td>\n",
       "      <td>yes</td>\n",
       "    </tr>\n",
       "    <tr>\n",
       "      <th>3</th>\n",
       "      <td>senior</td>\n",
       "      <td>medium</td>\n",
       "      <td>no</td>\n",
       "      <td>fair</td>\n",
       "      <td>yes</td>\n",
       "    </tr>\n",
       "    <tr>\n",
       "      <th>4</th>\n",
       "      <td>senior</td>\n",
       "      <td>low</td>\n",
       "      <td>yes</td>\n",
       "      <td>fair</td>\n",
       "      <td>yes</td>\n",
       "    </tr>\n",
       "  </tbody>\n",
       "</table>\n",
       "</div>"
      ],
      "text/plain": [
       "           age  income student credit_rating class_buys_computer\n",
       "0        youth    high      no          fair                  no\n",
       "1        youth    high      no     excellent                  no\n",
       "2  middle_aged    high      no          fair                 yes\n",
       "3       senior  medium      no          fair                 yes\n",
       "4       senior     low     yes          fair                 yes"
      ]
     },
     "execution_count": 3,
     "metadata": {},
     "output_type": "execute_result"
    }
   ],
   "source": [
    "pd_data.head()"
   ]
  },
  {
   "cell_type": "markdown",
   "metadata": {},
   "source": [
    "## 1. Gini 계수를 구하는 함수 만들기"
   ]
  },
  {
   "cell_type": "markdown",
   "metadata": {},
   "source": [
    "- Input: df(데이터), label(타겟변수명)\n",
    "- 해당 결과는 아래와 같이 나와야 합니다."
   ]
  },
  {
   "cell_type": "code",
   "execution_count": 4,
   "metadata": {},
   "outputs": [],
   "source": [
    "def get_gini(df, label):\n",
    "    \n",
    "    # df에서 label의 비율 구하기\n",
    "    probability = df[label].value_counts() / df.shape[0]\n",
    "    probability = probability.values\n",
    "\n",
    "    # gini index 구하기 (gini = 1-sum(pi^2))\n",
    "    gini = 1\n",
    "    for p in probability:\n",
    "        gini = gini - (p)**2\n",
    "        \n",
    "    return gini"
   ]
  },
  {
   "cell_type": "code",
   "execution_count": 5,
   "metadata": {},
   "outputs": [
    {
     "data": {
      "text/plain": [
       "0.4591836734693877"
      ]
     },
     "execution_count": 5,
     "metadata": {},
     "output_type": "execute_result"
    }
   ],
   "source": [
    "get_gini(pd_data, 'class_buys_computer')"
   ]
  },
  {
   "cell_type": "markdown",
   "metadata": {},
   "source": [
    "## 2. Feature의 Class를 이진 분류로 만들기\n",
    "ex) {A,B,C} -> ({A}, {B,C}), ({B}, {A,C}), ({C}, {A,B})\n",
    "\n",
    "- Input: df(데이터), attribute(Gini index를 구하고자 하는 변수명)\n",
    "- 해당 결과는 아래와 같이 나와야 합니다."
   ]
  },
  {
   "cell_type": "code",
   "execution_count": 6,
   "metadata": {},
   "outputs": [],
   "source": [
    "import itertools # 변수의 모든 클래시 조합을 얻기 위해 itertools 불러오기\n",
    "def get_binary_split(df, attribute):\n",
    "    \n",
    "    unique = df[attribute].unique() # df[attribute]에서 unique한 값 추출\n",
    "    nunique = len(unique) # unique한 값의 개수\n",
    "\n",
    "    result = [] # binary split한 결과를 담을 리스트\n",
    "    for i in range(1, nunique): # 1부터 nunique-1개까지\n",
    "        combination = map(list, itertools.combinations(unique, i)) # unique에서 i개를 추출할 수 있는 모든 경우의 수\n",
    "        for comb in combination:\n",
    "            result.append(comb)\n",
    "    \n",
    "    return result "
   ]
  },
  {
   "cell_type": "code",
   "execution_count": 7,
   "metadata": {},
   "outputs": [
    {
     "data": {
      "text/plain": [
       "[['youth'],\n",
       " ['middle_aged'],\n",
       " ['senior'],\n",
       " ['youth', 'middle_aged'],\n",
       " ['youth', 'senior'],\n",
       " ['middle_aged', 'senior']]"
      ]
     },
     "execution_count": 7,
     "metadata": {},
     "output_type": "execute_result"
    }
   ],
   "source": [
    "get_binary_split(pd_data, \"age\")"
   ]
  },
  {
   "cell_type": "markdown",
   "metadata": {},
   "source": [
    "## 3. 다음은 모든 이진분류의 경우의 Gini index를 구하는 함수 만들기\n",
    "- 위에서 완성한 두 함수를 사용하여 만들어주세요!\n",
    "- 해당 결과는 아래와 같이 나와야 합니다.\n",
    "- 결과로 나온 Dictionary의 Key 값은 해당 class 들로 이루어진 tuple 형태로 들어가 있습니다."
   ]
  },
  {
   "cell_type": "code",
   "execution_count": 8,
   "metadata": {},
   "outputs": [],
   "source": [
    "def get_attribute_gini_index(df, attribute, label):\n",
    "    \n",
    "    result = {} # gini index를 담을 dict\n",
    "    binary_split = get_binary_split(df, attribute) # attribute에 대해서 binary split\n",
    "   \n",
    "    for binary in binary_split:\n",
    "        # binary가 들어가 있는 데이터프레임을 구하기 위한 index\n",
    "        index1 = np.array([False] * len(df[attribute]))\n",
    "        for value in binary:\n",
    "            index1 = index1 | (df[attribute] == value).values\n",
    "            \n",
    "        # binary가 들어가 있지 않는 데이터프레임을 구하기 위한 index\n",
    "        index2 = np.array([True] * len(df[attribute]))\n",
    "        for value in binary:\n",
    "            index2 = index2 & (df[attribute] != value).values\n",
    "        \n",
    "        # 데이터를 index에 따라 분리한 후 각각의 gini index를 구한다.\n",
    "        gini1 = get_gini(df.loc[index1, [attribute, label]], label)\n",
    "        gini2 = get_gini(df.loc[index2, [attribute, label]], label)\n",
    "        \n",
    "        # binary split 했을 때 각 split에 속하는 데이터의 개수\n",
    "        d1 = sum(index1); d2 = sum(index2)\n",
    "        d  = d1+d2\n",
    "\n",
    "        # 최종 gini index\n",
    "        gini = (d1/d)*gini1 + (d2/d)*gini2\n",
    "        \n",
    "        # result dict에 key는 binary, value는 gini를 저장\n",
    "        result[ tuple(binary) ] = gini\n",
    "        \n",
    "    return result"
   ]
  },
  {
   "cell_type": "code",
   "execution_count": 9,
   "metadata": {},
   "outputs": [
    {
     "data": {
      "text/plain": [
       "{('youth',): 0.3936507936507937,\n",
       " ('middle_aged',): 0.35714285714285715,\n",
       " ('senior',): 0.4571428571428572,\n",
       " ('youth', 'middle_aged'): 0.4571428571428572,\n",
       " ('youth', 'senior'): 0.35714285714285715,\n",
       " ('middle_aged', 'senior'): 0.3936507936507937}"
      ]
     },
     "execution_count": 9,
     "metadata": {},
     "output_type": "execute_result"
    }
   ],
   "source": [
    "get_attribute_gini_index(pd_data, \"age\", \"class_buys_computer\")"
   ]
  },
  {
   "cell_type": "markdown",
   "metadata": {},
   "source": [
    "여기서 가장 작은 Gini index값을 가지는 class를 기준으로 split해야겠죠?  \n",
    "결과를 확인해보도록 하겠습니다."
   ]
  },
  {
   "cell_type": "code",
   "execution_count": 10,
   "metadata": {},
   "outputs": [
    {
     "name": "stdout",
     "output_type": "stream",
     "text": [
      "Min - ('middle_aged',) : 0.35714285714285715\n"
     ]
    }
   ],
   "source": [
    "my_dict = get_attribute_gini_index(pd_data, \"age\", \"class_buys_computer\")\n",
    "key_min = min(my_dict.keys(), key=(lambda k: my_dict[k]))\n",
    "print('Min -',key_min, \":\", my_dict[key_min])"
   ]
  },
  {
   "cell_type": "markdown",
   "metadata": {},
   "source": [
    "## 다음의 문제를 위에서 작성한 함수를 통해 구한 값으로 보여주세요!\n",
    "- 문제1) 변수 ‘income’의 이진분류 결과를 보여주세요.\n",
    "- 문제2) 분류를 하는 데 가장 중요한 변수를 선정하고, 해당 변수의 Gini index를 제시해주세요.\n",
    "- 문제3) 문제 2에서 제시한 feature로 DataFrame을 split한 후 나눠진 2개의 DataFrame에서 각각   다음으로 중요한 변수를 선정하고 해당 변수의 Gini index를 제시해주세요."
   ]
  },
  {
   "cell_type": "code",
   "execution_count": 11,
   "metadata": {},
   "outputs": [
    {
     "data": {
      "text/plain": [
       "[['high'],\n",
       " ['medium'],\n",
       " ['low'],\n",
       " ['high', 'medium'],\n",
       " ['high', 'low'],\n",
       " ['medium', 'low']]"
      ]
     },
     "execution_count": 11,
     "metadata": {},
     "output_type": "execute_result"
    }
   ],
   "source": [
    "# 문제1) 변수 ‘income’의 이진분류 결과를 보여주세요.\n",
    "# 문제1 답안\n",
    "get_binary_split(pd_data, 'income')"
   ]
  },
  {
   "cell_type": "code",
   "execution_count": 12,
   "metadata": {},
   "outputs": [],
   "source": [
    "# 문제2) 분류를 하는 데 가장 중요한 변수를 선정하고, 해당 변수의 Gini index를 제시해주세요.\n",
    "# 문제2 답안\n",
    "\n",
    "def get_min_gini(df, feature_names, target_name):\n",
    "    min_gini = ['feature_name', 'bianry', 1]\n",
    "\n",
    "    for feature in feature_names:\n",
    "        gini = get_attribute_gini_index(df, feature, target_name)\n",
    "        if min_gini[2] > min(gini.values()):\n",
    "            min_gini[0] = feature\n",
    "            min_gini[1] = min(gini)\n",
    "            min_gini[2] = min(gini.values())\n",
    "    return min_gini"
   ]
  },
  {
   "cell_type": "code",
   "execution_count": 16,
   "metadata": {},
   "outputs": [
    {
     "name": "stdout",
     "output_type": "stream",
     "text": [
      "['age', ('middle_aged',), 0.35714285714285715]\n"
     ]
    }
   ],
   "source": [
    "feature_names = pd_data.columns[:-1]\n",
    "min_gini = get_min_gini(pd_data, feature_names, 'class_buys_computer')\n",
    "print(min_gini)\n",
    "\n",
    "# age feature를 middle_aged와 middle_aged로 아닌 경우로 분류했을 때 gini index가 0.357로 가장 낮았다."
   ]
  },
  {
   "cell_type": "code",
   "execution_count": 14,
   "metadata": {
    "scrolled": true
   },
   "outputs": [],
   "source": [
    "# 문제3) 문제 2에서 제시한 feature로 DataFrame을 split한 후 나눠진 2개의 DataFrame에서 각각 다음으로 중요한 변수를 선정하고 \n",
    "# 해당 변수의 Gini index를 제시해주세요.\n",
    "#문제3 답안"
   ]
  },
  {
   "cell_type": "code",
   "execution_count": 17,
   "metadata": {},
   "outputs": [],
   "source": [
    "# 위의 결과를 받아옴\n",
    "attribute = min_gini[0]\n",
    "binary    = min_gini[1]\n",
    "\n",
    "# age가 middle_aged인 데이터의 인덱스\n",
    "index1 = np.array([False] * len(pd_data[attribute]))\n",
    "for value in binary:\n",
    "    index1 = index1 | (pd_data[attribute] == value).values\n",
    "\n",
    "# age가 middle_aged가 아닌 데이터의 인덱스\n",
    "index2 = np.array([True] * len(pd_data[attribute]))\n",
    "for value in binary:\n",
    "    index2 = index2 & (pd_data[attribute] != value).values\n",
    "\n",
    "# age가 middle_aged인 데이터와 middle_aged가 아닌 데이터로 분리\n",
    "df_middle_aged = pd_data.loc[index1, ]\n",
    "df_non_middle_aged = pd_data.loc[index2, ]"
   ]
  },
  {
   "cell_type": "markdown",
   "metadata": {},
   "source": [
    "**age가 middle_aged인 데이터인 경우**"
   ]
  },
  {
   "cell_type": "code",
   "execution_count": 18,
   "metadata": {},
   "outputs": [
    {
     "name": "stdout",
     "output_type": "stream",
     "text": [
      "{('high',): 0.0, ('low',): 0.0, ('medium',): 0.0, ('high', 'low'): 0.0, ('high', 'medium'): 0.0, ('low', 'medium'): 0.0}\n",
      "{('no',): 0.0, ('yes',): 0.0}\n",
      "{('fair',): 0.0, ('excellent',): 0.0}\n"
     ]
    }
   ],
   "source": [
    "# age가 middle_aged인 데이터인 경우\n",
    "# 여기서 주의할 점은 df_middle_aged의 데이터셋의 경우 age가 middle_aged인 데이터만 있으므로,\n",
    "# gini index를 구할 때 age feature는 제외하고 구해야 한다는 점\n",
    "\n",
    "# 그런데 df_middle_aged를 보면 이미 class_buys_computer가 'yes'인 데이터만 모여있다.\n",
    "# 따라서 더이상 branch split을 하지 않아도 된다.\n",
    "# 또한 모든 경우에 대해 gini index를 구해보아도 모두 0으로 동일하다는 것을 확인할 수 있다.\n",
    "# 즉, 이 데이터셋은 이미 불순도가 0% 라는 것!\n",
    "\n",
    "features = df_middle_aged.columns[1:-1]\n",
    "for feature in features:\n",
    "    print( get_attribute_gini_index(df_middle_aged, feature, 'class_buys_computer') )"
   ]
  },
  {
   "cell_type": "code",
   "execution_count": 19,
   "metadata": {},
   "outputs": [
    {
     "data": {
      "text/html": [
       "<div>\n",
       "<style scoped>\n",
       "    .dataframe tbody tr th:only-of-type {\n",
       "        vertical-align: middle;\n",
       "    }\n",
       "\n",
       "    .dataframe tbody tr th {\n",
       "        vertical-align: top;\n",
       "    }\n",
       "\n",
       "    .dataframe thead th {\n",
       "        text-align: right;\n",
       "    }\n",
       "</style>\n",
       "<table border=\"1\" class=\"dataframe\">\n",
       "  <thead>\n",
       "    <tr style=\"text-align: right;\">\n",
       "      <th></th>\n",
       "      <th>age</th>\n",
       "      <th>income</th>\n",
       "      <th>student</th>\n",
       "      <th>credit_rating</th>\n",
       "      <th>class_buys_computer</th>\n",
       "    </tr>\n",
       "  </thead>\n",
       "  <tbody>\n",
       "    <tr>\n",
       "      <th>2</th>\n",
       "      <td>middle_aged</td>\n",
       "      <td>high</td>\n",
       "      <td>no</td>\n",
       "      <td>fair</td>\n",
       "      <td>yes</td>\n",
       "    </tr>\n",
       "    <tr>\n",
       "      <th>6</th>\n",
       "      <td>middle_aged</td>\n",
       "      <td>low</td>\n",
       "      <td>yes</td>\n",
       "      <td>excellent</td>\n",
       "      <td>yes</td>\n",
       "    </tr>\n",
       "    <tr>\n",
       "      <th>11</th>\n",
       "      <td>middle_aged</td>\n",
       "      <td>medium</td>\n",
       "      <td>no</td>\n",
       "      <td>excellent</td>\n",
       "      <td>yes</td>\n",
       "    </tr>\n",
       "    <tr>\n",
       "      <th>12</th>\n",
       "      <td>middle_aged</td>\n",
       "      <td>high</td>\n",
       "      <td>yes</td>\n",
       "      <td>fair</td>\n",
       "      <td>yes</td>\n",
       "    </tr>\n",
       "  </tbody>\n",
       "</table>\n",
       "</div>"
      ],
      "text/plain": [
       "            age  income student credit_rating class_buys_computer\n",
       "2   middle_aged    high      no          fair                 yes\n",
       "6   middle_aged     low     yes     excellent                 yes\n",
       "11  middle_aged  medium      no     excellent                 yes\n",
       "12  middle_aged    high     yes          fair                 yes"
      ]
     },
     "execution_count": 19,
     "metadata": {},
     "output_type": "execute_result"
    }
   ],
   "source": [
    "df_middle_aged"
   ]
  },
  {
   "cell_type": "markdown",
   "metadata": {},
   "source": [
    "**age가 middle_aged가 아닌 데이터인 경우**"
   ]
  },
  {
   "cell_type": "code",
   "execution_count": 20,
   "metadata": {},
   "outputs": [
    {
     "data": {
      "text/plain": [
       "['student', ('no',), 0.31999999999999984]"
      ]
     },
     "execution_count": 20,
     "metadata": {},
     "output_type": "execute_result"
    }
   ],
   "source": [
    "# age가 middle_aged가 아닌 데이터인 경우\n",
    "# 이 데이터는 age가 youth, senior인 데이터셋이기 때문에 gini index구할 때 age feature를 고려할 수 있다.\n",
    "# (CART 알고리즘은 이진분류를 적용하기 때문에 그 feature의 class가 3개 이상인 경우 이전에 사용된 feature가 다시 고려될 수 있다!)\n",
    "\n",
    "# age가 middle_aged가 아닌 데이터인 경우 student 여부에 따라 분류했을 때 gini inex가 0.32 정도로 가장 낮았다.\n",
    "# 따라서 다음 branch split은 student 여부가 되겠다.\n",
    "get_min_gini(df_non_middle_aged, feature_names, 'class_buys_computer')"
   ]
  }
 ],
 "metadata": {
  "kernelspec": {
   "display_name": "Python 3",
   "language": "python",
   "name": "python3"
  },
  "language_info": {
   "codemirror_mode": {
    "name": "ipython",
    "version": 3
   },
   "file_extension": ".py",
   "mimetype": "text/x-python",
   "name": "python",
   "nbconvert_exporter": "python",
   "pygments_lexer": "ipython3",
   "version": "3.7.3"
  }
 },
 "nbformat": 4,
 "nbformat_minor": 4
}
