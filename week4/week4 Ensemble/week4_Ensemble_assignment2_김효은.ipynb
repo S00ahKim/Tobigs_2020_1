{
 "cells": [
  {
   "cell_type": "code",
   "execution_count": 1,
   "metadata": {
    "_cell_guid": "2dbccbd6-138b-4f1b-9b23-fd60c7525c14",
    "_execution_state": "idle",
    "_uuid": "c9b1d5dff21d39260eb47af6fe7aac4bd03be233"
   },
   "outputs": [],
   "source": [
    "#import some necessary librairies\n",
    "\n",
    "import numpy as np # linear algebra\n",
    "import pandas as pd # data processing, CSV file I/O (e.g. pd.read_csv)\n",
    "\n",
    "%matplotlib inline\n",
    "import matplotlib.pyplot as plt  # Matlab-style plotting\n",
    "import seaborn as sns\n",
    "color = sns.color_palette()\n",
    "sns.set_style('darkgrid')\n",
    "\n",
    "import warnings\n",
    "def ignore_warn(*args, **kwargs):\n",
    "    pass\n",
    "warnings.warn = ignore_warn #ignore annoying warning (from sklearn and seaborn)\n",
    "\n",
    "from scipy import stats\n",
    "from scipy.stats import norm, skew "
   ]
  },
  {
   "cell_type": "code",
   "execution_count": 2,
   "metadata": {
    "_cell_guid": "59617b4b-d797-44ce-9142-05fbfd36aada",
    "_execution_state": "idle",
    "_uuid": "0e694d13459e3e200f6e2c6333c887cbad779ba9"
   },
   "outputs": [],
   "source": [
    "test  = pd.read_csv('test_new.csv') \n",
    "train = pd.read_csv('train_new.csv') "
   ]
  },
  {
   "cell_type": "code",
   "execution_count": 3,
   "metadata": {
    "_cell_guid": "3678529f-9d76-4853-88c5-4b2d230a85b6",
    "_execution_state": "idle",
    "_uuid": "3a32f51460a02fbe7a9122db55a740eb378dda97"
   },
   "outputs": [
    {
     "data": {
      "text/html": [
       "<div>\n",
       "<style scoped>\n",
       "    .dataframe tbody tr th:only-of-type {\n",
       "        vertical-align: middle;\n",
       "    }\n",
       "\n",
       "    .dataframe tbody tr th {\n",
       "        vertical-align: top;\n",
       "    }\n",
       "\n",
       "    .dataframe thead th {\n",
       "        text-align: right;\n",
       "    }\n",
       "</style>\n",
       "<table border=\"1\" class=\"dataframe\">\n",
       "  <thead>\n",
       "    <tr style=\"text-align: right;\">\n",
       "      <th></th>\n",
       "      <th>Id</th>\n",
       "      <th>MSSubClass</th>\n",
       "      <th>MSZoning</th>\n",
       "      <th>LotFrontage</th>\n",
       "      <th>LotArea</th>\n",
       "      <th>Street</th>\n",
       "      <th>Alley</th>\n",
       "      <th>LotShape</th>\n",
       "      <th>LandContour</th>\n",
       "      <th>Utilities</th>\n",
       "      <th>...</th>\n",
       "      <th>PoolArea</th>\n",
       "      <th>PoolQC</th>\n",
       "      <th>Fence</th>\n",
       "      <th>MiscFeature</th>\n",
       "      <th>MiscVal</th>\n",
       "      <th>MoSold</th>\n",
       "      <th>YrSold</th>\n",
       "      <th>SaleType</th>\n",
       "      <th>SaleCondition</th>\n",
       "      <th>SalePrice</th>\n",
       "    </tr>\n",
       "  </thead>\n",
       "  <tbody>\n",
       "    <tr>\n",
       "      <th>0</th>\n",
       "      <td>1</td>\n",
       "      <td>60</td>\n",
       "      <td>RL</td>\n",
       "      <td>65.0</td>\n",
       "      <td>8450</td>\n",
       "      <td>Pave</td>\n",
       "      <td>NaN</td>\n",
       "      <td>Reg</td>\n",
       "      <td>Lvl</td>\n",
       "      <td>AllPub</td>\n",
       "      <td>...</td>\n",
       "      <td>0</td>\n",
       "      <td>NaN</td>\n",
       "      <td>NaN</td>\n",
       "      <td>NaN</td>\n",
       "      <td>0</td>\n",
       "      <td>2</td>\n",
       "      <td>2008</td>\n",
       "      <td>WD</td>\n",
       "      <td>Normal</td>\n",
       "      <td>12.247699</td>\n",
       "    </tr>\n",
       "    <tr>\n",
       "      <th>1</th>\n",
       "      <td>2</td>\n",
       "      <td>20</td>\n",
       "      <td>RL</td>\n",
       "      <td>80.0</td>\n",
       "      <td>9600</td>\n",
       "      <td>Pave</td>\n",
       "      <td>NaN</td>\n",
       "      <td>Reg</td>\n",
       "      <td>Lvl</td>\n",
       "      <td>AllPub</td>\n",
       "      <td>...</td>\n",
       "      <td>0</td>\n",
       "      <td>NaN</td>\n",
       "      <td>NaN</td>\n",
       "      <td>NaN</td>\n",
       "      <td>0</td>\n",
       "      <td>5</td>\n",
       "      <td>2007</td>\n",
       "      <td>WD</td>\n",
       "      <td>Normal</td>\n",
       "      <td>12.109016</td>\n",
       "    </tr>\n",
       "    <tr>\n",
       "      <th>2</th>\n",
       "      <td>3</td>\n",
       "      <td>60</td>\n",
       "      <td>RL</td>\n",
       "      <td>68.0</td>\n",
       "      <td>11250</td>\n",
       "      <td>Pave</td>\n",
       "      <td>NaN</td>\n",
       "      <td>IR1</td>\n",
       "      <td>Lvl</td>\n",
       "      <td>AllPub</td>\n",
       "      <td>...</td>\n",
       "      <td>0</td>\n",
       "      <td>NaN</td>\n",
       "      <td>NaN</td>\n",
       "      <td>NaN</td>\n",
       "      <td>0</td>\n",
       "      <td>9</td>\n",
       "      <td>2008</td>\n",
       "      <td>WD</td>\n",
       "      <td>Normal</td>\n",
       "      <td>12.317171</td>\n",
       "    </tr>\n",
       "    <tr>\n",
       "      <th>3</th>\n",
       "      <td>4</td>\n",
       "      <td>70</td>\n",
       "      <td>RL</td>\n",
       "      <td>60.0</td>\n",
       "      <td>9550</td>\n",
       "      <td>Pave</td>\n",
       "      <td>NaN</td>\n",
       "      <td>IR1</td>\n",
       "      <td>Lvl</td>\n",
       "      <td>AllPub</td>\n",
       "      <td>...</td>\n",
       "      <td>0</td>\n",
       "      <td>NaN</td>\n",
       "      <td>NaN</td>\n",
       "      <td>NaN</td>\n",
       "      <td>0</td>\n",
       "      <td>2</td>\n",
       "      <td>2006</td>\n",
       "      <td>WD</td>\n",
       "      <td>Abnorml</td>\n",
       "      <td>11.849405</td>\n",
       "    </tr>\n",
       "    <tr>\n",
       "      <th>4</th>\n",
       "      <td>5</td>\n",
       "      <td>60</td>\n",
       "      <td>RL</td>\n",
       "      <td>84.0</td>\n",
       "      <td>14260</td>\n",
       "      <td>Pave</td>\n",
       "      <td>NaN</td>\n",
       "      <td>IR1</td>\n",
       "      <td>Lvl</td>\n",
       "      <td>AllPub</td>\n",
       "      <td>...</td>\n",
       "      <td>0</td>\n",
       "      <td>NaN</td>\n",
       "      <td>NaN</td>\n",
       "      <td>NaN</td>\n",
       "      <td>0</td>\n",
       "      <td>12</td>\n",
       "      <td>2008</td>\n",
       "      <td>WD</td>\n",
       "      <td>Normal</td>\n",
       "      <td>12.429220</td>\n",
       "    </tr>\n",
       "  </tbody>\n",
       "</table>\n",
       "<p>5 rows × 81 columns</p>\n",
       "</div>"
      ],
      "text/plain": [
       "   Id  MSSubClass MSZoning  LotFrontage  LotArea Street Alley LotShape  \\\n",
       "0   1          60       RL         65.0     8450   Pave   NaN      Reg   \n",
       "1   2          20       RL         80.0     9600   Pave   NaN      Reg   \n",
       "2   3          60       RL         68.0    11250   Pave   NaN      IR1   \n",
       "3   4          70       RL         60.0     9550   Pave   NaN      IR1   \n",
       "4   5          60       RL         84.0    14260   Pave   NaN      IR1   \n",
       "\n",
       "  LandContour Utilities  ... PoolArea PoolQC Fence MiscFeature MiscVal MoSold  \\\n",
       "0         Lvl    AllPub  ...        0    NaN   NaN         NaN       0      2   \n",
       "1         Lvl    AllPub  ...        0    NaN   NaN         NaN       0      5   \n",
       "2         Lvl    AllPub  ...        0    NaN   NaN         NaN       0      9   \n",
       "3         Lvl    AllPub  ...        0    NaN   NaN         NaN       0      2   \n",
       "4         Lvl    AllPub  ...        0    NaN   NaN         NaN       0     12   \n",
       "\n",
       "  YrSold  SaleType  SaleCondition  SalePrice  \n",
       "0   2008        WD         Normal  12.247699  \n",
       "1   2007        WD         Normal  12.109016  \n",
       "2   2008        WD         Normal  12.317171  \n",
       "3   2006        WD        Abnorml  11.849405  \n",
       "4   2008        WD         Normal  12.429220  \n",
       "\n",
       "[5 rows x 81 columns]"
      ]
     },
     "execution_count": 3,
     "metadata": {},
     "output_type": "execute_result"
    }
   ],
   "source": [
    "train.head()"
   ]
  },
  {
   "cell_type": "code",
   "execution_count": 4,
   "metadata": {
    "_cell_guid": "ff37c1ba-8679-49e0-b3c8-9c53d01b1b04",
    "_execution_state": "idle",
    "_uuid": "816b1463b3dd0daf44949a1fa15ebfbc0e2f1235"
   },
   "outputs": [
    {
     "data": {
      "text/html": [
       "<div>\n",
       "<style scoped>\n",
       "    .dataframe tbody tr th:only-of-type {\n",
       "        vertical-align: middle;\n",
       "    }\n",
       "\n",
       "    .dataframe tbody tr th {\n",
       "        vertical-align: top;\n",
       "    }\n",
       "\n",
       "    .dataframe thead th {\n",
       "        text-align: right;\n",
       "    }\n",
       "</style>\n",
       "<table border=\"1\" class=\"dataframe\">\n",
       "  <thead>\n",
       "    <tr style=\"text-align: right;\">\n",
       "      <th></th>\n",
       "      <th>Id</th>\n",
       "      <th>MSSubClass</th>\n",
       "      <th>MSZoning</th>\n",
       "      <th>LotFrontage</th>\n",
       "      <th>LotArea</th>\n",
       "      <th>Street</th>\n",
       "      <th>Alley</th>\n",
       "      <th>LotShape</th>\n",
       "      <th>LandContour</th>\n",
       "      <th>Utilities</th>\n",
       "      <th>...</th>\n",
       "      <th>ScreenPorch</th>\n",
       "      <th>PoolArea</th>\n",
       "      <th>PoolQC</th>\n",
       "      <th>Fence</th>\n",
       "      <th>MiscFeature</th>\n",
       "      <th>MiscVal</th>\n",
       "      <th>MoSold</th>\n",
       "      <th>YrSold</th>\n",
       "      <th>SaleType</th>\n",
       "      <th>SaleCondition</th>\n",
       "    </tr>\n",
       "  </thead>\n",
       "  <tbody>\n",
       "    <tr>\n",
       "      <th>0</th>\n",
       "      <td>861</td>\n",
       "      <td>50</td>\n",
       "      <td>RL</td>\n",
       "      <td>55.0</td>\n",
       "      <td>7642</td>\n",
       "      <td>Pave</td>\n",
       "      <td>NaN</td>\n",
       "      <td>Reg</td>\n",
       "      <td>Lvl</td>\n",
       "      <td>AllPub</td>\n",
       "      <td>...</td>\n",
       "      <td>0</td>\n",
       "      <td>0</td>\n",
       "      <td>NaN</td>\n",
       "      <td>GdPrv</td>\n",
       "      <td>NaN</td>\n",
       "      <td>0</td>\n",
       "      <td>6</td>\n",
       "      <td>2007</td>\n",
       "      <td>WD</td>\n",
       "      <td>Normal</td>\n",
       "    </tr>\n",
       "    <tr>\n",
       "      <th>1</th>\n",
       "      <td>862</td>\n",
       "      <td>190</td>\n",
       "      <td>RL</td>\n",
       "      <td>75.0</td>\n",
       "      <td>11625</td>\n",
       "      <td>Pave</td>\n",
       "      <td>NaN</td>\n",
       "      <td>Reg</td>\n",
       "      <td>Lvl</td>\n",
       "      <td>AllPub</td>\n",
       "      <td>...</td>\n",
       "      <td>0</td>\n",
       "      <td>0</td>\n",
       "      <td>NaN</td>\n",
       "      <td>NaN</td>\n",
       "      <td>NaN</td>\n",
       "      <td>0</td>\n",
       "      <td>4</td>\n",
       "      <td>2010</td>\n",
       "      <td>WD</td>\n",
       "      <td>Normal</td>\n",
       "    </tr>\n",
       "    <tr>\n",
       "      <th>2</th>\n",
       "      <td>863</td>\n",
       "      <td>20</td>\n",
       "      <td>RL</td>\n",
       "      <td>81.0</td>\n",
       "      <td>9672</td>\n",
       "      <td>Pave</td>\n",
       "      <td>NaN</td>\n",
       "      <td>Reg</td>\n",
       "      <td>Lvl</td>\n",
       "      <td>AllPub</td>\n",
       "      <td>...</td>\n",
       "      <td>0</td>\n",
       "      <td>0</td>\n",
       "      <td>NaN</td>\n",
       "      <td>GdPrv</td>\n",
       "      <td>NaN</td>\n",
       "      <td>0</td>\n",
       "      <td>5</td>\n",
       "      <td>2010</td>\n",
       "      <td>WD</td>\n",
       "      <td>Normal</td>\n",
       "    </tr>\n",
       "    <tr>\n",
       "      <th>3</th>\n",
       "      <td>864</td>\n",
       "      <td>20</td>\n",
       "      <td>RL</td>\n",
       "      <td>70.0</td>\n",
       "      <td>7931</td>\n",
       "      <td>Pave</td>\n",
       "      <td>NaN</td>\n",
       "      <td>Reg</td>\n",
       "      <td>Lvl</td>\n",
       "      <td>AllPub</td>\n",
       "      <td>...</td>\n",
       "      <td>0</td>\n",
       "      <td>0</td>\n",
       "      <td>NaN</td>\n",
       "      <td>GdPrv</td>\n",
       "      <td>NaN</td>\n",
       "      <td>0</td>\n",
       "      <td>7</td>\n",
       "      <td>2009</td>\n",
       "      <td>WD</td>\n",
       "      <td>Normal</td>\n",
       "    </tr>\n",
       "    <tr>\n",
       "      <th>4</th>\n",
       "      <td>865</td>\n",
       "      <td>20</td>\n",
       "      <td>FV</td>\n",
       "      <td>72.0</td>\n",
       "      <td>8640</td>\n",
       "      <td>Pave</td>\n",
       "      <td>NaN</td>\n",
       "      <td>Reg</td>\n",
       "      <td>Lvl</td>\n",
       "      <td>AllPub</td>\n",
       "      <td>...</td>\n",
       "      <td>0</td>\n",
       "      <td>0</td>\n",
       "      <td>NaN</td>\n",
       "      <td>NaN</td>\n",
       "      <td>NaN</td>\n",
       "      <td>0</td>\n",
       "      <td>5</td>\n",
       "      <td>2008</td>\n",
       "      <td>New</td>\n",
       "      <td>Partial</td>\n",
       "    </tr>\n",
       "  </tbody>\n",
       "</table>\n",
       "<p>5 rows × 80 columns</p>\n",
       "</div>"
      ],
      "text/plain": [
       "    Id  MSSubClass MSZoning  LotFrontage  LotArea Street Alley LotShape  \\\n",
       "0  861          50       RL         55.0     7642   Pave   NaN      Reg   \n",
       "1  862         190       RL         75.0    11625   Pave   NaN      Reg   \n",
       "2  863          20       RL         81.0     9672   Pave   NaN      Reg   \n",
       "3  864          20       RL         70.0     7931   Pave   NaN      Reg   \n",
       "4  865          20       FV         72.0     8640   Pave   NaN      Reg   \n",
       "\n",
       "  LandContour Utilities  ... ScreenPorch PoolArea PoolQC  Fence MiscFeature  \\\n",
       "0         Lvl    AllPub  ...           0        0    NaN  GdPrv         NaN   \n",
       "1         Lvl    AllPub  ...           0        0    NaN    NaN         NaN   \n",
       "2         Lvl    AllPub  ...           0        0    NaN  GdPrv         NaN   \n",
       "3         Lvl    AllPub  ...           0        0    NaN  GdPrv         NaN   \n",
       "4         Lvl    AllPub  ...           0        0    NaN    NaN         NaN   \n",
       "\n",
       "  MiscVal MoSold  YrSold  SaleType  SaleCondition  \n",
       "0       0      6    2007        WD         Normal  \n",
       "1       0      4    2010        WD         Normal  \n",
       "2       0      5    2010        WD         Normal  \n",
       "3       0      7    2009        WD         Normal  \n",
       "4       0      5    2008       New        Partial  \n",
       "\n",
       "[5 rows x 80 columns]"
      ]
     },
     "execution_count": 4,
     "metadata": {},
     "output_type": "execute_result"
    }
   ],
   "source": [
    "test.head()"
   ]
  },
  {
   "cell_type": "code",
   "execution_count": 5,
   "metadata": {
    "_cell_guid": "b24451a1-fb8c-4094-ad0b-0940469d07fc",
    "_execution_state": "idle",
    "_uuid": "687813c270cbfdedccc7a9e4ec9fbb78a99d54ed"
   },
   "outputs": [
    {
     "name": "stdout",
     "output_type": "stream",
     "text": [
      "The train data size before dropping Id feature is : (860, 81) \n",
      "The test data size before dropping Id feature is : (600, 80) \n",
      "\n",
      "The train data size after dropping Id feature is : (860, 80) \n",
      "The test data size after dropping Id feature is : (600, 79) \n"
     ]
    }
   ],
   "source": [
    "#check the numbers of samples and features\n",
    "print(\"The train data size before dropping Id feature is : {} \".format(train.shape))\n",
    "print(\"The test data size before dropping Id feature is : {} \".format(test.shape))\n",
    "\n",
    "#Save the 'Id' column\n",
    "train_ID = train['Id']\n",
    "test_ID  = test['Id']\n",
    "\n",
    "#Now drop the  'Id' colum since it's unnecessary for  the prediction process.\n",
    "train.drop(\"Id\", axis = 1, inplace = True)\n",
    "test.drop( \"Id\", axis = 1, inplace = True)\n",
    "\n",
    "#check again the data size after dropping the 'Id' variable\n",
    "print(\"\\nThe train data size after dropping Id feature is : {} \".format(train.shape)) \n",
    "print(\"The test data size after dropping Id feature is : {} \".format(test.shape))"
   ]
  },
  {
   "cell_type": "markdown",
   "metadata": {
    "_cell_guid": "7d5829c4-b2f1-4ef3-8b02-11f02eb7aabf",
    "_execution_state": "idle",
    "_uuid": "228cb602f1c7a47d3c5250514cab57f7e7bc75e5"
   },
   "source": [
    "## Data Processing"
   ]
  },
  {
   "cell_type": "code",
   "execution_count": 6,
   "metadata": {
    "_cell_guid": "637bd0fd-7508-41d1-b240-ea0e8598dddf",
    "_execution_state": "idle",
    "_uuid": "8903aa1a4a700aa2160edb3baf806f3800ae7d9a"
   },
   "outputs": [
    {
     "data": {
      "image/png": "[encoded data removed]",
      "text/plain": [
       "<Figure size 432x288 with 1 Axes>"
      ]
     },
     "metadata": {
      "needs_background": "light"
     },
     "output_type": "display_data"
    }
   ],
   "source": [
    "fig, ax = plt.subplots()\n",
    "ax.scatter(x = train['GrLivArea'], y = train['SalePrice'])\n",
    "plt.xlabel('GrLivArea', fontsize=13)\n",
    "plt.ylabel('SalePrice', fontsize=13)\n",
    "plt.show()"
   ]
  },
  {
   "cell_type": "markdown",
   "metadata": {},
   "source": [
    "**Q1. 위 그림에서 이상치로 판단되는 데이터를 제거하시오.**  \n",
    "사람마다 기준은 다르나 저는 오른쪽 따로노는 아이가 이상하군요"
   ]
  },
  {
   "cell_type": "code",
   "execution_count": 7,
   "metadata": {
    "_cell_guid": "6c5780b2-d4a8-42d9-b902-c6a23eef7d99",
    "_execution_state": "idle",
    "_uuid": "583bb417102d7bebb4aaf14bcb1aebcae86443bb"
   },
   "outputs": [
    {
     "data": {
      "image/png": "[encoded data removed]",
      "text/plain": [
       "<Figure size 432x288 with 1 Axes>"
      ]
     },
     "metadata": {
      "needs_background": "light"
     },
     "output_type": "display_data"
    }
   ],
   "source": [
    "#Deleting outliers\n",
    "train = train.drop(train['GrLivArea'].idxmax(), axis=0)\n",
    "\n",
    "#Check the graphic again\n",
    "fig, ax = plt.subplots()\n",
    "ax.scatter(train['GrLivArea'], train['SalePrice'])\n",
    "plt.ylabel('SalePrice', fontsize=13)\n",
    "plt.xlabel('GrLivArea', fontsize=13)\n",
    "plt.show()"
   ]
  },
  {
   "cell_type": "markdown",
   "metadata": {
    "_cell_guid": "802df76d-0e0b-4868-ba16-91335568d2d7",
    "_execution_state": "idle",
    "_uuid": "827a86d65c6d176f4af55224b91b44a47966652d"
   },
   "source": [
    "## Features engineering"
   ]
  },
  {
   "cell_type": "code",
   "execution_count": 8,
   "metadata": {
    "_cell_guid": "1bd3e9b9-2f42-4251-aadd-5ced84eb1a27",
    "_execution_state": "idle",
    "_uuid": "efc576211e4eed962f04cd94d901c667e6912528"
   },
   "outputs": [
    {
     "name": "stdout",
     "output_type": "stream",
     "text": [
      "all_data size is : (1459, 79)\n"
     ]
    }
   ],
   "source": [
    "ntrain = train.shape[0]\n",
    "ntest  = test.shape[0]\n",
    "y_train = train.SalePrice.values\n",
    "all_data = pd.concat((train, test)).reset_index(drop=True)\n",
    "all_data.drop(['SalePrice'], axis=1, inplace=True)\n",
    "print(\"all_data size is : {}\".format(all_data.shape))"
   ]
  },
  {
   "cell_type": "code",
   "execution_count": 9,
   "metadata": {},
   "outputs": [
    {
     "data": {
      "text/html": [
       "<div>\n",
       "<style scoped>\n",
       "    .dataframe tbody tr th:only-of-type {\n",
       "        vertical-align: middle;\n",
       "    }\n",
       "\n",
       "    .dataframe tbody tr th {\n",
       "        vertical-align: top;\n",
       "    }\n",
       "\n",
       "    .dataframe thead th {\n",
       "        text-align: right;\n",
       "    }\n",
       "</style>\n",
       "<table border=\"1\" class=\"dataframe\">\n",
       "  <thead>\n",
       "    <tr style=\"text-align: right;\">\n",
       "      <th></th>\n",
       "      <th>1stFlrSF</th>\n",
       "      <th>2ndFlrSF</th>\n",
       "      <th>3SsnPorch</th>\n",
       "      <th>Alley</th>\n",
       "      <th>BedroomAbvGr</th>\n",
       "      <th>BldgType</th>\n",
       "      <th>BsmtCond</th>\n",
       "      <th>BsmtExposure</th>\n",
       "      <th>BsmtFinSF1</th>\n",
       "      <th>BsmtFinSF2</th>\n",
       "      <th>...</th>\n",
       "      <th>SaleType</th>\n",
       "      <th>ScreenPorch</th>\n",
       "      <th>Street</th>\n",
       "      <th>TotRmsAbvGrd</th>\n",
       "      <th>TotalBsmtSF</th>\n",
       "      <th>Utilities</th>\n",
       "      <th>WoodDeckSF</th>\n",
       "      <th>YearBuilt</th>\n",
       "      <th>YearRemodAdd</th>\n",
       "      <th>YrSold</th>\n",
       "    </tr>\n",
       "  </thead>\n",
       "  <tbody>\n",
       "    <tr>\n",
       "      <th>0</th>\n",
       "      <td>856</td>\n",
       "      <td>854</td>\n",
       "      <td>0</td>\n",
       "      <td>NaN</td>\n",
       "      <td>3</td>\n",
       "      <td>1Fam</td>\n",
       "      <td>TA</td>\n",
       "      <td>No</td>\n",
       "      <td>706</td>\n",
       "      <td>0</td>\n",
       "      <td>...</td>\n",
       "      <td>WD</td>\n",
       "      <td>0</td>\n",
       "      <td>Pave</td>\n",
       "      <td>8</td>\n",
       "      <td>856</td>\n",
       "      <td>AllPub</td>\n",
       "      <td>0</td>\n",
       "      <td>2003</td>\n",
       "      <td>2003</td>\n",
       "      <td>2008</td>\n",
       "    </tr>\n",
       "    <tr>\n",
       "      <th>1</th>\n",
       "      <td>1262</td>\n",
       "      <td>0</td>\n",
       "      <td>0</td>\n",
       "      <td>NaN</td>\n",
       "      <td>3</td>\n",
       "      <td>1Fam</td>\n",
       "      <td>TA</td>\n",
       "      <td>Gd</td>\n",
       "      <td>978</td>\n",
       "      <td>0</td>\n",
       "      <td>...</td>\n",
       "      <td>WD</td>\n",
       "      <td>0</td>\n",
       "      <td>Pave</td>\n",
       "      <td>6</td>\n",
       "      <td>1262</td>\n",
       "      <td>AllPub</td>\n",
       "      <td>298</td>\n",
       "      <td>1976</td>\n",
       "      <td>1976</td>\n",
       "      <td>2007</td>\n",
       "    </tr>\n",
       "    <tr>\n",
       "      <th>2</th>\n",
       "      <td>920</td>\n",
       "      <td>866</td>\n",
       "      <td>0</td>\n",
       "      <td>NaN</td>\n",
       "      <td>3</td>\n",
       "      <td>1Fam</td>\n",
       "      <td>TA</td>\n",
       "      <td>Mn</td>\n",
       "      <td>486</td>\n",
       "      <td>0</td>\n",
       "      <td>...</td>\n",
       "      <td>WD</td>\n",
       "      <td>0</td>\n",
       "      <td>Pave</td>\n",
       "      <td>6</td>\n",
       "      <td>920</td>\n",
       "      <td>AllPub</td>\n",
       "      <td>0</td>\n",
       "      <td>2001</td>\n",
       "      <td>2002</td>\n",
       "      <td>2008</td>\n",
       "    </tr>\n",
       "    <tr>\n",
       "      <th>3</th>\n",
       "      <td>961</td>\n",
       "      <td>756</td>\n",
       "      <td>0</td>\n",
       "      <td>NaN</td>\n",
       "      <td>3</td>\n",
       "      <td>1Fam</td>\n",
       "      <td>Gd</td>\n",
       "      <td>No</td>\n",
       "      <td>216</td>\n",
       "      <td>0</td>\n",
       "      <td>...</td>\n",
       "      <td>WD</td>\n",
       "      <td>0</td>\n",
       "      <td>Pave</td>\n",
       "      <td>7</td>\n",
       "      <td>756</td>\n",
       "      <td>AllPub</td>\n",
       "      <td>0</td>\n",
       "      <td>1915</td>\n",
       "      <td>1970</td>\n",
       "      <td>2006</td>\n",
       "    </tr>\n",
       "    <tr>\n",
       "      <th>4</th>\n",
       "      <td>1145</td>\n",
       "      <td>1053</td>\n",
       "      <td>0</td>\n",
       "      <td>NaN</td>\n",
       "      <td>4</td>\n",
       "      <td>1Fam</td>\n",
       "      <td>TA</td>\n",
       "      <td>Av</td>\n",
       "      <td>655</td>\n",
       "      <td>0</td>\n",
       "      <td>...</td>\n",
       "      <td>WD</td>\n",
       "      <td>0</td>\n",
       "      <td>Pave</td>\n",
       "      <td>9</td>\n",
       "      <td>1145</td>\n",
       "      <td>AllPub</td>\n",
       "      <td>192</td>\n",
       "      <td>2000</td>\n",
       "      <td>2000</td>\n",
       "      <td>2008</td>\n",
       "    </tr>\n",
       "  </tbody>\n",
       "</table>\n",
       "<p>5 rows × 79 columns</p>\n",
       "</div>"
      ],
      "text/plain": [
       "   1stFlrSF  2ndFlrSF  3SsnPorch Alley  BedroomAbvGr BldgType BsmtCond  \\\n",
       "0       856       854          0   NaN             3     1Fam       TA   \n",
       "1      1262         0          0   NaN             3     1Fam       TA   \n",
       "2       920       866          0   NaN             3     1Fam       TA   \n",
       "3       961       756          0   NaN             3     1Fam       Gd   \n",
       "4      1145      1053          0   NaN             4     1Fam       TA   \n",
       "\n",
       "  BsmtExposure  BsmtFinSF1  BsmtFinSF2  ... SaleType ScreenPorch  Street  \\\n",
       "0           No         706           0  ...       WD           0    Pave   \n",
       "1           Gd         978           0  ...       WD           0    Pave   \n",
       "2           Mn         486           0  ...       WD           0    Pave   \n",
       "3           No         216           0  ...       WD           0    Pave   \n",
       "4           Av         655           0  ...       WD           0    Pave   \n",
       "\n",
       "   TotRmsAbvGrd TotalBsmtSF  Utilities WoodDeckSF YearBuilt YearRemodAdd  \\\n",
       "0             8         856     AllPub          0      2003         2003   \n",
       "1             6        1262     AllPub        298      1976         1976   \n",
       "2             6         920     AllPub          0      2001         2002   \n",
       "3             7         756     AllPub          0      1915         1970   \n",
       "4             9        1145     AllPub        192      2000         2000   \n",
       "\n",
       "  YrSold  \n",
       "0   2008  \n",
       "1   2007  \n",
       "2   2008  \n",
       "3   2006  \n",
       "4   2008  \n",
       "\n",
       "[5 rows x 79 columns]"
      ]
     },
     "execution_count": 9,
     "metadata": {},
     "output_type": "execute_result"
    }
   ],
   "source": [
    "all_data.head()"
   ]
  },
  {
   "cell_type": "markdown",
   "metadata": {
    "_cell_guid": "9ce95008-a3b9-43fa-bc4e-649ca0f43768",
    "_execution_state": "idle",
    "_uuid": "abe25f3032a0bed179d58d5911cb42d97b35841b"
   },
   "source": [
    "### Missing Data"
   ]
  },
  {
   "cell_type": "code",
   "execution_count": 10,
   "metadata": {
    "_cell_guid": "501b465f-8c80-4b93-81d0-a5d41e08d235",
    "_execution_state": "idle",
    "_uuid": "f97d25548ec8f6c02e2d1ee5a6df6c3d107fdf53",
    "scrolled": true
   },
   "outputs": [
    {
     "data": {
      "text/html": [
       "<div>\n",
       "<style scoped>\n",
       "    .dataframe tbody tr th:only-of-type {\n",
       "        vertical-align: middle;\n",
       "    }\n",
       "\n",
       "    .dataframe tbody tr th {\n",
       "        vertical-align: top;\n",
       "    }\n",
       "\n",
       "    .dataframe thead th {\n",
       "        text-align: right;\n",
       "    }\n",
       "</style>\n",
       "<table border=\"1\" class=\"dataframe\">\n",
       "  <thead>\n",
       "    <tr style=\"text-align: right;\">\n",
       "      <th></th>\n",
       "      <th>Missing Ratio</th>\n",
       "    </tr>\n",
       "  </thead>\n",
       "  <tbody>\n",
       "    <tr>\n",
       "      <th>PoolQC</th>\n",
       "      <td>99.520219</td>\n",
       "    </tr>\n",
       "    <tr>\n",
       "      <th>MiscFeature</th>\n",
       "      <td>96.298835</td>\n",
       "    </tr>\n",
       "    <tr>\n",
       "      <th>Alley</th>\n",
       "      <td>93.762851</td>\n",
       "    </tr>\n",
       "    <tr>\n",
       "      <th>Fence</th>\n",
       "      <td>80.740233</td>\n",
       "    </tr>\n",
       "    <tr>\n",
       "      <th>FireplaceQu</th>\n",
       "      <td>47.292666</td>\n",
       "    </tr>\n",
       "    <tr>\n",
       "      <th>LotFrontage</th>\n",
       "      <td>17.751885</td>\n",
       "    </tr>\n",
       "    <tr>\n",
       "      <th>GarageYrBlt</th>\n",
       "      <td>5.551748</td>\n",
       "    </tr>\n",
       "    <tr>\n",
       "      <th>GarageType</th>\n",
       "      <td>5.551748</td>\n",
       "    </tr>\n",
       "    <tr>\n",
       "      <th>GarageQual</th>\n",
       "      <td>5.551748</td>\n",
       "    </tr>\n",
       "    <tr>\n",
       "      <th>GarageFinish</th>\n",
       "      <td>5.551748</td>\n",
       "    </tr>\n",
       "    <tr>\n",
       "      <th>GarageCond</th>\n",
       "      <td>5.551748</td>\n",
       "    </tr>\n",
       "    <tr>\n",
       "      <th>BsmtFinType2</th>\n",
       "      <td>2.604524</td>\n",
       "    </tr>\n",
       "    <tr>\n",
       "      <th>BsmtExposure</th>\n",
       "      <td>2.604524</td>\n",
       "    </tr>\n",
       "    <tr>\n",
       "      <th>BsmtQual</th>\n",
       "      <td>2.535984</td>\n",
       "    </tr>\n",
       "    <tr>\n",
       "      <th>BsmtFinType1</th>\n",
       "      <td>2.535984</td>\n",
       "    </tr>\n",
       "    <tr>\n",
       "      <th>BsmtCond</th>\n",
       "      <td>2.535984</td>\n",
       "    </tr>\n",
       "    <tr>\n",
       "      <th>MasVnrArea</th>\n",
       "      <td>0.548321</td>\n",
       "    </tr>\n",
       "    <tr>\n",
       "      <th>MasVnrType</th>\n",
       "      <td>0.548321</td>\n",
       "    </tr>\n",
       "    <tr>\n",
       "      <th>Electrical</th>\n",
       "      <td>0.068540</td>\n",
       "    </tr>\n",
       "  </tbody>\n",
       "</table>\n",
       "</div>"
      ],
      "text/plain": [
       "              Missing Ratio\n",
       "PoolQC            99.520219\n",
       "MiscFeature       96.298835\n",
       "Alley             93.762851\n",
       "Fence             80.740233\n",
       "FireplaceQu       47.292666\n",
       "LotFrontage       17.751885\n",
       "GarageYrBlt        5.551748\n",
       "GarageType         5.551748\n",
       "GarageQual         5.551748\n",
       "GarageFinish       5.551748\n",
       "GarageCond         5.551748\n",
       "BsmtFinType2       2.604524\n",
       "BsmtExposure       2.604524\n",
       "BsmtQual           2.535984\n",
       "BsmtFinType1       2.535984\n",
       "BsmtCond           2.535984\n",
       "MasVnrArea         0.548321\n",
       "MasVnrType         0.548321\n",
       "Electrical         0.068540"
      ]
     },
     "execution_count": 10,
     "metadata": {},
     "output_type": "execute_result"
    }
   ],
   "source": [
    "all_data_na = (all_data.isnull().sum() / len(all_data)) * 100 # 결측치의 비율\n",
    "all_data_na = all_data_na.drop(all_data_na[all_data_na == 0].index).sort_values(ascending=False)[:30] # 결측치가 있는 경우만\n",
    "missing_data = pd.DataFrame({'Missing Ratio' :all_data_na})\n",
    "missing_data.head(20)"
   ]
  },
  {
   "cell_type": "code",
   "execution_count": 11,
   "metadata": {
    "_cell_guid": "1c80610d-8f19-43c8-bd54-7d786b0dca49",
    "_execution_state": "idle",
    "_uuid": "2eb6e1361884db6a4f65afc3b158fcbe85c2392e",
    "scrolled": true
   },
   "outputs": [
    {
     "data": {
      "text/plain": [
       "Text(0.5, 1.0, 'Percent missing data by feature')"
      ]
     },
     "execution_count": 11,
     "metadata": {},
     "output_type": "execute_result"
    },
    {
     "data": {
      "image/png": "[encoded data removed]",
      "text/plain": [
       "<Figure size 1080x864 with 1 Axes>"
      ]
     },
     "metadata": {
      "needs_background": "light"
     },
     "output_type": "display_data"
    }
   ],
   "source": [
    "f, ax = plt.subplots(figsize=(15, 12))\n",
    "plt.xticks(rotation='90')\n",
    "sns.barplot(x=all_data_na.index, y=all_data_na)\n",
    "plt.xlabel('Features', fontsize=15)\n",
    "plt.ylabel('Percent of missing values', fontsize=15)\n",
    "plt.title('Percent missing data by feature', fontsize=15)"
   ]
  },
  {
   "cell_type": "markdown",
   "metadata": {
    "_cell_guid": "5d88502a-2484-45d7-a750-0d32075133dd",
    "_execution_state": "idle",
    "_uuid": "dbf28eddefa2c0825781a31cde823ac5ece5a1ee"
   },
   "source": [
    "**Data Correlation**\n"
   ]
  },
  {
   "cell_type": "code",
   "execution_count": 12,
   "metadata": {
    "_cell_guid": "3fc115c7-33bb-456d-b3e5-4dd985bfbc9f",
    "_execution_state": "idle",
    "_uuid": "0f6b9912c752212f3f4bdca0b60f5fd01c12d2a0"
   },
   "outputs": [
    {
     "data": {
      "text/plain": [
       "<matplotlib.axes._subplots.AxesSubplot at 0x1dc54a1f3c8>"
      ]
     },
     "execution_count": 12,
     "metadata": {},
     "output_type": "execute_result"
    },
    {
     "data": {
      "image/png": "[encoded data removed]",
      "text/plain": [
       "<Figure size 864x648 with 2 Axes>"
      ]
     },
     "metadata": {
      "needs_background": "light"
     },
     "output_type": "display_data"
    }
   ],
   "source": [
    "#Correlation map to see how features are correlated with SalePrice\n",
    "corrmat = train.corr()\n",
    "plt.subplots(figsize=(12,9))\n",
    "sns.heatmap(corrmat, vmax=0.9, square=True)"
   ]
  },
  {
   "cell_type": "markdown",
   "metadata": {
    "_cell_guid": "cd681698-02d2-473e-bfc8-2d98a1353a18",
    "_execution_state": "idle",
    "_uuid": "41a6b40f8f03212a624f54167cad456a9f193f93"
   },
   "source": [
    "## Imputing missing values "
   ]
  },
  {
   "cell_type": "markdown",
   "metadata": {},
   "source": [
    "**Q3.결측치를 None으로 바꿔봅시다**  \n",
    "**그냥 바꾸지만 마시고 왜 None으로 바꾸는지 한번 생각해보세요**"
   ]
  },
  {
   "cell_type": "markdown",
   "metadata": {
    "_cell_guid": "6f7d94ef-5ffb-4e1b-b1a2-a917cce3f357",
    "_execution_state": "idle",
    "_uuid": "d6d054aff0098e4e602ef618e0a4d3706d71dd66"
   },
   "source": [
    "- **PoolQC** : data description says NA means **\"No  Pool\"**. That make sense, given the huge ratio of missing value (+99%) and majority of houses have no Pool at all in general. "
   ]
  },
  {
   "cell_type": "code",
   "execution_count": 13,
   "metadata": {
    "_cell_guid": "ca8a04eb-f42b-4c26-a690-bb98c95c6118",
    "_execution_state": "idle",
    "_uuid": "1d94b062f7683d711d479e48530009040185fd4c"
   },
   "outputs": [],
   "source": [
    "# PoolQC : pool quailty\n",
    "all_data[\"PoolQC\"].fillna('None', inplace=True)"
   ]
  },
  {
   "cell_type": "markdown",
   "metadata": {
    "_cell_guid": "ea3aecb9-b2e8-4cdc-853d-999f8e2f789c",
    "_execution_state": "idle",
    "_uuid": "0516efe507d7176591f6af3d503312db5038949a"
   },
   "source": [
    "- **MiscFeature** : data description says NA means **\"no misc feature\"**\n"
   ]
  },
  {
   "cell_type": "code",
   "execution_count": 14,
   "metadata": {
    "_cell_guid": "689863b8-4e4e-45d7-9972-8894e8defbe2",
    "_execution_state": "idle",
    "_uuid": "c311993a26d66d66ce82584a3e00d7ed56a3ea5a"
   },
   "outputs": [],
   "source": [
    "# MiscFeature: Miscellaneous feature not covered in other categories\n",
    "all_data[\"MiscFeature\"].fillna('None', inplace=True)"
   ]
  },
  {
   "cell_type": "markdown",
   "metadata": {
    "_cell_guid": "d467b9e0-0793-41e5-aaa1-d1686946ba9f",
    "_execution_state": "idle",
    "_uuid": "44cfbd9eecce5e4f2bc91a72ed095270e6010f57"
   },
   "source": [
    "- **Alley** : data description says NA means **\"no alley access\"**"
   ]
  },
  {
   "cell_type": "code",
   "execution_count": 15,
   "metadata": {},
   "outputs": [
    {
     "data": {
      "text/plain": [
       "21    Grvl\n",
       "30    Pave\n",
       "56    Pave\n",
       "79    Grvl\n",
       "87    Pave\n",
       "Name: Alley, dtype: object"
      ]
     },
     "execution_count": 15,
     "metadata": {},
     "output_type": "execute_result"
    }
   ],
   "source": [
    "all_data[\"Alley\"][all_data[\"Alley\"].notnull()].head()"
   ]
  },
  {
   "cell_type": "code",
   "execution_count": 16,
   "metadata": {
    "_cell_guid": "0f822e30-09f3-45f8-b09e-0ffed4ff985c",
    "_execution_state": "idle",
    "_uuid": "35709caf5cb2b0220cd9043f76462a116de15059"
   },
   "outputs": [],
   "source": [
    "# Alley: Type of alley access\n",
    "all_data[\"Alley\"].fillna('None', inplace=True)"
   ]
  },
  {
   "cell_type": "markdown",
   "metadata": {
    "_cell_guid": "0bab3349-eddb-4977-acd5-8dad4553ff7f",
    "_execution_state": "idle",
    "_uuid": "3265fc176140dbf1b641e18f2d57b91554c85771"
   },
   "source": [
    "- **Fence** : data description says NA means **\"no fence\"**"
   ]
  },
  {
   "cell_type": "code",
   "execution_count": 17,
   "metadata": {},
   "outputs": [
    {
     "data": {
      "text/plain": [
       "0    NaN\n",
       "1    NaN\n",
       "2    NaN\n",
       "3    NaN\n",
       "4    NaN\n",
       "Name: Fence, dtype: object"
      ]
     },
     "execution_count": 17,
     "metadata": {},
     "output_type": "execute_result"
    }
   ],
   "source": [
    "all_data[\"Fence\"][all_data[\"Fence\"].isna()].head()"
   ]
  },
  {
   "cell_type": "code",
   "execution_count": 18,
   "metadata": {
    "_cell_guid": "c0d6e4f4-df14-467f-bab2-86bfd0493a35",
    "_execution_state": "idle",
    "_uuid": "6d9d6998298a7fea5677f0916bcc9f33dc99e231"
   },
   "outputs": [],
   "source": [
    "# Fence: Fence quality\n",
    "all_data[\"Fence\"].fillna('None', inplace=True)"
   ]
  },
  {
   "cell_type": "markdown",
   "metadata": {
    "_cell_guid": "49747765-81f1-4b23-ad63-534c7fe48b7a",
    "_execution_state": "idle",
    "_uuid": "4869889d4b2b118bc6dcef239cbc27546a7b445e"
   },
   "source": [
    "- **FireplaceQu** : data description says NA means **\"no fireplace\"**"
   ]
  },
  {
   "cell_type": "code",
   "execution_count": 19,
   "metadata": {
    "_cell_guid": "22b88c5b-6419-424f-9805-2c2b11e85dca",
    "_execution_state": "idle",
    "_uuid": "fb8cdb59e4ecba1f7ec78eb3b34c7209c34b1c86"
   },
   "outputs": [],
   "source": [
    "# FireplaceQu: Fireplace quality \n",
    "all_data[\"FireplaceQu\"].fillna('None', inplace=True)"
   ]
  },
  {
   "cell_type": "markdown",
   "metadata": {
    "_cell_guid": "357994d1-974a-49ee-98e4-a19bc524fcb6",
    "_execution_state": "idle",
    "_uuid": "2b00af603b7dbc9114e62c421b2b886154d31959"
   },
   "source": [
    "- **LotFrontage** : "
   ]
  },
  {
   "cell_type": "markdown",
   "metadata": {},
   "source": [
    " **Q4. the area of each street connected to the house property most likely have a similar area to other houses in its neighborhood. 인 변수입니다. 그러면 결측치를 어떻게 바꾸는게 좋을까요?**"
   ]
  },
  {
   "cell_type": "code",
   "execution_count": 20,
   "metadata": {
    "_cell_guid": "b8cd4872-67c6-4c82-a1a3-807d08efb658",
    "_execution_state": "idle",
    "_uuid": "56c268a7217e85301d2847ceeca410d62e781b89"
   },
   "outputs": [],
   "source": [
    "# LotFrontage: Linear feet of street connected to property\n",
    "all_data[\"LotFrontage\"] = all_data.groupby(\"Neighborhood\")[\"LotFrontage\"].transform(\n",
    "    lambda x: x.fillna(x.mean()))"
   ]
  },
  {
   "cell_type": "markdown",
   "metadata": {
    "_cell_guid": "c0432c37-f664-4da1-a4d8-87a7cb450bd1",
    "_execution_state": "idle",
    "_uuid": "53712c1d6c7cf2945c6ba8b537171ea6b84f085e"
   },
   "source": [
    "- **Q5. GarageType, GarageFinish, GarageQual and GarageCond** : Replacing missing data with None"
   ]
  },
  {
   "cell_type": "code",
   "execution_count": 21,
   "metadata": {},
   "outputs": [
    {
     "data": {
      "text/html": [
       "<div>\n",
       "<style scoped>\n",
       "    .dataframe tbody tr th:only-of-type {\n",
       "        vertical-align: middle;\n",
       "    }\n",
       "\n",
       "    .dataframe tbody tr th {\n",
       "        vertical-align: top;\n",
       "    }\n",
       "\n",
       "    .dataframe thead th {\n",
       "        text-align: right;\n",
       "    }\n",
       "</style>\n",
       "<table border=\"1\" class=\"dataframe\">\n",
       "  <thead>\n",
       "    <tr style=\"text-align: right;\">\n",
       "      <th></th>\n",
       "      <th>GarageType</th>\n",
       "      <th>GarageFinish</th>\n",
       "      <th>GarageQual</th>\n",
       "      <th>GarageCond</th>\n",
       "    </tr>\n",
       "  </thead>\n",
       "  <tbody>\n",
       "    <tr>\n",
       "      <th>0</th>\n",
       "      <td>Attchd</td>\n",
       "      <td>RFn</td>\n",
       "      <td>TA</td>\n",
       "      <td>TA</td>\n",
       "    </tr>\n",
       "    <tr>\n",
       "      <th>1</th>\n",
       "      <td>Attchd</td>\n",
       "      <td>RFn</td>\n",
       "      <td>TA</td>\n",
       "      <td>TA</td>\n",
       "    </tr>\n",
       "    <tr>\n",
       "      <th>2</th>\n",
       "      <td>Attchd</td>\n",
       "      <td>RFn</td>\n",
       "      <td>TA</td>\n",
       "      <td>TA</td>\n",
       "    </tr>\n",
       "    <tr>\n",
       "      <th>3</th>\n",
       "      <td>Detchd</td>\n",
       "      <td>Unf</td>\n",
       "      <td>TA</td>\n",
       "      <td>TA</td>\n",
       "    </tr>\n",
       "    <tr>\n",
       "      <th>4</th>\n",
       "      <td>Attchd</td>\n",
       "      <td>RFn</td>\n",
       "      <td>TA</td>\n",
       "      <td>TA</td>\n",
       "    </tr>\n",
       "  </tbody>\n",
       "</table>\n",
       "</div>"
      ],
      "text/plain": [
       "  GarageType GarageFinish GarageQual GarageCond\n",
       "0     Attchd          RFn         TA         TA\n",
       "1     Attchd          RFn         TA         TA\n",
       "2     Attchd          RFn         TA         TA\n",
       "3     Detchd          Unf         TA         TA\n",
       "4     Attchd          RFn         TA         TA"
      ]
     },
     "execution_count": 21,
     "metadata": {},
     "output_type": "execute_result"
    }
   ],
   "source": [
    "all_data[['GarageType', 'GarageFinish', 'GarageQual', 'GarageCond']].head()"
   ]
  },
  {
   "cell_type": "code",
   "execution_count": 22,
   "metadata": {
    "_cell_guid": "f264979e-f5e2-4aae-b313-7468570c0294",
    "_execution_state": "idle",
    "_uuid": "d556da5418394ed50d3c14bd02668714cee0fb4a"
   },
   "outputs": [],
   "source": [
    "# GarageType: Garage location\n",
    "# GarageFinish: Interior finish of the garage\n",
    "# GarageQual: Garage quality\n",
    "# GarageCond: Garage condition\n",
    "# -> 범주형 값이라서 None으로 대체\n",
    "\n",
    "for col in ('GarageType', 'GarageFinish', 'GarageQual', 'GarageCond'):\n",
    "    all_data[col] = all_data[col].fillna('None')"
   ]
  },
  {
   "cell_type": "markdown",
   "metadata": {
    "_cell_guid": "92173e82-fd12-4fa0-b7dd-f66fb7b0be3b",
    "_execution_state": "idle",
    "_uuid": "b38ea3ec1c4b8fa4b31e8f86f378798319c05a71"
   },
   "source": [
    "- **Q6. GarageYrBlt, GarageArea and GarageCars** : Replacing missing data with 0 (Since No garage = no cars in such garage.)\n"
   ]
  },
  {
   "cell_type": "code",
   "execution_count": 23,
   "metadata": {},
   "outputs": [
    {
     "data": {
      "text/html": [
       "<div>\n",
       "<style scoped>\n",
       "    .dataframe tbody tr th:only-of-type {\n",
       "        vertical-align: middle;\n",
       "    }\n",
       "\n",
       "    .dataframe tbody tr th {\n",
       "        vertical-align: top;\n",
       "    }\n",
       "\n",
       "    .dataframe thead th {\n",
       "        text-align: right;\n",
       "    }\n",
       "</style>\n",
       "<table border=\"1\" class=\"dataframe\">\n",
       "  <thead>\n",
       "    <tr style=\"text-align: right;\">\n",
       "      <th></th>\n",
       "      <th>GarageYrBlt</th>\n",
       "      <th>GarageArea</th>\n",
       "      <th>GarageCars</th>\n",
       "    </tr>\n",
       "  </thead>\n",
       "  <tbody>\n",
       "    <tr>\n",
       "      <th>0</th>\n",
       "      <td>2003.0</td>\n",
       "      <td>548</td>\n",
       "      <td>2</td>\n",
       "    </tr>\n",
       "    <tr>\n",
       "      <th>1</th>\n",
       "      <td>1976.0</td>\n",
       "      <td>460</td>\n",
       "      <td>2</td>\n",
       "    </tr>\n",
       "    <tr>\n",
       "      <th>2</th>\n",
       "      <td>2001.0</td>\n",
       "      <td>608</td>\n",
       "      <td>2</td>\n",
       "    </tr>\n",
       "    <tr>\n",
       "      <th>3</th>\n",
       "      <td>1998.0</td>\n",
       "      <td>642</td>\n",
       "      <td>3</td>\n",
       "    </tr>\n",
       "    <tr>\n",
       "      <th>4</th>\n",
       "      <td>2000.0</td>\n",
       "      <td>836</td>\n",
       "      <td>3</td>\n",
       "    </tr>\n",
       "  </tbody>\n",
       "</table>\n",
       "</div>"
      ],
      "text/plain": [
       "   GarageYrBlt  GarageArea  GarageCars\n",
       "0       2003.0         548           2\n",
       "1       1976.0         460           2\n",
       "2       2001.0         608           2\n",
       "3       1998.0         642           3\n",
       "4       2000.0         836           3"
      ]
     },
     "execution_count": 23,
     "metadata": {},
     "output_type": "execute_result"
    }
   ],
   "source": [
    "all_data[['GarageYrBlt', 'GarageArea', 'GarageCars']].head()"
   ]
  },
  {
   "cell_type": "code",
   "execution_count": 24,
   "metadata": {
    "_cell_guid": "ada7acfa-8bc3-4d52-9f42-28a78cefc950",
    "_execution_state": "idle",
    "_uuid": "2726cce29df2a2621c54c4c8a06eb570a7191552"
   },
   "outputs": [],
   "source": [
    "# GarageYrBlt: Year garage was built\n",
    "# GarageCars: Size of garage in car capacity \n",
    "# GarageArea: Size of garage in square feet \n",
    "# -> 수치형이라 0으로 대체\n",
    "\n",
    "# Q. 근데 GarageYrBlt를 0으로 대체하는 것이 옳은 일인가??\n",
    "\n",
    "for col in ('GarageYrBlt', 'GarageArea', 'GarageCars'):\n",
    "    all_data[col].fillna(0, inplace=True)"
   ]
  },
  {
   "cell_type": "code",
   "execution_count": 25,
   "metadata": {},
   "outputs": [
    {
     "data": {
      "text/plain": [
       "<matplotlib.axes._subplots.AxesSubplot at 0x1dc54e22160>"
      ]
     },
     "execution_count": 25,
     "metadata": {},
     "output_type": "execute_result"
    },
    {
     "data": {
      "image/png": "[encoded data removed]",
      "text/plain": [
       "<Figure size 432x288 with 1 Axes>"
      ]
     },
     "metadata": {
      "needs_background": "light"
     },
     "output_type": "display_data"
    }
   ],
   "source": [
    "sns.countplot(all_data['GarageYrBlt'])\n",
    "# all_data['GarageYrBlt'].fillna(all_data['GarageYrBlt'].mean(), inplace=True)"
   ]
  },
  {
   "cell_type": "markdown",
   "metadata": {
    "_cell_guid": "b9f955c5-4e03-4835-8df7-1284120453ff",
    "_execution_state": "idle",
    "_uuid": "1729c36d95461d03679eb95e18eaac3d37aeb076"
   },
   "source": [
    "- **Q7. BsmtFinSF1, BsmtFinSF2, BsmtUnfSF, TotalBsmtSF, BsmtFullBath and BsmtHalfBath** : missing values are likely zero for having no basement"
   ]
  },
  {
   "cell_type": "code",
   "execution_count": 26,
   "metadata": {},
   "outputs": [
    {
     "data": {
      "text/html": [
       "<div>\n",
       "<style scoped>\n",
       "    .dataframe tbody tr th:only-of-type {\n",
       "        vertical-align: middle;\n",
       "    }\n",
       "\n",
       "    .dataframe tbody tr th {\n",
       "        vertical-align: top;\n",
       "    }\n",
       "\n",
       "    .dataframe thead th {\n",
       "        text-align: right;\n",
       "    }\n",
       "</style>\n",
       "<table border=\"1\" class=\"dataframe\">\n",
       "  <thead>\n",
       "    <tr style=\"text-align: right;\">\n",
       "      <th></th>\n",
       "      <th>BsmtFinSF1</th>\n",
       "      <th>BsmtFinSF2</th>\n",
       "      <th>BsmtUnfSF</th>\n",
       "      <th>TotalBsmtSF</th>\n",
       "      <th>BsmtFullBath</th>\n",
       "      <th>BsmtHalfBath</th>\n",
       "    </tr>\n",
       "  </thead>\n",
       "  <tbody>\n",
       "    <tr>\n",
       "      <th>0</th>\n",
       "      <td>706</td>\n",
       "      <td>0</td>\n",
       "      <td>150</td>\n",
       "      <td>856</td>\n",
       "      <td>1</td>\n",
       "      <td>0</td>\n",
       "    </tr>\n",
       "    <tr>\n",
       "      <th>1</th>\n",
       "      <td>978</td>\n",
       "      <td>0</td>\n",
       "      <td>284</td>\n",
       "      <td>1262</td>\n",
       "      <td>0</td>\n",
       "      <td>1</td>\n",
       "    </tr>\n",
       "    <tr>\n",
       "      <th>2</th>\n",
       "      <td>486</td>\n",
       "      <td>0</td>\n",
       "      <td>434</td>\n",
       "      <td>920</td>\n",
       "      <td>1</td>\n",
       "      <td>0</td>\n",
       "    </tr>\n",
       "    <tr>\n",
       "      <th>3</th>\n",
       "      <td>216</td>\n",
       "      <td>0</td>\n",
       "      <td>540</td>\n",
       "      <td>756</td>\n",
       "      <td>1</td>\n",
       "      <td>0</td>\n",
       "    </tr>\n",
       "    <tr>\n",
       "      <th>4</th>\n",
       "      <td>655</td>\n",
       "      <td>0</td>\n",
       "      <td>490</td>\n",
       "      <td>1145</td>\n",
       "      <td>1</td>\n",
       "      <td>0</td>\n",
       "    </tr>\n",
       "  </tbody>\n",
       "</table>\n",
       "</div>"
      ],
      "text/plain": [
       "   BsmtFinSF1  BsmtFinSF2  BsmtUnfSF  TotalBsmtSF  BsmtFullBath  BsmtHalfBath\n",
       "0         706           0        150          856             1             0\n",
       "1         978           0        284         1262             0             1\n",
       "2         486           0        434          920             1             0\n",
       "3         216           0        540          756             1             0\n",
       "4         655           0        490         1145             1             0"
      ]
     },
     "execution_count": 26,
     "metadata": {},
     "output_type": "execute_result"
    }
   ],
   "source": [
    "all_data[['BsmtFinSF1', 'BsmtFinSF2', 'BsmtUnfSF','TotalBsmtSF', 'BsmtFullBath', 'BsmtHalfBath']].head()"
   ]
  },
  {
   "cell_type": "code",
   "execution_count": 27,
   "metadata": {
    "_cell_guid": "dd9e7ef7-3cee-437a-9a33-20987e238425",
    "_execution_state": "idle",
    "_uuid": "3008a6bd07ed883ff92a83ebe390940a24010fcb"
   },
   "outputs": [],
   "source": [
    "# BsmtFinSF1: Type 1 finished square feet\n",
    "# BsmtFinSF2: Type 2 finished square feet\n",
    "# BsmtUnfSF: Unfinished square feet of basement area\n",
    "# TotalBsmtSF: Total square feet of basement area\n",
    "# BsmtFullBath: Basement full bathrooms\n",
    "# BsmtHalfBath: Basement half bathrooms\n",
    "\n",
    "for col in ('BsmtFinSF1', 'BsmtFinSF2', 'BsmtUnfSF','TotalBsmtSF', 'BsmtFullBath', 'BsmtHalfBath'):\n",
    "    all_data[col].fillna(0, inplace=True)"
   ]
  },
  {
   "cell_type": "markdown",
   "metadata": {
    "_cell_guid": "441b397e-c527-4bd5-8d3c-df6aeba72192",
    "_execution_state": "idle",
    "_uuid": "d4ed0fcea9f8bb309118ba2fb703431e386c6cbd"
   },
   "source": [
    "- **Q8. BsmtQual, BsmtCond, BsmtExposure, BsmtFinType1 and BsmtFinType2** : For all these categorical basement-related features, NaN means that there is no  basement.\n"
   ]
  },
  {
   "cell_type": "code",
   "execution_count": 28,
   "metadata": {},
   "outputs": [
    {
     "data": {
      "text/html": [
       "<div>\n",
       "<style scoped>\n",
       "    .dataframe tbody tr th:only-of-type {\n",
       "        vertical-align: middle;\n",
       "    }\n",
       "\n",
       "    .dataframe tbody tr th {\n",
       "        vertical-align: top;\n",
       "    }\n",
       "\n",
       "    .dataframe thead th {\n",
       "        text-align: right;\n",
       "    }\n",
       "</style>\n",
       "<table border=\"1\" class=\"dataframe\">\n",
       "  <thead>\n",
       "    <tr style=\"text-align: right;\">\n",
       "      <th></th>\n",
       "      <th>BsmtQual</th>\n",
       "      <th>BsmtCond</th>\n",
       "      <th>BsmtExposure</th>\n",
       "      <th>BsmtFinType1</th>\n",
       "      <th>BsmtFinType2</th>\n",
       "    </tr>\n",
       "  </thead>\n",
       "  <tbody>\n",
       "    <tr>\n",
       "      <th>0</th>\n",
       "      <td>Gd</td>\n",
       "      <td>TA</td>\n",
       "      <td>No</td>\n",
       "      <td>GLQ</td>\n",
       "      <td>Unf</td>\n",
       "    </tr>\n",
       "    <tr>\n",
       "      <th>1</th>\n",
       "      <td>Gd</td>\n",
       "      <td>TA</td>\n",
       "      <td>Gd</td>\n",
       "      <td>ALQ</td>\n",
       "      <td>Unf</td>\n",
       "    </tr>\n",
       "    <tr>\n",
       "      <th>2</th>\n",
       "      <td>Gd</td>\n",
       "      <td>TA</td>\n",
       "      <td>Mn</td>\n",
       "      <td>GLQ</td>\n",
       "      <td>Unf</td>\n",
       "    </tr>\n",
       "    <tr>\n",
       "      <th>3</th>\n",
       "      <td>TA</td>\n",
       "      <td>Gd</td>\n",
       "      <td>No</td>\n",
       "      <td>ALQ</td>\n",
       "      <td>Unf</td>\n",
       "    </tr>\n",
       "    <tr>\n",
       "      <th>4</th>\n",
       "      <td>Gd</td>\n",
       "      <td>TA</td>\n",
       "      <td>Av</td>\n",
       "      <td>GLQ</td>\n",
       "      <td>Unf</td>\n",
       "    </tr>\n",
       "  </tbody>\n",
       "</table>\n",
       "</div>"
      ],
      "text/plain": [
       "  BsmtQual BsmtCond BsmtExposure BsmtFinType1 BsmtFinType2\n",
       "0       Gd       TA           No          GLQ          Unf\n",
       "1       Gd       TA           Gd          ALQ          Unf\n",
       "2       Gd       TA           Mn          GLQ          Unf\n",
       "3       TA       Gd           No          ALQ          Unf\n",
       "4       Gd       TA           Av          GLQ          Unf"
      ]
     },
     "execution_count": 28,
     "metadata": {},
     "output_type": "execute_result"
    }
   ],
   "source": [
    "all_data[['BsmtQual', 'BsmtCond', 'BsmtExposure', 'BsmtFinType1', 'BsmtFinType2']].head()"
   ]
  },
  {
   "cell_type": "code",
   "execution_count": 29,
   "metadata": {
    "_cell_guid": "6d7aa4f6-41b9-4f27-acb0-8af6aca2c8ff",
    "_execution_state": "idle",
    "_uuid": "ee281d3c691a50795e93bb797603c697d320b286"
   },
   "outputs": [],
   "source": [
    "# BsmtQual: Quality of the basement\n",
    "# BsmtCond: General condition of the basement\n",
    "# BsmtExposure: Walkout or garden level basement walls\n",
    "# BsmtFinSF1: Type 1 finished square feet\n",
    "# BsmtFinSF2: Type 2 finished square feet\n",
    "\n",
    "for col in ('BsmtQual', 'BsmtCond', 'BsmtExposure', 'BsmtFinType1', 'BsmtFinType2'):\n",
    "    all_data[col].fillna('None', inplace=True)"
   ]
  },
  {
   "cell_type": "markdown",
   "metadata": {
    "_cell_guid": "e7f2515f-8438-4075-9d22-0b37c1a2ef01",
    "_execution_state": "idle",
    "_uuid": "556165bc959cd6ff2354cb774341ac947d052f6a"
   },
   "source": [
    "- **Q9. MasVnrArea and MasVnrType** : NA most likely means no masonry veneer for these houses. We can fill 0 for the area and None for the type. \n"
   ]
  },
  {
   "cell_type": "code",
   "execution_count": 30,
   "metadata": {},
   "outputs": [
    {
     "data": {
      "text/html": [
       "<div>\n",
       "<style scoped>\n",
       "    .dataframe tbody tr th:only-of-type {\n",
       "        vertical-align: middle;\n",
       "    }\n",
       "\n",
       "    .dataframe tbody tr th {\n",
       "        vertical-align: top;\n",
       "    }\n",
       "\n",
       "    .dataframe thead th {\n",
       "        text-align: right;\n",
       "    }\n",
       "</style>\n",
       "<table border=\"1\" class=\"dataframe\">\n",
       "  <thead>\n",
       "    <tr style=\"text-align: right;\">\n",
       "      <th></th>\n",
       "      <th>MasVnrType</th>\n",
       "      <th>MasVnrArea</th>\n",
       "    </tr>\n",
       "  </thead>\n",
       "  <tbody>\n",
       "    <tr>\n",
       "      <th>0</th>\n",
       "      <td>BrkFace</td>\n",
       "      <td>196.0</td>\n",
       "    </tr>\n",
       "    <tr>\n",
       "      <th>1</th>\n",
       "      <td>None</td>\n",
       "      <td>0.0</td>\n",
       "    </tr>\n",
       "    <tr>\n",
       "      <th>2</th>\n",
       "      <td>BrkFace</td>\n",
       "      <td>162.0</td>\n",
       "    </tr>\n",
       "    <tr>\n",
       "      <th>3</th>\n",
       "      <td>None</td>\n",
       "      <td>0.0</td>\n",
       "    </tr>\n",
       "    <tr>\n",
       "      <th>4</th>\n",
       "      <td>BrkFace</td>\n",
       "      <td>350.0</td>\n",
       "    </tr>\n",
       "  </tbody>\n",
       "</table>\n",
       "</div>"
      ],
      "text/plain": [
       "  MasVnrType  MasVnrArea\n",
       "0    BrkFace       196.0\n",
       "1       None         0.0\n",
       "2    BrkFace       162.0\n",
       "3       None         0.0\n",
       "4    BrkFace       350.0"
      ]
     },
     "execution_count": 30,
     "metadata": {},
     "output_type": "execute_result"
    }
   ],
   "source": [
    "all_data[[\"MasVnrType\", \"MasVnrArea\"]].head()"
   ]
  },
  {
   "cell_type": "code",
   "execution_count": 31,
   "metadata": {
    "_cell_guid": "63a3a030-482f-4292-a887-16880f7a2882",
    "_execution_state": "idle",
    "_uuid": "800ff604bb70023baf1d403b53b674b765d9047c"
   },
   "outputs": [],
   "source": [
    "# MasVnrType: Masonry veneer type\n",
    "# MasVnrArea: Masonry veneer area in square feet\n",
    "all_data[\"MasVnrType\"] = all_data[\"MasVnrType\"].fillna(\"None\")\n",
    "all_data[\"MasVnrArea\"] = all_data[\"MasVnrArea\"].fillna(0)"
   ]
  },
  {
   "cell_type": "markdown",
   "metadata": {
    "_cell_guid": "f2f7f337-de24-44ec-93a6-09428ec9a252",
    "_execution_state": "idle",
    "_uuid": "ded1f7ea0443654bd033eeed1361056f820a925b"
   },
   "source": [
    "- **MSZoning (The general zoning classification)** :  'RL' is by far  the most common value.  So we can fill in missing values with 'RL'  \n",
    "\n",
    "**Q10. MSZoning에서 가장 많이 존재하는 값으로 결측치를 대체하세요**"
   ]
  },
  {
   "cell_type": "code",
   "execution_count": 32,
   "metadata": {
    "_cell_guid": "0e4f28b5-784c-4369-92f4-bda15fa55172",
    "_execution_state": "idle",
    "_uuid": "ca93ce9b34c853c1bb11d837eaff6c2986234757"
   },
   "outputs": [],
   "source": [
    "# MSZoning: The general zoning classification\n",
    "all_data['MSZoning'] = all_data['MSZoning'].fillna(all_data['MSZoning'].mode())"
   ]
  },
  {
   "cell_type": "markdown",
   "metadata": {
    "_cell_guid": "99310a4b-9dbf-4273-81b5-94bf0adf338c",
    "_execution_state": "idle",
    "_uuid": "de39073aef3db7d13894fa82285eff803d6e5c1b"
   },
   "source": [
    "- **Utilities** : For this categorical feature all records are \"AllPub\", except for one \"NoSeWa\"  and 2 NA . Since the house with 'NoSewa' is in the training set, **this feature won't help in predictive modelling**. We can then safely  remove it.\n"
   ]
  },
  {
   "cell_type": "code",
   "execution_count": 33,
   "metadata": {
    "_cell_guid": "facec65d-945f-4be1-86c8-1be011cc2bd0",
    "_execution_state": "idle",
    "_uuid": "de8ee2aca9eb3eeed7442cd9d12843cc64746708"
   },
   "outputs": [],
   "source": [
    "# Utilities: Type of utilities available\n",
    "# 3개의 데이터 제외 AllPub -> feature 제거\n",
    "\n",
    "all_data = all_data.drop(['Utilities'], axis=1)"
   ]
  },
  {
   "cell_type": "markdown",
   "metadata": {
    "_cell_guid": "c6aabfcd-4a1d-4845-88a1-b2f5cb7d8901",
    "_execution_state": "idle",
    "_uuid": "3450d048089ba8ff98807c6ae3b745b0a34165f9"
   },
   "source": [
    "- **Functional** : data description says NA means typical"
   ]
  },
  {
   "cell_type": "code",
   "execution_count": 34,
   "metadata": {},
   "outputs": [
    {
     "data": {
      "text/plain": [
       "0    Typ\n",
       "1    Typ\n",
       "2    Typ\n",
       "3    Typ\n",
       "4    Typ\n",
       "Name: Functional, dtype: object"
      ]
     },
     "execution_count": 34,
     "metadata": {},
     "output_type": "execute_result"
    }
   ],
   "source": [
    "all_data[\"Functional\"].head()"
   ]
  },
  {
   "cell_type": "code",
   "execution_count": 35,
   "metadata": {
    "_cell_guid": "c968aa5e-c34f-442e-9388-69e074a2c84e",
    "_execution_state": "idle",
    "_uuid": "e2d331e991fa868320b5d089f61c58b54ce7cb37"
   },
   "outputs": [],
   "source": [
    "# Functional: Home functionality rating\n",
    "all_data[\"Functional\"] = all_data[\"Functional\"].fillna(\"Typ\")"
   ]
  },
  {
   "cell_type": "markdown",
   "metadata": {
    "_cell_guid": "4f2bad4d-8db8-4ac3-8991-ffa2c775a72d",
    "_execution_state": "idle",
    "_uuid": "c122f5b5596bc4ce615c6b620b7e1824a54a47b8"
   },
   "source": [
    "- **Electrical** : It has one NA value. Since this feature has mostly 'SBrkr', we can set that for the missing value.\n"
   ]
  },
  {
   "cell_type": "markdown",
   "metadata": {},
   "source": [
    "**Q11.  가장 많이 존재하는 값으로 결측치를 대체하세요**"
   ]
  },
  {
   "cell_type": "code",
   "execution_count": 36,
   "metadata": {
    "_cell_guid": "d93eab84-7759-4201-bd7d-d450399478f7",
    "_execution_state": "idle",
    "_uuid": "d31761ee8878ce4143cf21adde149cd622c5a039"
   },
   "outputs": [],
   "source": [
    "# Electrical: Electrical system\n",
    "all_data['Electrical'] = all_data['Electrical'].fillna(all_data['Electrical'].mode())"
   ]
  },
  {
   "cell_type": "markdown",
   "metadata": {
    "_cell_guid": "3d089b8e-3392-4067-a5a1-4f6d4e3e8fb5",
    "_execution_state": "idle",
    "_uuid": "8e0fd54a802f1eddfec0aa4104412c19e1c266d0"
   },
   "source": [
    "- **KitchenQual**: Only one NA value, and same as Electrical, we set 'TA' (which is the most frequent)  for the missing value in KitchenQual.\n"
   ]
  },
  {
   "cell_type": "code",
   "execution_count": 37,
   "metadata": {
    "_cell_guid": "9f68e47a-5b50-436f-9e31-ff65a1cb1687",
    "_execution_state": "idle",
    "_uuid": "23071ddb69b67b1d742bb15d260421d57aed5583"
   },
   "outputs": [],
   "source": [
    "# KitchenQual: Kitchen quality\n",
    "all_data['KitchenQual'] = all_data['KitchenQual'].fillna(all_data['KitchenQual'].mode())"
   ]
  },
  {
   "cell_type": "markdown",
   "metadata": {
    "_cell_guid": "e32aec7d-2841-4bfc-a6d2-d181000af4b8",
    "_execution_state": "idle",
    "_uuid": "e8aca612daf293e7228eed9647370036d003e0fb"
   },
   "source": [
    "- **Exterior1st and Exterior2nd** : Again Both Exterior 1 & 2 have only one missing value. We will just substitute in the most common string\n"
   ]
  },
  {
   "cell_type": "code",
   "execution_count": 38,
   "metadata": {},
   "outputs": [
    {
     "data": {
      "text/html": [
       "<div>\n",
       "<style scoped>\n",
       "    .dataframe tbody tr th:only-of-type {\n",
       "        vertical-align: middle;\n",
       "    }\n",
       "\n",
       "    .dataframe tbody tr th {\n",
       "        vertical-align: top;\n",
       "    }\n",
       "\n",
       "    .dataframe thead th {\n",
       "        text-align: right;\n",
       "    }\n",
       "</style>\n",
       "<table border=\"1\" class=\"dataframe\">\n",
       "  <thead>\n",
       "    <tr style=\"text-align: right;\">\n",
       "      <th></th>\n",
       "      <th>Exterior1st</th>\n",
       "      <th>Exterior2nd</th>\n",
       "    </tr>\n",
       "  </thead>\n",
       "  <tbody>\n",
       "    <tr>\n",
       "      <th>0</th>\n",
       "      <td>VinylSd</td>\n",
       "      <td>VinylSd</td>\n",
       "    </tr>\n",
       "    <tr>\n",
       "      <th>1</th>\n",
       "      <td>MetalSd</td>\n",
       "      <td>MetalSd</td>\n",
       "    </tr>\n",
       "    <tr>\n",
       "      <th>2</th>\n",
       "      <td>VinylSd</td>\n",
       "      <td>VinylSd</td>\n",
       "    </tr>\n",
       "    <tr>\n",
       "      <th>3</th>\n",
       "      <td>Wd Sdng</td>\n",
       "      <td>Wd Shng</td>\n",
       "    </tr>\n",
       "    <tr>\n",
       "      <th>4</th>\n",
       "      <td>VinylSd</td>\n",
       "      <td>VinylSd</td>\n",
       "    </tr>\n",
       "  </tbody>\n",
       "</table>\n",
       "</div>"
      ],
      "text/plain": [
       "  Exterior1st Exterior2nd\n",
       "0     VinylSd     VinylSd\n",
       "1     MetalSd     MetalSd\n",
       "2     VinylSd     VinylSd\n",
       "3     Wd Sdng     Wd Shng\n",
       "4     VinylSd     VinylSd"
      ]
     },
     "execution_count": 38,
     "metadata": {},
     "output_type": "execute_result"
    }
   ],
   "source": [
    "all_data[['Exterior1st', 'Exterior2nd']].head()"
   ]
  },
  {
   "cell_type": "code",
   "execution_count": 39,
   "metadata": {
    "_cell_guid": "85903feb-7fdb-4911-9a6a-f29629bbf308",
    "_execution_state": "idle",
    "_uuid": "6375e9c7c145e0f2832cbe03addbce3d90cb44c4"
   },
   "outputs": [],
   "source": [
    "# Exterior1st: Exterior covering on house\n",
    "# Exterior2nd: Exterior covering on house (if more than one material)\n",
    "\n",
    "all_data['Exterior1st'] = all_data['Exterior1st'].fillna(all_data['Exterior1st'].mode())\n",
    "all_data['Exterior2nd'] = all_data['Exterior2nd'].fillna(all_data['Exterior2nd'].mode())"
   ]
  },
  {
   "cell_type": "markdown",
   "metadata": {
    "_cell_guid": "b87d629d-6820-4f3e-80f3-efc16436b982",
    "_execution_state": "idle",
    "_uuid": "67f41f0ad648d536d70e2ccb617a4b495fb7f782"
   },
   "source": [
    "- **SaleType** : Fill in again with most frequent which is \"WD\""
   ]
  },
  {
   "cell_type": "code",
   "execution_count": 40,
   "metadata": {
    "_cell_guid": "aaa407ac-ad4a-4313-8530-ac96826be6e5",
    "_execution_state": "idle",
    "_uuid": "06c104efedaf57a4052c8f61c502cb6313e0beea"
   },
   "outputs": [],
   "source": [
    "# SaleType: Type of sale\n",
    "all_data['SaleType'] = all_data['SaleType'].fillna(all_data['SaleType'].mode())"
   ]
  },
  {
   "cell_type": "markdown",
   "metadata": {
    "_cell_guid": "8ddca94e-7cfa-4f25-9333-29e013c9c30d",
    "_execution_state": "idle",
    "_uuid": "8a3a35f5dc00732929143480a8a0b34a2a502c27"
   },
   "source": [
    "- **MSSubClass** : Na most likely means No building class. We can replace missing values with None\n"
   ]
  },
  {
   "cell_type": "code",
   "execution_count": 41,
   "metadata": {
    "_cell_guid": "23dedd0c-7d5e-4870-8588-8bc4890f627b",
    "_execution_state": "idle",
    "_uuid": "9608a2eada6013e7f14e9341862cca0dca4621e9"
   },
   "outputs": [],
   "source": [
    "# MSSubClass: The building class\n",
    "all_data['MSSubClass'] = all_data['MSSubClass'].fillna(\"None\")"
   ]
  },
  {
   "cell_type": "markdown",
   "metadata": {
    "_cell_guid": "9193270b-8e7b-4a24-b769-d6eb661a1ae7",
    "_execution_state": "idle",
    "_uuid": "465570fcce8944ee31b1709ec6954d03cbf32ff8"
   },
   "source": [
    "Is there any remaining missing value ? "
   ]
  },
  {
   "cell_type": "code",
   "execution_count": 42,
   "metadata": {
    "_cell_guid": "0adf05cf-ce60-4169-805c-ca776e60e85a",
    "_execution_state": "idle",
    "_uuid": "b091fa2ebef19425019e2e550410d0376b9e9fac"
   },
   "outputs": [
    {
     "data": {
      "text/html": [
       "<div>\n",
       "<style scoped>\n",
       "    .dataframe tbody tr th:only-of-type {\n",
       "        vertical-align: middle;\n",
       "    }\n",
       "\n",
       "    .dataframe tbody tr th {\n",
       "        vertical-align: top;\n",
       "    }\n",
       "\n",
       "    .dataframe thead th {\n",
       "        text-align: right;\n",
       "    }\n",
       "</style>\n",
       "<table border=\"1\" class=\"dataframe\">\n",
       "  <thead>\n",
       "    <tr style=\"text-align: right;\">\n",
       "      <th></th>\n",
       "      <th>Missing Ratio</th>\n",
       "    </tr>\n",
       "  </thead>\n",
       "  <tbody>\n",
       "    <tr>\n",
       "      <th>Electrical</th>\n",
       "      <td>0.06854</td>\n",
       "    </tr>\n",
       "  </tbody>\n",
       "</table>\n",
       "</div>"
      ],
      "text/plain": [
       "            Missing Ratio\n",
       "Electrical        0.06854"
      ]
     },
     "execution_count": 42,
     "metadata": {},
     "output_type": "execute_result"
    }
   ],
   "source": [
    "#Check remaining missing values if any \n",
    "all_data_na = (all_data.isnull().sum() / len(all_data)) * 100\n",
    "all_data_na = all_data_na.drop(all_data_na[all_data_na == 0].index).sort_values(ascending=False)\n",
    "missing_data = pd.DataFrame({'Missing Ratio' :all_data_na})\n",
    "missing_data.head()"
   ]
  },
  {
   "cell_type": "markdown",
   "metadata": {
    "_cell_guid": "7996debf-c724-4365-9d63-f6104bae6140",
    "_execution_state": "idle",
    "_uuid": "915505b9c21b4dd84cc466660a68fb0d6b84cfae"
   },
   "source": [
    "### More features engeneering"
   ]
  },
  {
   "cell_type": "markdown",
   "metadata": {
    "_cell_guid": "0d5076fa-b4ab-4787-bebb-8fd445b8815a",
    "_execution_state": "idle",
    "_uuid": "1cfcb671a97068569efb4e7855da91aa30c5bbde"
   },
   "source": [
    "**Transforming some numerical variables that are really categorical**   \n",
    "\n",
    "숫자형태를 한 값일 뿐 실제 연속형도 숫자 데이터도 아니죠? 따라서 문자형식으로 바꾼후 라벨링 인코더 하겠습니다."
   ]
  },
  {
   "cell_type": "markdown",
   "metadata": {},
   "source": [
    "**Q12. 데이터를 문자형으로 바꾸세요.**"
   ]
  },
  {
   "cell_type": "code",
   "execution_count": 43,
   "metadata": {
    "_cell_guid": "a52dc2f9-ca02-4024-987a-165ce630b356",
    "_execution_state": "idle",
    "_uuid": "cc7557817a4442e799e4e4c84dd1efd8bd08867a"
   },
   "outputs": [],
   "source": [
    "#MSSubClass=The building class\n",
    "all_data['MSSubClass'] = all_data['MSSubClass'].apply(str)\n",
    "\n",
    "\n",
    "#Changing OverallCond into a categorical variable\n",
    "all_data['OverallCond'] = all_data['OverallCond'].apply(str)\n",
    "\n",
    "\n",
    "#Year and month sold are transformed into categorical features.\n",
    "all_data['YrSold'] = all_data['YrSold'].apply(str)\n",
    "all_data['MoSold'] = all_data['MoSold'].apply(str)"
   ]
  },
  {
   "cell_type": "markdown",
   "metadata": {
    "_cell_guid": "9f80c0e7-3f3f-45c5-b111-e36f4e31e814",
    "_execution_state": "idle",
    "_uuid": "c4743ffb7fbb050edca7c77dc7cb6520577c1398"
   },
   "source": [
    "**Label Encoding some categorical variables that may contain information in their ordering set** "
   ]
  },
  {
   "cell_type": "markdown",
   "metadata": {},
   "source": [
    "**Q13. LabelEncoder로 해당 범주형 데이터를 바꿔보세요..**"
   ]
  },
  {
   "cell_type": "code",
   "execution_count": 44,
   "metadata": {
    "_cell_guid": "81c97efb-4f76-4e87-861a-10a60ab5c84b",
    "_execution_state": "idle",
    "_uuid": "fdb5ddf0a49a3c6df303c569c9f3509c79ac8b61"
   },
   "outputs": [],
   "source": [
    "from sklearn.preprocessing import LabelEncoder\n",
    "cols = ('FireplaceQu', 'BsmtQual', 'BsmtCond', 'GarageQual', 'GarageCond', \n",
    "        'ExterQual', 'ExterCond','HeatingQC', 'PoolQC', 'KitchenQual', 'BsmtFinType1', \n",
    "        'BsmtFinType2', 'Functional', 'Fence', 'BsmtExposure', 'GarageFinish', 'LandSlope',\n",
    "        'LotShape', 'PavedDrive', 'Street', 'Alley', 'CentralAir', 'MSSubClass', 'OverallCond', \n",
    "        'YrSold', 'MoSold')\n",
    "\n",
    "label_encoder = LabelEncoder()\n",
    "for col in cols:\n",
    "    all_data[col] = label_encoder.fit_transform(all_data[col])"
   ]
  },
  {
   "cell_type": "code",
   "execution_count": 45,
   "metadata": {},
   "outputs": [
    {
     "name": "stdout",
     "output_type": "stream",
     "text": [
      "Shape all_data: (1459, 78)\n"
     ]
    }
   ],
   "source": [
    "# shape        \n",
    "print('Shape all_data: {}'.format(all_data.shape))\n",
    "\n",
    "# Shape all_data: (1459, 78)"
   ]
  },
  {
   "cell_type": "markdown",
   "metadata": {
    "_cell_guid": "a4879ef7-ab0d-4955-bc48-7ebcfa04b3bd",
    "_execution_state": "idle",
    "_uuid": "9976d6288bc183d443fbccc2bde439d5bc3a87b1"
   },
   "source": [
    "**Adding one more important feature**"
   ]
  },
  {
   "cell_type": "code",
   "execution_count": 46,
   "metadata": {
    "_cell_guid": "fc1a8f1a-f003-4538-8e60-d819f46362a3",
    "_execution_state": "idle",
    "_uuid": "208f8d22188786227fff4a978dc3b11b4e1ffd90"
   },
   "outputs": [],
   "source": [
    "# Adding total sqfootage feature \n",
    "all_data['TotalSF'] = all_data['TotalBsmtSF'] + all_data['1stFlrSF'] + all_data['2ndFlrSF']"
   ]
  },
  {
   "cell_type": "markdown",
   "metadata": {
    "_cell_guid": "91c73aad-82d1-4301-b540-b2f69dc13902",
    "_execution_state": "idle",
    "_uuid": "aa36d6e3253e354b46d9c9c6f2e8a4089c76be16"
   },
   "source": [
    "**Skewed features**"
   ]
  },
  {
   "cell_type": "code",
   "execution_count": 47,
   "metadata": {
    "_cell_guid": "c5972a73-7e86-4164-a9d6-58432dae1933",
    "_execution_state": "idle",
    "_uuid": "53c471c7008c66590f257e70866f8a3037813f13"
   },
   "outputs": [
    {
     "name": "stdout",
     "output_type": "stream",
     "text": [
      "\n",
      "Skew in numerical features: \n",
      "\n"
     ]
    },
    {
     "data": {
      "text/html": [
       "<div>\n",
       "<style scoped>\n",
       "    .dataframe tbody tr th:only-of-type {\n",
       "        vertical-align: middle;\n",
       "    }\n",
       "\n",
       "    .dataframe tbody tr th {\n",
       "        vertical-align: top;\n",
       "    }\n",
       "\n",
       "    .dataframe thead th {\n",
       "        text-align: right;\n",
       "    }\n",
       "</style>\n",
       "<table border=\"1\" class=\"dataframe\">\n",
       "  <thead>\n",
       "    <tr style=\"text-align: right;\">\n",
       "      <th></th>\n",
       "      <th>Skew</th>\n",
       "    </tr>\n",
       "  </thead>\n",
       "  <tbody>\n",
       "    <tr>\n",
       "      <th>MiscVal</th>\n",
       "      <td>24.443278</td>\n",
       "    </tr>\n",
       "    <tr>\n",
       "      <th>PoolArea</th>\n",
       "      <td>14.807992</td>\n",
       "    </tr>\n",
       "    <tr>\n",
       "      <th>LotArea</th>\n",
       "      <td>12.290047</td>\n",
       "    </tr>\n",
       "    <tr>\n",
       "      <th>3SsnPorch</th>\n",
       "      <td>10.290132</td>\n",
       "    </tr>\n",
       "    <tr>\n",
       "      <th>LowQualFinSF</th>\n",
       "      <td>8.998885</td>\n",
       "    </tr>\n",
       "    <tr>\n",
       "      <th>LandSlope</th>\n",
       "      <td>4.806884</td>\n",
       "    </tr>\n",
       "    <tr>\n",
       "      <th>KitchenAbvGr</th>\n",
       "      <td>4.482026</td>\n",
       "    </tr>\n",
       "    <tr>\n",
       "      <th>BsmtFinSF2</th>\n",
       "      <td>4.249219</td>\n",
       "    </tr>\n",
       "    <tr>\n",
       "      <th>ScreenPorch</th>\n",
       "      <td>4.116334</td>\n",
       "    </tr>\n",
       "    <tr>\n",
       "      <th>BsmtHalfBath</th>\n",
       "      <td>4.097541</td>\n",
       "    </tr>\n",
       "  </tbody>\n",
       "</table>\n",
       "</div>"
      ],
      "text/plain": [
       "                   Skew\n",
       "MiscVal       24.443278\n",
       "PoolArea      14.807992\n",
       "LotArea       12.290047\n",
       "3SsnPorch     10.290132\n",
       "LowQualFinSF   8.998885\n",
       "LandSlope      4.806884\n",
       "KitchenAbvGr   4.482026\n",
       "BsmtFinSF2     4.249219\n",
       "ScreenPorch    4.116334\n",
       "BsmtHalfBath   4.097541"
      ]
     },
     "execution_count": 47,
     "metadata": {},
     "output_type": "execute_result"
    }
   ],
   "source": [
    "numeric_feats = all_data.dtypes[all_data.dtypes != \"object\"].index\n",
    "\n",
    "skewed_feats = all_data[numeric_feats].apply(lambda x: skew(x.dropna())).sort_values(ascending=False)\n",
    "print(\"\\nSkew in numerical features: \\n\")\n",
    "skewness = pd.DataFrame({'Skew' :skewed_feats})\n",
    "skewness.head(10)"
   ]
  },
  {
   "cell_type": "markdown",
   "metadata": {
    "_cell_guid": "9f110087-b707-4073-a1df-0a0a9d6ccbd3",
    "_execution_state": "idle",
    "_uuid": "cf63bdc9f4f80d81f1bfa14f89d65ff104d45e5b"
   },
   "source": [
    "**Box Cox Transformation of (highly) skewed features**"
   ]
  },
  {
   "cell_type": "markdown",
   "metadata": {
    "_cell_guid": "d1d18243-42d8-4a21-808d-784c21e53973",
    "_execution_state": "idle",
    "_uuid": "eab0b4c0a85ae2fbe1bdeea0eedd113904ef3eb1"
   },
   "source": [
    "We use the scipy  function boxcox1p which computes the Box-Cox transformation of **\\\\(1 + x\\\\)**. \n",
    "\n",
    "Note that setting \\\\( \\lambda = 0 \\\\) is equivalent to log1p used above for the target variable.  \n",
    "\n",
    "See [this page][1] for more details on Box Cox Transformation as well as [the scipy function's page][2]\n",
    "[1]: http://onlinestatbook.com/2/transformations/box-cox.html\n",
    "[2]: https://docs.scipy.org/doc/scipy-0.19.0/reference/generated/scipy.special.boxcox1p.html"
   ]
  },
  {
   "cell_type": "code",
   "execution_count": 48,
   "metadata": {
    "_cell_guid": "d8ebce87-c55d-46c6-8f06-8b34116d7370",
    "_execution_state": "idle",
    "_uuid": "969fdff338ef46f064d8f855782c96d322a264b1"
   },
   "outputs": [],
   "source": [
    "skewness = skewness[abs(skewness) > 0.75]\n",
    "\n",
    "\n",
    "from scipy.special import boxcox1p\n",
    "skewed_features = skewness.index\n",
    "lam = 0.15\n",
    "for feat in skewed_features:\n",
    "    all_data[feat] = boxcox1p(all_data[feat], lam)"
   ]
  },
  {
   "cell_type": "markdown",
   "metadata": {
    "_cell_guid": "39639caf-31a4-4401-a663-0ba9536b39bf",
    "_execution_state": "idle",
    "_uuid": "5a13a6e2a3e48975de9129d1593bd38df44a1069"
   },
   "source": [
    "**Getting dummy categorical features**"
   ]
  },
  {
   "cell_type": "markdown",
   "metadata": {},
   "source": [
    "**Q14. 더미화하세요.**"
   ]
  },
  {
   "cell_type": "code",
   "execution_count": 49,
   "metadata": {
    "_cell_guid": "c8e63516-e4e2-4f36-a60e-1c8316392c60",
    "_execution_state": "idle",
    "_uuid": "acd44e283867425257ffd1fb2f4893cdbff43f67"
   },
   "outputs": [
    {
     "name": "stdout",
     "output_type": "stream",
     "text": [
      "(1459, 221)\n"
     ]
    }
   ],
   "source": [
    "all_data = pd.get_dummies(all_data)\n",
    "print(all_data.shape) # (1459, 221)"
   ]
  },
  {
   "cell_type": "markdown",
   "metadata": {
    "_cell_guid": "243cf047-c2ba-4ae5-a531-22ef9b7cfbfe",
    "_execution_state": "idle",
    "_uuid": "fe9d78c7e37142ee8089826eca3065e0fa5803c1"
   },
   "source": [
    "Getting the new train and test sets. "
   ]
  },
  {
   "cell_type": "code",
   "execution_count": 50,
   "metadata": {
    "_cell_guid": "0a75646f-1974-40ad-a085-ff7bc08454a5",
    "_execution_state": "idle",
    "_uuid": "89e464095544a53177d5a009b914ba4c660072a7"
   },
   "outputs": [],
   "source": [
    "train = all_data[:ntrain]\n",
    "test  = all_data[ntrain:]   "
   ]
  },
  {
   "cell_type": "code",
   "execution_count": 53,
   "metadata": {},
   "outputs": [
    {
     "name": "stdout",
     "output_type": "stream",
     "text": [
      "(859, 221)\n",
      "(859,)\n",
      "(600, 221)\n"
     ]
    }
   ],
   "source": [
    "print(train.shape)\n",
    "print(y_train.shape)\n",
    "\n",
    "print(test.shape)"
   ]
  },
  {
   "cell_type": "markdown",
   "metadata": {},
   "source": [
    "---"
   ]
  },
  {
   "cell_type": "markdown",
   "metadata": {
    "_cell_guid": "461af83d-a928-4645-8512-5e4dbcaf7be0",
    "_execution_state": "idle",
    "_uuid": "10aab4cee97832560e2627a490e01e80c0ffb814"
   },
   "source": [
    "# Modelling"
   ]
  },
  {
   "cell_type": "markdown",
   "metadata": {},
   "source": [
    "#### 이 아래부터의 과정은 앙상블을 정말 모르겠다.(코드) 그런 분들을 위해 참조용으로 있을 뿐. 알아서 하셔도 무방합니다."
   ]
  },
  {
   "cell_type": "markdown",
   "metadata": {},
   "source": [
    "### 1. train test split"
   ]
  },
  {
   "cell_type": "code",
   "execution_count": 54,
   "metadata": {},
   "outputs": [],
   "source": [
    "from sklearn.model_selection import train_test_split\n",
    "\n",
    "X_train, X_test, y_train, y_test = train_test_split(train, y_train)"
   ]
  },
  {
   "cell_type": "code",
   "execution_count": 55,
   "metadata": {},
   "outputs": [
    {
     "name": "stdout",
     "output_type": "stream",
     "text": [
      "(644, 221)\n",
      "(215, 221)\n",
      "(644,)\n",
      "(215,)\n"
     ]
    }
   ],
   "source": [
    "print(X_train.shape)\n",
    "print(X_test.shape)\n",
    "\n",
    "print(y_train.shape)\n",
    "print(y_test.shape)"
   ]
  },
  {
   "cell_type": "code",
   "execution_count": 160,
   "metadata": {},
   "outputs": [
    {
     "data": {
      "text/plain": [
       "False"
      ]
     },
     "execution_count": 160,
     "metadata": {},
     "output_type": "execute_result"
    }
   ],
   "source": [
    "variance_inflation_factor(train.values, 0) == numpy.inf"
   ]
  },
  {
   "cell_type": "code",
   "execution_count": null,
   "metadata": {},
   "outputs": [],
   "source": [
    "# train_drop = train.copy()"
   ]
  },
  {
   "cell_type": "code",
   "execution_count": 207,
   "metadata": {},
   "outputs": [
    {
     "name": "stderr",
     "output_type": "stream",
     "text": [
      "C:\\ProgramData\\Anaconda3\\lib\\site-packages\\statsmodels\\stats\\outliers_influence.py:185: RuntimeWarning: divide by zero encountered in double_scalars\n",
      "  vif = 1. / (1. - r_squared_i)\n",
      "C:\\ProgramData\\Anaconda3\\lib\\site-packages\\statsmodels\\regression\\linear_model.py:1636: RuntimeWarning: invalid value encountered in double_scalars\n",
      "  return 1 - self.ssr/self.centered_tss\n"
     ]
    }
   ],
   "source": [
    "from statsmodels.stats.outliers_influence import variance_inflation_factor\n",
    "import numpy\n",
    "\n",
    "vif_list = []\n",
    "feature_list = []\n",
    "vif = pd.DataFrame()\n",
    "for i in range(train_drop.shape[1]):\n",
    "    vif_val = variance_inflation_factor(train_drop.values, i)\n",
    "    if vif_val != numpy.inf :\n",
    "        vif_list.append(vif_val)\n",
    "        feature_list.append(train_drop.columns[i])\n",
    "        \n",
    "vif['VIF'] = vif_list\n",
    "vif['Feature'] = feature_list"
   ]
  },
  {
   "cell_type": "code",
   "execution_count": 208,
   "metadata": {},
   "outputs": [
    {
     "data": {
      "text/html": [
       "<div>\n",
       "<style scoped>\n",
       "    .dataframe tbody tr th:only-of-type {\n",
       "        vertical-align: middle;\n",
       "    }\n",
       "\n",
       "    .dataframe tbody tr th {\n",
       "        vertical-align: top;\n",
       "    }\n",
       "\n",
       "    .dataframe thead th {\n",
       "        text-align: right;\n",
       "    }\n",
       "</style>\n",
       "<table border=\"1\" class=\"dataframe\">\n",
       "  <thead>\n",
       "    <tr style=\"text-align: right;\">\n",
       "      <th></th>\n",
       "      <th>VIF</th>\n",
       "      <th>Feature</th>\n",
       "    </tr>\n",
       "  </thead>\n",
       "  <tbody>\n",
       "    <tr>\n",
       "      <th>42</th>\n",
       "      <td>13.298004</td>\n",
       "      <td>PoolQC</td>\n",
       "    </tr>\n",
       "    <tr>\n",
       "      <th>41</th>\n",
       "      <td>11.912847</td>\n",
       "      <td>PoolArea</td>\n",
       "    </tr>\n",
       "    <tr>\n",
       "      <th>0</th>\n",
       "      <td>7.049130</td>\n",
       "      <td>1stFlrSF</td>\n",
       "    </tr>\n",
       "    <tr>\n",
       "      <th>45</th>\n",
       "      <td>6.201859</td>\n",
       "      <td>TotRmsAbvGrd</td>\n",
       "    </tr>\n",
       "    <tr>\n",
       "      <th>46</th>\n",
       "      <td>6.191288</td>\n",
       "      <td>TotalBsmtSF</td>\n",
       "    </tr>\n",
       "    <tr>\n",
       "      <th>23</th>\n",
       "      <td>5.991522</td>\n",
       "      <td>GarageCars</td>\n",
       "    </tr>\n",
       "    <tr>\n",
       "      <th>6</th>\n",
       "      <td>5.218520</td>\n",
       "      <td>BsmtFinSF1</td>\n",
       "    </tr>\n",
       "    <tr>\n",
       "      <th>39</th>\n",
       "      <td>4.886263</td>\n",
       "      <td>OverallQual</td>\n",
       "    </tr>\n",
       "    <tr>\n",
       "      <th>7</th>\n",
       "      <td>4.832772</td>\n",
       "      <td>BsmtFinSF2</td>\n",
       "    </tr>\n",
       "    <tr>\n",
       "      <th>13</th>\n",
       "      <td>4.496316</td>\n",
       "      <td>BsmtUnfSF</td>\n",
       "    </tr>\n",
       "  </tbody>\n",
       "</table>\n",
       "</div>"
      ],
      "text/plain": [
       "          VIF       Feature\n",
       "42  13.298004        PoolQC\n",
       "41  11.912847      PoolArea\n",
       "0    7.049130      1stFlrSF\n",
       "45   6.201859  TotRmsAbvGrd\n",
       "46   6.191288   TotalBsmtSF\n",
       "23   5.991522    GarageCars\n",
       "6    5.218520    BsmtFinSF1\n",
       "39   4.886263   OverallQual\n",
       "7    4.832772    BsmtFinSF2\n",
       "13   4.496316     BsmtUnfSF"
      ]
     },
     "execution_count": 208,
     "metadata": {},
     "output_type": "execute_result"
    }
   ],
   "source": [
    "vif.sort_values(by='VIF', ascending=False).head(10)"
   ]
  },
  {
   "cell_type": "code",
   "execution_count": 206,
   "metadata": {},
   "outputs": [],
   "source": [
    "# VIF 확인하면서 하나의 설명변수 제거해봄\n",
    "train_drop = train_drop.drop('GarageYrBlt', axis=1)\n",
    "train_drop = train_drop.drop('GrLivArea', axis=1)\n",
    "train_drop = train_drop.drop('MiscVal', axis=1)\n",
    "train_drop = train_drop.drop('TotalSF', axis=1)\n",
    "train_drop = train_drop.drop('GarageArea', axis=1)\n",
    "train_drop = train_drop.drop('MSSubClass', axis=1)\n",
    "train_drop = train_drop.drop('2ndFlrSF', axis=1)\n",
    "train_drop = train_drop.drop('MasVnrArea', axis=1)\n",
    "train_drop = train_drop.drop('YearBuilt', axis=1)"
   ]
  },
  {
   "cell_type": "code",
   "execution_count": 210,
   "metadata": {},
   "outputs": [],
   "source": [
    "# VIF 문제 어느정도 해결한 X_drop 데이터셋 만들었다\n",
    "X_drop_train = X_train.drop(['GarageYrBlt', 'GrLivArea', 'MiscVal', 'TotalSF', 'GarageArea', 'MSSubClass', '2ndFlrSF', 'MasVnrArea', 'YearBuilt'], axis=1)\n",
    "X_drop_test  = X_test.drop(['GarageYrBlt', 'GrLivArea', 'MiscVal', 'TotalSF', 'GarageArea', 'MSSubClass', '2ndFlrSF', 'MasVnrArea', 'YearBuilt'], axis=1)"
   ]
  },
  {
   "cell_type": "code",
   "execution_count": 126,
   "metadata": {},
   "outputs": [],
   "source": [
    "from sklearn.preprocessing import StandardScaler\n",
    "\n",
    "# scaling 진행한 데이터셋 따로 만들어둔다.\n",
    "standard_scaler = StandardScaler()\n",
    "standard_scaler.fit(X_train)\n",
    "X_ss_train = standard_scaler.transform(X_train)\n",
    "X_ss_test  = standard_scaler.transform(X_test)"
   ]
  },
  {
   "cell_type": "code",
   "execution_count": 105,
   "metadata": {},
   "outputs": [],
   "source": [
    "# 결과를 담을 딕셔너리\n",
    "rmse_result = {}"
   ]
  },
  {
   "cell_type": "markdown",
   "metadata": {},
   "source": [
    "### 2-1. Regression"
   ]
  },
  {
   "cell_type": "code",
   "execution_count": 63,
   "metadata": {},
   "outputs": [],
   "source": [
    "from sklearn.metrics import mean_squared_error\n",
    "from sklearn.model_selection import GridSearchCV"
   ]
  },
  {
   "cell_type": "code",
   "execution_count": 57,
   "metadata": {},
   "outputs": [],
   "source": [
    "from sklearn.linear_model import LinearRegression, Ridge, Lasso, ElasticNet"
   ]
  },
  {
   "cell_type": "code",
   "execution_count": 106,
   "metadata": {},
   "outputs": [],
   "source": [
    "linear_regression = LinearRegression()\n",
    "ridge_regression = Ridge()\n",
    "lasso_regression = Lasso()\n",
    "elasticnet = ElasticNet()"
   ]
  },
  {
   "cell_type": "markdown",
   "metadata": {},
   "source": [
    "- **Linear Regression**"
   ]
  },
  {
   "cell_type": "code",
   "execution_count": 230,
   "metadata": {},
   "outputs": [
    {
     "name": "stdout",
     "output_type": "stream",
     "text": [
      "0.15515113535207622\n"
     ]
    }
   ],
   "source": [
    "linear_regression.fit(X_train, y_train)\n",
    "pred = linear_regression.predict(X_test)\n",
    "\n",
    "print( np.sqrt(mean_squared_error(y_test, pred)) )\n",
    "rmse_result['Linear_regression'] = np.sqrt(mean_squared_error(y_test, pred))"
   ]
  },
  {
   "cell_type": "markdown",
   "metadata": {},
   "source": [
    "- **Ridge Regression**"
   ]
  },
  {
   "cell_type": "code",
   "execution_count": 228,
   "metadata": {},
   "outputs": [
    {
     "name": "stdout",
     "output_type": "stream",
     "text": [
      "{'alpha': 10}\n",
      "0.11827400698580509\n"
     ]
    }
   ],
   "source": [
    "param = {'alpha':[0.0001, 0.001, 0.01, 0.1, 1, 10, 100, 1000, 10000]}\n",
    "\n",
    "grid_cv = GridSearchCV(ridge_regression, param, cv=5, scoring='neg_mean_squared_error')\n",
    "grid_cv.fit(X_train, y_train)\n",
    "\n",
    "print( grid_cv.best_params_ )\n",
    "print( np.sqrt(-grid_cv.best_score_) )"
   ]
  },
  {
   "cell_type": "code",
   "execution_count": 340,
   "metadata": {},
   "outputs": [
    {
     "name": "stdout",
     "output_type": "stream",
     "text": [
      "{'alpha': 9}\n",
      "0.1182415303300253\n"
     ]
    }
   ],
   "source": [
    "param = {'alpha':np.arange(1, 100, 1)}\n",
    "\n",
    "grid_cv = GridSearchCV(ridge_regression, param, cv=5, scoring='neg_mean_squared_error')\n",
    "grid_cv.fit(X_train, y_train)\n",
    "\n",
    "print( grid_cv.best_params_ )\n",
    "print( np.sqrt(-grid_cv.best_score_) )\n",
    "\n",
    "rmse_result['Ridge_9'] = np.sqrt(-grid_cv.best_score_)"
   ]
  },
  {
   "cell_type": "code",
   "execution_count": 128,
   "metadata": {},
   "outputs": [
    {
     "name": "stdout",
     "output_type": "stream",
     "text": [
      "{'alpha': 100}\n",
      "0.11974917966761613\n"
     ]
    }
   ],
   "source": [
    "# scaling한 데이터\n",
    "\n",
    "param = {'alpha':[0.0001, 0.001, 0.01, 0.1, 1, 10, 100, 1000, 10000]}\n",
    "\n",
    "grid_cv = GridSearchCV(ridge_regression, param, cv=5, scoring='neg_mean_squared_error')\n",
    "grid_cv.fit(X_ss_train, y_train)\n",
    "\n",
    "print( grid_cv.best_params_ )\n",
    "print( np.sqrt(-grid_cv.best_score_) )"
   ]
  },
  {
   "cell_type": "code",
   "execution_count": 130,
   "metadata": {},
   "outputs": [
    {
     "name": "stdout",
     "output_type": "stream",
     "text": [
      "{'alpha': 162}\n",
      "0.11885536377679955\n"
     ]
    }
   ],
   "source": [
    "# scaling한 데이터\n",
    "\n",
    "param = {'alpha':np.arange(50, 1000, 1)}\n",
    "\n",
    "grid_cv = GridSearchCV(ridge_regression, param, cv=5, scoring='neg_mean_squared_error')\n",
    "grid_cv.fit(X_ss_train, y_train)\n",
    "\n",
    "print( grid_cv.best_params_ )\n",
    "print( np.sqrt(-grid_cv.best_score_) )"
   ]
  },
  {
   "cell_type": "code",
   "execution_count": 225,
   "metadata": {},
   "outputs": [
    {
     "name": "stdout",
     "output_type": "stream",
     "text": [
      "{'alpha': 10}\n",
      "0.12355568570739905\n"
     ]
    }
   ],
   "source": [
    "# VIF 높은 설명변수 제거한 데이터\n",
    "\n",
    "param = {'alpha':[0.0001, 0.001, 0.01, 0.1, 1, 10, 100, 1000, 10000]}\n",
    "\n",
    "grid_cv = GridSearchCV(ridge_regression, param, cv=5, scoring='neg_mean_squared_error')\n",
    "grid_cv.fit(X_drop_train, y_train)\n",
    "\n",
    "print( grid_cv.best_params_ )\n",
    "print( np.sqrt(-grid_cv.best_score_) )"
   ]
  },
  {
   "cell_type": "code",
   "execution_count": 226,
   "metadata": {},
   "outputs": [
    {
     "name": "stdout",
     "output_type": "stream",
     "text": [
      "{'alpha': 9}\n",
      "0.12349236778801861\n"
     ]
    }
   ],
   "source": [
    "# VIF 높은 설명변수 제거한 데이터\n",
    "\n",
    "param = {'alpha':np.arange(1, 100, 1)}\n",
    "\n",
    "grid_cv = GridSearchCV(ridge_regression, param, cv=5, scoring='neg_mean_squared_error')\n",
    "grid_cv.fit(X_drop_train, y_train)\n",
    "\n",
    "print( grid_cv.best_params_ )\n",
    "print( np.sqrt(-grid_cv.best_score_) )"
   ]
  },
  {
   "cell_type": "markdown",
   "metadata": {},
   "source": [
    "- **Lasso Regression**"
   ]
  },
  {
   "cell_type": "code",
   "execution_count": 232,
   "metadata": {},
   "outputs": [
    {
     "name": "stdout",
     "output_type": "stream",
     "text": [
      "{'alpha': 0.001}\n",
      "0.12069522315683347\n"
     ]
    }
   ],
   "source": [
    "param = {'alpha':[0.0001, 0.001, 0.01, 0.1, 1, 10, 100, 1000, 10000]}\n",
    "\n",
    "grid_cv = GridSearchCV(lasso_regression, param, cv=5, scoring='neg_mean_squared_error')\n",
    "grid_cv.fit(X_train, y_train)\n",
    "\n",
    "print( grid_cv.best_params_ )\n",
    "print( np.sqrt(-grid_cv.best_score_) )"
   ]
  },
  {
   "cell_type": "code",
   "execution_count": 233,
   "metadata": {},
   "outputs": [
    {
     "name": "stdout",
     "output_type": "stream",
     "text": [
      "{'alpha': 0.0009000000000000002}\n",
      "0.12065839111644965\n"
     ]
    }
   ],
   "source": [
    "param = {'alpha':np.arange(0.0005, 0.005, 0.0001)}\n",
    "\n",
    "grid_cv = GridSearchCV(lasso_regression, param, cv=5, scoring='neg_mean_squared_error')\n",
    "grid_cv.fit(X_train, y_train)\n",
    "\n",
    "print( grid_cv.best_params_ )\n",
    "print( np.sqrt(-grid_cv.best_score_) )"
   ]
  },
  {
   "cell_type": "code",
   "execution_count": 234,
   "metadata": {},
   "outputs": [],
   "source": [
    "rmse_result['Lasso_regression_0.0009'] = np.sqrt(-grid_cv.best_score_)"
   ]
  },
  {
   "cell_type": "code",
   "execution_count": 235,
   "metadata": {},
   "outputs": [
    {
     "name": "stdout",
     "output_type": "stream",
     "text": [
      "{'alpha': 0.01}\n",
      "0.12081686861229281\n"
     ]
    }
   ],
   "source": [
    "param = {'alpha':[0.0001, 0.001, 0.01, 0.1, 1, 10, 100, 1000, 10000]}\n",
    "\n",
    "grid_cv = GridSearchCV(lasso_regression, param, cv=5, scoring='neg_mean_squared_error')\n",
    "grid_cv.fit(X_ss_train, y_train)\n",
    "\n",
    "print( grid_cv.best_params_ )\n",
    "print( np.sqrt(-grid_cv.best_score_) )"
   ]
  },
  {
   "cell_type": "code",
   "execution_count": 236,
   "metadata": {},
   "outputs": [
    {
     "name": "stdout",
     "output_type": "stream",
     "text": [
      "{'alpha': 0.001}\n",
      "0.12512773447808265\n"
     ]
    }
   ],
   "source": [
    "param = {'alpha':[0.0001, 0.001, 0.01, 0.1, 1, 10, 100, 1000, 10000]}\n",
    "\n",
    "grid_cv = GridSearchCV(lasso_regression, param, cv=5, scoring='neg_mean_squared_error')\n",
    "grid_cv.fit(X_drop_train, y_train)\n",
    "\n",
    "print( grid_cv.best_params_ )\n",
    "print( np.sqrt(-grid_cv.best_score_) )"
   ]
  },
  {
   "cell_type": "markdown",
   "metadata": {},
   "source": [
    "- **EleasticNet**"
   ]
  },
  {
   "cell_type": "code",
   "execution_count": 237,
   "metadata": {},
   "outputs": [
    {
     "name": "stdout",
     "output_type": "stream",
     "text": [
      "{'alpha': 0.01, 'l1_ratio': 0.1}\n",
      "0.11971928233049768\n"
     ]
    }
   ],
   "source": [
    "param = {'alpha':[0.0001, 0.001, 0.01, 0.1, 1, 10, 100, 1000, 10000],\n",
    "        'l1_ratio':[0.1, 0.2, 0.3, 0.4, 0.5, 0.6, 0.7, 0.8, 0.9]}\n",
    "\n",
    "grid_cv = GridSearchCV(elasticnet, param, cv=5, scoring='neg_mean_squared_error')\n",
    "grid_cv.fit(X_train, y_train)\n",
    "\n",
    "print( grid_cv.best_params_ )\n",
    "print( np.sqrt(-grid_cv.best_score_) )"
   ]
  },
  {
   "cell_type": "code",
   "execution_count": 238,
   "metadata": {},
   "outputs": [
    {
     "name": "stdout",
     "output_type": "stream",
     "text": [
      "{'alpha': 0.006, 'l1_ratio': 0.1}\n",
      "0.11866557944777312\n"
     ]
    }
   ],
   "source": [
    "param = {'alpha':np.arange(0.001, 0.05, 0.001),\n",
    "        'l1_ratio':np.arange(0.1, 0.95, 0.05)}\n",
    "\n",
    "grid_cv = GridSearchCV(elasticnet, param, cv=5, scoring='neg_mean_squared_error')\n",
    "grid_cv.fit(X_train, y_train)\n",
    "\n",
    "print( grid_cv.best_params_ )\n",
    "print( np.sqrt(-grid_cv.best_score_) )"
   ]
  },
  {
   "cell_type": "code",
   "execution_count": 239,
   "metadata": {},
   "outputs": [],
   "source": [
    "rmse_result['Elastic_0.006_0.1'] = np.sqrt(-grid_cv.best_score_)"
   ]
  },
  {
   "cell_type": "code",
   "execution_count": 240,
   "metadata": {},
   "outputs": [],
   "source": [
    "# Linear Regression - 0.15515113535207622\n",
    "# Ridge - 0.1182415303300253 (alpha 9)\n",
    "# Lasso - 0.12065839111644965 (alpha 0.0009)\n",
    "# ElasticNet - 0.11866557944777312 (alpha 0.006, l1_ratio 0.1)\n",
    "\n",
    "# scaling한 데이터, VIF 높은 변수 제거한 데이터보다 원본데이터의 결과가 좋았다."
   ]
  },
  {
   "cell_type": "markdown",
   "metadata": {},
   "source": [
    "### 2-2. KNN Regressor"
   ]
  },
  {
   "cell_type": "code",
   "execution_count": 241,
   "metadata": {},
   "outputs": [
    {
     "data": {
      "text/plain": [
       "0.26620579530202954"
      ]
     },
     "execution_count": 241,
     "metadata": {},
     "output_type": "execute_result"
    }
   ],
   "source": [
    "from sklearn.neighbors import KNeighborsRegressor\n",
    "\n",
    "knn_regressor = KNeighborsRegressor()\n",
    "knn_regressor.fit(X_train, y_train)\n",
    "pred = knn_regressor.predict(X_test)\n",
    "np.sqrt(mean_squared_error(y_test, pred))"
   ]
  },
  {
   "cell_type": "code",
   "execution_count": 242,
   "metadata": {},
   "outputs": [
    {
     "name": "stdout",
     "output_type": "stream",
     "text": [
      "{'n_neighbors': 5, 'weights': 'distance'}\n",
      "0.23319229193804838\n"
     ]
    }
   ],
   "source": [
    "param = {'n_neighbors':[3, 5, 7, 9, 11, 13, 15, 17, 19, 21, 23, 25],\n",
    "        'weights':['uniform', 'distance']}\n",
    "\n",
    "grid_cv = GridSearchCV(knn_regressor, param, cv=5, scoring='neg_mean_squared_error')\n",
    "grid_cv.fit(X_train, y_train)\n",
    "\n",
    "print( grid_cv.best_params_ )\n",
    "print( np.sqrt(-grid_cv.best_score_) )"
   ]
  },
  {
   "cell_type": "code",
   "execution_count": 243,
   "metadata": {},
   "outputs": [],
   "source": [
    "# rmse_result['KNN'] = np.sqrt(-grid_cv.best_score_)\n",
    "rmse_result['KNN'] = np.sqrt(-grid_cv.best_score_)"
   ]
  },
  {
   "cell_type": "markdown",
   "metadata": {},
   "source": [
    "### 2-3. Decision Tree"
   ]
  },
  {
   "cell_type": "code",
   "execution_count": 244,
   "metadata": {},
   "outputs": [
    {
     "data": {
      "text/plain": [
       "0.24479285744513135"
      ]
     },
     "execution_count": 244,
     "metadata": {},
     "output_type": "execute_result"
    }
   ],
   "source": [
    "from sklearn.tree import DecisionTreeRegressor\n",
    "\n",
    "dt_regressor = DecisionTreeRegressor()\n",
    "dt_regressor.fit(X_train, y_train)\n",
    "pred = dt_regressor.predict(X_test)\n",
    "np.sqrt(mean_squared_error(y_test, pred))"
   ]
  },
  {
   "cell_type": "code",
   "execution_count": 245,
   "metadata": {},
   "outputs": [
    {
     "name": "stdout",
     "output_type": "stream",
     "text": [
      "{'max_depth': 9, 'max_features': 'auto', 'min_samples_leaf': 5, 'min_samples_split': 4}\n",
      "0.1829060267642516\n"
     ]
    }
   ],
   "source": [
    "param = {'max_depth':[2, 3, 4, 5, 6, 7, 8, 9, 10, 11, 12, 13, 14, 15, 16, 17, 18, 19, 20, 40, 60, 80, 100],\n",
    "        'min_samples_leaf':[1, 2, 3, 4, 5, 6, 7, 8],\n",
    "        'min_samples_split':[2, 3, 4, 5, 6, 7, 8],\n",
    "        'max_features':[\"auto\", \"sqrt\"]}\n",
    "\n",
    "grid_cv = GridSearchCV(dt_regressor, param, cv=5, scoring='neg_mean_squared_error')\n",
    "grid_cv.fit(X_train, y_train)\n",
    "\n",
    "print( grid_cv.best_params_ )\n",
    "print( np.sqrt(-grid_cv.best_score_) )"
   ]
  },
  {
   "cell_type": "code",
   "execution_count": 246,
   "metadata": {},
   "outputs": [],
   "source": [
    "# rmse_result['DT'] = np.sqrt(-grid_cv.best_score_)\n",
    "rmse_result['DT'] = np.sqrt(-grid_cv.best_score_)"
   ]
  },
  {
   "cell_type": "markdown",
   "metadata": {},
   "source": [
    "### 2-4. Ensemble - Bagging"
   ]
  },
  {
   "cell_type": "code",
   "execution_count": 248,
   "metadata": {},
   "outputs": [
    {
     "data": {
      "text/plain": [
       "0.16795587646349158"
      ]
     },
     "execution_count": 248,
     "metadata": {},
     "output_type": "execute_result"
    }
   ],
   "source": [
    "from sklearn.ensemble import RandomForestRegressor\n",
    "\n",
    "rf_regressor = RandomForestRegressor()\n",
    "rf_regressor.fit(X_train, y_train)\n",
    "pred = rf_regressor.predict(X_test)\n",
    "\n",
    "np.sqrt(mean_squared_error(y_test, pred))"
   ]
  },
  {
   "cell_type": "code",
   "execution_count": 269,
   "metadata": {
    "collapsed": true,
    "jupyter": {
     "outputs_hidden": true
    }
   },
   "outputs": [
    {
     "name": "stdout",
     "output_type": "stream",
     "text": [
      "Fitting 2 folds for each of 80 candidates, totalling 160 fits\n",
      "[CV] max_depth=3, min_samples_leaf=2, min_samples_split=2 ............\n"
     ]
    },
    {
     "name": "stderr",
     "output_type": "stream",
     "text": [
      "[Parallel(n_jobs=1)]: Using backend SequentialBackend with 1 concurrent workers.\n"
     ]
    },
    {
     "name": "stdout",
     "output_type": "stream",
     "text": [
      "[CV]  max_depth=3, min_samples_leaf=2, min_samples_split=2, total=   0.2s\n",
      "[CV] max_depth=3, min_samples_leaf=2, min_samples_split=2 ............\n"
     ]
    },
    {
     "name": "stderr",
     "output_type": "stream",
     "text": [
      "[Parallel(n_jobs=1)]: Done   1 out of   1 | elapsed:    0.1s remaining:    0.0s\n"
     ]
    },
    {
     "name": "stdout",
     "output_type": "stream",
     "text": [
      "[CV]  max_depth=3, min_samples_leaf=2, min_samples_split=2, total=   0.2s\n",
      "[CV] max_depth=3, min_samples_leaf=2, min_samples_split=3 ............\n",
      "[CV]  max_depth=3, min_samples_leaf=2, min_samples_split=3, total=   0.2s\n",
      "[CV] max_depth=3, min_samples_leaf=2, min_samples_split=3 ............\n",
      "[CV]  max_depth=3, min_samples_leaf=2, min_samples_split=3, total=   0.2s\n",
      "[CV] max_depth=3, min_samples_leaf=2, min_samples_split=4 ............\n",
      "[CV]  max_depth=3, min_samples_leaf=2, min_samples_split=4, total=   0.2s\n",
      "[CV] max_depth=3, min_samples_leaf=2, min_samples_split=4 ............\n",
      "[CV]  max_depth=3, min_samples_leaf=2, min_samples_split=4, total=   0.2s\n",
      "[CV] max_depth=3, min_samples_leaf=2, min_samples_split=5 ............\n",
      "[CV]  max_depth=3, min_samples_leaf=2, min_samples_split=5, total=   0.2s\n",
      "[CV] max_depth=3, min_samples_leaf=2, min_samples_split=5 ............\n",
      "[CV]  max_depth=3, min_samples_leaf=2, min_samples_split=5, total=   0.2s\n",
      "[CV] max_depth=3, min_samples_leaf=3, min_samples_split=2 ............\n",
      "[CV]  max_depth=3, min_samples_leaf=3, min_samples_split=2, total=   0.2s\n",
      "[CV] max_depth=3, min_samples_leaf=3, min_samples_split=2 ............\n",
      "[CV]  max_depth=3, min_samples_leaf=3, min_samples_split=2, total=   0.2s\n",
      "[CV] max_depth=3, min_samples_leaf=3, min_samples_split=3 ............\n",
      "[CV]  max_depth=3, min_samples_leaf=3, min_samples_split=3, total=   0.2s\n",
      "[CV] max_depth=3, min_samples_leaf=3, min_samples_split=3 ............\n",
      "[CV]  max_depth=3, min_samples_leaf=3, min_samples_split=3, total=   0.2s\n",
      "[CV] max_depth=3, min_samples_leaf=3, min_samples_split=4 ............\n",
      "[CV]  max_depth=3, min_samples_leaf=3, min_samples_split=4, total=   0.2s\n",
      "[CV] max_depth=3, min_samples_leaf=3, min_samples_split=4 ............\n",
      "[CV]  max_depth=3, min_samples_leaf=3, min_samples_split=4, total=   0.2s\n",
      "[CV] max_depth=3, min_samples_leaf=3, min_samples_split=5 ............\n",
      "[CV]  max_depth=3, min_samples_leaf=3, min_samples_split=5, total=   0.2s\n",
      "[CV] max_depth=3, min_samples_leaf=3, min_samples_split=5 ............\n",
      "[CV]  max_depth=3, min_samples_leaf=3, min_samples_split=5, total=   0.2s\n",
      "[CV] max_depth=3, min_samples_leaf=4, min_samples_split=2 ............\n",
      "[CV]  max_depth=3, min_samples_leaf=4, min_samples_split=2, total=   0.2s\n",
      "[CV] max_depth=3, min_samples_leaf=4, min_samples_split=2 ............\n",
      "[CV]  max_depth=3, min_samples_leaf=4, min_samples_split=2, total=   0.2s\n",
      "[CV] max_depth=3, min_samples_leaf=4, min_samples_split=3 ............\n",
      "[CV]  max_depth=3, min_samples_leaf=4, min_samples_split=3, total=   0.2s\n",
      "[CV] max_depth=3, min_samples_leaf=4, min_samples_split=3 ............\n",
      "[CV]  max_depth=3, min_samples_leaf=4, min_samples_split=3, total=   0.2s\n",
      "[CV] max_depth=3, min_samples_leaf=4, min_samples_split=4 ............\n",
      "[CV]  max_depth=3, min_samples_leaf=4, min_samples_split=4, total=   0.2s\n",
      "[CV] max_depth=3, min_samples_leaf=4, min_samples_split=4 ............\n",
      "[CV]  max_depth=3, min_samples_leaf=4, min_samples_split=4, total=   0.2s\n",
      "[CV] max_depth=3, min_samples_leaf=4, min_samples_split=5 ............\n",
      "[CV]  max_depth=3, min_samples_leaf=4, min_samples_split=5, total=   0.2s\n",
      "[CV] max_depth=3, min_samples_leaf=4, min_samples_split=5 ............\n",
      "[CV]  max_depth=3, min_samples_leaf=4, min_samples_split=5, total=   0.2s\n",
      "[CV] max_depth=3, min_samples_leaf=5, min_samples_split=2 ............\n",
      "[CV]  max_depth=3, min_samples_leaf=5, min_samples_split=2, total=   0.2s\n",
      "[CV] max_depth=3, min_samples_leaf=5, min_samples_split=2 ............\n",
      "[CV]  max_depth=3, min_samples_leaf=5, min_samples_split=2, total=   0.2s\n",
      "[CV] max_depth=3, min_samples_leaf=5, min_samples_split=3 ............\n",
      "[CV]  max_depth=3, min_samples_leaf=5, min_samples_split=3, total=   0.2s\n",
      "[CV] max_depth=3, min_samples_leaf=5, min_samples_split=3 ............\n",
      "[CV]  max_depth=3, min_samples_leaf=5, min_samples_split=3, total=   0.2s\n",
      "[CV] max_depth=3, min_samples_leaf=5, min_samples_split=4 ............\n",
      "[CV]  max_depth=3, min_samples_leaf=5, min_samples_split=4, total=   0.2s\n",
      "[CV] max_depth=3, min_samples_leaf=5, min_samples_split=4 ............\n",
      "[CV]  max_depth=3, min_samples_leaf=5, min_samples_split=4, total=   0.2s\n",
      "[CV] max_depth=3, min_samples_leaf=5, min_samples_split=5 ............\n",
      "[CV]  max_depth=3, min_samples_leaf=5, min_samples_split=5, total=   0.2s\n",
      "[CV] max_depth=3, min_samples_leaf=5, min_samples_split=5 ............\n",
      "[CV]  max_depth=3, min_samples_leaf=5, min_samples_split=5, total=   0.2s\n",
      "[CV] max_depth=30, min_samples_leaf=2, min_samples_split=2 ...........\n",
      "[CV]  max_depth=30, min_samples_leaf=2, min_samples_split=2, total=   0.5s\n",
      "[CV] max_depth=30, min_samples_leaf=2, min_samples_split=2 ...........\n",
      "[CV]  max_depth=30, min_samples_leaf=2, min_samples_split=2, total=   0.4s\n",
      "[CV] max_depth=30, min_samples_leaf=2, min_samples_split=3 ...........\n",
      "[CV]  max_depth=30, min_samples_leaf=2, min_samples_split=3, total=   0.4s\n",
      "[CV] max_depth=30, min_samples_leaf=2, min_samples_split=3 ...........\n",
      "[CV]  max_depth=30, min_samples_leaf=2, min_samples_split=3, total=   0.4s\n",
      "[CV] max_depth=30, min_samples_leaf=2, min_samples_split=4 ...........\n",
      "[CV]  max_depth=30, min_samples_leaf=2, min_samples_split=4, total=   0.4s\n",
      "[CV] max_depth=30, min_samples_leaf=2, min_samples_split=4 ...........\n",
      "[CV]  max_depth=30, min_samples_leaf=2, min_samples_split=4, total=   0.4s\n",
      "[CV] max_depth=30, min_samples_leaf=2, min_samples_split=5 ...........\n",
      "[CV]  max_depth=30, min_samples_leaf=2, min_samples_split=5, total=   0.5s\n",
      "[CV] max_depth=30, min_samples_leaf=2, min_samples_split=5 ...........\n",
      "[CV]  max_depth=30, min_samples_leaf=2, min_samples_split=5, total=   0.5s\n",
      "[CV] max_depth=30, min_samples_leaf=3, min_samples_split=2 ...........\n",
      "[CV]  max_depth=30, min_samples_leaf=3, min_samples_split=2, total=   0.4s\n",
      "[CV] max_depth=30, min_samples_leaf=3, min_samples_split=2 ...........\n",
      "[CV]  max_depth=30, min_samples_leaf=3, min_samples_split=2, total=   0.4s\n",
      "[CV] max_depth=30, min_samples_leaf=3, min_samples_split=3 ...........\n",
      "[CV]  max_depth=30, min_samples_leaf=3, min_samples_split=3, total=   0.4s\n",
      "[CV] max_depth=30, min_samples_leaf=3, min_samples_split=3 ...........\n",
      "[CV]  max_depth=30, min_samples_leaf=3, min_samples_split=3, total=   0.4s\n",
      "[CV] max_depth=30, min_samples_leaf=3, min_samples_split=4 ...........\n",
      "[CV]  max_depth=30, min_samples_leaf=3, min_samples_split=4, total=   0.4s\n",
      "[CV] max_depth=30, min_samples_leaf=3, min_samples_split=4 ...........\n",
      "[CV]  max_depth=30, min_samples_leaf=3, min_samples_split=4, total=   0.4s\n",
      "[CV] max_depth=30, min_samples_leaf=3, min_samples_split=5 ...........\n",
      "[CV]  max_depth=30, min_samples_leaf=3, min_samples_split=5, total=   0.4s\n",
      "[CV] max_depth=30, min_samples_leaf=3, min_samples_split=5 ...........\n",
      "[CV]  max_depth=30, min_samples_leaf=3, min_samples_split=5, total=   0.4s\n",
      "[CV] max_depth=30, min_samples_leaf=4, min_samples_split=2 ...........\n",
      "[CV]  max_depth=30, min_samples_leaf=4, min_samples_split=2, total=   0.4s\n",
      "[CV] max_depth=30, min_samples_leaf=4, min_samples_split=2 ...........\n",
      "[CV]  max_depth=30, min_samples_leaf=4, min_samples_split=2, total=   0.4s\n",
      "[CV] max_depth=30, min_samples_leaf=4, min_samples_split=3 ...........\n",
      "[CV]  max_depth=30, min_samples_leaf=4, min_samples_split=3, total=   0.4s\n",
      "[CV] max_depth=30, min_samples_leaf=4, min_samples_split=3 ...........\n",
      "[CV]  max_depth=30, min_samples_leaf=4, min_samples_split=3, total=   0.4s\n",
      "[CV] max_depth=30, min_samples_leaf=4, min_samples_split=4 ...........\n",
      "[CV]  max_depth=30, min_samples_leaf=4, min_samples_split=4, total=   0.4s\n",
      "[CV] max_depth=30, min_samples_leaf=4, min_samples_split=4 ...........\n",
      "[CV]  max_depth=30, min_samples_leaf=4, min_samples_split=4, total=   0.4s\n",
      "[CV] max_depth=30, min_samples_leaf=4, min_samples_split=5 ...........\n",
      "[CV]  max_depth=30, min_samples_leaf=4, min_samples_split=5, total=   0.4s\n",
      "[CV] max_depth=30, min_samples_leaf=4, min_samples_split=5 ...........\n",
      "[CV]  max_depth=30, min_samples_leaf=4, min_samples_split=5, total=   0.4s\n",
      "[CV] max_depth=30, min_samples_leaf=5, min_samples_split=2 ...........\n",
      "[CV]  max_depth=30, min_samples_leaf=5, min_samples_split=2, total=   0.3s\n",
      "[CV] max_depth=30, min_samples_leaf=5, min_samples_split=2 ...........\n",
      "[CV]  max_depth=30, min_samples_leaf=5, min_samples_split=2, total=   0.3s\n",
      "[CV] max_depth=30, min_samples_leaf=5, min_samples_split=3 ...........\n",
      "[CV]  max_depth=30, min_samples_leaf=5, min_samples_split=3, total=   0.3s\n",
      "[CV] max_depth=30, min_samples_leaf=5, min_samples_split=3 ...........\n",
      "[CV]  max_depth=30, min_samples_leaf=5, min_samples_split=3, total=   0.3s\n",
      "[CV] max_depth=30, min_samples_leaf=5, min_samples_split=4 ...........\n",
      "[CV]  max_depth=30, min_samples_leaf=5, min_samples_split=4, total=   0.4s\n",
      "[CV] max_depth=30, min_samples_leaf=5, min_samples_split=4 ...........\n",
      "[CV]  max_depth=30, min_samples_leaf=5, min_samples_split=4, total=   0.4s\n",
      "[CV] max_depth=30, min_samples_leaf=5, min_samples_split=5 ...........\n",
      "[CV]  max_depth=30, min_samples_leaf=5, min_samples_split=5, total=   0.3s\n",
      "[CV] max_depth=30, min_samples_leaf=5, min_samples_split=5 ...........\n",
      "[CV]  max_depth=30, min_samples_leaf=5, min_samples_split=5, total=   0.3s\n",
      "[CV] max_depth=300, min_samples_leaf=2, min_samples_split=2 ..........\n",
      "[CV]  max_depth=300, min_samples_leaf=2, min_samples_split=2, total=   0.4s\n",
      "[CV] max_depth=300, min_samples_leaf=2, min_samples_split=2 ..........\n",
      "[CV]  max_depth=300, min_samples_leaf=2, min_samples_split=2, total=   0.4s\n",
      "[CV] max_depth=300, min_samples_leaf=2, min_samples_split=3 ..........\n",
      "[CV]  max_depth=300, min_samples_leaf=2, min_samples_split=3, total=   0.5s\n",
      "[CV] max_depth=300, min_samples_leaf=2, min_samples_split=3 ..........\n",
      "[CV]  max_depth=300, min_samples_leaf=2, min_samples_split=3, total=   0.5s\n",
      "[CV] max_depth=300, min_samples_leaf=2, min_samples_split=4 ..........\n",
      "[CV]  max_depth=300, min_samples_leaf=2, min_samples_split=4, total=   0.5s\n",
      "[CV] max_depth=300, min_samples_leaf=2, min_samples_split=4 ..........\n",
      "[CV]  max_depth=300, min_samples_leaf=2, min_samples_split=4, total=   0.6s\n",
      "[CV] max_depth=300, min_samples_leaf=2, min_samples_split=5 ..........\n",
      "[CV]  max_depth=300, min_samples_leaf=2, min_samples_split=5, total=   0.5s\n",
      "[CV] max_depth=300, min_samples_leaf=2, min_samples_split=5 ..........\n",
      "[CV]  max_depth=300, min_samples_leaf=2, min_samples_split=5, total=   0.4s\n",
      "[CV] max_depth=300, min_samples_leaf=3, min_samples_split=2 ..........\n",
      "[CV]  max_depth=300, min_samples_leaf=3, min_samples_split=2, total=   0.4s\n",
      "[CV] max_depth=300, min_samples_leaf=3, min_samples_split=2 ..........\n",
      "[CV]  max_depth=300, min_samples_leaf=3, min_samples_split=2, total=   0.5s\n",
      "[CV] max_depth=300, min_samples_leaf=3, min_samples_split=3 ..........\n",
      "[CV]  max_depth=300, min_samples_leaf=3, min_samples_split=3, total=   0.4s\n",
      "[CV] max_depth=300, min_samples_leaf=3, min_samples_split=3 ..........\n",
      "[CV]  max_depth=300, min_samples_leaf=3, min_samples_split=3, total=   0.4s\n",
      "[CV] max_depth=300, min_samples_leaf=3, min_samples_split=4 ..........\n",
      "[CV]  max_depth=300, min_samples_leaf=3, min_samples_split=4, total=   0.5s\n",
      "[CV] max_depth=300, min_samples_leaf=3, min_samples_split=4 ..........\n",
      "[CV]  max_depth=300, min_samples_leaf=3, min_samples_split=4, total=   0.4s\n",
      "[CV] max_depth=300, min_samples_leaf=3, min_samples_split=5 ..........\n",
      "[CV]  max_depth=300, min_samples_leaf=3, min_samples_split=5, total=   0.5s\n",
      "[CV] max_depth=300, min_samples_leaf=3, min_samples_split=5 ..........\n",
      "[CV]  max_depth=300, min_samples_leaf=3, min_samples_split=5, total=   0.5s\n",
      "[CV] max_depth=300, min_samples_leaf=4, min_samples_split=2 ..........\n",
      "[CV]  max_depth=300, min_samples_leaf=4, min_samples_split=2, total=   0.4s\n",
      "[CV] max_depth=300, min_samples_leaf=4, min_samples_split=2 ..........\n",
      "[CV]  max_depth=300, min_samples_leaf=4, min_samples_split=2, total=   0.4s\n",
      "[CV] max_depth=300, min_samples_leaf=4, min_samples_split=3 ..........\n",
      "[CV]  max_depth=300, min_samples_leaf=4, min_samples_split=3, total=   0.4s\n",
      "[CV] max_depth=300, min_samples_leaf=4, min_samples_split=3 ..........\n",
      "[CV]  max_depth=300, min_samples_leaf=4, min_samples_split=3, total=   0.4s\n",
      "[CV] max_depth=300, min_samples_leaf=4, min_samples_split=4 ..........\n",
      "[CV]  max_depth=300, min_samples_leaf=4, min_samples_split=4, total=   0.3s\n",
      "[CV] max_depth=300, min_samples_leaf=4, min_samples_split=4 ..........\n",
      "[CV]  max_depth=300, min_samples_leaf=4, min_samples_split=4, total=   0.4s\n",
      "[CV] max_depth=300, min_samples_leaf=4, min_samples_split=5 ..........\n",
      "[CV]  max_depth=300, min_samples_leaf=4, min_samples_split=5, total=   0.3s\n",
      "[CV] max_depth=300, min_samples_leaf=4, min_samples_split=5 ..........\n",
      "[CV]  max_depth=300, min_samples_leaf=4, min_samples_split=5, total=   0.4s\n",
      "[CV] max_depth=300, min_samples_leaf=5, min_samples_split=2 ..........\n",
      "[CV]  max_depth=300, min_samples_leaf=5, min_samples_split=2, total=   0.3s\n",
      "[CV] max_depth=300, min_samples_leaf=5, min_samples_split=2 ..........\n",
      "[CV]  max_depth=300, min_samples_leaf=5, min_samples_split=2, total=   0.3s\n",
      "[CV] max_depth=300, min_samples_leaf=5, min_samples_split=3 ..........\n",
      "[CV]  max_depth=300, min_samples_leaf=5, min_samples_split=3, total=   0.3s\n",
      "[CV] max_depth=300, min_samples_leaf=5, min_samples_split=3 ..........\n",
      "[CV]  max_depth=300, min_samples_leaf=5, min_samples_split=3, total=   0.3s\n",
      "[CV] max_depth=300, min_samples_leaf=5, min_samples_split=4 ..........\n",
      "[CV]  max_depth=300, min_samples_leaf=5, min_samples_split=4, total=   0.3s\n",
      "[CV] max_depth=300, min_samples_leaf=5, min_samples_split=4 ..........\n",
      "[CV]  max_depth=300, min_samples_leaf=5, min_samples_split=4, total=   0.3s\n",
      "[CV] max_depth=300, min_samples_leaf=5, min_samples_split=5 ..........\n",
      "[CV]  max_depth=300, min_samples_leaf=5, min_samples_split=5, total=   0.3s\n",
      "[CV] max_depth=300, min_samples_leaf=5, min_samples_split=5 ..........\n",
      "[CV]  max_depth=300, min_samples_leaf=5, min_samples_split=5, total=   0.3s\n",
      "[CV] max_depth=300, min_samples_leaf=2, min_samples_split=2 ..........\n",
      "[CV]  max_depth=300, min_samples_leaf=2, min_samples_split=2, total=   0.5s\n",
      "[CV] max_depth=300, min_samples_leaf=2, min_samples_split=2 ..........\n",
      "[CV]  max_depth=300, min_samples_leaf=2, min_samples_split=2, total=   0.4s\n",
      "[CV] max_depth=300, min_samples_leaf=2, min_samples_split=3 ..........\n",
      "[CV]  max_depth=300, min_samples_leaf=2, min_samples_split=3, total=   0.4s\n",
      "[CV] max_depth=300, min_samples_leaf=2, min_samples_split=3 ..........\n",
      "[CV]  max_depth=300, min_samples_leaf=2, min_samples_split=3, total=   0.5s\n",
      "[CV] max_depth=300, min_samples_leaf=2, min_samples_split=4 ..........\n",
      "[CV]  max_depth=300, min_samples_leaf=2, min_samples_split=4, total=   0.4s\n",
      "[CV] max_depth=300, min_samples_leaf=2, min_samples_split=4 ..........\n",
      "[CV]  max_depth=300, min_samples_leaf=2, min_samples_split=4, total=   0.5s\n",
      "[CV] max_depth=300, min_samples_leaf=2, min_samples_split=5 ..........\n",
      "[CV]  max_depth=300, min_samples_leaf=2, min_samples_split=5, total=   0.4s\n",
      "[CV] max_depth=300, min_samples_leaf=2, min_samples_split=5 ..........\n",
      "[CV]  max_depth=300, min_samples_leaf=2, min_samples_split=5, total=   0.5s\n",
      "[CV] max_depth=300, min_samples_leaf=3, min_samples_split=2 ..........\n",
      "[CV]  max_depth=300, min_samples_leaf=3, min_samples_split=2, total=   0.4s\n",
      "[CV] max_depth=300, min_samples_leaf=3, min_samples_split=2 ..........\n",
      "[CV]  max_depth=300, min_samples_leaf=3, min_samples_split=2, total=   0.4s\n",
      "[CV] max_depth=300, min_samples_leaf=3, min_samples_split=3 ..........\n",
      "[CV]  max_depth=300, min_samples_leaf=3, min_samples_split=3, total=   0.4s\n",
      "[CV] max_depth=300, min_samples_leaf=3, min_samples_split=3 ..........\n",
      "[CV]  max_depth=300, min_samples_leaf=3, min_samples_split=3, total=   0.4s\n",
      "[CV] max_depth=300, min_samples_leaf=3, min_samples_split=4 ..........\n",
      "[CV]  max_depth=300, min_samples_leaf=3, min_samples_split=4, total=   0.4s\n",
      "[CV] max_depth=300, min_samples_leaf=3, min_samples_split=4 ..........\n",
      "[CV]  max_depth=300, min_samples_leaf=3, min_samples_split=4, total=   0.4s\n",
      "[CV] max_depth=300, min_samples_leaf=3, min_samples_split=5 ..........\n",
      "[CV]  max_depth=300, min_samples_leaf=3, min_samples_split=5, total=   0.4s\n",
      "[CV] max_depth=300, min_samples_leaf=3, min_samples_split=5 ..........\n",
      "[CV]  max_depth=300, min_samples_leaf=3, min_samples_split=5, total=   0.4s\n",
      "[CV] max_depth=300, min_samples_leaf=4, min_samples_split=2 ..........\n",
      "[CV]  max_depth=300, min_samples_leaf=4, min_samples_split=2, total=   0.3s\n",
      "[CV] max_depth=300, min_samples_leaf=4, min_samples_split=2 ..........\n",
      "[CV]  max_depth=300, min_samples_leaf=4, min_samples_split=2, total=   0.4s\n",
      "[CV] max_depth=300, min_samples_leaf=4, min_samples_split=3 ..........\n",
      "[CV]  max_depth=300, min_samples_leaf=4, min_samples_split=3, total=   0.3s\n",
      "[CV] max_depth=300, min_samples_leaf=4, min_samples_split=3 ..........\n",
      "[CV]  max_depth=300, min_samples_leaf=4, min_samples_split=3, total=   0.3s\n",
      "[CV] max_depth=300, min_samples_leaf=4, min_samples_split=4 ..........\n",
      "[CV]  max_depth=300, min_samples_leaf=4, min_samples_split=4, total=   0.4s\n",
      "[CV] max_depth=300, min_samples_leaf=4, min_samples_split=4 ..........\n",
      "[CV]  max_depth=300, min_samples_leaf=4, min_samples_split=4, total=   0.4s\n",
      "[CV] max_depth=300, min_samples_leaf=4, min_samples_split=5 ..........\n",
      "[CV]  max_depth=300, min_samples_leaf=4, min_samples_split=5, total=   0.4s\n",
      "[CV] max_depth=300, min_samples_leaf=4, min_samples_split=5 ..........\n",
      "[CV]  max_depth=300, min_samples_leaf=4, min_samples_split=5, total=   0.4s\n",
      "[CV] max_depth=300, min_samples_leaf=5, min_samples_split=2 ..........\n",
      "[CV]  max_depth=300, min_samples_leaf=5, min_samples_split=2, total=   0.3s\n",
      "[CV] max_depth=300, min_samples_leaf=5, min_samples_split=2 ..........\n",
      "[CV]  max_depth=300, min_samples_leaf=5, min_samples_split=2, total=   0.3s\n",
      "[CV] max_depth=300, min_samples_leaf=5, min_samples_split=3 ..........\n",
      "[CV]  max_depth=300, min_samples_leaf=5, min_samples_split=3, total=   0.3s\n",
      "[CV] max_depth=300, min_samples_leaf=5, min_samples_split=3 ..........\n",
      "[CV]  max_depth=300, min_samples_leaf=5, min_samples_split=3, total=   0.3s\n",
      "[CV] max_depth=300, min_samples_leaf=5, min_samples_split=4 ..........\n",
      "[CV]  max_depth=300, min_samples_leaf=5, min_samples_split=4, total=   0.3s\n",
      "[CV] max_depth=300, min_samples_leaf=5, min_samples_split=4 ..........\n",
      "[CV]  max_depth=300, min_samples_leaf=5, min_samples_split=4, total=   0.3s\n",
      "[CV] max_depth=300, min_samples_leaf=5, min_samples_split=5 ..........\n",
      "[CV]  max_depth=300, min_samples_leaf=5, min_samples_split=5, total=   0.3s\n",
      "[CV] max_depth=300, min_samples_leaf=5, min_samples_split=5 ..........\n",
      "[CV]  max_depth=300, min_samples_leaf=5, min_samples_split=5, total=   0.3s\n",
      "[CV] max_depth=3000, min_samples_leaf=2, min_samples_split=2 .........\n",
      "[CV]  max_depth=3000, min_samples_leaf=2, min_samples_split=2, total=   0.5s\n",
      "[CV] max_depth=3000, min_samples_leaf=2, min_samples_split=2 .........\n",
      "[CV]  max_depth=3000, min_samples_leaf=2, min_samples_split=2, total=   0.4s\n",
      "[CV] max_depth=3000, min_samples_leaf=2, min_samples_split=3 .........\n",
      "[CV]  max_depth=3000, min_samples_leaf=2, min_samples_split=3, total=   0.4s\n",
      "[CV] max_depth=3000, min_samples_leaf=2, min_samples_split=3 .........\n",
      "[CV]  max_depth=3000, min_samples_leaf=2, min_samples_split=3, total=   0.5s\n",
      "[CV] max_depth=3000, min_samples_leaf=2, min_samples_split=4 .........\n",
      "[CV]  max_depth=3000, min_samples_leaf=2, min_samples_split=4, total=   0.4s\n",
      "[CV] max_depth=3000, min_samples_leaf=2, min_samples_split=4 .........\n",
      "[CV]  max_depth=3000, min_samples_leaf=2, min_samples_split=4, total=   0.4s\n",
      "[CV] max_depth=3000, min_samples_leaf=2, min_samples_split=5 .........\n",
      "[CV]  max_depth=3000, min_samples_leaf=2, min_samples_split=5, total=   0.4s\n",
      "[CV] max_depth=3000, min_samples_leaf=2, min_samples_split=5 .........\n",
      "[CV]  max_depth=3000, min_samples_leaf=2, min_samples_split=5, total=   0.4s\n",
      "[CV] max_depth=3000, min_samples_leaf=3, min_samples_split=2 .........\n",
      "[CV]  max_depth=3000, min_samples_leaf=3, min_samples_split=2, total=   0.4s\n",
      "[CV] max_depth=3000, min_samples_leaf=3, min_samples_split=2 .........\n",
      "[CV]  max_depth=3000, min_samples_leaf=3, min_samples_split=2, total=   0.5s\n",
      "[CV] max_depth=3000, min_samples_leaf=3, min_samples_split=3 .........\n",
      "[CV]  max_depth=3000, min_samples_leaf=3, min_samples_split=3, total=   0.4s\n",
      "[CV] max_depth=3000, min_samples_leaf=3, min_samples_split=3 .........\n",
      "[CV]  max_depth=3000, min_samples_leaf=3, min_samples_split=3, total=   0.4s\n",
      "[CV] max_depth=3000, min_samples_leaf=3, min_samples_split=4 .........\n",
      "[CV]  max_depth=3000, min_samples_leaf=3, min_samples_split=4, total=   0.5s\n",
      "[CV] max_depth=3000, min_samples_leaf=3, min_samples_split=4 .........\n",
      "[CV]  max_depth=3000, min_samples_leaf=3, min_samples_split=4, total=   0.4s\n",
      "[CV] max_depth=3000, min_samples_leaf=3, min_samples_split=5 .........\n",
      "[CV]  max_depth=3000, min_samples_leaf=3, min_samples_split=5, total=   0.4s\n",
      "[CV] max_depth=3000, min_samples_leaf=3, min_samples_split=5 .........\n",
      "[CV]  max_depth=3000, min_samples_leaf=3, min_samples_split=5, total=   0.4s\n",
      "[CV] max_depth=3000, min_samples_leaf=4, min_samples_split=2 .........\n",
      "[CV]  max_depth=3000, min_samples_leaf=4, min_samples_split=2, total=   0.4s\n",
      "[CV] max_depth=3000, min_samples_leaf=4, min_samples_split=2 .........\n",
      "[CV]  max_depth=3000, min_samples_leaf=4, min_samples_split=2, total=   0.4s\n",
      "[CV] max_depth=3000, min_samples_leaf=4, min_samples_split=3 .........\n",
      "[CV]  max_depth=3000, min_samples_leaf=4, min_samples_split=3, total=   0.3s\n",
      "[CV] max_depth=3000, min_samples_leaf=4, min_samples_split=3 .........\n",
      "[CV]  max_depth=3000, min_samples_leaf=4, min_samples_split=3, total=   0.3s\n",
      "[CV] max_depth=3000, min_samples_leaf=4, min_samples_split=4 .........\n",
      "[CV]  max_depth=3000, min_samples_leaf=4, min_samples_split=4, total=   0.4s\n",
      "[CV] max_depth=3000, min_samples_leaf=4, min_samples_split=4 .........\n",
      "[CV]  max_depth=3000, min_samples_leaf=4, min_samples_split=4, total=   0.4s\n",
      "[CV] max_depth=3000, min_samples_leaf=4, min_samples_split=5 .........\n",
      "[CV]  max_depth=3000, min_samples_leaf=4, min_samples_split=5, total=   0.4s\n",
      "[CV] max_depth=3000, min_samples_leaf=4, min_samples_split=5 .........\n",
      "[CV]  max_depth=3000, min_samples_leaf=4, min_samples_split=5, total=   0.4s\n",
      "[CV] max_depth=3000, min_samples_leaf=5, min_samples_split=2 .........\n",
      "[CV]  max_depth=3000, min_samples_leaf=5, min_samples_split=2, total=   0.3s\n",
      "[CV] max_depth=3000, min_samples_leaf=5, min_samples_split=2 .........\n",
      "[CV]  max_depth=3000, min_samples_leaf=5, min_samples_split=2, total=   0.3s\n",
      "[CV] max_depth=3000, min_samples_leaf=5, min_samples_split=3 .........\n",
      "[CV]  max_depth=3000, min_samples_leaf=5, min_samples_split=3, total=   0.3s\n",
      "[CV] max_depth=3000, min_samples_leaf=5, min_samples_split=3 .........\n",
      "[CV]  max_depth=3000, min_samples_leaf=5, min_samples_split=3, total=   0.3s\n",
      "[CV] max_depth=3000, min_samples_leaf=5, min_samples_split=4 .........\n",
      "[CV]  max_depth=3000, min_samples_leaf=5, min_samples_split=4, total=   0.4s\n",
      "[CV] max_depth=3000, min_samples_leaf=5, min_samples_split=4 .........\n",
      "[CV]  max_depth=3000, min_samples_leaf=5, min_samples_split=4, total=   0.4s\n",
      "[CV] max_depth=3000, min_samples_leaf=5, min_samples_split=5 .........\n",
      "[CV]  max_depth=3000, min_samples_leaf=5, min_samples_split=5, total=   0.3s\n",
      "[CV] max_depth=3000, min_samples_leaf=5, min_samples_split=5 .........\n",
      "[CV]  max_depth=3000, min_samples_leaf=5, min_samples_split=5, total=   0.4s\n"
     ]
    },
    {
     "name": "stderr",
     "output_type": "stream",
     "text": [
      "[Parallel(n_jobs=1)]: Done 160 out of 160 | elapsed:   56.9s finished\n"
     ]
    },
    {
     "name": "stdout",
     "output_type": "stream",
     "text": [
      "{'max_depth': 300, 'min_samples_leaf': 2, 'min_samples_split': 5}\n",
      "0.14779732313198365\n"
     ]
    }
   ],
   "source": [
    "param = {'max_depth':[3, 30, 300, 3000],\n",
    "        'min_samples_leaf':[2, 3, 4, 5],\n",
    "        'min_samples_split':[2, 3, 4, 5]}\n",
    "\n",
    "grid_cv = GridSearchCV(rf_regressor, param, cv=2, scoring='neg_mean_squared_error', verbose=2)\n",
    "grid_cv.fit(X_train, y_train)"
   ]
  },
  {
   "cell_type": "code",
   "execution_count": 270,
   "metadata": {},
   "outputs": [
    {
     "name": "stdout",
     "output_type": "stream",
     "text": [
      "{'max_depth': 300, 'min_samples_leaf': 2, 'min_samples_split': 5}\n",
      "0.14779732313198365\n"
     ]
    }
   ],
   "source": [
    "print( grid_cv.best_params_ )\n",
    "print( np.sqrt(-grid_cv.best_score_) )"
   ]
  },
  {
   "cell_type": "code",
   "execution_count": 276,
   "metadata": {
    "collapsed": true,
    "jupyter": {
     "outputs_hidden": true
    }
   },
   "outputs": [
    {
     "name": "stdout",
     "output_type": "stream",
     "text": [
      "Fitting 2 folds for each of 90 candidates, totalling 180 fits\n",
      "[CV] max_depth=200, min_samples_leaf=2, min_samples_split=3 ..........\n"
     ]
    },
    {
     "name": "stderr",
     "output_type": "stream",
     "text": [
      "[Parallel(n_jobs=1)]: Using backend SequentialBackend with 1 concurrent workers.\n"
     ]
    },
    {
     "name": "stdout",
     "output_type": "stream",
     "text": [
      "[CV]  max_depth=200, min_samples_leaf=2, min_samples_split=3, total=   0.5s\n",
      "[CV] max_depth=200, min_samples_leaf=2, min_samples_split=3 ..........\n"
     ]
    },
    {
     "name": "stderr",
     "output_type": "stream",
     "text": [
      "[Parallel(n_jobs=1)]: Done   1 out of   1 | elapsed:    0.4s remaining:    0.0s\n"
     ]
    },
    {
     "name": "stdout",
     "output_type": "stream",
     "text": [
      "[CV]  max_depth=200, min_samples_leaf=2, min_samples_split=3, total=   0.5s\n",
      "[CV] max_depth=200, min_samples_leaf=2, min_samples_split=4 ..........\n",
      "[CV]  max_depth=200, min_samples_leaf=2, min_samples_split=4, total=   0.4s\n",
      "[CV] max_depth=200, min_samples_leaf=2, min_samples_split=4 ..........\n",
      "[CV]  max_depth=200, min_samples_leaf=2, min_samples_split=4, total=   0.4s\n",
      "[CV] max_depth=200, min_samples_leaf=2, min_samples_split=5 ..........\n",
      "[CV]  max_depth=200, min_samples_leaf=2, min_samples_split=5, total=   0.4s\n",
      "[CV] max_depth=200, min_samples_leaf=2, min_samples_split=5 ..........\n",
      "[CV]  max_depth=200, min_samples_leaf=2, min_samples_split=5, total=   0.4s\n",
      "[CV] max_depth=200, min_samples_leaf=3, min_samples_split=3 ..........\n",
      "[CV]  max_depth=200, min_samples_leaf=3, min_samples_split=3, total=   0.4s\n",
      "[CV] max_depth=200, min_samples_leaf=3, min_samples_split=3 ..........\n",
      "[CV]  max_depth=200, min_samples_leaf=3, min_samples_split=3, total=   0.4s\n",
      "[CV] max_depth=200, min_samples_leaf=3, min_samples_split=4 ..........\n",
      "[CV]  max_depth=200, min_samples_leaf=3, min_samples_split=4, total=   0.4s\n",
      "[CV] max_depth=200, min_samples_leaf=3, min_samples_split=4 ..........\n",
      "[CV]  max_depth=200, min_samples_leaf=3, min_samples_split=4, total=   0.4s\n",
      "[CV] max_depth=200, min_samples_leaf=3, min_samples_split=5 ..........\n",
      "[CV]  max_depth=200, min_samples_leaf=3, min_samples_split=5, total=   0.4s\n",
      "[CV] max_depth=200, min_samples_leaf=3, min_samples_split=5 ..........\n",
      "[CV]  max_depth=200, min_samples_leaf=3, min_samples_split=5, total=   0.4s\n",
      "[CV] max_depth=200, min_samples_leaf=4, min_samples_split=3 ..........\n",
      "[CV]  max_depth=200, min_samples_leaf=4, min_samples_split=3, total=   0.4s\n",
      "[CV] max_depth=200, min_samples_leaf=4, min_samples_split=3 ..........\n",
      "[CV]  max_depth=200, min_samples_leaf=4, min_samples_split=3, total=   0.4s\n",
      "[CV] max_depth=200, min_samples_leaf=4, min_samples_split=4 ..........\n",
      "[CV]  max_depth=200, min_samples_leaf=4, min_samples_split=4, total=   0.3s\n",
      "[CV] max_depth=200, min_samples_leaf=4, min_samples_split=4 ..........\n",
      "[CV]  max_depth=200, min_samples_leaf=4, min_samples_split=4, total=   0.4s\n",
      "[CV] max_depth=200, min_samples_leaf=4, min_samples_split=5 ..........\n",
      "[CV]  max_depth=200, min_samples_leaf=4, min_samples_split=5, total=   0.3s\n",
      "[CV] max_depth=200, min_samples_leaf=4, min_samples_split=5 ..........\n",
      "[CV]  max_depth=200, min_samples_leaf=4, min_samples_split=5, total=   0.4s\n",
      "[CV] max_depth=220, min_samples_leaf=2, min_samples_split=3 ..........\n",
      "[CV]  max_depth=220, min_samples_leaf=2, min_samples_split=3, total=   0.4s\n",
      "[CV] max_depth=220, min_samples_leaf=2, min_samples_split=3 ..........\n",
      "[CV]  max_depth=220, min_samples_leaf=2, min_samples_split=3, total=   0.4s\n",
      "[CV] max_depth=220, min_samples_leaf=2, min_samples_split=4 ..........\n",
      "[CV]  max_depth=220, min_samples_leaf=2, min_samples_split=4, total=   0.4s\n",
      "[CV] max_depth=220, min_samples_leaf=2, min_samples_split=4 ..........\n",
      "[CV]  max_depth=220, min_samples_leaf=2, min_samples_split=4, total=   0.4s\n",
      "[CV] max_depth=220, min_samples_leaf=2, min_samples_split=5 ..........\n",
      "[CV]  max_depth=220, min_samples_leaf=2, min_samples_split=5, total=   0.4s\n",
      "[CV] max_depth=220, min_samples_leaf=2, min_samples_split=5 ..........\n",
      "[CV]  max_depth=220, min_samples_leaf=2, min_samples_split=5, total=   0.4s\n",
      "[CV] max_depth=220, min_samples_leaf=3, min_samples_split=3 ..........\n",
      "[CV]  max_depth=220, min_samples_leaf=3, min_samples_split=3, total=   0.4s\n",
      "[CV] max_depth=220, min_samples_leaf=3, min_samples_split=3 ..........\n",
      "[CV]  max_depth=220, min_samples_leaf=3, min_samples_split=3, total=   0.4s\n",
      "[CV] max_depth=220, min_samples_leaf=3, min_samples_split=4 ..........\n",
      "[CV]  max_depth=220, min_samples_leaf=3, min_samples_split=4, total=   0.5s\n",
      "[CV] max_depth=220, min_samples_leaf=3, min_samples_split=4 ..........\n",
      "[CV]  max_depth=220, min_samples_leaf=3, min_samples_split=4, total=   0.4s\n",
      "[CV] max_depth=220, min_samples_leaf=3, min_samples_split=5 ..........\n",
      "[CV]  max_depth=220, min_samples_leaf=3, min_samples_split=5, total=   0.4s\n",
      "[CV] max_depth=220, min_samples_leaf=3, min_samples_split=5 ..........\n",
      "[CV]  max_depth=220, min_samples_leaf=3, min_samples_split=5, total=   0.5s\n",
      "[CV] max_depth=220, min_samples_leaf=4, min_samples_split=3 ..........\n",
      "[CV]  max_depth=220, min_samples_leaf=4, min_samples_split=3, total=   0.4s\n",
      "[CV] max_depth=220, min_samples_leaf=4, min_samples_split=3 ..........\n",
      "[CV]  max_depth=220, min_samples_leaf=4, min_samples_split=3, total=   0.4s\n",
      "[CV] max_depth=220, min_samples_leaf=4, min_samples_split=4 ..........\n",
      "[CV]  max_depth=220, min_samples_leaf=4, min_samples_split=4, total=   0.3s\n",
      "[CV] max_depth=220, min_samples_leaf=4, min_samples_split=4 ..........\n",
      "[CV]  max_depth=220, min_samples_leaf=4, min_samples_split=4, total=   0.4s\n",
      "[CV] max_depth=220, min_samples_leaf=4, min_samples_split=5 ..........\n",
      "[CV]  max_depth=220, min_samples_leaf=4, min_samples_split=5, total=   0.3s\n",
      "[CV] max_depth=220, min_samples_leaf=4, min_samples_split=5 ..........\n",
      "[CV]  max_depth=220, min_samples_leaf=4, min_samples_split=5, total=   0.3s\n",
      "[CV] max_depth=240, min_samples_leaf=2, min_samples_split=3 ..........\n",
      "[CV]  max_depth=240, min_samples_leaf=2, min_samples_split=3, total=   0.4s\n",
      "[CV] max_depth=240, min_samples_leaf=2, min_samples_split=3 ..........\n",
      "[CV]  max_depth=240, min_samples_leaf=2, min_samples_split=3, total=   0.5s\n",
      "[CV] max_depth=240, min_samples_leaf=2, min_samples_split=4 ..........\n",
      "[CV]  max_depth=240, min_samples_leaf=2, min_samples_split=4, total=   0.5s\n",
      "[CV] max_depth=240, min_samples_leaf=2, min_samples_split=4 ..........\n",
      "[CV]  max_depth=240, min_samples_leaf=2, min_samples_split=4, total=   0.5s\n",
      "[CV] max_depth=240, min_samples_leaf=2, min_samples_split=5 ..........\n",
      "[CV]  max_depth=240, min_samples_leaf=2, min_samples_split=5, total=   0.4s\n",
      "[CV] max_depth=240, min_samples_leaf=2, min_samples_split=5 ..........\n",
      "[CV]  max_depth=240, min_samples_leaf=2, min_samples_split=5, total=   0.5s\n",
      "[CV] max_depth=240, min_samples_leaf=3, min_samples_split=3 ..........\n",
      "[CV]  max_depth=240, min_samples_leaf=3, min_samples_split=3, total=   0.4s\n",
      "[CV] max_depth=240, min_samples_leaf=3, min_samples_split=3 ..........\n",
      "[CV]  max_depth=240, min_samples_leaf=3, min_samples_split=3, total=   0.4s\n",
      "[CV] max_depth=240, min_samples_leaf=3, min_samples_split=4 ..........\n",
      "[CV]  max_depth=240, min_samples_leaf=3, min_samples_split=4, total=   0.4s\n",
      "[CV] max_depth=240, min_samples_leaf=3, min_samples_split=4 ..........\n",
      "[CV]  max_depth=240, min_samples_leaf=3, min_samples_split=4, total=   0.4s\n",
      "[CV] max_depth=240, min_samples_leaf=3, min_samples_split=5 ..........\n",
      "[CV]  max_depth=240, min_samples_leaf=3, min_samples_split=5, total=   0.4s\n",
      "[CV] max_depth=240, min_samples_leaf=3, min_samples_split=5 ..........\n",
      "[CV]  max_depth=240, min_samples_leaf=3, min_samples_split=5, total=   0.4s\n",
      "[CV] max_depth=240, min_samples_leaf=4, min_samples_split=3 ..........\n",
      "[CV]  max_depth=240, min_samples_leaf=4, min_samples_split=3, total=   0.4s\n",
      "[CV] max_depth=240, min_samples_leaf=4, min_samples_split=3 ..........\n",
      "[CV]  max_depth=240, min_samples_leaf=4, min_samples_split=3, total=   0.4s\n",
      "[CV] max_depth=240, min_samples_leaf=4, min_samples_split=4 ..........\n",
      "[CV]  max_depth=240, min_samples_leaf=4, min_samples_split=4, total=   0.4s\n",
      "[CV] max_depth=240, min_samples_leaf=4, min_samples_split=4 ..........\n",
      "[CV]  max_depth=240, min_samples_leaf=4, min_samples_split=4, total=   0.4s\n",
      "[CV] max_depth=240, min_samples_leaf=4, min_samples_split=5 ..........\n",
      "[CV]  max_depth=240, min_samples_leaf=4, min_samples_split=5, total=   0.4s\n",
      "[CV] max_depth=240, min_samples_leaf=4, min_samples_split=5 ..........\n",
      "[CV]  max_depth=240, min_samples_leaf=4, min_samples_split=5, total=   0.4s\n",
      "[CV] max_depth=260, min_samples_leaf=2, min_samples_split=3 ..........\n",
      "[CV]  max_depth=260, min_samples_leaf=2, min_samples_split=3, total=   0.4s\n",
      "[CV] max_depth=260, min_samples_leaf=2, min_samples_split=3 ..........\n",
      "[CV]  max_depth=260, min_samples_leaf=2, min_samples_split=3, total=   0.4s\n",
      "[CV] max_depth=260, min_samples_leaf=2, min_samples_split=4 ..........\n",
      "[CV]  max_depth=260, min_samples_leaf=2, min_samples_split=4, total=   0.4s\n",
      "[CV] max_depth=260, min_samples_leaf=2, min_samples_split=4 ..........\n",
      "[CV]  max_depth=260, min_samples_leaf=2, min_samples_split=4, total=   0.4s\n",
      "[CV] max_depth=260, min_samples_leaf=2, min_samples_split=5 ..........\n",
      "[CV]  max_depth=260, min_samples_leaf=2, min_samples_split=5, total=   0.5s\n",
      "[CV] max_depth=260, min_samples_leaf=2, min_samples_split=5 ..........\n",
      "[CV]  max_depth=260, min_samples_leaf=2, min_samples_split=5, total=   0.4s\n",
      "[CV] max_depth=260, min_samples_leaf=3, min_samples_split=3 ..........\n",
      "[CV]  max_depth=260, min_samples_leaf=3, min_samples_split=3, total=   0.4s\n",
      "[CV] max_depth=260, min_samples_leaf=3, min_samples_split=3 ..........\n",
      "[CV]  max_depth=260, min_samples_leaf=3, min_samples_split=3, total=   0.4s\n",
      "[CV] max_depth=260, min_samples_leaf=3, min_samples_split=4 ..........\n",
      "[CV]  max_depth=260, min_samples_leaf=3, min_samples_split=4, total=   0.4s\n",
      "[CV] max_depth=260, min_samples_leaf=3, min_samples_split=4 ..........\n",
      "[CV]  max_depth=260, min_samples_leaf=3, min_samples_split=4, total=   0.4s\n",
      "[CV] max_depth=260, min_samples_leaf=3, min_samples_split=5 ..........\n",
      "[CV]  max_depth=260, min_samples_leaf=3, min_samples_split=5, total=   0.4s\n",
      "[CV] max_depth=260, min_samples_leaf=3, min_samples_split=5 ..........\n",
      "[CV]  max_depth=260, min_samples_leaf=3, min_samples_split=5, total=   0.4s\n",
      "[CV] max_depth=260, min_samples_leaf=4, min_samples_split=3 ..........\n",
      "[CV]  max_depth=260, min_samples_leaf=4, min_samples_split=3, total=   0.4s\n",
      "[CV] max_depth=260, min_samples_leaf=4, min_samples_split=3 ..........\n",
      "[CV]  max_depth=260, min_samples_leaf=4, min_samples_split=3, total=   0.4s\n",
      "[CV] max_depth=260, min_samples_leaf=4, min_samples_split=4 ..........\n",
      "[CV]  max_depth=260, min_samples_leaf=4, min_samples_split=4, total=   0.3s\n",
      "[CV] max_depth=260, min_samples_leaf=4, min_samples_split=4 ..........\n",
      "[CV]  max_depth=260, min_samples_leaf=4, min_samples_split=4, total=   0.4s\n",
      "[CV] max_depth=260, min_samples_leaf=4, min_samples_split=5 ..........\n",
      "[CV]  max_depth=260, min_samples_leaf=4, min_samples_split=5, total=   0.3s\n",
      "[CV] max_depth=260, min_samples_leaf=4, min_samples_split=5 ..........\n",
      "[CV]  max_depth=260, min_samples_leaf=4, min_samples_split=5, total=   0.4s\n",
      "[CV] max_depth=280, min_samples_leaf=2, min_samples_split=3 ..........\n",
      "[CV]  max_depth=280, min_samples_leaf=2, min_samples_split=3, total=   0.4s\n",
      "[CV] max_depth=280, min_samples_leaf=2, min_samples_split=3 ..........\n",
      "[CV]  max_depth=280, min_samples_leaf=2, min_samples_split=3, total=   0.5s\n",
      "[CV] max_depth=280, min_samples_leaf=2, min_samples_split=4 ..........\n",
      "[CV]  max_depth=280, min_samples_leaf=2, min_samples_split=4, total=   0.4s\n",
      "[CV] max_depth=280, min_samples_leaf=2, min_samples_split=4 ..........\n",
      "[CV]  max_depth=280, min_samples_leaf=2, min_samples_split=4, total=   0.4s\n",
      "[CV] max_depth=280, min_samples_leaf=2, min_samples_split=5 ..........\n",
      "[CV]  max_depth=280, min_samples_leaf=2, min_samples_split=5, total=   0.4s\n",
      "[CV] max_depth=280, min_samples_leaf=2, min_samples_split=5 ..........\n",
      "[CV]  max_depth=280, min_samples_leaf=2, min_samples_split=5, total=   0.4s\n",
      "[CV] max_depth=280, min_samples_leaf=3, min_samples_split=3 ..........\n",
      "[CV]  max_depth=280, min_samples_leaf=3, min_samples_split=3, total=   0.4s\n",
      "[CV] max_depth=280, min_samples_leaf=3, min_samples_split=3 ..........\n",
      "[CV]  max_depth=280, min_samples_leaf=3, min_samples_split=3, total=   0.4s\n",
      "[CV] max_depth=280, min_samples_leaf=3, min_samples_split=4 ..........\n",
      "[CV]  max_depth=280, min_samples_leaf=3, min_samples_split=4, total=   0.4s\n",
      "[CV] max_depth=280, min_samples_leaf=3, min_samples_split=4 ..........\n",
      "[CV]  max_depth=280, min_samples_leaf=3, min_samples_split=4, total=   0.4s\n",
      "[CV] max_depth=280, min_samples_leaf=3, min_samples_split=5 ..........\n",
      "[CV]  max_depth=280, min_samples_leaf=3, min_samples_split=5, total=   0.4s\n",
      "[CV] max_depth=280, min_samples_leaf=3, min_samples_split=5 ..........\n",
      "[CV]  max_depth=280, min_samples_leaf=3, min_samples_split=5, total=   0.4s\n",
      "[CV] max_depth=280, min_samples_leaf=4, min_samples_split=3 ..........\n",
      "[CV]  max_depth=280, min_samples_leaf=4, min_samples_split=3, total=   0.3s\n",
      "[CV] max_depth=280, min_samples_leaf=4, min_samples_split=3 ..........\n",
      "[CV]  max_depth=280, min_samples_leaf=4, min_samples_split=3, total=   0.4s\n",
      "[CV] max_depth=280, min_samples_leaf=4, min_samples_split=4 ..........\n",
      "[CV]  max_depth=280, min_samples_leaf=4, min_samples_split=4, total=   0.3s\n",
      "[CV] max_depth=280, min_samples_leaf=4, min_samples_split=4 ..........\n",
      "[CV]  max_depth=280, min_samples_leaf=4, min_samples_split=4, total=   0.4s\n",
      "[CV] max_depth=280, min_samples_leaf=4, min_samples_split=5 ..........\n",
      "[CV]  max_depth=280, min_samples_leaf=4, min_samples_split=5, total=   0.3s\n",
      "[CV] max_depth=280, min_samples_leaf=4, min_samples_split=5 ..........\n",
      "[CV]  max_depth=280, min_samples_leaf=4, min_samples_split=5, total=   0.4s\n",
      "[CV] max_depth=300, min_samples_leaf=2, min_samples_split=3 ..........\n",
      "[CV]  max_depth=300, min_samples_leaf=2, min_samples_split=3, total=   0.4s\n",
      "[CV] max_depth=300, min_samples_leaf=2, min_samples_split=3 ..........\n",
      "[CV]  max_depth=300, min_samples_leaf=2, min_samples_split=3, total=   0.4s\n",
      "[CV] max_depth=300, min_samples_leaf=2, min_samples_split=4 ..........\n",
      "[CV]  max_depth=300, min_samples_leaf=2, min_samples_split=4, total=   0.4s\n",
      "[CV] max_depth=300, min_samples_leaf=2, min_samples_split=4 ..........\n",
      "[CV]  max_depth=300, min_samples_leaf=2, min_samples_split=4, total=   0.5s\n",
      "[CV] max_depth=300, min_samples_leaf=2, min_samples_split=5 ..........\n",
      "[CV]  max_depth=300, min_samples_leaf=2, min_samples_split=5, total=   0.4s\n",
      "[CV] max_depth=300, min_samples_leaf=2, min_samples_split=5 ..........\n",
      "[CV]  max_depth=300, min_samples_leaf=2, min_samples_split=5, total=   0.4s\n",
      "[CV] max_depth=300, min_samples_leaf=3, min_samples_split=3 ..........\n",
      "[CV]  max_depth=300, min_samples_leaf=3, min_samples_split=3, total=   0.4s\n",
      "[CV] max_depth=300, min_samples_leaf=3, min_samples_split=3 ..........\n",
      "[CV]  max_depth=300, min_samples_leaf=3, min_samples_split=3, total=   0.4s\n",
      "[CV] max_depth=300, min_samples_leaf=3, min_samples_split=4 ..........\n",
      "[CV]  max_depth=300, min_samples_leaf=3, min_samples_split=4, total=   0.4s\n",
      "[CV] max_depth=300, min_samples_leaf=3, min_samples_split=4 ..........\n",
      "[CV]  max_depth=300, min_samples_leaf=3, min_samples_split=4, total=   0.4s\n",
      "[CV] max_depth=300, min_samples_leaf=3, min_samples_split=5 ..........\n",
      "[CV]  max_depth=300, min_samples_leaf=3, min_samples_split=5, total=   0.4s\n",
      "[CV] max_depth=300, min_samples_leaf=3, min_samples_split=5 ..........\n",
      "[CV]  max_depth=300, min_samples_leaf=3, min_samples_split=5, total=   0.4s\n",
      "[CV] max_depth=300, min_samples_leaf=4, min_samples_split=3 ..........\n",
      "[CV]  max_depth=300, min_samples_leaf=4, min_samples_split=3, total=   0.3s\n",
      "[CV] max_depth=300, min_samples_leaf=4, min_samples_split=3 ..........\n",
      "[CV]  max_depth=300, min_samples_leaf=4, min_samples_split=3, total=   0.4s\n",
      "[CV] max_depth=300, min_samples_leaf=4, min_samples_split=4 ..........\n",
      "[CV]  max_depth=300, min_samples_leaf=4, min_samples_split=4, total=   0.3s\n",
      "[CV] max_depth=300, min_samples_leaf=4, min_samples_split=4 ..........\n",
      "[CV]  max_depth=300, min_samples_leaf=4, min_samples_split=4, total=   0.4s\n",
      "[CV] max_depth=300, min_samples_leaf=4, min_samples_split=5 ..........\n",
      "[CV]  max_depth=300, min_samples_leaf=4, min_samples_split=5, total=   0.5s\n",
      "[CV] max_depth=300, min_samples_leaf=4, min_samples_split=5 ..........\n",
      "[CV]  max_depth=300, min_samples_leaf=4, min_samples_split=5, total=   0.5s\n",
      "[CV] max_depth=320, min_samples_leaf=2, min_samples_split=3 ..........\n",
      "[CV]  max_depth=320, min_samples_leaf=2, min_samples_split=3, total=   0.6s\n",
      "[CV] max_depth=320, min_samples_leaf=2, min_samples_split=3 ..........\n",
      "[CV]  max_depth=320, min_samples_leaf=2, min_samples_split=3, total=   0.5s\n",
      "[CV] max_depth=320, min_samples_leaf=2, min_samples_split=4 ..........\n",
      "[CV]  max_depth=320, min_samples_leaf=2, min_samples_split=4, total=   0.6s\n",
      "[CV] max_depth=320, min_samples_leaf=2, min_samples_split=4 ..........\n",
      "[CV]  max_depth=320, min_samples_leaf=2, min_samples_split=4, total=   0.5s\n",
      "[CV] max_depth=320, min_samples_leaf=2, min_samples_split=5 ..........\n",
      "[CV]  max_depth=320, min_samples_leaf=2, min_samples_split=5, total=   0.5s\n",
      "[CV] max_depth=320, min_samples_leaf=2, min_samples_split=5 ..........\n",
      "[CV]  max_depth=320, min_samples_leaf=2, min_samples_split=5, total=   0.5s\n",
      "[CV] max_depth=320, min_samples_leaf=3, min_samples_split=3 ..........\n",
      "[CV]  max_depth=320, min_samples_leaf=3, min_samples_split=3, total=   0.5s\n",
      "[CV] max_depth=320, min_samples_leaf=3, min_samples_split=3 ..........\n",
      "[CV]  max_depth=320, min_samples_leaf=3, min_samples_split=3, total=   0.4s\n",
      "[CV] max_depth=320, min_samples_leaf=3, min_samples_split=4 ..........\n",
      "[CV]  max_depth=320, min_samples_leaf=3, min_samples_split=4, total=   0.4s\n",
      "[CV] max_depth=320, min_samples_leaf=3, min_samples_split=4 ..........\n",
      "[CV]  max_depth=320, min_samples_leaf=3, min_samples_split=4, total=   0.4s\n",
      "[CV] max_depth=320, min_samples_leaf=3, min_samples_split=5 ..........\n",
      "[CV]  max_depth=320, min_samples_leaf=3, min_samples_split=5, total=   0.4s\n",
      "[CV] max_depth=320, min_samples_leaf=3, min_samples_split=5 ..........\n",
      "[CV]  max_depth=320, min_samples_leaf=3, min_samples_split=5, total=   0.4s\n",
      "[CV] max_depth=320, min_samples_leaf=4, min_samples_split=3 ..........\n",
      "[CV]  max_depth=320, min_samples_leaf=4, min_samples_split=3, total=   0.3s\n",
      "[CV] max_depth=320, min_samples_leaf=4, min_samples_split=3 ..........\n",
      "[CV]  max_depth=320, min_samples_leaf=4, min_samples_split=3, total=   0.3s\n",
      "[CV] max_depth=320, min_samples_leaf=4, min_samples_split=4 ..........\n",
      "[CV]  max_depth=320, min_samples_leaf=4, min_samples_split=4, total=   0.4s\n",
      "[CV] max_depth=320, min_samples_leaf=4, min_samples_split=4 ..........\n",
      "[CV]  max_depth=320, min_samples_leaf=4, min_samples_split=4, total=   0.4s\n",
      "[CV] max_depth=320, min_samples_leaf=4, min_samples_split=5 ..........\n",
      "[CV]  max_depth=320, min_samples_leaf=4, min_samples_split=5, total=   0.4s\n",
      "[CV] max_depth=320, min_samples_leaf=4, min_samples_split=5 ..........\n",
      "[CV]  max_depth=320, min_samples_leaf=4, min_samples_split=5, total=   0.3s\n",
      "[CV] max_depth=340, min_samples_leaf=2, min_samples_split=3 ..........\n",
      "[CV]  max_depth=340, min_samples_leaf=2, min_samples_split=3, total=   0.4s\n",
      "[CV] max_depth=340, min_samples_leaf=2, min_samples_split=3 ..........\n",
      "[CV]  max_depth=340, min_samples_leaf=2, min_samples_split=3, total=   0.5s\n",
      "[CV] max_depth=340, min_samples_leaf=2, min_samples_split=4 ..........\n",
      "[CV]  max_depth=340, min_samples_leaf=2, min_samples_split=4, total=   0.5s\n",
      "[CV] max_depth=340, min_samples_leaf=2, min_samples_split=4 ..........\n",
      "[CV]  max_depth=340, min_samples_leaf=2, min_samples_split=4, total=   0.5s\n",
      "[CV] max_depth=340, min_samples_leaf=2, min_samples_split=5 ..........\n",
      "[CV]  max_depth=340, min_samples_leaf=2, min_samples_split=5, total=   0.6s\n",
      "[CV] max_depth=340, min_samples_leaf=2, min_samples_split=5 ..........\n",
      "[CV]  max_depth=340, min_samples_leaf=2, min_samples_split=5, total=   0.6s\n",
      "[CV] max_depth=340, min_samples_leaf=3, min_samples_split=3 ..........\n",
      "[CV]  max_depth=340, min_samples_leaf=3, min_samples_split=3, total=   0.4s\n",
      "[CV] max_depth=340, min_samples_leaf=3, min_samples_split=3 ..........\n",
      "[CV]  max_depth=340, min_samples_leaf=3, min_samples_split=3, total=   0.4s\n",
      "[CV] max_depth=340, min_samples_leaf=3, min_samples_split=4 ..........\n",
      "[CV]  max_depth=340, min_samples_leaf=3, min_samples_split=4, total=   0.5s\n",
      "[CV] max_depth=340, min_samples_leaf=3, min_samples_split=4 ..........\n",
      "[CV]  max_depth=340, min_samples_leaf=3, min_samples_split=4, total=   0.5s\n",
      "[CV] max_depth=340, min_samples_leaf=3, min_samples_split=5 ..........\n",
      "[CV]  max_depth=340, min_samples_leaf=3, min_samples_split=5, total=   0.4s\n",
      "[CV] max_depth=340, min_samples_leaf=3, min_samples_split=5 ..........\n",
      "[CV]  max_depth=340, min_samples_leaf=3, min_samples_split=5, total=   0.5s\n",
      "[CV] max_depth=340, min_samples_leaf=4, min_samples_split=3 ..........\n",
      "[CV]  max_depth=340, min_samples_leaf=4, min_samples_split=3, total=   0.4s\n",
      "[CV] max_depth=340, min_samples_leaf=4, min_samples_split=3 ..........\n",
      "[CV]  max_depth=340, min_samples_leaf=4, min_samples_split=3, total=   0.4s\n",
      "[CV] max_depth=340, min_samples_leaf=4, min_samples_split=4 ..........\n",
      "[CV]  max_depth=340, min_samples_leaf=4, min_samples_split=4, total=   0.4s\n",
      "[CV] max_depth=340, min_samples_leaf=4, min_samples_split=4 ..........\n",
      "[CV]  max_depth=340, min_samples_leaf=4, min_samples_split=4, total=   0.4s\n",
      "[CV] max_depth=340, min_samples_leaf=4, min_samples_split=5 ..........\n",
      "[CV]  max_depth=340, min_samples_leaf=4, min_samples_split=5, total=   0.4s\n",
      "[CV] max_depth=340, min_samples_leaf=4, min_samples_split=5 ..........\n",
      "[CV]  max_depth=340, min_samples_leaf=4, min_samples_split=5, total=   0.5s\n",
      "[CV] max_depth=360, min_samples_leaf=2, min_samples_split=3 ..........\n",
      "[CV]  max_depth=360, min_samples_leaf=2, min_samples_split=3, total=   0.5s\n",
      "[CV] max_depth=360, min_samples_leaf=2, min_samples_split=3 ..........\n",
      "[CV]  max_depth=360, min_samples_leaf=2, min_samples_split=3, total=   0.5s\n",
      "[CV] max_depth=360, min_samples_leaf=2, min_samples_split=4 ..........\n",
      "[CV]  max_depth=360, min_samples_leaf=2, min_samples_split=4, total=   0.4s\n",
      "[CV] max_depth=360, min_samples_leaf=2, min_samples_split=4 ..........\n",
      "[CV]  max_depth=360, min_samples_leaf=2, min_samples_split=4, total=   0.6s\n",
      "[CV] max_depth=360, min_samples_leaf=2, min_samples_split=5 ..........\n",
      "[CV]  max_depth=360, min_samples_leaf=2, min_samples_split=5, total=   0.5s\n",
      "[CV] max_depth=360, min_samples_leaf=2, min_samples_split=5 ..........\n",
      "[CV]  max_depth=360, min_samples_leaf=2, min_samples_split=5, total=   0.5s\n",
      "[CV] max_depth=360, min_samples_leaf=3, min_samples_split=3 ..........\n",
      "[CV]  max_depth=360, min_samples_leaf=3, min_samples_split=3, total=   0.5s\n",
      "[CV] max_depth=360, min_samples_leaf=3, min_samples_split=3 ..........\n",
      "[CV]  max_depth=360, min_samples_leaf=3, min_samples_split=3, total=   0.5s\n",
      "[CV] max_depth=360, min_samples_leaf=3, min_samples_split=4 ..........\n",
      "[CV]  max_depth=360, min_samples_leaf=3, min_samples_split=4, total=   0.4s\n",
      "[CV] max_depth=360, min_samples_leaf=3, min_samples_split=4 ..........\n",
      "[CV]  max_depth=360, min_samples_leaf=3, min_samples_split=4, total=   0.5s\n",
      "[CV] max_depth=360, min_samples_leaf=3, min_samples_split=5 ..........\n",
      "[CV]  max_depth=360, min_samples_leaf=3, min_samples_split=5, total=   0.5s\n",
      "[CV] max_depth=360, min_samples_leaf=3, min_samples_split=5 ..........\n",
      "[CV]  max_depth=360, min_samples_leaf=3, min_samples_split=5, total=   0.4s\n",
      "[CV] max_depth=360, min_samples_leaf=4, min_samples_split=3 ..........\n",
      "[CV]  max_depth=360, min_samples_leaf=4, min_samples_split=3, total=   0.5s\n",
      "[CV] max_depth=360, min_samples_leaf=4, min_samples_split=3 ..........\n",
      "[CV]  max_depth=360, min_samples_leaf=4, min_samples_split=3, total=   0.4s\n",
      "[CV] max_depth=360, min_samples_leaf=4, min_samples_split=4 ..........\n",
      "[CV]  max_depth=360, min_samples_leaf=4, min_samples_split=4, total=   0.4s\n",
      "[CV] max_depth=360, min_samples_leaf=4, min_samples_split=4 ..........\n",
      "[CV]  max_depth=360, min_samples_leaf=4, min_samples_split=4, total=   0.5s\n",
      "[CV] max_depth=360, min_samples_leaf=4, min_samples_split=5 ..........\n",
      "[CV]  max_depth=360, min_samples_leaf=4, min_samples_split=5, total=   0.6s\n",
      "[CV] max_depth=360, min_samples_leaf=4, min_samples_split=5 ..........\n",
      "[CV]  max_depth=360, min_samples_leaf=4, min_samples_split=5, total=   0.6s\n",
      "[CV] max_depth=380, min_samples_leaf=2, min_samples_split=3 ..........\n",
      "[CV]  max_depth=380, min_samples_leaf=2, min_samples_split=3, total=   0.6s\n",
      "[CV] max_depth=380, min_samples_leaf=2, min_samples_split=3 ..........\n",
      "[CV]  max_depth=380, min_samples_leaf=2, min_samples_split=3, total=   0.6s\n",
      "[CV] max_depth=380, min_samples_leaf=2, min_samples_split=4 ..........\n",
      "[CV]  max_depth=380, min_samples_leaf=2, min_samples_split=4, total=   0.6s\n",
      "[CV] max_depth=380, min_samples_leaf=2, min_samples_split=4 ..........\n",
      "[CV]  max_depth=380, min_samples_leaf=2, min_samples_split=4, total=   0.6s\n",
      "[CV] max_depth=380, min_samples_leaf=2, min_samples_split=5 ..........\n",
      "[CV]  max_depth=380, min_samples_leaf=2, min_samples_split=5, total=   0.5s\n",
      "[CV] max_depth=380, min_samples_leaf=2, min_samples_split=5 ..........\n",
      "[CV]  max_depth=380, min_samples_leaf=2, min_samples_split=5, total=   0.5s\n",
      "[CV] max_depth=380, min_samples_leaf=3, min_samples_split=3 ..........\n",
      "[CV]  max_depth=380, min_samples_leaf=3, min_samples_split=3, total=   0.4s\n",
      "[CV] max_depth=380, min_samples_leaf=3, min_samples_split=3 ..........\n",
      "[CV]  max_depth=380, min_samples_leaf=3, min_samples_split=3, total=   0.5s\n",
      "[CV] max_depth=380, min_samples_leaf=3, min_samples_split=4 ..........\n",
      "[CV]  max_depth=380, min_samples_leaf=3, min_samples_split=4, total=   0.4s\n",
      "[CV] max_depth=380, min_samples_leaf=3, min_samples_split=4 ..........\n",
      "[CV]  max_depth=380, min_samples_leaf=3, min_samples_split=4, total=   0.5s\n",
      "[CV] max_depth=380, min_samples_leaf=3, min_samples_split=5 ..........\n",
      "[CV]  max_depth=380, min_samples_leaf=3, min_samples_split=5, total=   0.4s\n",
      "[CV] max_depth=380, min_samples_leaf=3, min_samples_split=5 ..........\n",
      "[CV]  max_depth=380, min_samples_leaf=3, min_samples_split=5, total=   0.5s\n",
      "[CV] max_depth=380, min_samples_leaf=4, min_samples_split=3 ..........\n",
      "[CV]  max_depth=380, min_samples_leaf=4, min_samples_split=3, total=   0.3s\n",
      "[CV] max_depth=380, min_samples_leaf=4, min_samples_split=3 ..........\n",
      "[CV]  max_depth=380, min_samples_leaf=4, min_samples_split=3, total=   0.4s\n",
      "[CV] max_depth=380, min_samples_leaf=4, min_samples_split=4 ..........\n",
      "[CV]  max_depth=380, min_samples_leaf=4, min_samples_split=4, total=   0.4s\n",
      "[CV] max_depth=380, min_samples_leaf=4, min_samples_split=4 ..........\n",
      "[CV]  max_depth=380, min_samples_leaf=4, min_samples_split=4, total=   0.4s\n",
      "[CV] max_depth=380, min_samples_leaf=4, min_samples_split=5 ..........\n",
      "[CV]  max_depth=380, min_samples_leaf=4, min_samples_split=5, total=   0.4s\n",
      "[CV] max_depth=380, min_samples_leaf=4, min_samples_split=5 ..........\n",
      "[CV]  max_depth=380, min_samples_leaf=4, min_samples_split=5, total=   0.4s\n"
     ]
    },
    {
     "name": "stderr",
     "output_type": "stream",
     "text": [
      "[Parallel(n_jobs=1)]: Done 180 out of 180 | elapsed:  1.3min finished\n"
     ]
    },
    {
     "data": {
      "text/plain": [
       "GridSearchCV(cv=2, error_score=nan,\n",
       "             estimator=RandomForestRegressor(bootstrap=True, ccp_alpha=0.0,\n",
       "                                             criterion='mse', max_depth=None,\n",
       "                                             max_features='auto',\n",
       "                                             max_leaf_nodes=None,\n",
       "                                             max_samples=None,\n",
       "                                             min_impurity_decrease=0.0,\n",
       "                                             min_impurity_split=None,\n",
       "                                             min_samples_leaf=1,\n",
       "                                             min_samples_split=2,\n",
       "                                             min_weight_fraction_leaf=0.0,\n",
       "                                             n_estimators=100, n_jobs=None,\n",
       "                                             oob_score=False, random_state=None,\n",
       "                                             verbose=0, warm_start=False),\n",
       "             iid='deprecated', n_jobs=None,\n",
       "             param_grid={'max_depth': array([200, 220, 240, 260, 280, 300, 320, 340, 360, 380]),\n",
       "                         'min_samples_leaf': [2, 3, 4],\n",
       "                         'min_samples_split': [3, 4, 5]},\n",
       "             pre_dispatch='2*n_jobs', refit=True, return_train_score=False,\n",
       "             scoring='neg_mean_squared_error', verbose=2)"
      ]
     },
     "execution_count": 276,
     "metadata": {},
     "output_type": "execute_result"
    }
   ],
   "source": [
    "param = {'max_depth':np.arange(200, 400, 20),\n",
    "        'min_samples_leaf':[2, 3, 4],\n",
    "        'min_samples_split':[3, 4, 5]}\n",
    "         \n",
    "grid_cv = GridSearchCV(rf_regressor, param, cv=2, scoring='neg_mean_squared_error', verbose=2)\n",
    "grid_cv.fit(X_train, y_train)"
   ]
  },
  {
   "cell_type": "code",
   "execution_count": 277,
   "metadata": {},
   "outputs": [
    {
     "name": "stdout",
     "output_type": "stream",
     "text": [
      "{'max_depth': 220, 'min_samples_leaf': 2, 'min_samples_split': 3}\n",
      "0.14703904343461116\n"
     ]
    }
   ],
   "source": [
    "print( grid_cv.best_params_ )\n",
    "print( np.sqrt(-grid_cv.best_score_) )"
   ]
  },
  {
   "cell_type": "code",
   "execution_count": 278,
   "metadata": {},
   "outputs": [
    {
     "name": "stdout",
     "output_type": "stream",
     "text": [
      "0.16532339178888225\n"
     ]
    }
   ],
   "source": [
    "rf = RandomForestRegressor(max_depth=220, min_samples_leaf=2, min_samples_split=3)\n",
    "rf.fit(X_train, y_train)\n",
    "pred = rf.predict(X_test)\n",
    "\n",
    "print(np.sqrt(mean_squared_error(y_test, pred)))"
   ]
  },
  {
   "cell_type": "code",
   "execution_count": 279,
   "metadata": {},
   "outputs": [],
   "source": [
    "rmse_result['RF'] = np.sqrt(mean_squared_error(y_test, pred))"
   ]
  },
  {
   "cell_type": "markdown",
   "metadata": {},
   "source": [
    "### 2-5. Ensemble - Boosting"
   ]
  },
  {
   "cell_type": "code",
   "execution_count": 282,
   "metadata": {},
   "outputs": [],
   "source": [
    "from sklearn.ensemble import AdaBoostRegressor\n",
    "from sklearn.ensemble import GradientBoostingRegressor\n",
    "from xgboost import XGBRegressor \n",
    "from lightgbm import LGBMRegressor"
   ]
  },
  {
   "cell_type": "code",
   "execution_count": 292,
   "metadata": {},
   "outputs": [],
   "source": [
    "ada = AdaBoostRegressor()\n",
    "gbm = GradientBoostingRegressor()\n",
    "xgb = XGBRegressor()\n",
    "lgbm = LGBMRegressor()"
   ]
  },
  {
   "cell_type": "markdown",
   "metadata": {},
   "source": [
    "- **AdaBoost**"
   ]
  },
  {
   "cell_type": "code",
   "execution_count": 293,
   "metadata": {},
   "outputs": [
    {
     "name": "stdout",
     "output_type": "stream",
     "text": [
      "0.1833060095586201\n"
     ]
    }
   ],
   "source": [
    "ada.fit(X_train, y_train)\n",
    "pred = ada.predict(X_test)\n",
    "\n",
    "print(np.sqrt(mean_squared_error(y_test, pred)))"
   ]
  },
  {
   "cell_type": "code",
   "execution_count": 299,
   "metadata": {
    "collapsed": true,
    "jupyter": {
     "outputs_hidden": true
    }
   },
   "outputs": [
    {
     "name": "stdout",
     "output_type": "stream",
     "text": [
      "Fitting 2 folds for each of 12 candidates, totalling 24 fits\n",
      "[CV] learning_rate=0.01, n_estimators=100 ............................\n"
     ]
    },
    {
     "name": "stderr",
     "output_type": "stream",
     "text": [
      "[Parallel(n_jobs=1)]: Using backend SequentialBackend with 1 concurrent workers.\n"
     ]
    },
    {
     "name": "stdout",
     "output_type": "stream",
     "text": [
      "[CV] ............. learning_rate=0.01, n_estimators=100, total=   0.4s\n",
      "[CV] learning_rate=0.01, n_estimators=100 ............................\n"
     ]
    },
    {
     "name": "stderr",
     "output_type": "stream",
     "text": [
      "[Parallel(n_jobs=1)]: Done   1 out of   1 | elapsed:    0.3s remaining:    0.0s\n"
     ]
    },
    {
     "name": "stdout",
     "output_type": "stream",
     "text": [
      "[CV] ............. learning_rate=0.01, n_estimators=100, total=   0.4s\n",
      "[CV] learning_rate=0.01, n_estimators=1000 ...........................\n",
      "[CV] ............ learning_rate=0.01, n_estimators=1000, total=   3.3s\n",
      "[CV] learning_rate=0.01, n_estimators=1000 ...........................\n",
      "[CV] ............ learning_rate=0.01, n_estimators=1000, total=   3.4s\n",
      "[CV] learning_rate=0.01, n_estimators=10000 ..........................\n",
      "[CV] ........... learning_rate=0.01, n_estimators=10000, total=  33.9s\n",
      "[CV] learning_rate=0.01, n_estimators=10000 ..........................\n",
      "[CV] ........... learning_rate=0.01, n_estimators=10000, total=  36.8s\n",
      "[CV] learning_rate=0.1, n_estimators=100 .............................\n",
      "[CV] .............. learning_rate=0.1, n_estimators=100, total=   0.4s\n",
      "[CV] learning_rate=0.1, n_estimators=100 .............................\n",
      "[CV] .............. learning_rate=0.1, n_estimators=100, total=   0.4s\n",
      "[CV] learning_rate=0.1, n_estimators=1000 ............................\n",
      "[CV] ............. learning_rate=0.1, n_estimators=1000, total=   3.5s\n",
      "[CV] learning_rate=0.1, n_estimators=1000 ............................\n",
      "[CV] ............. learning_rate=0.1, n_estimators=1000, total=   3.7s\n",
      "[CV] learning_rate=0.1, n_estimators=10000 ...........................\n",
      "[CV] ............ learning_rate=0.1, n_estimators=10000, total=  35.7s\n",
      "[CV] learning_rate=0.1, n_estimators=10000 ...........................\n",
      "[CV] ............ learning_rate=0.1, n_estimators=10000, total=  34.6s\n",
      "[CV] learning_rate=1, n_estimators=100 ...............................\n",
      "[CV] ................ learning_rate=1, n_estimators=100, total=   0.4s\n",
      "[CV] learning_rate=1, n_estimators=100 ...............................\n",
      "[CV] ................ learning_rate=1, n_estimators=100, total=   0.4s\n",
      "[CV] learning_rate=1, n_estimators=1000 ..............................\n",
      "[CV] ............... learning_rate=1, n_estimators=1000, total=   3.4s\n",
      "[CV] learning_rate=1, n_estimators=1000 ..............................\n",
      "[CV] ............... learning_rate=1, n_estimators=1000, total=   3.7s\n",
      "[CV] learning_rate=1, n_estimators=10000 .............................\n",
      "[CV] .............. learning_rate=1, n_estimators=10000, total=  33.6s\n",
      "[CV] learning_rate=1, n_estimators=10000 .............................\n",
      "[CV] .............. learning_rate=1, n_estimators=10000, total=  36.1s\n",
      "[CV] learning_rate=10, n_estimators=100 ..............................\n",
      "[CV] ............... learning_rate=10, n_estimators=100, total=   0.1s\n",
      "[CV] learning_rate=10, n_estimators=100 ..............................\n",
      "[CV] ............... learning_rate=10, n_estimators=100, total=   0.2s\n",
      "[CV] learning_rate=10, n_estimators=1000 .............................\n",
      "[CV] .............. learning_rate=10, n_estimators=1000, total=   1.3s\n",
      "[CV] learning_rate=10, n_estimators=1000 .............................\n",
      "[CV] .............. learning_rate=10, n_estimators=1000, total=   1.3s\n",
      "[CV] learning_rate=10, n_estimators=10000 ............................\n",
      "[CV] ............. learning_rate=10, n_estimators=10000, total=  13.1s\n",
      "[CV] learning_rate=10, n_estimators=10000 ............................\n",
      "[CV] ............. learning_rate=10, n_estimators=10000, total=  12.8s\n"
     ]
    },
    {
     "name": "stderr",
     "output_type": "stream",
     "text": [
      "[Parallel(n_jobs=1)]: Done  24 out of  24 | elapsed:  4.4min finished\n"
     ]
    },
    {
     "data": {
      "text/plain": [
       "GridSearchCV(cv=2, error_score=nan,\n",
       "             estimator=AdaBoostRegressor(base_estimator=None, learning_rate=1.0,\n",
       "                                         loss='linear', n_estimators=50,\n",
       "                                         random_state=None),\n",
       "             iid='deprecated', n_jobs=None,\n",
       "             param_grid={'learning_rate': [0.01, 0.1, 1, 10],\n",
       "                         'n_estimators': [100, 1000, 10000]},\n",
       "             pre_dispatch='2*n_jobs', refit=True, return_train_score=False,\n",
       "             scoring='neg_mean_squared_error', verbose=2)"
      ]
     },
     "execution_count": 299,
     "metadata": {},
     "output_type": "execute_result"
    }
   ],
   "source": [
    "param = {'n_estimators':[100, 1000, 10000],\n",
    "         'learning_rate':[0.01, 0.1, 1, 10]}\n",
    "\n",
    "grid_cv = GridSearchCV(ada, param, cv=2, scoring='neg_mean_squared_error', verbose=2)\n",
    "grid_cv.fit(X_train, y_train)"
   ]
  },
  {
   "cell_type": "code",
   "execution_count": 300,
   "metadata": {},
   "outputs": [
    {
     "name": "stdout",
     "output_type": "stream",
     "text": [
      "{'learning_rate': 1, 'n_estimators': 10000}\n",
      "0.15588572572453158\n"
     ]
    }
   ],
   "source": [
    "print( grid_cv.best_params_ )\n",
    "print( np.sqrt(-grid_cv.best_score_) )"
   ]
  },
  {
   "cell_type": "code",
   "execution_count": 303,
   "metadata": {},
   "outputs": [
    {
     "name": "stdout",
     "output_type": "stream",
     "text": [
      "0.17694420666600016\n"
     ]
    }
   ],
   "source": [
    "ada = AdaBoostRegressor(n_estimators=10000, learning_rate=1)\n",
    "ada.fit(X_train, y_train)\n",
    "pred = ada.predict(X_test)\n",
    "\n",
    "print(np.sqrt(mean_squared_error(y_test, pred)))"
   ]
  },
  {
   "cell_type": "code",
   "execution_count": 304,
   "metadata": {},
   "outputs": [],
   "source": [
    "rmse_result['Ada'] = np.sqrt(mean_squared_error(y_test, pred))"
   ]
  },
  {
   "cell_type": "markdown",
   "metadata": {},
   "source": [
    "- **Gradient Boosting**"
   ]
  },
  {
   "cell_type": "code",
   "execution_count": 314,
   "metadata": {},
   "outputs": [
    {
     "name": "stdout",
     "output_type": "stream",
     "text": [
      "0.15897658044394217\n"
     ]
    }
   ],
   "source": [
    "gbm.fit(X_train, y_train)\n",
    "pred = gbm.predict(X_test)\n",
    "\n",
    "print(np.sqrt(mean_squared_error(y_test, pred)))"
   ]
  },
  {
   "cell_type": "code",
   "execution_count": 310,
   "metadata": {
    "collapsed": true,
    "jupyter": {
     "outputs_hidden": true
    }
   },
   "outputs": [
    {
     "name": "stdout",
     "output_type": "stream",
     "text": [
      "Fitting 5 folds for each of 18 candidates, totalling 90 fits\n",
      "[CV] learning_rate=0.01, max_depth=1, n_estimators=10 ................\n",
      "[CV] . learning_rate=0.01, max_depth=1, n_estimators=10, total=   0.0s\n",
      "[CV] learning_rate=0.01, max_depth=1, n_estimators=10 ................\n",
      "[CV] . learning_rate=0.01, max_depth=1, n_estimators=10, total=   0.0s\n",
      "[CV] learning_rate=0.01, max_depth=1, n_estimators=10 ................\n",
      "[CV] . learning_rate=0.01, max_depth=1, n_estimators=10, total=   0.0s\n",
      "[CV] learning_rate=0.01, max_depth=1, n_estimators=10 ................\n",
      "[CV] . learning_rate=0.01, max_depth=1, n_estimators=10, total=   0.0s\n",
      "[CV] learning_rate=0.01, max_depth=1, n_estimators=10 ................\n",
      "[CV] . learning_rate=0.01, max_depth=1, n_estimators=10, total=   0.0s\n",
      "[CV] learning_rate=0.01, max_depth=1, n_estimators=100 ...............\n"
     ]
    },
    {
     "name": "stderr",
     "output_type": "stream",
     "text": [
      "[Parallel(n_jobs=1)]: Using backend SequentialBackend with 1 concurrent workers.\n",
      "[Parallel(n_jobs=1)]: Done   1 out of   1 | elapsed:    0.0s remaining:    0.0s\n"
     ]
    },
    {
     "name": "stdout",
     "output_type": "stream",
     "text": [
      "[CV]  learning_rate=0.01, max_depth=1, n_estimators=100, total=   0.2s\n",
      "[CV] learning_rate=0.01, max_depth=1, n_estimators=100 ...............\n",
      "[CV]  learning_rate=0.01, max_depth=1, n_estimators=100, total=   0.1s\n",
      "[CV] learning_rate=0.01, max_depth=1, n_estimators=100 ...............\n",
      "[CV]  learning_rate=0.01, max_depth=1, n_estimators=100, total=   0.1s\n",
      "[CV] learning_rate=0.01, max_depth=1, n_estimators=100 ...............\n",
      "[CV]  learning_rate=0.01, max_depth=1, n_estimators=100, total=   0.1s\n",
      "[CV] learning_rate=0.01, max_depth=1, n_estimators=100 ...............\n",
      "[CV]  learning_rate=0.01, max_depth=1, n_estimators=100, total=   0.2s\n",
      "[CV] learning_rate=0.01, max_depth=1, n_estimators=100 ...............\n",
      "[CV]  learning_rate=0.01, max_depth=1, n_estimators=100, total=   0.1s\n",
      "[CV] learning_rate=0.01, max_depth=1, n_estimators=100 ...............\n",
      "[CV]  learning_rate=0.01, max_depth=1, n_estimators=100, total=   0.2s\n",
      "[CV] learning_rate=0.01, max_depth=1, n_estimators=100 ...............\n",
      "[CV]  learning_rate=0.01, max_depth=1, n_estimators=100, total=   0.2s\n",
      "[CV] learning_rate=0.01, max_depth=1, n_estimators=100 ...............\n",
      "[CV]  learning_rate=0.01, max_depth=1, n_estimators=100, total=   0.2s\n",
      "[CV] learning_rate=0.01, max_depth=1, n_estimators=100 ...............\n",
      "[CV]  learning_rate=0.01, max_depth=1, n_estimators=100, total=   0.2s\n",
      "[CV] learning_rate=0.01, max_depth=2, n_estimators=10 ................\n",
      "[CV] . learning_rate=0.01, max_depth=2, n_estimators=10, total=   0.0s\n",
      "[CV] learning_rate=0.01, max_depth=2, n_estimators=10 ................\n",
      "[CV] . learning_rate=0.01, max_depth=2, n_estimators=10, total=   0.0s\n",
      "[CV] learning_rate=0.01, max_depth=2, n_estimators=10 ................\n",
      "[CV] . learning_rate=0.01, max_depth=2, n_estimators=10, total=   0.0s\n",
      "[CV] learning_rate=0.01, max_depth=2, n_estimators=10 ................\n",
      "[CV] . learning_rate=0.01, max_depth=2, n_estimators=10, total=   0.0s\n",
      "[CV] learning_rate=0.01, max_depth=2, n_estimators=10 ................\n",
      "[CV] . learning_rate=0.01, max_depth=2, n_estimators=10, total=   0.0s\n",
      "[CV] learning_rate=0.01, max_depth=2, n_estimators=100 ...............\n",
      "[CV]  learning_rate=0.01, max_depth=2, n_estimators=100, total=   0.3s\n",
      "[CV] learning_rate=0.01, max_depth=2, n_estimators=100 ...............\n",
      "[CV]  learning_rate=0.01, max_depth=2, n_estimators=100, total=   0.3s\n",
      "[CV] learning_rate=0.01, max_depth=2, n_estimators=100 ...............\n",
      "[CV]  learning_rate=0.01, max_depth=2, n_estimators=100, total=   0.3s\n",
      "[CV] learning_rate=0.01, max_depth=2, n_estimators=100 ...............\n",
      "[CV]  learning_rate=0.01, max_depth=2, n_estimators=100, total=   0.3s\n",
      "[CV] learning_rate=0.01, max_depth=2, n_estimators=100 ...............\n",
      "[CV]  learning_rate=0.01, max_depth=2, n_estimators=100, total=   0.3s\n",
      "[CV] learning_rate=0.01, max_depth=2, n_estimators=100 ...............\n",
      "[CV]  learning_rate=0.01, max_depth=2, n_estimators=100, total=   0.3s\n",
      "[CV] learning_rate=0.01, max_depth=2, n_estimators=100 ...............\n",
      "[CV]  learning_rate=0.01, max_depth=2, n_estimators=100, total=   0.3s\n",
      "[CV] learning_rate=0.01, max_depth=2, n_estimators=100 ...............\n",
      "[CV]  learning_rate=0.01, max_depth=2, n_estimators=100, total=   0.3s\n",
      "[CV] learning_rate=0.01, max_depth=2, n_estimators=100 ...............\n",
      "[CV]  learning_rate=0.01, max_depth=2, n_estimators=100, total=   0.3s\n",
      "[CV] learning_rate=0.01, max_depth=2, n_estimators=100 ...............\n",
      "[CV]  learning_rate=0.01, max_depth=2, n_estimators=100, total=   0.3s\n",
      "[CV] learning_rate=0.01, max_depth=3, n_estimators=10 ................\n",
      "[CV] . learning_rate=0.01, max_depth=3, n_estimators=10, total=   0.0s\n",
      "[CV] learning_rate=0.01, max_depth=3, n_estimators=10 ................\n",
      "[CV] . learning_rate=0.01, max_depth=3, n_estimators=10, total=   0.1s\n",
      "[CV] learning_rate=0.01, max_depth=3, n_estimators=10 ................\n",
      "[CV] . learning_rate=0.01, max_depth=3, n_estimators=10, total=   0.1s\n",
      "[CV] learning_rate=0.01, max_depth=3, n_estimators=10 ................\n",
      "[CV] . learning_rate=0.01, max_depth=3, n_estimators=10, total=   0.1s\n",
      "[CV] learning_rate=0.01, max_depth=3, n_estimators=10 ................\n",
      "[CV] . learning_rate=0.01, max_depth=3, n_estimators=10, total=   0.0s\n",
      "[CV] learning_rate=0.01, max_depth=3, n_estimators=100 ...............\n",
      "[CV]  learning_rate=0.01, max_depth=3, n_estimators=100, total=   0.4s\n",
      "[CV] learning_rate=0.01, max_depth=3, n_estimators=100 ...............\n",
      "[CV]  learning_rate=0.01, max_depth=3, n_estimators=100, total=   0.5s\n",
      "[CV] learning_rate=0.01, max_depth=3, n_estimators=100 ...............\n",
      "[CV]  learning_rate=0.01, max_depth=3, n_estimators=100, total=   0.4s\n",
      "[CV] learning_rate=0.01, max_depth=3, n_estimators=100 ...............\n",
      "[CV]  learning_rate=0.01, max_depth=3, n_estimators=100, total=   0.4s\n",
      "[CV] learning_rate=0.01, max_depth=3, n_estimators=100 ...............\n",
      "[CV]  learning_rate=0.01, max_depth=3, n_estimators=100, total=   0.4s\n",
      "[CV] learning_rate=0.01, max_depth=3, n_estimators=100 ...............\n",
      "[CV]  learning_rate=0.01, max_depth=3, n_estimators=100, total=   0.4s\n",
      "[CV] learning_rate=0.01, max_depth=3, n_estimators=100 ...............\n",
      "[CV]  learning_rate=0.01, max_depth=3, n_estimators=100, total=   0.4s\n",
      "[CV] learning_rate=0.01, max_depth=3, n_estimators=100 ...............\n",
      "[CV]  learning_rate=0.01, max_depth=3, n_estimators=100, total=   0.4s\n",
      "[CV] learning_rate=0.01, max_depth=3, n_estimators=100 ...............\n",
      "[CV]  learning_rate=0.01, max_depth=3, n_estimators=100, total=   0.4s\n",
      "[CV] learning_rate=0.01, max_depth=3, n_estimators=100 ...............\n",
      "[CV]  learning_rate=0.01, max_depth=3, n_estimators=100, total=   0.4s\n",
      "[CV] learning_rate=0.1, max_depth=1, n_estimators=10 .................\n",
      "[CV] .. learning_rate=0.1, max_depth=1, n_estimators=10, total=   0.0s\n",
      "[CV] learning_rate=0.1, max_depth=1, n_estimators=10 .................\n",
      "[CV] .. learning_rate=0.1, max_depth=1, n_estimators=10, total=   0.0s\n",
      "[CV] learning_rate=0.1, max_depth=1, n_estimators=10 .................\n",
      "[CV] .. learning_rate=0.1, max_depth=1, n_estimators=10, total=   0.0s\n",
      "[CV] learning_rate=0.1, max_depth=1, n_estimators=10 .................\n",
      "[CV] .. learning_rate=0.1, max_depth=1, n_estimators=10, total=   0.0s\n",
      "[CV] learning_rate=0.1, max_depth=1, n_estimators=10 .................\n",
      "[CV] .. learning_rate=0.1, max_depth=1, n_estimators=10, total=   0.0s\n",
      "[CV] learning_rate=0.1, max_depth=1, n_estimators=100 ................\n",
      "[CV] . learning_rate=0.1, max_depth=1, n_estimators=100, total=   0.2s\n",
      "[CV] learning_rate=0.1, max_depth=1, n_estimators=100 ................\n",
      "[CV] . learning_rate=0.1, max_depth=1, n_estimators=100, total=   0.2s\n",
      "[CV] learning_rate=0.1, max_depth=1, n_estimators=100 ................\n",
      "[CV] . learning_rate=0.1, max_depth=1, n_estimators=100, total=   0.2s\n",
      "[CV] learning_rate=0.1, max_depth=1, n_estimators=100 ................\n",
      "[CV] . learning_rate=0.1, max_depth=1, n_estimators=100, total=   0.1s\n",
      "[CV] learning_rate=0.1, max_depth=1, n_estimators=100 ................\n",
      "[CV] . learning_rate=0.1, max_depth=1, n_estimators=100, total=   0.1s\n",
      "[CV] learning_rate=0.1, max_depth=1, n_estimators=100 ................\n",
      "[CV] . learning_rate=0.1, max_depth=1, n_estimators=100, total=   0.2s\n",
      "[CV] learning_rate=0.1, max_depth=1, n_estimators=100 ................\n",
      "[CV] . learning_rate=0.1, max_depth=1, n_estimators=100, total=   0.2s\n",
      "[CV] learning_rate=0.1, max_depth=1, n_estimators=100 ................\n",
      "[CV] . learning_rate=0.1, max_depth=1, n_estimators=100, total=   0.1s\n",
      "[CV] learning_rate=0.1, max_depth=1, n_estimators=100 ................\n",
      "[CV] . learning_rate=0.1, max_depth=1, n_estimators=100, total=   0.1s\n",
      "[CV] learning_rate=0.1, max_depth=1, n_estimators=100 ................\n",
      "[CV] . learning_rate=0.1, max_depth=1, n_estimators=100, total=   0.1s\n",
      "[CV] learning_rate=0.1, max_depth=2, n_estimators=10 .................\n",
      "[CV] .. learning_rate=0.1, max_depth=2, n_estimators=10, total=   0.0s\n",
      "[CV] learning_rate=0.1, max_depth=2, n_estimators=10 .................\n",
      "[CV] .. learning_rate=0.1, max_depth=2, n_estimators=10, total=   0.0s\n",
      "[CV] learning_rate=0.1, max_depth=2, n_estimators=10 .................\n",
      "[CV] .. learning_rate=0.1, max_depth=2, n_estimators=10, total=   0.0s\n",
      "[CV] learning_rate=0.1, max_depth=2, n_estimators=10 .................\n",
      "[CV] .. learning_rate=0.1, max_depth=2, n_estimators=10, total=   0.0s\n",
      "[CV] learning_rate=0.1, max_depth=2, n_estimators=10 .................\n",
      "[CV] .. learning_rate=0.1, max_depth=2, n_estimators=10, total=   0.0s\n",
      "[CV] learning_rate=0.1, max_depth=2, n_estimators=100 ................\n",
      "[CV] . learning_rate=0.1, max_depth=2, n_estimators=100, total=   0.3s\n",
      "[CV] learning_rate=0.1, max_depth=2, n_estimators=100 ................\n",
      "[CV] . learning_rate=0.1, max_depth=2, n_estimators=100, total=   0.3s\n",
      "[CV] learning_rate=0.1, max_depth=2, n_estimators=100 ................\n",
      "[CV] . learning_rate=0.1, max_depth=2, n_estimators=100, total=   0.3s\n",
      "[CV] learning_rate=0.1, max_depth=2, n_estimators=100 ................\n",
      "[CV] . learning_rate=0.1, max_depth=2, n_estimators=100, total=   0.3s\n",
      "[CV] learning_rate=0.1, max_depth=2, n_estimators=100 ................\n",
      "[CV] . learning_rate=0.1, max_depth=2, n_estimators=100, total=   0.3s\n",
      "[CV] learning_rate=0.1, max_depth=2, n_estimators=100 ................\n",
      "[CV] . learning_rate=0.1, max_depth=2, n_estimators=100, total=   0.3s\n",
      "[CV] learning_rate=0.1, max_depth=2, n_estimators=100 ................\n",
      "[CV] . learning_rate=0.1, max_depth=2, n_estimators=100, total=   0.3s\n",
      "[CV] learning_rate=0.1, max_depth=2, n_estimators=100 ................\n",
      "[CV] . learning_rate=0.1, max_depth=2, n_estimators=100, total=   0.3s\n",
      "[CV] learning_rate=0.1, max_depth=2, n_estimators=100 ................\n",
      "[CV] . learning_rate=0.1, max_depth=2, n_estimators=100, total=   0.3s\n",
      "[CV] learning_rate=0.1, max_depth=2, n_estimators=100 ................\n",
      "[CV] . learning_rate=0.1, max_depth=2, n_estimators=100, total=   0.3s\n",
      "[CV] learning_rate=0.1, max_depth=3, n_estimators=10 .................\n",
      "[CV] .. learning_rate=0.1, max_depth=3, n_estimators=10, total=   0.0s\n",
      "[CV] learning_rate=0.1, max_depth=3, n_estimators=10 .................\n",
      "[CV] .. learning_rate=0.1, max_depth=3, n_estimators=10, total=   0.1s\n",
      "[CV] learning_rate=0.1, max_depth=3, n_estimators=10 .................\n",
      "[CV] .. learning_rate=0.1, max_depth=3, n_estimators=10, total=   0.1s\n",
      "[CV] learning_rate=0.1, max_depth=3, n_estimators=10 .................\n",
      "[CV] .. learning_rate=0.1, max_depth=3, n_estimators=10, total=   0.1s\n",
      "[CV] learning_rate=0.1, max_depth=3, n_estimators=10 .................\n",
      "[CV] .. learning_rate=0.1, max_depth=3, n_estimators=10, total=   0.1s\n",
      "[CV] learning_rate=0.1, max_depth=3, n_estimators=100 ................\n",
      "[CV] . learning_rate=0.1, max_depth=3, n_estimators=100, total=   0.4s\n",
      "[CV] learning_rate=0.1, max_depth=3, n_estimators=100 ................\n",
      "[CV] . learning_rate=0.1, max_depth=3, n_estimators=100, total=   0.4s\n",
      "[CV] learning_rate=0.1, max_depth=3, n_estimators=100 ................\n",
      "[CV] . learning_rate=0.1, max_depth=3, n_estimators=100, total=   0.5s\n",
      "[CV] learning_rate=0.1, max_depth=3, n_estimators=100 ................\n",
      "[CV] . learning_rate=0.1, max_depth=3, n_estimators=100, total=   0.4s\n",
      "[CV] learning_rate=0.1, max_depth=3, n_estimators=100 ................\n",
      "[CV] . learning_rate=0.1, max_depth=3, n_estimators=100, total=   0.4s\n",
      "[CV] learning_rate=0.1, max_depth=3, n_estimators=100 ................\n",
      "[CV] . learning_rate=0.1, max_depth=3, n_estimators=100, total=   0.4s\n",
      "[CV] learning_rate=0.1, max_depth=3, n_estimators=100 ................\n",
      "[CV] . learning_rate=0.1, max_depth=3, n_estimators=100, total=   0.4s\n",
      "[CV] learning_rate=0.1, max_depth=3, n_estimators=100 ................\n",
      "[CV] . learning_rate=0.1, max_depth=3, n_estimators=100, total=   0.4s\n",
      "[CV] learning_rate=0.1, max_depth=3, n_estimators=100 ................\n",
      "[CV] . learning_rate=0.1, max_depth=3, n_estimators=100, total=   0.4s\n",
      "[CV] learning_rate=0.1, max_depth=3, n_estimators=100 ................\n",
      "[CV] . learning_rate=0.1, max_depth=3, n_estimators=100, total=   0.4s\n"
     ]
    },
    {
     "name": "stderr",
     "output_type": "stream",
     "text": [
      "[Parallel(n_jobs=1)]: Done  90 out of  90 | elapsed:   17.6s finished\n"
     ]
    },
    {
     "data": {
      "text/plain": [
       "GridSearchCV(cv=5, error_score=nan,\n",
       "             estimator=GradientBoostingRegressor(alpha=0.9, ccp_alpha=0.0,\n",
       "                                                 criterion='friedman_mse',\n",
       "                                                 init=None, learning_rate=0.01,\n",
       "                                                 loss='ls', max_depth=2,\n",
       "                                                 max_features=None,\n",
       "                                                 max_leaf_nodes=None,\n",
       "                                                 min_impurity_decrease=0.0,\n",
       "                                                 min_impurity_split=None,\n",
       "                                                 min_samples_leaf=1,\n",
       "                                                 min_samples_split=2,\n",
       "                                                 min_weight_fraction_leaf=0.0,\n",
       "                                                 n_estimators=10000,\n",
       "                                                 n_iter_no_change=None,\n",
       "                                                 presort='deprecated',\n",
       "                                                 random_state=None,\n",
       "                                                 subsample=1.0, tol=0.0001,\n",
       "                                                 validation_fraction=0.1,\n",
       "                                                 verbose=0, warm_start=False),\n",
       "             iid='deprecated', n_jobs=None,\n",
       "             param_grid={'learning_rate': [0.01, 0.1], 'max_depth': [1, 2, 3],\n",
       "                         'n_estimators': [10, 100, 100]},\n",
       "             pre_dispatch='2*n_jobs', refit=True, return_train_score=False,\n",
       "             scoring='neg_mean_squared_error', verbose=2)"
      ]
     },
     "execution_count": 310,
     "metadata": {},
     "output_type": "execute_result"
    }
   ],
   "source": [
    "param = {'n_estimators':[10, 100, 100],\n",
    "         'learning_rate':[0.01, 0.1],\n",
    "        'max_depth':[1, 2, 3]}\n",
    "\n",
    "grid_cv = GridSearchCV(gbm, param, cv=5, scoring='neg_mean_squared_error', verbose=2)\n",
    "grid_cv.fit(X_train, y_train)  "
   ]
  },
  {
   "cell_type": "code",
   "execution_count": 311,
   "metadata": {},
   "outputs": [
    {
     "name": "stdout",
     "output_type": "stream",
     "text": [
      "{'learning_rate': 0.1, 'max_depth': 3, 'n_estimators': 100}\n",
      "0.12797639600559013\n"
     ]
    }
   ],
   "source": [
    "print( grid_cv.best_params_ )\n",
    "print( np.sqrt(-grid_cv.best_score_) )"
   ]
  },
  {
   "cell_type": "code",
   "execution_count": 313,
   "metadata": {},
   "outputs": [
    {
     "name": "stdout",
     "output_type": "stream",
     "text": [
      "0.17694420666600016\n"
     ]
    }
   ],
   "source": [
    "gbm = GradientBoostingRegressor(n_estimators=100, learning_rate=0.1, max_depth=3)\n",
    "gbm.fit(X_train, y_train)\n",
    "pred = ada.predict(X_test)\n",
    "\n",
    "print(np.sqrt(mean_squared_error(y_test, pred)))"
   ]
  },
  {
   "cell_type": "code",
   "execution_count": 315,
   "metadata": {},
   "outputs": [
    {
     "name": "stdout",
     "output_type": "stream",
     "text": [
      "0.15985786334653418\n"
     ]
    }
   ],
   "source": [
    "gbm.fit(X_train, y_train)\n",
    "pred = gbm.predict(X_test)\n",
    "\n",
    "print(np.sqrt(mean_squared_error(y_test, pred)))"
   ]
  },
  {
   "cell_type": "code",
   "execution_count": 316,
   "metadata": {},
   "outputs": [],
   "source": [
    "# 기본으로 하자.\n",
    "rmse_result['GBM'] = np.sqrt(mean_squared_error(y_test, pred))"
   ]
  },
  {
   "cell_type": "markdown",
   "metadata": {},
   "source": [
    "- **XGBoost**"
   ]
  },
  {
   "cell_type": "code",
   "execution_count": 317,
   "metadata": {},
   "outputs": [
    {
     "name": "stdout",
     "output_type": "stream",
     "text": [
      "[22:04:44] WARNING: src/objective/regression_obj.cu:152: reg:linear is now deprecated in favor of reg:squarederror.\n",
      "0.1586579694207004\n"
     ]
    }
   ],
   "source": [
    "xgb.fit(X_train, y_train)\n",
    "pred = xgb.predict(X_test)\n",
    "\n",
    "print(np.sqrt(mean_squared_error(y_test, pred)))"
   ]
  },
  {
   "cell_type": "code",
   "execution_count": 320,
   "metadata": {
    "collapsed": true,
    "jupyter": {
     "outputs_hidden": true
    }
   },
   "outputs": [
    {
     "name": "stdout",
     "output_type": "stream",
     "text": [
      "Fitting 5 folds for each of 18 candidates, totalling 90 fits\n",
      "[22:06:00] WARNING: src/objective/regression_obj.cu:152: reg:linear is now deprecated in favor of reg:squarederror.\n",
      "[22:06:00] WARNING: src/objective/regression_obj.cu:152: reg:linear is now deprecated in favor of reg:squarederror.\n",
      "[22:06:00] WARNING: src/objective/regression_obj.cu:152: reg:linear is now deprecated in favor of reg:squarederror.\n",
      "[22:06:00] WARNING: src/objective/regression_obj.cu:152: reg:linear is now deprecated in favor of reg:squarederror.\n",
      "[22:06:00] WARNING: src/objective/regression_obj.cu:152: reg:linear is now deprecated in favor of reg:squarederror.\n",
      "[22:06:00] WARNING: src/objective/regression_obj.cu:152: reg:linear is now deprecated in favor of reg:squarederror.\n"
     ]
    },
    {
     "name": "stderr",
     "output_type": "stream",
     "text": [
      "[Parallel(n_jobs=1)]: Using backend SequentialBackend with 1 concurrent workers.\n"
     ]
    },
    {
     "name": "stdout",
     "output_type": "stream",
     "text": [
      "[22:06:00] WARNING: src/objective/regression_obj.cu:152: reg:linear is now deprecated in favor of reg:squarederror.\n",
      "[22:06:00] WARNING: src/objective/regression_obj.cu:152: reg:linear is now deprecated in favor of reg:squarederror.\n",
      "[22:06:01] WARNING: src/objective/regression_obj.cu:152: reg:linear is now deprecated in favor of reg:squarederror.\n",
      "[22:06:01] WARNING: src/objective/regression_obj.cu:152: reg:linear is now deprecated in favor of reg:squarederror.\n",
      "[22:06:01] WARNING: src/objective/regression_obj.cu:152: reg:linear is now deprecated in favor of reg:squarederror.\n",
      "[22:06:02] WARNING: src/objective/regression_obj.cu:152: reg:linear is now deprecated in favor of reg:squarederror.\n",
      "[22:06:03] WARNING: src/objective/regression_obj.cu:152: reg:linear is now deprecated in favor of reg:squarederror.\n",
      "[22:06:04] WARNING: src/objective/regression_obj.cu:152: reg:linear is now deprecated in favor of reg:squarederror.\n",
      "[22:06:05] WARNING: src/objective/regression_obj.cu:152: reg:linear is now deprecated in favor of reg:squarederror.\n",
      "[22:06:06] WARNING: src/objective/regression_obj.cu:152: reg:linear is now deprecated in favor of reg:squarederror.\n",
      "[22:06:06] WARNING: src/objective/regression_obj.cu:152: reg:linear is now deprecated in favor of reg:squarederror.\n",
      "[22:06:06] WARNING: src/objective/regression_obj.cu:152: reg:linear is now deprecated in favor of reg:squarederror.\n",
      "[22:06:06] WARNING: src/objective/regression_obj.cu:152: reg:linear is now deprecated in favor of reg:squarederror.\n",
      "[22:06:06] WARNING: src/objective/regression_obj.cu:152: reg:linear is now deprecated in favor of reg:squarederror.\n",
      "[22:06:06] WARNING: src/objective/regression_obj.cu:152: reg:linear is now deprecated in favor of reg:squarederror.\n",
      "[22:06:06] WARNING: src/objective/regression_obj.cu:152: reg:linear is now deprecated in favor of reg:squarederror.\n",
      "[22:06:07] WARNING: src/objective/regression_obj.cu:152: reg:linear is now deprecated in favor of reg:squarederror.\n",
      "[22:06:07] WARNING: src/objective/regression_obj.cu:152: reg:linear is now deprecated in favor of reg:squarederror.\n",
      "[22:06:07] WARNING: src/objective/regression_obj.cu:152: reg:linear is now deprecated in favor of reg:squarederror.\n",
      "[22:06:07] WARNING: src/objective/regression_obj.cu:152: reg:linear is now deprecated in favor of reg:squarederror.\n",
      "[22:06:09] WARNING: src/objective/regression_obj.cu:152: reg:linear is now deprecated in favor of reg:squarederror.\n",
      "[22:06:10] WARNING: src/objective/regression_obj.cu:152: reg:linear is now deprecated in favor of reg:squarederror.\n",
      "[22:06:12] WARNING: src/objective/regression_obj.cu:152: reg:linear is now deprecated in favor of reg:squarederror.\n",
      "[22:06:14] WARNING: src/objective/regression_obj.cu:152: reg:linear is now deprecated in favor of reg:squarederror.\n",
      "[22:06:16] WARNING: src/objective/regression_obj.cu:152: reg:linear is now deprecated in favor of reg:squarederror.\n",
      "[22:06:16] WARNING: src/objective/regression_obj.cu:152: reg:linear is now deprecated in favor of reg:squarederror.\n",
      "[22:06:16] WARNING: src/objective/regression_obj.cu:152: reg:linear is now deprecated in favor of reg:squarederror.\n",
      "[22:06:16] WARNING: src/objective/regression_obj.cu:152: reg:linear is now deprecated in favor of reg:squarederror.\n",
      "[22:06:16] WARNING: src/objective/regression_obj.cu:152: reg:linear is now deprecated in favor of reg:squarederror.\n",
      "[22:06:16] WARNING: src/objective/regression_obj.cu:152: reg:linear is now deprecated in favor of reg:squarederror.\n",
      "[22:06:16] WARNING: src/objective/regression_obj.cu:152: reg:linear is now deprecated in favor of reg:squarederror.\n",
      "[22:06:16] WARNING: src/objective/regression_obj.cu:152: reg:linear is now deprecated in favor of reg:squarederror.\n",
      "[22:06:16] WARNING: src/objective/regression_obj.cu:152: reg:linear is now deprecated in favor of reg:squarederror.\n",
      "[22:06:17] WARNING: src/objective/regression_obj.cu:152: reg:linear is now deprecated in favor of reg:squarederror.\n",
      "[22:06:17] WARNING: src/objective/regression_obj.cu:152: reg:linear is now deprecated in favor of reg:squarederror.\n",
      "[22:06:19] WARNING: src/objective/regression_obj.cu:152: reg:linear is now deprecated in favor of reg:squarederror.\n",
      "[22:06:22] WARNING: src/objective/regression_obj.cu:152: reg:linear is now deprecated in favor of reg:squarederror.\n",
      "[22:06:25] WARNING: src/objective/regression_obj.cu:152: reg:linear is now deprecated in favor of reg:squarederror.\n",
      "[22:06:27] WARNING: src/objective/regression_obj.cu:152: reg:linear is now deprecated in favor of reg:squarederror.\n",
      "[22:06:30] WARNING: src/objective/regression_obj.cu:152: reg:linear is now deprecated in favor of reg:squarederror.\n",
      "[22:06:30] WARNING: src/objective/regression_obj.cu:152: reg:linear is now deprecated in favor of reg:squarederror.\n",
      "[22:06:30] WARNING: src/objective/regression_obj.cu:152: reg:linear is now deprecated in favor of reg:squarederror.\n",
      "[22:06:30] WARNING: src/objective/regression_obj.cu:152: reg:linear is now deprecated in favor of reg:squarederror.\n",
      "[22:06:30] WARNING: src/objective/regression_obj.cu:152: reg:linear is now deprecated in favor of reg:squarederror.\n",
      "[22:06:30] WARNING: src/objective/regression_obj.cu:152: reg:linear is now deprecated in favor of reg:squarederror.\n",
      "[22:06:30] WARNING: src/objective/regression_obj.cu:152: reg:linear is now deprecated in favor of reg:squarederror.\n",
      "[22:06:30] WARNING: src/objective/regression_obj.cu:152: reg:linear is now deprecated in favor of reg:squarederror.\n",
      "[22:06:30] WARNING: src/objective/regression_obj.cu:152: reg:linear is now deprecated in favor of reg:squarederror.\n",
      "[22:06:30] WARNING: src/objective/regression_obj.cu:152: reg:linear is now deprecated in favor of reg:squarederror.\n",
      "[22:06:30] WARNING: src/objective/regression_obj.cu:152: reg:linear is now deprecated in favor of reg:squarederror.\n",
      "[22:06:31] WARNING: src/objective/regression_obj.cu:152: reg:linear is now deprecated in favor of reg:squarederror.\n",
      "[22:06:33] WARNING: src/objective/regression_obj.cu:152: reg:linear is now deprecated in favor of reg:squarederror.\n",
      "[22:06:34] WARNING: src/objective/regression_obj.cu:152: reg:linear is now deprecated in favor of reg:squarederror.\n",
      "[22:06:35] WARNING: src/objective/regression_obj.cu:152: reg:linear is now deprecated in favor of reg:squarederror.\n",
      "[22:06:36] WARNING: src/objective/regression_obj.cu:152: reg:linear is now deprecated in favor of reg:squarederror.\n",
      "[22:06:36] WARNING: src/objective/regression_obj.cu:152: reg:linear is now deprecated in favor of reg:squarederror.\n",
      "[22:06:36] WARNING: src/objective/regression_obj.cu:152: reg:linear is now deprecated in favor of reg:squarederror.\n",
      "[22:06:36] WARNING: src/objective/regression_obj.cu:152: reg:linear is now deprecated in favor of reg:squarederror.\n",
      "[22:06:36] WARNING: src/objective/regression_obj.cu:152: reg:linear is now deprecated in favor of reg:squarederror.\n",
      "[22:06:36] WARNING: src/objective/regression_obj.cu:152: reg:linear is now deprecated in favor of reg:squarederror.\n",
      "[22:06:36] WARNING: src/objective/regression_obj.cu:152: reg:linear is now deprecated in favor of reg:squarederror.\n",
      "[22:06:37] WARNING: src/objective/regression_obj.cu:152: reg:linear is now deprecated in favor of reg:squarederror.\n",
      "[22:06:37] WARNING: src/objective/regression_obj.cu:152: reg:linear is now deprecated in favor of reg:squarederror.\n",
      "[22:06:37] WARNING: src/objective/regression_obj.cu:152: reg:linear is now deprecated in favor of reg:squarederror.\n",
      "[22:06:37] WARNING: src/objective/regression_obj.cu:152: reg:linear is now deprecated in favor of reg:squarederror.\n",
      "[22:06:39] WARNING: src/objective/regression_obj.cu:152: reg:linear is now deprecated in favor of reg:squarederror.\n",
      "[22:06:41] WARNING: src/objective/regression_obj.cu:152: reg:linear is now deprecated in favor of reg:squarederror.\n",
      "[22:06:43] WARNING: src/objective/regression_obj.cu:152: reg:linear is now deprecated in favor of reg:squarederror.\n",
      "[22:06:45] WARNING: src/objective/regression_obj.cu:152: reg:linear is now deprecated in favor of reg:squarederror.\n",
      "[22:06:47] WARNING: src/objective/regression_obj.cu:152: reg:linear is now deprecated in favor of reg:squarederror.\n",
      "[22:06:47] WARNING: src/objective/regression_obj.cu:152: reg:linear is now deprecated in favor of reg:squarederror.\n",
      "[22:06:47] WARNING: src/objective/regression_obj.cu:152: reg:linear is now deprecated in favor of reg:squarederror.\n",
      "[22:06:47] WARNING: src/objective/regression_obj.cu:152: reg:linear is now deprecated in favor of reg:squarederror.\n",
      "[22:06:47] WARNING: src/objective/regression_obj.cu:152: reg:linear is now deprecated in favor of reg:squarederror.\n",
      "[22:06:47] WARNING: src/objective/regression_obj.cu:152: reg:linear is now deprecated in favor of reg:squarederror.\n",
      "[22:06:47] WARNING: src/objective/regression_obj.cu:152: reg:linear is now deprecated in favor of reg:squarederror.\n",
      "[22:06:48] WARNING: src/objective/regression_obj.cu:152: reg:linear is now deprecated in favor of reg:squarederror.\n",
      "[22:06:48] WARNING: src/objective/regression_obj.cu:152: reg:linear is now deprecated in favor of reg:squarederror.\n",
      "[22:06:48] WARNING: src/objective/regression_obj.cu:152: reg:linear is now deprecated in favor of reg:squarederror.\n",
      "[22:06:48] WARNING: src/objective/regression_obj.cu:152: reg:linear is now deprecated in favor of reg:squarederror.\n",
      "[22:06:51] WARNING: src/objective/regression_obj.cu:152: reg:linear is now deprecated in favor of reg:squarederror.\n",
      "[22:06:54] WARNING: src/objective/regression_obj.cu:152: reg:linear is now deprecated in favor of reg:squarederror.\n",
      "[22:06:56] WARNING: src/objective/regression_obj.cu:152: reg:linear is now deprecated in favor of reg:squarederror.\n",
      "[22:06:59] WARNING: src/objective/regression_obj.cu:152: reg:linear is now deprecated in favor of reg:squarederror.\n"
     ]
    },
    {
     "name": "stderr",
     "output_type": "stream",
     "text": [
      "[Parallel(n_jobs=1)]: Done  90 out of  90 | elapsed:  1.0min finished\n"
     ]
    },
    {
     "name": "stdout",
     "output_type": "stream",
     "text": [
      "[22:07:02] WARNING: src/objective/regression_obj.cu:152: reg:linear is now deprecated in favor of reg:squarederror.\n"
     ]
    },
    {
     "data": {
      "text/plain": [
       "GridSearchCV(cv=5, error_score=nan,\n",
       "             estimator=XGBRegressor(base_score=0.5, booster='gbtree',\n",
       "                                    colsample_bylevel=1, colsample_bynode=1,\n",
       "                                    colsample_bytree=1, gamma=0,\n",
       "                                    importance_type='gain', learning_rate=0.1,\n",
       "                                    max_delta_step=0, max_depth=3,\n",
       "                                    min_child_weight=1, missing=None,\n",
       "                                    n_estimators=100, n_jobs=1, nthread=None,\n",
       "                                    objective='reg:linear', random_state=0,\n",
       "                                    reg_alpha=0, reg_lambda=1,\n",
       "                                    scale_pos_weight=1, seed=None, silent=None,\n",
       "                                    subsample=1, verbosity=1),\n",
       "             iid='deprecated', n_jobs=None,\n",
       "             param_grid={'learning_rate': [0.01, 0.1], 'max_depth': [1, 2, 3],\n",
       "                         'n_estimators': [10, 100, 1000]},\n",
       "             pre_dispatch='2*n_jobs', refit=True, return_train_score=False,\n",
       "             scoring='neg_mean_squared_error', verbose=1)"
      ]
     },
     "execution_count": 320,
     "metadata": {},
     "output_type": "execute_result"
    }
   ],
   "source": [
    "param = {'n_estimators':[10, 100, 1000],\n",
    "         'learning_rate':[0.01, 0.1],\n",
    "        'max_depth':[1, 2, 3]}\n",
    "\n",
    "grid_cv = GridSearchCV(xgb, param, cv=5, scoring='neg_mean_squared_error', verbose=2)\n",
    "grid_cv.fit(X_train, y_train)  "
   ]
  },
  {
   "cell_type": "code",
   "execution_count": 321,
   "metadata": {},
   "outputs": [
    {
     "name": "stdout",
     "output_type": "stream",
     "text": [
      "{'learning_rate': 0.1, 'max_depth': 3, 'n_estimators': 1000}\n",
      "0.12392177467990802\n"
     ]
    }
   ],
   "source": [
    "print( grid_cv.best_params_ )\n",
    "print( np.sqrt(-grid_cv.best_score_) )"
   ]
  },
  {
   "cell_type": "code",
   "execution_count": 322,
   "metadata": {},
   "outputs": [
    {
     "name": "stdout",
     "output_type": "stream",
     "text": [
      "[22:09:15] WARNING: src/objective/regression_obj.cu:152: reg:linear is now deprecated in favor of reg:squarederror.\n",
      "0.15724626209762013\n"
     ]
    }
   ],
   "source": [
    "xgb = XGBRegressor(learning_rate=0.1, max_depth=3, n_estimators=1000)\n",
    "xgb.fit(X_train, y_train)\n",
    "pred = xgb.predict(X_test)\n",
    "\n",
    "print(np.sqrt(mean_squared_error(y_test, pred)))"
   ]
  },
  {
   "cell_type": "code",
   "execution_count": 323,
   "metadata": {},
   "outputs": [],
   "source": [
    "rmse_result['XGB'] = np.sqrt(mean_squared_error(y_test, pred))"
   ]
  },
  {
   "cell_type": "markdown",
   "metadata": {},
   "source": [
    "- **Light GBM**"
   ]
  },
  {
   "cell_type": "code",
   "execution_count": 324,
   "metadata": {},
   "outputs": [
    {
     "name": "stdout",
     "output_type": "stream",
     "text": [
      "0.15538648592422497\n"
     ]
    }
   ],
   "source": [
    "lgbm.fit(X_train, y_train)\n",
    "pred = lgbm.predict(X_test)\n",
    "\n",
    "print(np.sqrt(mean_squared_error(y_test, pred)))"
   ]
  },
  {
   "cell_type": "code",
   "execution_count": 325,
   "metadata": {
    "collapsed": true,
    "jupyter": {
     "outputs_hidden": true
    }
   },
   "outputs": [
    {
     "name": "stdout",
     "output_type": "stream",
     "text": [
      "Fitting 5 folds for each of 18 candidates, totalling 90 fits\n",
      "[CV] learning_rate=0.01, max_depth=1, n_estimators=10 ................\n",
      "[CV] . learning_rate=0.01, max_depth=1, n_estimators=10, total=   0.1s\n",
      "[CV] learning_rate=0.01, max_depth=1, n_estimators=10 ................\n"
     ]
    },
    {
     "name": "stderr",
     "output_type": "stream",
     "text": [
      "[Parallel(n_jobs=1)]: Using backend SequentialBackend with 1 concurrent workers.\n",
      "[Parallel(n_jobs=1)]: Done   1 out of   1 | elapsed:    0.0s remaining:    0.0s\n"
     ]
    },
    {
     "name": "stdout",
     "output_type": "stream",
     "text": [
      "[CV] . learning_rate=0.01, max_depth=1, n_estimators=10, total=   0.1s\n",
      "[CV] learning_rate=0.01, max_depth=1, n_estimators=10 ................\n",
      "[CV] . learning_rate=0.01, max_depth=1, n_estimators=10, total=   0.1s\n",
      "[CV] learning_rate=0.01, max_depth=1, n_estimators=10 ................\n",
      "[CV] . learning_rate=0.01, max_depth=1, n_estimators=10, total=   0.1s\n",
      "[CV] learning_rate=0.01, max_depth=1, n_estimators=10 ................\n",
      "[CV] . learning_rate=0.01, max_depth=1, n_estimators=10, total=   0.1s\n",
      "[CV] learning_rate=0.01, max_depth=1, n_estimators=100 ...............\n",
      "[CV]  learning_rate=0.01, max_depth=1, n_estimators=100, total=   0.2s\n",
      "[CV] learning_rate=0.01, max_depth=1, n_estimators=100 ...............\n",
      "[CV]  learning_rate=0.01, max_depth=1, n_estimators=100, total=   0.1s\n",
      "[CV] learning_rate=0.01, max_depth=1, n_estimators=100 ...............\n",
      "[CV]  learning_rate=0.01, max_depth=1, n_estimators=100, total=   0.2s\n",
      "[CV] learning_rate=0.01, max_depth=1, n_estimators=100 ...............\n",
      "[CV]  learning_rate=0.01, max_depth=1, n_estimators=100, total=   0.2s\n",
      "[CV] learning_rate=0.01, max_depth=1, n_estimators=100 ...............\n",
      "[CV]  learning_rate=0.01, max_depth=1, n_estimators=100, total=   0.2s\n",
      "[CV] learning_rate=0.01, max_depth=1, n_estimators=1000 ..............\n",
      "[CV]  learning_rate=0.01, max_depth=1, n_estimators=1000, total=   0.3s\n",
      "[CV] learning_rate=0.01, max_depth=1, n_estimators=1000 ..............\n",
      "[CV]  learning_rate=0.01, max_depth=1, n_estimators=1000, total=   0.3s\n",
      "[CV] learning_rate=0.01, max_depth=1, n_estimators=1000 ..............\n",
      "[CV]  learning_rate=0.01, max_depth=1, n_estimators=1000, total=   0.3s\n",
      "[CV] learning_rate=0.01, max_depth=1, n_estimators=1000 ..............\n",
      "[CV]  learning_rate=0.01, max_depth=1, n_estimators=1000, total=   0.3s\n",
      "[CV] learning_rate=0.01, max_depth=1, n_estimators=1000 ..............\n",
      "[CV]  learning_rate=0.01, max_depth=1, n_estimators=1000, total=   0.3s\n",
      "[CV] learning_rate=0.01, max_depth=2, n_estimators=10 ................\n",
      "[CV] . learning_rate=0.01, max_depth=2, n_estimators=10, total=   0.1s\n",
      "[CV] learning_rate=0.01, max_depth=2, n_estimators=10 ................\n",
      "[CV] . learning_rate=0.01, max_depth=2, n_estimators=10, total=   0.2s\n",
      "[CV] learning_rate=0.01, max_depth=2, n_estimators=10 ................\n",
      "[CV] . learning_rate=0.01, max_depth=2, n_estimators=10, total=   0.1s\n",
      "[CV] learning_rate=0.01, max_depth=2, n_estimators=10 ................\n",
      "[CV] . learning_rate=0.01, max_depth=2, n_estimators=10, total=   0.1s\n",
      "[CV] learning_rate=0.01, max_depth=2, n_estimators=10 ................\n",
      "[CV] . learning_rate=0.01, max_depth=2, n_estimators=10, total=   0.1s\n",
      "[CV] learning_rate=0.01, max_depth=2, n_estimators=100 ...............\n",
      "[CV]  learning_rate=0.01, max_depth=2, n_estimators=100, total=   0.2s\n",
      "[CV] learning_rate=0.01, max_depth=2, n_estimators=100 ...............\n",
      "[CV]  learning_rate=0.01, max_depth=2, n_estimators=100, total=   0.2s\n",
      "[CV] learning_rate=0.01, max_depth=2, n_estimators=100 ...............\n",
      "[CV]  learning_rate=0.01, max_depth=2, n_estimators=100, total=   0.2s\n",
      "[CV] learning_rate=0.01, max_depth=2, n_estimators=100 ...............\n",
      "[CV]  learning_rate=0.01, max_depth=2, n_estimators=100, total=   0.2s\n",
      "[CV] learning_rate=0.01, max_depth=2, n_estimators=100 ...............\n",
      "[CV]  learning_rate=0.01, max_depth=2, n_estimators=100, total=   0.2s\n",
      "[CV] learning_rate=0.01, max_depth=2, n_estimators=1000 ..............\n",
      "[CV]  learning_rate=0.01, max_depth=2, n_estimators=1000, total=   0.4s\n",
      "[CV] learning_rate=0.01, max_depth=2, n_estimators=1000 ..............\n",
      "[CV]  learning_rate=0.01, max_depth=2, n_estimators=1000, total=   0.4s\n",
      "[CV] learning_rate=0.01, max_depth=2, n_estimators=1000 ..............\n",
      "[CV]  learning_rate=0.01, max_depth=2, n_estimators=1000, total=   0.4s\n",
      "[CV] learning_rate=0.01, max_depth=2, n_estimators=1000 ..............\n",
      "[CV]  learning_rate=0.01, max_depth=2, n_estimators=1000, total=   0.4s\n",
      "[CV] learning_rate=0.01, max_depth=2, n_estimators=1000 ..............\n",
      "[CV]  learning_rate=0.01, max_depth=2, n_estimators=1000, total=   0.4s\n",
      "[CV] learning_rate=0.01, max_depth=3, n_estimators=10 ................\n",
      "[CV] . learning_rate=0.01, max_depth=3, n_estimators=10, total=   0.1s\n",
      "[CV] learning_rate=0.01, max_depth=3, n_estimators=10 ................\n",
      "[CV] . learning_rate=0.01, max_depth=3, n_estimators=10, total=   0.1s\n",
      "[CV] learning_rate=0.01, max_depth=3, n_estimators=10 ................\n",
      "[CV] . learning_rate=0.01, max_depth=3, n_estimators=10, total=   0.1s\n",
      "[CV] learning_rate=0.01, max_depth=3, n_estimators=10 ................\n",
      "[CV] . learning_rate=0.01, max_depth=3, n_estimators=10, total=   0.1s\n",
      "[CV] learning_rate=0.01, max_depth=3, n_estimators=10 ................\n",
      "[CV] . learning_rate=0.01, max_depth=3, n_estimators=10, total=   0.1s\n",
      "[CV] learning_rate=0.01, max_depth=3, n_estimators=100 ...............\n",
      "[CV]  learning_rate=0.01, max_depth=3, n_estimators=100, total=   0.2s\n",
      "[CV] learning_rate=0.01, max_depth=3, n_estimators=100 ...............\n",
      "[CV]  learning_rate=0.01, max_depth=3, n_estimators=100, total=   0.2s\n",
      "[CV] learning_rate=0.01, max_depth=3, n_estimators=100 ...............\n",
      "[CV]  learning_rate=0.01, max_depth=3, n_estimators=100, total=   0.2s\n",
      "[CV] learning_rate=0.01, max_depth=3, n_estimators=100 ...............\n",
      "[CV]  learning_rate=0.01, max_depth=3, n_estimators=100, total=   0.2s\n",
      "[CV] learning_rate=0.01, max_depth=3, n_estimators=100 ...............\n",
      "[CV]  learning_rate=0.01, max_depth=3, n_estimators=100, total=   0.2s\n",
      "[CV] learning_rate=0.01, max_depth=3, n_estimators=1000 ..............\n",
      "[CV]  learning_rate=0.01, max_depth=3, n_estimators=1000, total=   0.5s\n",
      "[CV] learning_rate=0.01, max_depth=3, n_estimators=1000 ..............\n",
      "[CV]  learning_rate=0.01, max_depth=3, n_estimators=1000, total=   0.6s\n",
      "[CV] learning_rate=0.01, max_depth=3, n_estimators=1000 ..............\n",
      "[CV]  learning_rate=0.01, max_depth=3, n_estimators=1000, total=   0.6s\n",
      "[CV] learning_rate=0.01, max_depth=3, n_estimators=1000 ..............\n",
      "[CV]  learning_rate=0.01, max_depth=3, n_estimators=1000, total=   0.6s\n",
      "[CV] learning_rate=0.01, max_depth=3, n_estimators=1000 ..............\n",
      "[CV]  learning_rate=0.01, max_depth=3, n_estimators=1000, total=   0.5s\n",
      "[CV] learning_rate=0.1, max_depth=1, n_estimators=10 .................\n",
      "[CV] .. learning_rate=0.1, max_depth=1, n_estimators=10, total=   0.1s\n",
      "[CV] learning_rate=0.1, max_depth=1, n_estimators=10 .................\n",
      "[CV] .. learning_rate=0.1, max_depth=1, n_estimators=10, total=   0.1s\n",
      "[CV] learning_rate=0.1, max_depth=1, n_estimators=10 .................\n",
      "[CV] .. learning_rate=0.1, max_depth=1, n_estimators=10, total=   0.1s\n",
      "[CV] learning_rate=0.1, max_depth=1, n_estimators=10 .................\n",
      "[CV] .. learning_rate=0.1, max_depth=1, n_estimators=10, total=   0.1s\n",
      "[CV] learning_rate=0.1, max_depth=1, n_estimators=10 .................\n",
      "[CV] .. learning_rate=0.1, max_depth=1, n_estimators=10, total=   0.1s\n",
      "[CV] learning_rate=0.1, max_depth=1, n_estimators=100 ................\n",
      "[CV] . learning_rate=0.1, max_depth=1, n_estimators=100, total=   0.2s\n",
      "[CV] learning_rate=0.1, max_depth=1, n_estimators=100 ................\n",
      "[CV] . learning_rate=0.1, max_depth=1, n_estimators=100, total=   0.1s\n",
      "[CV] learning_rate=0.1, max_depth=1, n_estimators=100 ................\n",
      "[CV] . learning_rate=0.1, max_depth=1, n_estimators=100, total=   0.2s\n",
      "[CV] learning_rate=0.1, max_depth=1, n_estimators=100 ................\n",
      "[CV] . learning_rate=0.1, max_depth=1, n_estimators=100, total=   0.2s\n",
      "[CV] learning_rate=0.1, max_depth=1, n_estimators=100 ................\n",
      "[CV] . learning_rate=0.1, max_depth=1, n_estimators=100, total=   0.2s\n",
      "[CV] learning_rate=0.1, max_depth=1, n_estimators=1000 ...............\n",
      "[CV]  learning_rate=0.1, max_depth=1, n_estimators=1000, total=   0.3s\n",
      "[CV] learning_rate=0.1, max_depth=1, n_estimators=1000 ...............\n",
      "[CV]  learning_rate=0.1, max_depth=1, n_estimators=1000, total=   0.3s\n",
      "[CV] learning_rate=0.1, max_depth=1, n_estimators=1000 ...............\n",
      "[CV]  learning_rate=0.1, max_depth=1, n_estimators=1000, total=   0.3s\n",
      "[CV] learning_rate=0.1, max_depth=1, n_estimators=1000 ...............\n",
      "[CV]  learning_rate=0.1, max_depth=1, n_estimators=1000, total=   0.3s\n",
      "[CV] learning_rate=0.1, max_depth=1, n_estimators=1000 ...............\n",
      "[CV]  learning_rate=0.1, max_depth=1, n_estimators=1000, total=   0.3s\n",
      "[CV] learning_rate=0.1, max_depth=2, n_estimators=10 .................\n",
      "[CV] .. learning_rate=0.1, max_depth=2, n_estimators=10, total=   0.1s\n",
      "[CV] learning_rate=0.1, max_depth=2, n_estimators=10 .................\n",
      "[CV] .. learning_rate=0.1, max_depth=2, n_estimators=10, total=   0.1s\n",
      "[CV] learning_rate=0.1, max_depth=2, n_estimators=10 .................\n",
      "[CV] .. learning_rate=0.1, max_depth=2, n_estimators=10, total=   0.1s\n",
      "[CV] learning_rate=0.1, max_depth=2, n_estimators=10 .................\n",
      "[CV] .. learning_rate=0.1, max_depth=2, n_estimators=10, total=   0.1s\n",
      "[CV] learning_rate=0.1, max_depth=2, n_estimators=10 .................\n",
      "[CV] .. learning_rate=0.1, max_depth=2, n_estimators=10, total=   0.1s\n",
      "[CV] learning_rate=0.1, max_depth=2, n_estimators=100 ................\n",
      "[CV] . learning_rate=0.1, max_depth=2, n_estimators=100, total=   0.2s\n",
      "[CV] learning_rate=0.1, max_depth=2, n_estimators=100 ................\n",
      "[CV] . learning_rate=0.1, max_depth=2, n_estimators=100, total=   0.2s\n",
      "[CV] learning_rate=0.1, max_depth=2, n_estimators=100 ................\n",
      "[CV] . learning_rate=0.1, max_depth=2, n_estimators=100, total=   0.2s\n",
      "[CV] learning_rate=0.1, max_depth=2, n_estimators=100 ................\n",
      "[CV] . learning_rate=0.1, max_depth=2, n_estimators=100, total=   0.2s\n",
      "[CV] learning_rate=0.1, max_depth=2, n_estimators=100 ................\n",
      "[CV] . learning_rate=0.1, max_depth=2, n_estimators=100, total=   0.2s\n",
      "[CV] learning_rate=0.1, max_depth=2, n_estimators=1000 ...............\n",
      "[CV]  learning_rate=0.1, max_depth=2, n_estimators=1000, total=   0.4s\n",
      "[CV] learning_rate=0.1, max_depth=2, n_estimators=1000 ...............\n",
      "[CV]  learning_rate=0.1, max_depth=2, n_estimators=1000, total=   0.4s\n",
      "[CV] learning_rate=0.1, max_depth=2, n_estimators=1000 ...............\n",
      "[CV]  learning_rate=0.1, max_depth=2, n_estimators=1000, total=   0.4s\n",
      "[CV] learning_rate=0.1, max_depth=2, n_estimators=1000 ...............\n",
      "[CV]  learning_rate=0.1, max_depth=2, n_estimators=1000, total=   0.4s\n",
      "[CV] learning_rate=0.1, max_depth=2, n_estimators=1000 ...............\n",
      "[CV]  learning_rate=0.1, max_depth=2, n_estimators=1000, total=   0.4s\n",
      "[CV] learning_rate=0.1, max_depth=3, n_estimators=10 .................\n",
      "[CV] .. learning_rate=0.1, max_depth=3, n_estimators=10, total=   0.1s\n",
      "[CV] learning_rate=0.1, max_depth=3, n_estimators=10 .................\n",
      "[CV] .. learning_rate=0.1, max_depth=3, n_estimators=10, total=   0.1s\n",
      "[CV] learning_rate=0.1, max_depth=3, n_estimators=10 .................\n",
      "[CV] .. learning_rate=0.1, max_depth=3, n_estimators=10, total=   0.1s\n",
      "[CV] learning_rate=0.1, max_depth=3, n_estimators=10 .................\n",
      "[CV] .. learning_rate=0.1, max_depth=3, n_estimators=10, total=   0.1s\n",
      "[CV] learning_rate=0.1, max_depth=3, n_estimators=10 .................\n",
      "[CV] .. learning_rate=0.1, max_depth=3, n_estimators=10, total=   0.1s\n",
      "[CV] learning_rate=0.1, max_depth=3, n_estimators=100 ................\n",
      "[CV] . learning_rate=0.1, max_depth=3, n_estimators=100, total=   0.2s\n",
      "[CV] learning_rate=0.1, max_depth=3, n_estimators=100 ................\n",
      "[CV] . learning_rate=0.1, max_depth=3, n_estimators=100, total=   0.2s\n",
      "[CV] learning_rate=0.1, max_depth=3, n_estimators=100 ................\n",
      "[CV] . learning_rate=0.1, max_depth=3, n_estimators=100, total=   0.2s\n",
      "[CV] learning_rate=0.1, max_depth=3, n_estimators=100 ................\n",
      "[CV] . learning_rate=0.1, max_depth=3, n_estimators=100, total=   0.2s\n",
      "[CV] learning_rate=0.1, max_depth=3, n_estimators=100 ................\n",
      "[CV] . learning_rate=0.1, max_depth=3, n_estimators=100, total=   0.2s\n",
      "[CV] learning_rate=0.1, max_depth=3, n_estimators=1000 ...............\n",
      "[CV]  learning_rate=0.1, max_depth=3, n_estimators=1000, total=   0.5s\n",
      "[CV] learning_rate=0.1, max_depth=3, n_estimators=1000 ...............\n",
      "[CV]  learning_rate=0.1, max_depth=3, n_estimators=1000, total=   0.5s\n",
      "[CV] learning_rate=0.1, max_depth=3, n_estimators=1000 ...............\n",
      "[CV]  learning_rate=0.1, max_depth=3, n_estimators=1000, total=   0.6s\n",
      "[CV] learning_rate=0.1, max_depth=3, n_estimators=1000 ...............\n",
      "[CV]  learning_rate=0.1, max_depth=3, n_estimators=1000, total=   0.5s\n",
      "[CV] learning_rate=0.1, max_depth=3, n_estimators=1000 ...............\n",
      "[CV]  learning_rate=0.1, max_depth=3, n_estimators=1000, total=   0.5s\n"
     ]
    },
    {
     "name": "stderr",
     "output_type": "stream",
     "text": [
      "[Parallel(n_jobs=1)]: Done  90 out of  90 | elapsed:   21.5s finished\n"
     ]
    },
    {
     "data": {
      "text/plain": [
       "GridSearchCV(cv=5, error_score=nan,\n",
       "             estimator=LGBMRegressor(boosting_type='gbdt', class_weight=None,\n",
       "                                     colsample_bytree=1.0,\n",
       "                                     importance_type='split', learning_rate=0.1,\n",
       "                                     max_depth=-1, min_child_samples=20,\n",
       "                                     min_child_weight=0.001, min_split_gain=0.0,\n",
       "                                     n_estimators=100, n_jobs=-1, num_leaves=31,\n",
       "                                     objective=None, random_state=None,\n",
       "                                     reg_alpha=0.0, reg_lambda=0.0, silent=True,\n",
       "                                     subsample=1.0, subsample_for_bin=200000,\n",
       "                                     subsample_freq=0),\n",
       "             iid='deprecated', n_jobs=None,\n",
       "             param_grid={'learning_rate': [0.01, 0.1], 'max_depth': [1, 2, 3],\n",
       "                         'n_estimators': [10, 100, 1000]},\n",
       "             pre_dispatch='2*n_jobs', refit=True, return_train_score=False,\n",
       "             scoring='neg_mean_squared_error', verbose=2)"
      ]
     },
     "execution_count": 325,
     "metadata": {},
     "output_type": "execute_result"
    }
   ],
   "source": [
    "param = {'n_estimators':[10, 100, 1000],\n",
    "         'learning_rate':[0.01, 0.1],\n",
    "        'max_depth':[1, 2, 3]}\n",
    "\n",
    "grid_cv = GridSearchCV(lgbm, param, cv=5, scoring='neg_mean_squared_error', verbose=2)\n",
    "grid_cv.fit(X_train, y_train)  "
   ]
  },
  {
   "cell_type": "code",
   "execution_count": 326,
   "metadata": {},
   "outputs": [
    {
     "name": "stdout",
     "output_type": "stream",
     "text": [
      "{'learning_rate': 0.01, 'max_depth': 3, 'n_estimators': 1000}\n",
      "0.1290771417508497\n"
     ]
    }
   ],
   "source": [
    "print( grid_cv.best_params_ )\n",
    "print( np.sqrt(-grid_cv.best_score_) )"
   ]
  },
  {
   "cell_type": "code",
   "execution_count": 327,
   "metadata": {},
   "outputs": [
    {
     "name": "stdout",
     "output_type": "stream",
     "text": [
      "0.15155254978685578\n"
     ]
    }
   ],
   "source": [
    "lgbm = LGBMRegressor(learning_rate=0.01, max_depth=3, n_estimators=1000)\n",
    "lgbm.fit(X_train, y_train)\n",
    "pred = lgbm.predict(X_test)\n",
    "\n",
    "print(np.sqrt(mean_squared_error(y_test, pred)))"
   ]
  },
  {
   "cell_type": "code",
   "execution_count": 328,
   "metadata": {},
   "outputs": [],
   "source": [
    "rmse_result['LGBM'] = np.sqrt(mean_squared_error(y_test, pred))"
   ]
  },
  {
   "cell_type": "markdown",
   "metadata": {},
   "source": [
    "### 2-6. Ensemble - Voting"
   ]
  },
  {
   "cell_type": "code",
   "execution_count": 341,
   "metadata": {},
   "outputs": [
    {
     "data": {
      "text/plain": [
       "Ridge_9                    0.118242\n",
       "Elastic_0.006_0.1          0.118666\n",
       "Lasso_regression_0.0009    0.120658\n",
       "LGBM                       0.151553\n",
       "Linear_regression          0.155151\n",
       "XGB                        0.157246\n",
       "GBM                        0.159858\n",
       "RF                         0.165323\n",
       "Ada                        0.176944\n",
       "DT                         0.182906\n",
       "KNN                        0.233192\n",
       "dtype: float64"
      ]
     },
     "execution_count": 341,
     "metadata": {},
     "output_type": "execute_result"
    }
   ],
   "source": [
    "pd.Series(rmse_result).sort_values()"
   ]
  },
  {
   "cell_type": "code",
   "execution_count": 574,
   "metadata": {},
   "outputs": [],
   "source": [
    "from sklearn.ensemble import VotingRegressor\n",
    "\n",
    "linear = LinearRegression()\n",
    "ridge = Ridge(alpha=9)\n",
    "elasticNet = ElasticNet(alpha=0.006, l1_ratio=0.1)\n",
    "lasso = Lasso(alpha=0.0009)\n",
    "\n",
    "gbm = GradientBoostingRegressor()\n",
    "lgbm = LGBMRegressor(learning_rate=0.01, max_depth=3, n_estimators=800)\n",
    "xgb = XGBRegressor(learning_rate=0.1, max_depth=3, n_estimators=1000)\n",
    "\n",
    "estimators = [('Linear', linear), ('Ridge', ridge), ('ElasticNet', elasticNet), ('Lasso', lasso), ('GBM', gbm), ('LGBM', lgbm), ('XGB', xgb)]\n",
    "#  list of (str, estimator) tuples\n",
    "voting = VotingRegressor(estimators)"
   ]
  },
  {
   "cell_type": "code",
   "execution_count": 559,
   "metadata": {},
   "outputs": [
    {
     "name": "stdout",
     "output_type": "stream",
     "text": [
      "[23:17:36] WARNING: src/objective/regression_obj.cu:152: reg:linear is now deprecated in favor of reg:squarederror.\n",
      "0.14171269659634708\n"
     ]
    }
   ],
   "source": [
    "voting.fit(X_train, y_train)\n",
    "pred = voting.predict(X_test)\n",
    "\n",
    "print(np.sqrt(mean_squared_error(y_test, pred)))"
   ]
  },
  {
   "cell_type": "code",
   "execution_count": 575,
   "metadata": {},
   "outputs": [
    {
     "name": "stdout",
     "output_type": "stream",
     "text": [
      "0.13878997006447827\n"
     ]
    }
   ],
   "source": [
    "estimators = [('Lasso', lasso), ('Linear', linear), ('LGBM', lgbm)]\n",
    "voting = VotingRegressor(estimators)\n",
    "voting.fit(X_train, y_train)\n",
    "pred = voting.predict(X_test)\n",
    "\n",
    "print(np.sqrt(mean_squared_error(y_test, pred)))"
   ]
  },
  {
   "cell_type": "markdown",
   "metadata": {},
   "source": [
    "### 2-7. Ensemble - Stacking"
   ]
  },
  {
   "cell_type": "markdown",
   "metadata": {
    "_cell_guid": "cb18e314-968d-4765-942a-5706d0f4f815",
    "_execution_state": "idle",
    "_uuid": "69f216ce13eb61f0d07403986a2d38b11e18ae6a"
   },
   "source": [
    "In this approach, we add a meta-model on averaged base models and use the out-of-folds predictions of these base models to train our meta-model. \n",
    "\n",
    "The procedure, for the training part, may be described as follows:\n",
    "\n",
    "\n",
    "1. Split the total training set into two disjoint sets (here **train** and .**holdout** )\n",
    "\n",
    "2. Train several base models on the first part (**train**)\n",
    "\n",
    "3. Test these base models on the second part (**holdout**)\n",
    "\n",
    "4. Use the predictions from 3)  (called  out-of-folds predictions) as the inputs, and the correct responses (target variable) as the outputs  to train a higher level learner called **meta-model**.\n",
    "\n",
    "The first three steps are done iteratively . If we take for example a 5-fold stacking , we first split the training data into 5 folds. Then we will do 5 iterations. In each iteration,  we train every base model on 4 folds and predict on the remaining fold (holdout fold). \n",
    "\n",
    "So, we will be sure, after 5 iterations , that the entire data is used to get out-of-folds predictions that we will then use as \n",
    "new feature to train our meta-model in the step 4.\n",
    "\n",
    "For the prediction part , We average the predictions of  all base models on the test data  and used them as **meta-features**  on which, the final prediction is done with the meta-model.\n"
   ]
  },
  {
   "cell_type": "markdown",
   "metadata": {
    "_cell_guid": "7a1d4b95-ad19-4522-8459-99f0839a49bb",
    "_uuid": "5e232cc0edea67af1fc672ee07a93c435e7e2f98"
   },
   "source": [
    "![Faron](http://i.imgur.com/QBuDOjs.jpg)\n",
    "\n",
    "(Image taken from [Faron](https://www.kaggle.com/getting-started/18153#post103381))"
   ]
  },
  {
   "cell_type": "markdown",
   "metadata": {
    "_cell_guid": "b9ca03ee-0377-4313-a236-59d3d972cac3",
    "_uuid": "a46c5bab3855a4728c52765379c1674de3123a25"
   },
   "source": [
    "On this gif, the base models are algorithms 0, 1, 2 and the meta-model is algorithm 3. The entire training dataset is \n",
    "A+B (target variable y known) that we can split into train part (A) and holdout part (B). And the test dataset is C. \n",
    "\n",
    "B1 (which is the prediction from the holdout part)  is the new feature used to train the meta-model 3 and C1 (which\n",
    "is the prediction  from the test dataset) is the meta-feature on which the final prediction is done. "
   ]
  },
  {
   "cell_type": "markdown",
   "metadata": {
    "_cell_guid": "bd10661e-6eec-4789-83fa-d55b77619252",
    "_execution_state": "idle",
    "_uuid": "5374a729325ac38423ff82891f1cc887f14ba317"
   },
   "source": [
    "**Stacking averaged Models Class**"
   ]
  },
  {
   "cell_type": "code",
   "execution_count": null,
   "metadata": {
    "_cell_guid": "03326750-2442-4e14-8774-6e2ce9330173",
    "_execution_state": "idle",
    "_uuid": "9115cf7180ba9491bd0a2c5bd566e18238c9de80"
   },
   "outputs": [],
   "source": [
    "class StackingAveragedModels(BaseEstimator, RegressorMixin, TransformerMixin):\n",
    "    def __init__(self, base_models, meta_model, n_folds=5):\n",
    "        self.base_models = base_models\n",
    "        self.meta_model = meta_model\n",
    "        self.n_folds = n_folds\n",
    "   \n",
    "    # We again fit the data on clones of the original models\n",
    "    def fit(self, X, y):\n",
    "        self.base_models_ = [list() for x in self.base_models]\n",
    "        self.meta_model_ = clone(self.meta_model)\n",
    "        kfold = KFold(n_splits=self.n_folds, shuffle=True, random_state=156)\n",
    "        \n",
    "        # Train cloned base models then create out-of-fold predictions\n",
    "        # that are needed to train the cloned meta-model\n",
    "        out_of_fold_predictions = np.zeros((X.shape[0], len(self.base_models)))\n",
    "        for i, model in enumerate(self.base_models):\n",
    "            for train_index, holdout_index in kfold.split(X, y):\n",
    "                instance = clone(model)\n",
    "                self.base_models_[i].append(instance)\n",
    "                instance.fit(X[train_index], y[train_index])\n",
    "                y_pred = instance.predict(X[holdout_index])\n",
    "                out_of_fold_predictions[holdout_index, i] = y_pred\n",
    "                \n",
    "        # Now train the cloned  meta-model using the out-of-fold predictions as new feature\n",
    "        self.meta_model_.fit(out_of_fold_predictions, y)\n",
    "        return self\n",
    "   \n",
    "    #Do the predictions of all base models on the test data and use the averaged predictions as \n",
    "    #meta-features for the final prediction which is done by the meta-model \n",
    "    def predict(self, X):\n",
    "        meta_features = np.column_stack([\n",
    "            np.column_stack([model.predict(X) for model in base_models]).mean(axis=1)\n",
    "            for base_models in self.base_models_ ])\n",
    "        return self.meta_model_.predict(meta_features)"
   ]
  },
  {
   "cell_type": "markdown",
   "metadata": {
    "_cell_guid": "da4c9354-b5c2-4994-8ffd-550416a5c4db",
    "_execution_state": "idle",
    "_uuid": "5fdbcf5c678b260adf80cf39b0f3bb63a26213e1"
   },
   "source": [
    "**Stacking Averaged models Score**"
   ]
  },
  {
   "cell_type": "code",
   "execution_count": null,
   "metadata": {
    "_cell_guid": "4db03a27-e9fb-484d-bbfe-2058f16dce77",
    "_execution_state": "idle",
    "_uuid": "f2c78b5950097660d3f8b84bade8d8dbdc3964f2"
   },
   "outputs": [],
   "source": [
    "stacked_averaged_models = StackingAveragedModels(base_models = (## 자유),\n",
    "                                                 meta_model = ## 자유)\n",
    "\n",
    "score = rmsle_cv(stacked_averaged_models)                 \n",
    "print(\"Stacking Averaged models score: {:.4f} ({:.4f})\".format(score.mean(), score.std()))"
   ]
  },
  {
   "cell_type": "code",
   "execution_count": null,
   "metadata": {
    "_cell_guid": "232c3959-c6e1-4535-8ad4-62892edc3f06",
    "_execution_state": "idle",
    "_uuid": "07f9ef433905b61a08a36790254d6a34661f0653"
   },
   "outputs": [],
   "source": [
    "def rmsle(y, y_pred):\n",
    "    return np.sqrt(mean_squared_error(y, y_pred))"
   ]
  },
  {
   "cell_type": "markdown",
   "metadata": {
    "_cell_guid": "999a8cc6-5083-4fca-bc90-616ac2f3ef8b",
    "_execution_state": "idle",
    "_uuid": "b7b74b70e6514b7623bc67cfec2b4f5d37c98707"
   },
   "source": [
    "### Final Training and Prediction"
   ]
  },
  {
   "cell_type": "markdown",
   "metadata": {
    "_cell_guid": "717b4b02-8bcf-4df3-8994-f6a113110115",
    "_execution_state": "idle",
    "_uuid": "115d9e90a84c33213f0f0de7d86b6098f29ca7d8"
   },
   "source": [
    "**StackedRegressor:**"
   ]
  },
  {
   "cell_type": "code",
   "execution_count": null,
   "metadata": {
    "_cell_guid": "e64b2750-1e32-4e91-affb-e583d6ca8722",
    "_execution_state": "busy",
    "_uuid": "8936479533c4bb147ab09f1d2133d8bacbf9afc1"
   },
   "outputs": [],
   "source": [
    "stacked_averaged_models.fit(train.values, y_train)\n",
    "stacked_train_pred = stacked_averaged_models.predict(train.values)\n",
    "stacked_pred = stacked_averaged_models.predict(test.values)\n",
    "print(rmsle(y_train, stacked_train_pred))"
   ]
  },
  {
   "cell_type": "markdown",
   "metadata": {},
   "source": [
    "#같은 방식으로 여러 모델을 학습하고 예측값을 뺴보세요."
   ]
  },
  {
   "cell_type": "code",
   "execution_count": null,
   "metadata": {
    "_cell_guid": "619452b2-c395-48fe-81ab-d6b1d355236b",
    "_execution_state": "idle",
    "_uuid": "07500cf506f6a90c6439c2dabf81ab966cf1c792"
   },
   "outputs": [],
   "source": [
    "'''RMSE on the entire Train data when averaging'''\n",
    "\n",
    "print('RMSLE score on train data:')\n",
    "print(rmsle(y_train, ### )) # 예측값을 앙상블 가중합한 값과 rmse값을 봐보자! "
   ]
  },
  {
   "cell_type": "markdown",
   "metadata": {
    "_cell_guid": "844b5e21-7bd2-4a2b-9f7a-2e755ed06ecb",
    "_execution_state": "idle",
    "_uuid": "59443e95f66cb9e595cff9a3666824299239126b"
   },
   "source": [
    "**Ensemble prediction:**"
   ]
  },
  {
   "cell_type": "code",
   "execution_count": null,
   "metadata": {
    "_cell_guid": "3ec2c58f-6bee-46a6-a263-1fe2cf3569cb",
    "_execution_state": "idle",
    "_uuid": "18996472b775bd9114fea7f08c8a554d4dafe774"
   },
   "outputs": [],
   "source": [
    "ensemble =  # 앙상블 결과 저장 "
   ]
  },
  {
   "cell_type": "markdown",
   "metadata": {
    "_cell_guid": "434ca649-2fa0-46a5-ab29-7f403448ddf7",
    "_execution_state": "idle",
    "_uuid": "c9f02561da543f4901dcd2051acbd6c197108dd5"
   },
   "source": [
    "**Submission**"
   ]
  },
  {
   "cell_type": "code",
   "execution_count": null,
   "metadata": {
    "_cell_guid": "3db46af9-e18a-43bb-9699-45b851f835e5",
    "_execution_state": "idle",
    "_uuid": "93f6915cf25c7bb6b6fa6e74ad7b853387ac1db5"
   },
   "outputs": [],
   "source": [
    "sub = pd.DataFrame()\n",
    "sub['Id'] = test_ID\n",
    "sub['SalePrice'] = ensemble\n",
    "sub.to_csv('submission.csv',index=False)"
   ]
  },
  {
   "cell_type": "code",
   "execution_count": null,
   "metadata": {},
   "outputs": [],
   "source": []
  }
 ],
 "metadata": {
  "kernelspec": {
   "display_name": "Python 3",
   "language": "python",
   "name": "python3"
  },
  "language_info": {
   "codemirror_mode": {
    "name": "ipython",
    "version": 3
   },
   "file_extension": ".py",
   "mimetype": "text/x-python",
   "name": "python",
   "nbconvert_exporter": "python",
   "pygments_lexer": "ipython3",
   "version": "3.7.3"
  }
 },
 "nbformat": 4,
 "nbformat_minor": 4
}
