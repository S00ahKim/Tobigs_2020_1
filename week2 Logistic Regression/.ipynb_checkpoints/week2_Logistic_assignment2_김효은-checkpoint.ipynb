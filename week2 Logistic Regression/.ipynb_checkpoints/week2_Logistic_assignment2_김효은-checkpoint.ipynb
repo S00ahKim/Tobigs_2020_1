{
 "cells": [
  {
   "cell_type": "markdown",
   "metadata": {},
   "source": [
    "# Assignment 2. Classification Metrics\n",
    "1. 주어진 데이터(sampled_data.csv)에 대해 로지스틱 회귀모형(sklearn 패키지 사용 가능)을 적합해보고, Mean Accuracy 찍어보기\n",
    "2. Confusion Matrix 찍어보기 → Mean Accuracy와 비교\n",
    "3. Logistic은 cut-off를 어떻게 설정하느냐에 따라 Classification의 성능이 달라짐. 최적의 Cut-off를 ROC 커브를 사용해서 찾아보세요.   \n",
    "또한 새롭게 찾은 cut-off로 예측을 다시 진행하여 성능 평가를 진행하세요(mean accuracy 제외).\n",
    "\n",
    "---"
   ]
  },
  {
   "cell_type": "markdown",
   "metadata": {},
   "source": [
    "## Load Data"
   ]
  },
  {
   "cell_type": "code",
   "execution_count": 1,
   "metadata": {},
   "outputs": [],
   "source": [
    "import pandas as pd\n",
    "import numpy as np\n",
    "\n",
    "import seaborn as sns\n",
    "import matplotlib.pyplot as plt\n",
    "plt.style.use('seaborn')"
   ]
  },
  {
   "cell_type": "code",
   "execution_count": 4,
   "metadata": {},
   "outputs": [],
   "source": [
    "df = pd.read_csv('../../2주차_회귀분석_로지스틱/로지스틱/assignment1/sampled_data.csv')\n",
    "\n",
    "X = df.drop('Class', axis=1)\n",
    "y = df['Class']"
   ]
  },
  {
   "cell_type": "code",
   "execution_count": 5,
   "metadata": {},
   "outputs": [
    {
     "data": {
      "text/plain": [
       "(28480, 31)"
      ]
     },
     "execution_count": 5,
     "metadata": {},
     "output_type": "execute_result"
    }
   ],
   "source": [
    "df.shape"
   ]
  },
  {
   "cell_type": "code",
   "execution_count": 6,
   "metadata": {},
   "outputs": [
    {
     "data": {
      "text/html": [
       "<div>\n",
       "<style scoped>\n",
       "    .dataframe tbody tr th:only-of-type {\n",
       "        vertical-align: middle;\n",
       "    }\n",
       "\n",
       "    .dataframe tbody tr th {\n",
       "        vertical-align: top;\n",
       "    }\n",
       "\n",
       "    .dataframe thead th {\n",
       "        text-align: right;\n",
       "    }\n",
       "</style>\n",
       "<table border=\"1\" class=\"dataframe\">\n",
       "  <thead>\n",
       "    <tr style=\"text-align: right;\">\n",
       "      <th></th>\n",
       "      <th>Time</th>\n",
       "      <th>V1</th>\n",
       "      <th>V2</th>\n",
       "      <th>V3</th>\n",
       "      <th>V4</th>\n",
       "      <th>V5</th>\n",
       "      <th>V6</th>\n",
       "      <th>V7</th>\n",
       "      <th>V8</th>\n",
       "      <th>V9</th>\n",
       "      <th>...</th>\n",
       "      <th>V21</th>\n",
       "      <th>V22</th>\n",
       "      <th>V23</th>\n",
       "      <th>V24</th>\n",
       "      <th>V25</th>\n",
       "      <th>V26</th>\n",
       "      <th>V27</th>\n",
       "      <th>V28</th>\n",
       "      <th>Amount</th>\n",
       "      <th>Class</th>\n",
       "    </tr>\n",
       "  </thead>\n",
       "  <tbody>\n",
       "    <tr>\n",
       "      <th>0</th>\n",
       "      <td>136330</td>\n",
       "      <td>2.108286</td>\n",
       "      <td>-0.020359</td>\n",
       "      <td>-2.234273</td>\n",
       "      <td>-0.124080</td>\n",
       "      <td>0.559843</td>\n",
       "      <td>-1.315913</td>\n",
       "      <td>0.631887</td>\n",
       "      <td>-0.385490</td>\n",
       "      <td>0.150628</td>\n",
       "      <td>...</td>\n",
       "      <td>0.162940</td>\n",
       "      <td>0.519705</td>\n",
       "      <td>-0.091751</td>\n",
       "      <td>-0.379542</td>\n",
       "      <td>0.418822</td>\n",
       "      <td>0.248646</td>\n",
       "      <td>-0.098857</td>\n",
       "      <td>-0.094773</td>\n",
       "      <td>7.70</td>\n",
       "      <td>0</td>\n",
       "    </tr>\n",
       "    <tr>\n",
       "      <th>1</th>\n",
       "      <td>116819</td>\n",
       "      <td>2.080143</td>\n",
       "      <td>-0.075408</td>\n",
       "      <td>-1.359381</td>\n",
       "      <td>0.261263</td>\n",
       "      <td>0.232201</td>\n",
       "      <td>-0.797886</td>\n",
       "      <td>0.233487</td>\n",
       "      <td>-0.330165</td>\n",
       "      <td>0.493154</td>\n",
       "      <td>...</td>\n",
       "      <td>-0.317765</td>\n",
       "      <td>-0.784150</td>\n",
       "      <td>0.233078</td>\n",
       "      <td>-0.636937</td>\n",
       "      <td>-0.191137</td>\n",
       "      <td>0.234986</td>\n",
       "      <td>-0.070648</td>\n",
       "      <td>-0.062794</td>\n",
       "      <td>17.99</td>\n",
       "      <td>0</td>\n",
       "    </tr>\n",
       "    <tr>\n",
       "      <th>2</th>\n",
       "      <td>27917</td>\n",
       "      <td>1.152650</td>\n",
       "      <td>0.204938</td>\n",
       "      <td>0.441832</td>\n",
       "      <td>1.211595</td>\n",
       "      <td>-0.254895</td>\n",
       "      <td>-0.383380</td>\n",
       "      <td>-0.004286</td>\n",
       "      <td>-0.019590</td>\n",
       "      <td>0.085094</td>\n",
       "      <td>...</td>\n",
       "      <td>0.066674</td>\n",
       "      <td>0.209828</td>\n",
       "      <td>-0.054351</td>\n",
       "      <td>0.058103</td>\n",
       "      <td>0.515330</td>\n",
       "      <td>-0.299402</td>\n",
       "      <td>0.032551</td>\n",
       "      <td>0.022865</td>\n",
       "      <td>21.00</td>\n",
       "      <td>0</td>\n",
       "    </tr>\n",
       "    <tr>\n",
       "      <th>3</th>\n",
       "      <td>97443</td>\n",
       "      <td>-0.389692</td>\n",
       "      <td>0.410148</td>\n",
       "      <td>0.616187</td>\n",
       "      <td>-0.686644</td>\n",
       "      <td>1.040312</td>\n",
       "      <td>-0.322199</td>\n",
       "      <td>0.523625</td>\n",
       "      <td>-0.037453</td>\n",
       "      <td>1.319237</td>\n",
       "      <td>...</td>\n",
       "      <td>0.116692</td>\n",
       "      <td>0.685267</td>\n",
       "      <td>-0.182303</td>\n",
       "      <td>0.767857</td>\n",
       "      <td>-0.242738</td>\n",
       "      <td>0.009678</td>\n",
       "      <td>0.115370</td>\n",
       "      <td>0.176041</td>\n",
       "      <td>6.60</td>\n",
       "      <td>0</td>\n",
       "    </tr>\n",
       "    <tr>\n",
       "      <th>4</th>\n",
       "      <td>17920</td>\n",
       "      <td>-1.306986</td>\n",
       "      <td>0.183306</td>\n",
       "      <td>3.164803</td>\n",
       "      <td>0.810135</td>\n",
       "      <td>1.529576</td>\n",
       "      <td>2.388322</td>\n",
       "      <td>0.551279</td>\n",
       "      <td>-0.054401</td>\n",
       "      <td>1.675481</td>\n",
       "      <td>...</td>\n",
       "      <td>-0.203993</td>\n",
       "      <td>0.556523</td>\n",
       "      <td>0.146513</td>\n",
       "      <td>-1.128693</td>\n",
       "      <td>-0.633623</td>\n",
       "      <td>-0.454903</td>\n",
       "      <td>-0.826329</td>\n",
       "      <td>-0.826186</td>\n",
       "      <td>4.95</td>\n",
       "      <td>0</td>\n",
       "    </tr>\n",
       "  </tbody>\n",
       "</table>\n",
       "<p>5 rows × 31 columns</p>\n",
       "</div>"
      ],
      "text/plain": [
       "     Time        V1        V2        V3        V4        V5        V6  \\\n",
       "0  136330  2.108286 -0.020359 -2.234273 -0.124080  0.559843 -1.315913   \n",
       "1  116819  2.080143 -0.075408 -1.359381  0.261263  0.232201 -0.797886   \n",
       "2   27917  1.152650  0.204938  0.441832  1.211595 -0.254895 -0.383380   \n",
       "3   97443 -0.389692  0.410148  0.616187 -0.686644  1.040312 -0.322199   \n",
       "4   17920 -1.306986  0.183306  3.164803  0.810135  1.529576  2.388322   \n",
       "\n",
       "         V7        V8        V9  ...       V21       V22       V23       V24  \\\n",
       "0  0.631887 -0.385490  0.150628  ...  0.162940  0.519705 -0.091751 -0.379542   \n",
       "1  0.233487 -0.330165  0.493154  ... -0.317765 -0.784150  0.233078 -0.636937   \n",
       "2 -0.004286 -0.019590  0.085094  ...  0.066674  0.209828 -0.054351  0.058103   \n",
       "3  0.523625 -0.037453  1.319237  ...  0.116692  0.685267 -0.182303  0.767857   \n",
       "4  0.551279 -0.054401  1.675481  ... -0.203993  0.556523  0.146513 -1.128693   \n",
       "\n",
       "        V25       V26       V27       V28  Amount  Class  \n",
       "0  0.418822  0.248646 -0.098857 -0.094773    7.70      0  \n",
       "1 -0.191137  0.234986 -0.070648 -0.062794   17.99      0  \n",
       "2  0.515330 -0.299402  0.032551  0.022865   21.00      0  \n",
       "3 -0.242738  0.009678  0.115370  0.176041    6.60      0  \n",
       "4 -0.633623 -0.454903 -0.826329 -0.826186    4.95      0  \n",
       "\n",
       "[5 rows x 31 columns]"
      ]
     },
     "execution_count": 6,
     "metadata": {},
     "output_type": "execute_result"
    }
   ],
   "source": [
    "df.head()"
   ]
  },
  {
   "cell_type": "code",
   "execution_count": 7,
   "metadata": {},
   "outputs": [
    {
     "data": {
      "text/plain": [
       "0    28428\n",
       "1       52\n",
       "Name: Class, dtype: int64"
      ]
     },
     "execution_count": 7,
     "metadata": {},
     "output_type": "execute_result"
    }
   ],
   "source": [
    "df['Class'].value_counts()"
   ]
  },
  {
   "cell_type": "code",
   "execution_count": 8,
   "metadata": {},
   "outputs": [
    {
     "name": "stdout",
     "output_type": "stream",
     "text": [
      "df['Class'] == 0 인 비율 > 0.9981741573033708\n",
      "df['Class'] == 1 인 비율 > 0.0018258426966292136\n"
     ]
    },
    {
     "data": {
      "image/png": "[encoded data removed]",
      "text/plain": [
       "<Figure size 432x288 with 1 Axes>"
      ]
     },
     "metadata": {
      "needs_background": "light"
     },
     "output_type": "display_data"
    }
   ],
   "source": [
    "# label이 매우 불균형한 데이터\n",
    "sns.countplot(df['Class'])\n",
    "\n",
    "print(\"df['Class'] == 0 인 비율 > {}\".format((df['Class'] == 0).sum()/df.shape[0]))\n",
    "print(\"df['Class'] == 1 인 비율 > {}\".format((df['Class'] == 1).sum()/df.shape[0]))"
   ]
  },
  {
   "cell_type": "code",
   "execution_count": 9,
   "metadata": {
    "scrolled": true
   },
   "outputs": [
    {
     "name": "stdout",
     "output_type": "stream",
     "text": [
      "<class 'pandas.core.frame.DataFrame'>\n",
      "RangeIndex: 28480 entries, 0 to 28479\n",
      "Data columns (total 31 columns):\n",
      "Time      28480 non-null int64\n",
      "V1        28480 non-null float64\n",
      "V2        28480 non-null float64\n",
      "V3        28480 non-null float64\n",
      "V4        28480 non-null float64\n",
      "V5        28480 non-null float64\n",
      "V6        28480 non-null float64\n",
      "V7        28480 non-null float64\n",
      "V8        28480 non-null float64\n",
      "V9        28480 non-null float64\n",
      "V10       28480 non-null float64\n",
      "V11       28480 non-null float64\n",
      "V12       28480 non-null float64\n",
      "V13       28480 non-null float64\n",
      "V14       28480 non-null float64\n",
      "V15       28480 non-null float64\n",
      "V16       28480 non-null float64\n",
      "V17       28480 non-null float64\n",
      "V18       28480 non-null float64\n",
      "V19       28480 non-null float64\n",
      "V20       28480 non-null float64\n",
      "V21       28480 non-null float64\n",
      "V22       28480 non-null float64\n",
      "V23       28480 non-null float64\n",
      "V24       28480 non-null float64\n",
      "V25       28480 non-null float64\n",
      "V26       28480 non-null float64\n",
      "V27       28480 non-null float64\n",
      "V28       28480 non-null float64\n",
      "Amount    28480 non-null float64\n",
      "Class     28480 non-null int64\n",
      "dtypes: float64(29), int64(2)\n",
      "memory usage: 6.7 MB\n"
     ]
    }
   ],
   "source": [
    "df.info()"
   ]
  },
  {
   "cell_type": "code",
   "execution_count": 10,
   "metadata": {},
   "outputs": [
    {
     "data": {
      "text/html": [
       "<div>\n",
       "<style scoped>\n",
       "    .dataframe tbody tr th:only-of-type {\n",
       "        vertical-align: middle;\n",
       "    }\n",
       "\n",
       "    .dataframe tbody tr th {\n",
       "        vertical-align: top;\n",
       "    }\n",
       "\n",
       "    .dataframe thead th {\n",
       "        text-align: right;\n",
       "    }\n",
       "</style>\n",
       "<table border=\"1\" class=\"dataframe\">\n",
       "  <thead>\n",
       "    <tr style=\"text-align: right;\">\n",
       "      <th></th>\n",
       "      <th>Time</th>\n",
       "      <th>V1</th>\n",
       "      <th>V2</th>\n",
       "      <th>V3</th>\n",
       "      <th>V4</th>\n",
       "      <th>V5</th>\n",
       "      <th>V6</th>\n",
       "      <th>V7</th>\n",
       "      <th>V8</th>\n",
       "      <th>V9</th>\n",
       "      <th>...</th>\n",
       "      <th>V21</th>\n",
       "      <th>V22</th>\n",
       "      <th>V23</th>\n",
       "      <th>V24</th>\n",
       "      <th>V25</th>\n",
       "      <th>V26</th>\n",
       "      <th>V27</th>\n",
       "      <th>V28</th>\n",
       "      <th>Amount</th>\n",
       "      <th>Class</th>\n",
       "    </tr>\n",
       "  </thead>\n",
       "  <tbody>\n",
       "    <tr>\n",
       "      <th>count</th>\n",
       "      <td>28480.000000</td>\n",
       "      <td>28480.000000</td>\n",
       "      <td>28480.000000</td>\n",
       "      <td>28480.000000</td>\n",
       "      <td>28480.000000</td>\n",
       "      <td>28480.000000</td>\n",
       "      <td>28480.000000</td>\n",
       "      <td>28480.000000</td>\n",
       "      <td>28480.000000</td>\n",
       "      <td>28480.000000</td>\n",
       "      <td>...</td>\n",
       "      <td>28480.000000</td>\n",
       "      <td>28480.000000</td>\n",
       "      <td>28480.000000</td>\n",
       "      <td>28480.000000</td>\n",
       "      <td>28480.000000</td>\n",
       "      <td>28480.000000</td>\n",
       "      <td>28480.000000</td>\n",
       "      <td>28480.000000</td>\n",
       "      <td>28480.000000</td>\n",
       "      <td>28480.000000</td>\n",
       "    </tr>\n",
       "    <tr>\n",
       "      <th>mean</th>\n",
       "      <td>94643.457198</td>\n",
       "      <td>-0.009853</td>\n",
       "      <td>0.002283</td>\n",
       "      <td>0.023257</td>\n",
       "      <td>0.007209</td>\n",
       "      <td>-0.002983</td>\n",
       "      <td>0.001408</td>\n",
       "      <td>0.001781</td>\n",
       "      <td>-0.001175</td>\n",
       "      <td>-0.002359</td>\n",
       "      <td>...</td>\n",
       "      <td>0.001560</td>\n",
       "      <td>0.001996</td>\n",
       "      <td>0.005655</td>\n",
       "      <td>0.000389</td>\n",
       "      <td>0.000116</td>\n",
       "      <td>-0.003401</td>\n",
       "      <td>-0.002118</td>\n",
       "      <td>-0.003817</td>\n",
       "      <td>88.245961</td>\n",
       "      <td>0.001826</td>\n",
       "    </tr>\n",
       "    <tr>\n",
       "      <th>std</th>\n",
       "      <td>47588.652617</td>\n",
       "      <td>1.921643</td>\n",
       "      <td>1.636421</td>\n",
       "      <td>1.485803</td>\n",
       "      <td>1.419452</td>\n",
       "      <td>1.353022</td>\n",
       "      <td>1.321492</td>\n",
       "      <td>1.190563</td>\n",
       "      <td>1.180562</td>\n",
       "      <td>1.092514</td>\n",
       "      <td>...</td>\n",
       "      <td>0.740709</td>\n",
       "      <td>0.721913</td>\n",
       "      <td>0.569450</td>\n",
       "      <td>0.610268</td>\n",
       "      <td>0.515988</td>\n",
       "      <td>0.484652</td>\n",
       "      <td>0.395407</td>\n",
       "      <td>0.304311</td>\n",
       "      <td>235.775903</td>\n",
       "      <td>0.042692</td>\n",
       "    </tr>\n",
       "    <tr>\n",
       "      <th>min</th>\n",
       "      <td>12.000000</td>\n",
       "      <td>-33.669917</td>\n",
       "      <td>-47.429676</td>\n",
       "      <td>-25.188773</td>\n",
       "      <td>-5.600607</td>\n",
       "      <td>-25.025820</td>\n",
       "      <td>-20.054615</td>\n",
       "      <td>-28.011293</td>\n",
       "      <td>-37.353443</td>\n",
       "      <td>-8.960922</td>\n",
       "      <td>...</td>\n",
       "      <td>-15.790142</td>\n",
       "      <td>-8.887017</td>\n",
       "      <td>-14.767079</td>\n",
       "      <td>-2.814898</td>\n",
       "      <td>-3.768740</td>\n",
       "      <td>-1.658162</td>\n",
       "      <td>-9.793568</td>\n",
       "      <td>-8.656570</td>\n",
       "      <td>0.000000</td>\n",
       "      <td>0.000000</td>\n",
       "    </tr>\n",
       "    <tr>\n",
       "      <th>25%</th>\n",
       "      <td>54244.000000</td>\n",
       "      <td>-0.948748</td>\n",
       "      <td>-0.590151</td>\n",
       "      <td>-0.850020</td>\n",
       "      <td>-0.842293</td>\n",
       "      <td>-0.696015</td>\n",
       "      <td>-0.766332</td>\n",
       "      <td>-0.551560</td>\n",
       "      <td>-0.205536</td>\n",
       "      <td>-0.640165</td>\n",
       "      <td>...</td>\n",
       "      <td>-0.226194</td>\n",
       "      <td>-0.532159</td>\n",
       "      <td>-0.160307</td>\n",
       "      <td>-0.354593</td>\n",
       "      <td>-0.316866</td>\n",
       "      <td>-0.329481</td>\n",
       "      <td>-0.071556</td>\n",
       "      <td>-0.053896</td>\n",
       "      <td>5.750000</td>\n",
       "      <td>0.000000</td>\n",
       "    </tr>\n",
       "    <tr>\n",
       "      <th>50%</th>\n",
       "      <td>84099.500000</td>\n",
       "      <td>-0.004241</td>\n",
       "      <td>0.068011</td>\n",
       "      <td>0.207794</td>\n",
       "      <td>-0.005891</td>\n",
       "      <td>-0.057630</td>\n",
       "      <td>-0.269471</td>\n",
       "      <td>0.046837</td>\n",
       "      <td>0.020862</td>\n",
       "      <td>-0.053404</td>\n",
       "      <td>...</td>\n",
       "      <td>-0.029125</td>\n",
       "      <td>0.009972</td>\n",
       "      <td>-0.009117</td>\n",
       "      <td>0.040856</td>\n",
       "      <td>0.013365</td>\n",
       "      <td>-0.060068</td>\n",
       "      <td>0.000948</td>\n",
       "      <td>0.011243</td>\n",
       "      <td>21.980000</td>\n",
       "      <td>0.000000</td>\n",
       "    </tr>\n",
       "    <tr>\n",
       "      <th>75%</th>\n",
       "      <td>139340.250000</td>\n",
       "      <td>1.307201</td>\n",
       "      <td>0.799815</td>\n",
       "      <td>1.040033</td>\n",
       "      <td>0.751093</td>\n",
       "      <td>0.610578</td>\n",
       "      <td>0.401779</td>\n",
       "      <td>0.571420</td>\n",
       "      <td>0.327867</td>\n",
       "      <td>0.588938</td>\n",
       "      <td>...</td>\n",
       "      <td>0.186376</td>\n",
       "      <td>0.522956</td>\n",
       "      <td>0.148473</td>\n",
       "      <td>0.438138</td>\n",
       "      <td>0.349229</td>\n",
       "      <td>0.236058</td>\n",
       "      <td>0.089146</td>\n",
       "      <td>0.077542</td>\n",
       "      <td>77.200000</td>\n",
       "      <td>0.000000</td>\n",
       "    </tr>\n",
       "    <tr>\n",
       "      <th>max</th>\n",
       "      <td>172785.000000</td>\n",
       "      <td>2.439207</td>\n",
       "      <td>14.706335</td>\n",
       "      <td>4.079168</td>\n",
       "      <td>13.143668</td>\n",
       "      <td>29.016124</td>\n",
       "      <td>14.793318</td>\n",
       "      <td>26.237722</td>\n",
       "      <td>15.374630</td>\n",
       "      <td>8.933028</td>\n",
       "      <td>...</td>\n",
       "      <td>27.202839</td>\n",
       "      <td>4.725713</td>\n",
       "      <td>17.606637</td>\n",
       "      <td>3.563214</td>\n",
       "      <td>3.561216</td>\n",
       "      <td>2.992947</td>\n",
       "      <td>6.250240</td>\n",
       "      <td>15.726807</td>\n",
       "      <td>7541.700000</td>\n",
       "      <td>1.000000</td>\n",
       "    </tr>\n",
       "  </tbody>\n",
       "</table>\n",
       "<p>8 rows × 31 columns</p>\n",
       "</div>"
      ],
      "text/plain": [
       "                Time            V1            V2            V3            V4  \\\n",
       "count   28480.000000  28480.000000  28480.000000  28480.000000  28480.000000   \n",
       "mean    94643.457198     -0.009853      0.002283      0.023257      0.007209   \n",
       "std     47588.652617      1.921643      1.636421      1.485803      1.419452   \n",
       "min        12.000000    -33.669917    -47.429676    -25.188773     -5.600607   \n",
       "25%     54244.000000     -0.948748     -0.590151     -0.850020     -0.842293   \n",
       "50%     84099.500000     -0.004241      0.068011      0.207794     -0.005891   \n",
       "75%    139340.250000      1.307201      0.799815      1.040033      0.751093   \n",
       "max    172785.000000      2.439207     14.706335      4.079168     13.143668   \n",
       "\n",
       "                 V5            V6            V7            V8            V9  \\\n",
       "count  28480.000000  28480.000000  28480.000000  28480.000000  28480.000000   \n",
       "mean      -0.002983      0.001408      0.001781     -0.001175     -0.002359   \n",
       "std        1.353022      1.321492      1.190563      1.180562      1.092514   \n",
       "min      -25.025820    -20.054615    -28.011293    -37.353443     -8.960922   \n",
       "25%       -0.696015     -0.766332     -0.551560     -0.205536     -0.640165   \n",
       "50%       -0.057630     -0.269471      0.046837      0.020862     -0.053404   \n",
       "75%        0.610578      0.401779      0.571420      0.327867      0.588938   \n",
       "max       29.016124     14.793318     26.237722     15.374630      8.933028   \n",
       "\n",
       "       ...           V21           V22           V23           V24  \\\n",
       "count  ...  28480.000000  28480.000000  28480.000000  28480.000000   \n",
       "mean   ...      0.001560      0.001996      0.005655      0.000389   \n",
       "std    ...      0.740709      0.721913      0.569450      0.610268   \n",
       "min    ...    -15.790142     -8.887017    -14.767079     -2.814898   \n",
       "25%    ...     -0.226194     -0.532159     -0.160307     -0.354593   \n",
       "50%    ...     -0.029125      0.009972     -0.009117      0.040856   \n",
       "75%    ...      0.186376      0.522956      0.148473      0.438138   \n",
       "max    ...     27.202839      4.725713     17.606637      3.563214   \n",
       "\n",
       "                V25           V26           V27           V28        Amount  \\\n",
       "count  28480.000000  28480.000000  28480.000000  28480.000000  28480.000000   \n",
       "mean       0.000116     -0.003401     -0.002118     -0.003817     88.245961   \n",
       "std        0.515988      0.484652      0.395407      0.304311    235.775903   \n",
       "min       -3.768740     -1.658162     -9.793568     -8.656570      0.000000   \n",
       "25%       -0.316866     -0.329481     -0.071556     -0.053896      5.750000   \n",
       "50%        0.013365     -0.060068      0.000948      0.011243     21.980000   \n",
       "75%        0.349229      0.236058      0.089146      0.077542     77.200000   \n",
       "max        3.561216      2.992947      6.250240     15.726807   7541.700000   \n",
       "\n",
       "              Class  \n",
       "count  28480.000000  \n",
       "mean       0.001826  \n",
       "std        0.042692  \n",
       "min        0.000000  \n",
       "25%        0.000000  \n",
       "50%        0.000000  \n",
       "75%        0.000000  \n",
       "max        1.000000  \n",
       "\n",
       "[8 rows x 31 columns]"
      ]
     },
     "execution_count": 10,
     "metadata": {},
     "output_type": "execute_result"
    }
   ],
   "source": [
    "df.describe()"
   ]
  },
  {
   "cell_type": "code",
   "execution_count": 9,
   "metadata": {},
   "outputs": [],
   "source": [
    "# sns.pairplot(df)"
   ]
  },
  {
   "cell_type": "markdown",
   "metadata": {},
   "source": [
    "### SMOTE"
   ]
  },
  {
   "cell_type": "code",
   "execution_count": 11,
   "metadata": {},
   "outputs": [
    {
     "name": "stderr",
     "output_type": "stream",
     "text": [
      "Using TensorFlow backend.\n"
     ]
    }
   ],
   "source": [
    "# https://imbalanced-learn.readthedocs.io/en/stable/generated/imblearn.over_sampling.SMOTE.html\n",
    "from imblearn.over_sampling import SMOTE\n",
    "smote = SMOTE()\n",
    "X_smote, y_smote = smote.fit_sample(X, y)"
   ]
  },
  {
   "cell_type": "code",
   "execution_count": 12,
   "metadata": {},
   "outputs": [
    {
     "name": "stdout",
     "output_type": "stream",
     "text": [
      "(28480, 30)\n",
      "(56856, 30)\n"
     ]
    }
   ],
   "source": [
    "# 원본 데이터와 SMOTE한 데이터의 사이즈 비교\n",
    "print(X.shape)\n",
    "print(X_smote.shape)"
   ]
  },
  {
   "cell_type": "code",
   "execution_count": 13,
   "metadata": {},
   "outputs": [
    {
     "name": "stdout",
     "output_type": "stream",
     "text": [
      "0    28428\n",
      "1       52\n",
      "Name: Class, dtype: int64\n",
      "1    28428\n",
      "0    28428\n",
      "Name: Class, dtype: int64\n"
     ]
    }
   ],
   "source": [
    "# 원본 데이터와 SMOTE한 데이터의 target 분포 비교\n",
    "print(y.value_counts())\n",
    "print(y_smote.value_counts())"
   ]
  },
  {
   "cell_type": "markdown",
   "metadata": {},
   "source": [
    "## Modeling & Test"
   ]
  },
  {
   "cell_type": "code",
   "execution_count": 14,
   "metadata": {},
   "outputs": [],
   "source": [
    "from sklearn.model_selection import train_test_split, cross_val_score\n",
    "from sklearn.linear_model import LogisticRegression\n",
    "from sklearn.metrics import *\n",
    "import warnings\n",
    "warnings.filterwarnings('ignore')"
   ]
  },
  {
   "cell_type": "code",
   "execution_count": 16,
   "metadata": {},
   "outputs": [],
   "source": [
    "# train, test data 분리\n",
    "\n",
    "# 원본 데이터\n",
    "X_train, X_test, y_train, y_test = train_test_split(X, y, random_state=0, stratify=y)\n",
    "# StandardScaling한 데이터\n",
    "X_ss_train, X_ss_test, y_ss_train, y_ss_test = train_test_split(X_ss_scaled, y, random_state=0, stratify=y)\n",
    "# MinMaxScaling한 데이터\n",
    "X_mm_train, X_mm_test, y_mm_train, y_mm_test = train_test_split(X_mm_scaled, y, random_state=0, stratify=y)\n",
    "# SMOTE했던 데이터\n",
    "X_smote_train, X_smote_test, y_smote_train, y_smote_test = train_test_split(X_smote, y_smote, random_state=0, stratify=y_smote)"
   ]
  },
  {
   "cell_type": "code",
   "execution_count": 26,
   "metadata": {},
   "outputs": [
    {
     "name": "stdout",
     "output_type": "stream",
     "text": [
      "----- ORIGINAL DATA -----\n",
      "y_train의 label의 분포\n",
      "y_train == 0 인 비율 = 0.9981741573033708\n",
      "y_train == 1 인 비율 = 0.0018258426966292136 \n",
      "\n",
      "y_test의 label의 분포\n",
      "y_test == 0 인 비율 = 0.9981741573033708\n",
      "y_test == 1 인 비율 = 0.0018258426966292136 \n",
      "\n"
     ]
    }
   ],
   "source": [
    "print('----- ORIGINAL DATA -----')\n",
    "print('y_train의 label의 분포')\n",
    "print('y_train == 0 인 비율 = {}'.format((y_train == 0).sum()/len(y_train)))\n",
    "print('y_train == 1 인 비율 = {}'.format((y_train == 1).sum()/len(y_train)), '\\n')\n",
    "\n",
    "print('y_test의 label의 분포')\n",
    "print('y_test == 0 인 비율 = {}'.format((y_test == 0).sum()/len(y_test)))\n",
    "print('y_test == 1 인 비율 = {}'.format((y_test == 1).sum()/len(y_test)), '\\n')"
   ]
  },
  {
   "cell_type": "code",
   "execution_count": 27,
   "metadata": {},
   "outputs": [
    {
     "name": "stdout",
     "output_type": "stream",
     "text": [
      "----- SMOTE DATA -----\n",
      "y_train의 label의 분포\n",
      "y_train == 0 인 비율 = 0.5\n",
      "y_train == 1 인 비율 = 0.5 \n",
      "\n",
      "y_test의 label의 분포\n",
      "y_test == 0 인 비율 = 0.5\n",
      "y_test == 1 인 비율 = 0.5 \n",
      "\n"
     ]
    }
   ],
   "source": [
    "print('----- SMOTE DATA -----')\n",
    "print('y_train의 label의 분포')\n",
    "print('y_train == 0 인 비율 = {}'.format((y_smote_train == 0).sum()/len(y_smote_train)))\n",
    "print('y_train == 1 인 비율 = {}'.format((y_smote_train == 1).sum()/len(y_smote_train)), '\\n')\n",
    "\n",
    "print('y_test의 label의 분포')\n",
    "print('y_test == 0 인 비율 = {}'.format((y_smote_test == 0).sum()/len(y_smote_test)))\n",
    "print('y_test == 1 인 비율 = {}'.format((y_smote_test == 1).sum()/len(y_smote_test)), '\\n')"
   ]
  },
  {
   "cell_type": "markdown",
   "metadata": {},
   "source": [
    "### train_test_split 후 scaling"
   ]
  },
  {
   "cell_type": "code",
   "execution_count": 20,
   "metadata": {},
   "outputs": [],
   "source": [
    "from sklearn.preprocessing import StandardScaler, MinMaxScaler\n",
    "standard_scaler = StandardScaler()\n",
    "minmax_scaler = MinMaxScaler()"
   ]
  },
  {
   "cell_type": "code",
   "execution_count": 22,
   "metadata": {},
   "outputs": [],
   "source": [
    "# 평균 0, 표준편차 1로 scaling -> (x-mean)/std\n",
    "standard_scaler.fit(X_train)\n",
    "X_ss_train = standard_scaler.transform(X_train)\n",
    "X_ss_test  = standard_scaler.transform(X_test)\n",
    "y_ss_train = y_train.copy()\n",
    "y_ss_test  = y_test.copy()\n",
    "\n",
    "# min 0, max 1으로 scaling -> (x-min)/(max-min)\n",
    "minmax_scaler.fit(X_train)\n",
    "X_mm_train = minmax_scaler.transform(X_train)\n",
    "X_mm_test  = minmax_scaler.transform(X_test)\n",
    "y_mm_train = y_train.copy() \n",
    "y_mm_test  = y_test.copy()"
   ]
  },
  {
   "cell_type": "code",
   "execution_count": 17,
   "metadata": {},
   "outputs": [],
   "source": [
    "# test 데이터로 교차점증 했을 때의 평균 auc_score와 recall_score 비교\n",
    "def get_cross_val_score(X_train, y_train):\n",
    "    lr_clf = LogisticRegression()\n",
    "    lr_clf.fit(X_train, y_train)\n",
    "    \n",
    "    accuracy = cross_val_score(lr_clf, X_train, y_train, cv=5, scoring='accuracy').mean()\n",
    "    auc = cross_val_score(lr_clf, X_train, y_train, cv=5, scoring='roc_auc').mean()\n",
    "    recall = cross_val_score(lr_clf, X_train, y_train, cv=5, scoring='recall').mean()\n",
    "    \n",
    "    print(f'accuracy = {accuracy}, recall = {recall}, auc = {auc}')"
   ]
  },
  {
   "cell_type": "code",
   "execution_count": 28,
   "metadata": {},
   "outputs": [],
   "source": [
    "def get_test_score(X_train, X_test, y_train, y_test):\n",
    "    lr_clf = LogisticRegression() # model 객체 생성\n",
    "    lr_clf.fit(X_train, y_train) # train data로 training\n",
    "    y_pred = lr_clf.predict(X_test) # test data로 predict\n",
    "    y_pred_proba = lr_clf.predict_proba(X_test)[:, 1] # test data에서 label(0, 1)로 예측할 각각의 확률\n",
    "    \n",
    "    confusion = confusion_matrix(y_test, y_pred)\n",
    "    print(f'confusion matrix = \\n {confusion}') # confusion matrix\n",
    "    \n",
    "    accuracy = accuracy_score(y_test, y_pred) # accuracy (전체데이터 중 예측과 실제가 일치하는 데이터의 비율)\n",
    "    recall = recall_score(y_test, y_pred) # recall (실제 1 데이터 중 1이라고 예측한 비율)\n",
    "    precision = precision_score(y_test, y_pred) # precision (예측을 1로 한 데이터 중 실제 1인 데이터의 비율)\n",
    "    f1score = f1_score(y_test, y_pred) # f1score (recall과 precision을 결합한 지표)\n",
    "    auc = roc_auc_score(y_test, y_pred_proba) # auc (roc curve아래의 면적으로, 0.5~1사이의 범위를 갖는다. 1에 가까울수록 좋다고 판단)\n",
    "\n",
    "    print(f'accuracy = {accuracy}')\n",
    "    print(f'recall = {recall}, precision = {precision}, f1 score = {f1score}')\n",
    "    print(f'auc = {auc} \\n')"
   ]
  },
  {
   "cell_type": "code",
   "execution_count": 29,
   "metadata": {},
   "outputs": [],
   "source": [
    "def draw_roc_curve(X_train, X_test, y_train, y_test):\n",
    "    # train data로 학습시키고, test data의 predict_proba 이용해 ROC curve를 그리는 함수\n",
    "    lr_clf = LogisticRegression()\n",
    "    lr_clf.fit(X_train, y_train)\n",
    "    pred_proba = lr_clf.predict_proba(X_test)[:, 1]\n",
    "    fpr, tpr, thresholds = roc_curve(y_test, pred_proba) \n",
    "    #print(fpr, tpr)\n",
    "    plt.plot(fpr, tpr)"
   ]
  },
  {
   "cell_type": "code",
   "execution_count": 30,
   "metadata": {},
   "outputs": [],
   "source": [
    "def change_thresholds(X_train, X_test, y_train, y_test, label):\n",
    "    lr_clf = LogisticRegression()\n",
    "    lr_clf.fit(X_train, y_train)\n",
    "\n",
    "    thresholds = np.arange(0, 1, 0.05)[1:] # 0.05 ~ 0.95 사이, 0.05 간격의 threshold 값\n",
    "\n",
    "    predict_proba = lr_clf.predict_proba(X_test)[:, 1]\n",
    "    scores = []\n",
    "    for threshold in thresholds:\n",
    "        predict = [1 if proba>threshold else 0 for proba in predict_proba]\n",
    "        scores.append(recall_score(y_test, predict))\n",
    "    # threshold를 변경해가며 predict 값을 구하고, 이 때의 recall_score를 시각화\n",
    "    plt.plot(thresholds, scores, label=label)"
   ]
  },
  {
   "cell_type": "markdown",
   "metadata": {},
   "source": [
    "#### Q1. 주어진 데이터(sampled_data.csv)에 대해 로지스틱 회귀모형(sklearn 패키지 사용 가능)을 적합해보고, Mean Accuracy 찍어보기"
   ]
  },
  {
   "cell_type": "code",
   "execution_count": 21,
   "metadata": {},
   "outputs": [
    {
     "name": "stdout",
     "output_type": "stream",
     "text": [
      "accuracy = 0.9985955056179776, recall = 0.5642857142857143, auc = 0.8539220410769\n",
      "accuracy = 0.9989232209737828, recall = 0.5892857142857142, auc = 0.9503109170480964\n",
      "accuracy = 0.9985018726591761, recall = 0.25357142857142856, auc = 0.9769458140471314\n",
      "accuracy = 0.9810281366497747, recall = 0.9801604094587253, auc = 0.9984303210977131\n"
     ]
    }
   ],
   "source": [
    "# train data로 교차검증했을 때의 score\n",
    "\n",
    "# 본 데이터의 경우 여러가지 feature 정보를 통해 이 거래가 사기인 지 아닌지를 판별하는 것이 목적입니다.\n",
    "# 따라서 실제 사기인 경우를 사기라고 예측하는 것이 가장 중요합니다.\n",
    "# 그러므로 실제 False 중 예측 또한 False로 한 데이터의 비율을 나타내는 'recall'을 주된 평가지표로 사용해야 합니다.\n",
    "# (또한 label이 imbalance한 데이터셋에서 accuracy를 주된 평가지표를 사용하게 되면 결과 해석에 왜곡이 발생하게 됩니다.)\n",
    "\n",
    "# 원본 데이터, standard scaling한 데이터, minmax scaling한 데이터, SMOTE한 데이터를 돌려본 결과\n",
    "# recall은 smote를 실시한 데이터에서 좋게 나왔습니다. \n",
    "# 아무래도 원본 데이터의 경우 사기가 아닌 데이터가 압도적으로 많았기 때문에 사기 데이터를 사기가 아니라고 예측해버린 경우가 많기 때문인 것으로 예측됩니다.\n",
    "\n",
    "get_cross_val_score(X_train, y_train)\n",
    "get_cross_val_score(X_ss_train, y_ss_train)\n",
    "get_cross_val_score(X_mm_train, y_mm_train)\n",
    "get_cross_val_score(X_smote_train, y_smote_train)"
   ]
  },
  {
   "cell_type": "markdown",
   "metadata": {},
   "source": [
    "#### Q2. Confusion Matrix 찍어보기 → Mean Accuracy와 비교\n",
    "(test데이터에서의 confusion matrix와 accuracy를 비교하겠습니다)"
   ]
  },
  {
   "cell_type": "code",
   "execution_count": 22,
   "metadata": {},
   "outputs": [
    {
     "name": "stdout",
     "output_type": "stream",
     "text": [
      "confusion matrix = \n",
      " [[7100    7]\n",
      " [   6    7]]\n",
      "accuracy = 0.9981741573033708\n",
      "recall = 0.5384615384615384, precision = 0.5, f1 score = 0.5185185185185186\n",
      "auc = 0.8970029548332631 \n",
      "\n",
      "confusion matrix = \n",
      " [[7106    1]\n",
      " [   3   10]]\n",
      "accuracy = 0.999438202247191\n",
      "recall = 0.7692307692307693, precision = 0.9090909090909091, f1 score = 0.8333333333333333\n",
      "auc = 0.9922178567176456 \n",
      "\n",
      "confusion matrix = \n",
      " [[7106    1]\n",
      " [   9    4]]\n",
      "accuracy = 0.9985955056179775\n",
      "recall = 0.3076923076923077, precision = 0.8, f1 score = 0.4444444444444444\n",
      "auc = 0.9979543462025522 \n",
      "\n",
      "confusion matrix = \n",
      " [[6944  163]\n",
      " [ 210 6897]]\n",
      "accuracy = 0.973758266497819\n",
      "recall = 0.9704516673701984, precision = 0.9769121813031162, f1 score = 0.9736712077362886\n",
      "auc = 0.9968823853136864 \n",
      "\n"
     ]
    }
   ],
   "source": [
    "# train data로 학습하고, test 데이터의 성능 평가\n",
    "get_test_score(X_train, X_test, y_train, y_test)\n",
    "get_test_score(X_ss_train, X_ss_test, y_ss_train, y_ss_test)\n",
    "get_test_score(X_mm_train, X_mm_test, y_mm_train, y_mm_test)\n",
    "get_test_score(X_smote_train, X_smote_test, y_smote_train, y_smote_test)\n",
    "\n",
    "# 이 데이터는 0인 데이터의 비율이 0.998, 1인 데이터의 비율은 0.001으로 매우 imbalance한 데이터이다. \n",
    "# 이러한 label이 매우 imbalance한 데이터는 0으로 예측해도 accuracy는 매우 높게 나오기 때문에 평가지표로서 적합하지 않다.\n",
    "# 실제 test data의 accuracy를 보아도 0.97~0.99로 매우 높게 나오는 것을 볼 수 있다.\n",
    "# 하지만 이에 비해 recall과 precision score는 매우 낮음을 확인할 수 있다.\n",
    "# confusion matrix를 봤을 때 실제 1인 데이터를 0으로 예측한 경우가 많다.\n",
    "# 주대각선 요소 외의 영역에 속하는 데이터의 개수를 더 줄여보도록 하자.\n",
    "\n",
    "# 그리고 여기서 성능이 좋아보이는 데이터는 StandardScaling한 데이터이다.\n",
    "# StandardScaling한 데이터의 threshold를 변경해가면서 score를 더 높여보도록 하자."
   ]
  },
  {
   "cell_type": "code",
   "execution_count": 31,
   "metadata": {},
   "outputs": [
    {
     "data": {
      "image/png": "[encoded data removed]",
      "text/plain": [
       "<Figure size 432x288 with 1 Axes>"
      ]
     },
     "metadata": {
      "needs_background": "light"
     },
     "output_type": "display_data"
    }
   ],
   "source": [
    "draw_roc_curve(X_train, X_test, y_train, y_test) "
   ]
  },
  {
   "cell_type": "code",
   "execution_count": 32,
   "metadata": {},
   "outputs": [
    {
     "data": {
      "image/png": "[encoded data removed]",
      "text/plain": [
       "<Figure size 432x288 with 1 Axes>"
      ]
     },
     "metadata": {
      "needs_background": "light"
     },
     "output_type": "display_data"
    }
   ],
   "source": [
    "draw_roc_curve(X_ss_train, X_ss_test, y_ss_train, y_ss_test)"
   ]
  },
  {
   "cell_type": "code",
   "execution_count": 33,
   "metadata": {},
   "outputs": [
    {
     "data": {
      "image/png": "[encoded data removed]",
      "text/plain": [
       "<Figure size 432x288 with 1 Axes>"
      ]
     },
     "metadata": {
      "needs_background": "light"
     },
     "output_type": "display_data"
    }
   ],
   "source": [
    "draw_roc_curve(X_mm_train, X_mm_test, y_mm_train, y_mm_test)"
   ]
  },
  {
   "cell_type": "code",
   "execution_count": 34,
   "metadata": {},
   "outputs": [
    {
     "data": {
      "image/png": "[encoded data removed]",
      "text/plain": [
       "<Figure size 432x288 with 1 Axes>"
      ]
     },
     "metadata": {
      "needs_background": "light"
     },
     "output_type": "display_data"
    }
   ],
   "source": [
    "draw_roc_curve(X_smote_train, X_smote_test, y_smote_train, y_smote_test)"
   ]
  },
  {
   "cell_type": "code",
   "execution_count": 27,
   "metadata": {},
   "outputs": [
    {
     "data": {
      "text/plain": [
       "<matplotlib.legend.Legend at 0x168b8acaef0>"
      ]
     },
     "execution_count": 27,
     "metadata": {},
     "output_type": "execute_result"
    },
    {
     "data": {
      "image/png": "[encoded data removed]",
      "text/plain": [
       "<Figure size 432x288 with 1 Axes>"
      ]
     },
     "metadata": {
      "needs_background": "light"
     },
     "output_type": "display_data"
    }
   ],
   "source": [
    "# thresholds를 바꿔가며 test 했을 때의 recall score\n",
    "change_thresholds(X_train, X_test, y_train, y_test, 'orignial')\n",
    "change_thresholds(X_ss_train, X_ss_test, y_ss_train, y_ss_test, 'ss')\n",
    "change_thresholds(X_mm_train, X_mm_test, y_mm_train, y_mm_test, 'mm')\n",
    "change_thresholds(X_smote_train, X_smote_test, y_smote_train, y_smote_test, 'smote')\n",
    "plt.legend()"
   ]
  },
  {
   "cell_type": "code",
   "execution_count": 28,
   "metadata": {},
   "outputs": [],
   "source": [
    "def set_threshold(X_train, X_test, y_train, y_test, threshold):\n",
    "    lr_clf = LogisticRegression()\n",
    "    lr_clf.fit(X_train, y_train)\n",
    "    pred_proba = lr_clf.predict_proba(X_test)[:, 1]\n",
    "    predict = [1 if proba>threshold else 0 for proba in pred_proba]\n",
    "    \n",
    "    print('confusion matrix \\n', confusion_matrix(y_test, predict))\n",
    "    recall = recall_score(y_test, predict)\n",
    "    precision = precision_score(y_test, predict)\n",
    "    print(f'recall = {recall}, precision = {precision}')\n",
    "    \n",
    "    print('auc = {}'.format(roc_auc_score(y_test, pred_proba)))\n",
    "    \n",
    "    return recall, precision"
   ]
  },
  {
   "cell_type": "code",
   "execution_count": 29,
   "metadata": {},
   "outputs": [
    {
     "name": "stdout",
     "output_type": "stream",
     "text": [
      "--------------- threshold = 0.0---------------\n",
      "confusion matrix \n",
      " [[   0 7107]\n",
      " [   0   13]]\n",
      "recall = 1.0, precision = 0.0018258426966292136\n",
      "auc = 0.9922178567176456\n",
      "--------------- threshold = 0.05---------------\n",
      "confusion matrix \n",
      " [[7096   11]\n",
      " [   1   12]]\n",
      "recall = 0.9230769230769231, precision = 0.5217391304347826\n",
      "auc = 0.9922178567176456\n",
      "--------------- threshold = 0.1---------------\n",
      "confusion matrix \n",
      " [[7104    3]\n",
      " [   2   11]]\n",
      "recall = 0.8461538461538461, precision = 0.7857142857142857\n",
      "auc = 0.9922178567176456\n",
      "--------------- threshold = 0.15000000000000002---------------\n",
      "confusion matrix \n",
      " [[7104    3]\n",
      " [   2   11]]\n",
      "recall = 0.8461538461538461, precision = 0.7857142857142857\n",
      "auc = 0.9922178567176456\n",
      "--------------- threshold = 0.2---------------\n",
      "confusion matrix \n",
      " [[7105    2]\n",
      " [   2   11]]\n",
      "recall = 0.8461538461538461, precision = 0.8461538461538461\n",
      "auc = 0.9922178567176456\n",
      "--------------- threshold = 0.25---------------\n",
      "confusion matrix \n",
      " [[7105    2]\n",
      " [   2   11]]\n",
      "recall = 0.8461538461538461, precision = 0.8461538461538461\n",
      "auc = 0.9922178567176456\n",
      "--------------- threshold = 0.30000000000000004---------------\n",
      "confusion matrix \n",
      " [[7106    1]\n",
      " [   3   10]]\n",
      "recall = 0.7692307692307693, precision = 0.9090909090909091\n",
      "auc = 0.9922178567176456\n",
      "--------------- threshold = 0.35000000000000003---------------\n",
      "confusion matrix \n",
      " [[7106    1]\n",
      " [   3   10]]\n",
      "recall = 0.7692307692307693, precision = 0.9090909090909091\n",
      "auc = 0.9922178567176456\n",
      "--------------- threshold = 0.4---------------\n",
      "confusion matrix \n",
      " [[7106    1]\n",
      " [   3   10]]\n",
      "recall = 0.7692307692307693, precision = 0.9090909090909091\n",
      "auc = 0.9922178567176456\n",
      "--------------- threshold = 0.45---------------\n",
      "confusion matrix \n",
      " [[7106    1]\n",
      " [   3   10]]\n",
      "recall = 0.7692307692307693, precision = 0.9090909090909091\n",
      "auc = 0.9922178567176456\n",
      "--------------- threshold = 0.5---------------\n",
      "confusion matrix \n",
      " [[7106    1]\n",
      " [   3   10]]\n",
      "recall = 0.7692307692307693, precision = 0.9090909090909091\n",
      "auc = 0.9922178567176456\n",
      "--------------- threshold = 0.55---------------\n",
      "confusion matrix \n",
      " [[7106    1]\n",
      " [   4    9]]\n",
      "recall = 0.6923076923076923, precision = 0.9\n",
      "auc = 0.9922178567176456\n",
      "--------------- threshold = 0.6000000000000001---------------\n",
      "confusion matrix \n",
      " [[7106    1]\n",
      " [   5    8]]\n",
      "recall = 0.6153846153846154, precision = 0.8888888888888888\n",
      "auc = 0.9922178567176456\n",
      "--------------- threshold = 0.65---------------\n",
      "confusion matrix \n",
      " [[7106    1]\n",
      " [   5    8]]\n",
      "recall = 0.6153846153846154, precision = 0.8888888888888888\n",
      "auc = 0.9922178567176456\n",
      "--------------- threshold = 0.7000000000000001---------------\n",
      "confusion matrix \n",
      " [[7106    1]\n",
      " [   5    8]]\n",
      "recall = 0.6153846153846154, precision = 0.8888888888888888\n",
      "auc = 0.9922178567176456\n",
      "--------------- threshold = 0.75---------------\n",
      "confusion matrix \n",
      " [[7106    1]\n",
      " [   6    7]]\n",
      "recall = 0.5384615384615384, precision = 0.875\n",
      "auc = 0.9922178567176456\n",
      "--------------- threshold = 0.8---------------\n",
      "confusion matrix \n",
      " [[7106    1]\n",
      " [   6    7]]\n",
      "recall = 0.5384615384615384, precision = 0.875\n",
      "auc = 0.9922178567176456\n",
      "--------------- threshold = 0.8500000000000001---------------\n",
      "confusion matrix \n",
      " [[7106    1]\n",
      " [   6    7]]\n",
      "recall = 0.5384615384615384, precision = 0.875\n",
      "auc = 0.9922178567176456\n",
      "--------------- threshold = 0.9---------------\n",
      "confusion matrix \n",
      " [[7106    1]\n",
      " [   6    7]]\n",
      "recall = 0.5384615384615384, precision = 0.875\n",
      "auc = 0.9922178567176456\n",
      "--------------- threshold = 0.9500000000000001---------------\n",
      "confusion matrix \n",
      " [[7106    1]\n",
      " [   6    7]]\n",
      "recall = 0.5384615384615384, precision = 0.875\n",
      "auc = 0.9922178567176456\n"
     ]
    }
   ],
   "source": [
    "# StandardScaling된 데이터로 threshold 변경해가며 recall, precision score 체크\n",
    "threshold = np.arange(0, 1, 0.05)\n",
    "recalls = []\n",
    "precisions = []\n",
    "\n",
    "for i in threshold:\n",
    "    print(f'--------------- threshold = {i}---------------')\n",
    "    recall, precision = set_threshold(X_ss_train, X_ss_test, y_ss_train, y_ss_test, i)\n",
    "    recalls.append(recall)\n",
    "    precisions.append(precision)"
   ]
  },
  {
   "cell_type": "code",
   "execution_count": 30,
   "metadata": {},
   "outputs": [
    {
     "data": {
      "image/png": "[encoded data removed]",
      "text/plain": [
       "<Figure size 720x432 with 1 Axes>"
      ]
     },
     "metadata": {
      "needs_background": "light"
     },
     "output_type": "display_data"
    }
   ],
   "source": [
    "plt.figure(figsize=(10, 6))\n",
    "plt.plot(threshold, recalls)\n",
    "plt.plot(threshold, precisions)\n",
    "plt.xticks(threshold)\n",
    "plt.show()\n",
    "\n",
    "# threshold가 0.20 혹은 0.25일 때가 recall, precision 둘 다 0.84정도로 어느 정도 괜찮아 보인다.\n",
    "# auc score 또한 0.99 정도로 높게 나온다."
   ]
  },
  {
   "cell_type": "code",
   "execution_count": 31,
   "metadata": {},
   "outputs": [
    {
     "name": "stdout",
     "output_type": "stream",
     "text": [
      "confusion matrix \n",
      " [[7105    2]\n",
      " [   2   11]]\n",
      "recall = 0.8461538461538461, precision = 0.8461538461538461\n",
      "auc = 0.9922178567176456\n"
     ]
    },
    {
     "data": {
      "text/plain": [
       "(0.8461538461538461, 0.8461538461538461)"
      ]
     },
     "execution_count": 31,
     "metadata": {},
     "output_type": "execute_result"
    }
   ],
   "source": [
    "set_threshold(X_ss_train, X_ss_test, y_ss_train, y_ss_test, 0.25) # standardscaling한 데이터"
   ]
  },
  {
   "cell_type": "code",
   "execution_count": 32,
   "metadata": {},
   "outputs": [
    {
     "name": "stdout",
     "output_type": "stream",
     "text": [
      "--------------- threshold = 0.0---------------\n",
      "confusion matrix \n",
      " [[   0 7111]\n",
      " [   0    9]]\n",
      "recall = 1.0, precision = 0.0012640449438202246\n",
      "auc = 0.999890623290989\n",
      "--------------- threshold = 0.05---------------\n",
      "confusion matrix \n",
      " [[7104    7]\n",
      " [   1    8]]\n",
      "recall = 0.8888888888888888, precision = 0.5333333333333333\n",
      "auc = 0.999890623290989\n",
      "--------------- threshold = 0.1---------------\n",
      "confusion matrix \n",
      " [[7106    5]\n",
      " [   1    8]]\n",
      "recall = 0.8888888888888888, precision = 0.6153846153846154\n",
      "auc = 0.999890623290989\n",
      "--------------- threshold = 0.15000000000000002---------------\n",
      "confusion matrix \n",
      " [[7108    3]\n",
      " [   1    8]]\n",
      "recall = 0.8888888888888888, precision = 0.7272727272727273\n",
      "auc = 0.999890623290989\n",
      "--------------- threshold = 0.2---------------\n",
      "confusion matrix \n",
      " [[7108    3]\n",
      " [   1    8]]\n",
      "recall = 0.8888888888888888, precision = 0.7272727272727273\n",
      "auc = 0.999890623290989\n",
      "--------------- threshold = 0.25---------------\n",
      "confusion matrix \n",
      " [[7108    3]\n",
      " [   1    8]]\n",
      "recall = 0.8888888888888888, precision = 0.7272727272727273\n",
      "auc = 0.999890623290989\n",
      "--------------- threshold = 0.30000000000000004---------------\n",
      "confusion matrix \n",
      " [[7110    1]\n",
      " [   1    8]]\n",
      "recall = 0.8888888888888888, precision = 0.8888888888888888\n",
      "auc = 0.999890623290989\n",
      "--------------- threshold = 0.35000000000000003---------------\n",
      "confusion matrix \n",
      " [[7110    1]\n",
      " [   1    8]]\n",
      "recall = 0.8888888888888888, precision = 0.8888888888888888\n",
      "auc = 0.999890623290989\n",
      "--------------- threshold = 0.4---------------\n",
      "confusion matrix \n",
      " [[7111    0]\n",
      " [   1    8]]\n",
      "recall = 0.8888888888888888, precision = 1.0\n",
      "auc = 0.999890623290989\n",
      "--------------- threshold = 0.45---------------\n",
      "confusion matrix \n",
      " [[7111    0]\n",
      " [   1    8]]\n",
      "recall = 0.8888888888888888, precision = 1.0\n",
      "auc = 0.999890623290989\n",
      "--------------- threshold = 0.5---------------\n",
      "confusion matrix \n",
      " [[7111    0]\n",
      " [   1    8]]\n",
      "recall = 0.8888888888888888, precision = 1.0\n",
      "auc = 0.999890623290989\n",
      "--------------- threshold = 0.55---------------\n",
      "confusion matrix \n",
      " [[7111    0]\n",
      " [   1    8]]\n",
      "recall = 0.8888888888888888, precision = 1.0\n",
      "auc = 0.999890623290989\n",
      "--------------- threshold = 0.6000000000000001---------------\n",
      "confusion matrix \n",
      " [[7111    0]\n",
      " [   1    8]]\n",
      "recall = 0.8888888888888888, precision = 1.0\n",
      "auc = 0.999890623290989\n",
      "--------------- threshold = 0.65---------------\n",
      "confusion matrix \n",
      " [[7111    0]\n",
      " [   1    8]]\n",
      "recall = 0.8888888888888888, precision = 1.0\n",
      "auc = 0.999890623290989\n",
      "--------------- threshold = 0.7000000000000001---------------\n",
      "confusion matrix \n",
      " [[7111    0]\n",
      " [   1    8]]\n",
      "recall = 0.8888888888888888, precision = 1.0\n",
      "auc = 0.999890623290989\n",
      "--------------- threshold = 0.75---------------\n",
      "confusion matrix \n",
      " [[7111    0]\n",
      " [   1    8]]\n",
      "recall = 0.8888888888888888, precision = 1.0\n",
      "auc = 0.999890623290989\n",
      "--------------- threshold = 0.8---------------\n",
      "confusion matrix \n",
      " [[7111    0]\n",
      " [   1    8]]\n",
      "recall = 0.8888888888888888, precision = 1.0\n",
      "auc = 0.999890623290989\n",
      "--------------- threshold = 0.8500000000000001---------------\n",
      "confusion matrix \n",
      " [[7111    0]\n",
      " [   2    7]]\n",
      "recall = 0.7777777777777778, precision = 1.0\n",
      "auc = 0.999890623290989\n",
      "--------------- threshold = 0.9---------------\n",
      "confusion matrix \n",
      " [[7111    0]\n",
      " [   3    6]]\n",
      "recall = 0.6666666666666666, precision = 1.0\n",
      "auc = 0.999890623290989\n",
      "--------------- threshold = 0.9500000000000001---------------\n",
      "confusion matrix \n",
      " [[7111    0]\n",
      " [   3    6]]\n",
      "recall = 0.6666666666666666, precision = 1.0\n",
      "auc = 0.999890623290989\n"
     ]
    },
    {
     "data": {
      "image/png": "[encoded data removed]",
      "text/plain": [
       "<Figure size 720x432 with 1 Axes>"
      ]
     },
     "metadata": {
      "needs_background": "light"
     },
     "output_type": "display_data"
    }
   ],
   "source": [
    "# label의 분포가 매우 imbalance하기 때문에 \n",
    "# 이전의 train, test 데이터 분리할 때 label이 동일하게 분포하도록 stratify 옵션을 주었다.\n",
    "# 아래는 stratify 옵션을 주지 않았음에도 불구하고 test data에서의 score가 이전보다 전반적으로 더 높다는 것을 확인할 수 있다.\n",
    "# threshold = 0.5로 설정했을 때에는 recall = 0.8888, precision = 1.0, auc = 0.9999 로 매우 높았다.\n",
    "\n",
    "X_ss_train, X_ss_test, y_ss_train, y_ss_test = train_test_split(X_ss_scaled, y, random_state=0)\n",
    "\n",
    "threshold = np.arange(0, 1, 0.05)\n",
    "recalls = []\n",
    "precisions = []\n",
    "\n",
    "for i in threshold:\n",
    "    print(f'--------------- threshold = {i}---------------')\n",
    "    recall, precision = set_threshold(X_ss_train, X_ss_test, y_ss_train, y_ss_test, i)\n",
    "    recalls.append(recall)\n",
    "    precisions.append(precision)\n",
    "    \n",
    "plt.figure(figsize=(10, 6))\n",
    "plt.plot(threshold, recalls)\n",
    "plt.plot(threshold, precisions)\n",
    "plt.xticks(threshold)\n",
    "plt.show()"
   ]
  },
  {
   "cell_type": "code",
   "execution_count": null,
   "metadata": {},
   "outputs": [],
   "source": []
  }
 ],
 "metadata": {
  "kernelspec": {
   "display_name": "Python 3",
   "language": "python",
   "name": "python3"
  },
  "language_info": {
   "codemirror_mode": {
    "name": "ipython",
    "version": 3
   },
   "file_extension": ".py",
   "mimetype": "text/x-python",
   "name": "python",
   "nbconvert_exporter": "python",
   "pygments_lexer": "ipython3",
   "version": "3.7.3"
  }
 },
 "nbformat": 4,
 "nbformat_minor": 4
}
