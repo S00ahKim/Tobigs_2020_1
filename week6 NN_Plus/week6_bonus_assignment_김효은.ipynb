{
 "cells": [
  {
   "cell_type": "markdown",
   "metadata": {},
   "source": [
    "# 안녕하세요 투빅스 보충 과제입니다 :)\n",
    "\n",
    "안녕하세요 투빅스 12기 김태한입니다 :)\n",
    "\n",
    "이번 과제는 코로나 바이러스로 예상치 못한 휴식시간이 생겨 여러분의 딥러닝 감을 유지하고자 드리게 되었습니다.  \n",
    "\n",
    "투빅이분들이라면 분명 쉽게 해낼거라 믿습니다!!\n",
    "\n",
    "\n",
    "모르시는 거 있으시면 저 그리고 12기 멘토분들을 많이 많이 괴롭혀주세요!!!"
   ]
  },
  {
   "cell_type": "markdown",
   "metadata": {},
   "source": [
    "# Assignment 1"
   ]
  },
  {
   "cell_type": "markdown",
   "metadata": {},
   "source": [
    "여러분들은 저번 과제로 뉴럴넷 구현을 이미 한번 하셨습니다!  \n",
    "\n",
    "사실 이번 과제의 최종 목적도 뉴럴넷 구현인데요 이미 한번 하셨고 실력들이 워낙 출중하셔서 금방금방 하실수 있으실거에요.  \n",
    "\n",
    "구현에 바로 들어가기에 앞서 전체 네트워크 구조와 각 구성요소의 행렬 차원 및 오차역전파(back propagation) 복습이 1번 과제입니다.  \n",
    "\n",
    "**?** 에 들어갈 수식을 채워주시면 됩니다!!  "
   ]
  },
  {
   "cell_type": "markdown",
   "metadata": {},
   "source": [
    "## Matrix Shape 정리\n",
    "\n",
    "n : sample_data 수  \n",
    "d : input_dimension  \n",
    "h : hidden_layer_dimension  \n",
    "c : output_dimension  \n",
    "\n",
    "X : input_data  \n",
    "W1 : layer1_weight  \n",
    "b1 : layer1_bias  \n",
    "H : X*W1+b1\n",
    "A : activation function 거친 value\n",
    "W2 : layer2_weight  \n",
    "b2 : layer2_bias  \n",
    "S : A*W2+b2  \n",
    "P : softmax 거친 value  \n",
    "\n",
    "**X==(n, d)  \n",
    "W1 ==(d, h) 채워주세요  \n",
    "b1 ==(h, )  \n",
    "H  ==(n, h) 채워주세요  \n",
    "A  ==(n, h)  \n",
    "W2 ==(h, c)  \n",
    "b2 ==(c, ) 채워주세요  \n",
    "S  ==(n, c) 채워주세요  \n",
    "P  ==(n, c)**"
   ]
  },
  {
   "cell_type": "markdown",
   "metadata": {},
   "source": [
    "## Matrix 미분 정리\n",
    "$H = XW+b　　　(n,h) = (n,d)x(d,h)+(h,)$  \n",
    "$L = f(H)$  \n",
    "$\\frac{\\partial L}{\\partial W} = \\frac{\\partial H}{\\partial W} \\times \\frac{\\partial L}{\\partial H} = X^T\\frac{\\partial L}{\\partial H}$ 　채워주세요  \n",
    "$\\frac{\\partial L}{\\partial X} = \\frac{\\partial H}{\\partial W} \\times \\frac{\\partial L}{\\partial H} = \\frac{\\partial L}{\\partial H}W^T$  채워주세요  \n",
    "$\\frac{\\partial L}{\\partial b} = 1*\\frac{\\partial L}{\\partial H}$  "
   ]
  },
  {
   "cell_type": "markdown",
   "metadata": {},
   "source": [
    "## 2Layers Chain Rule 정리\n",
    "**Forward** \n",
    "\n",
    "$H = XW_{1} + b$  \n",
    "$A = ReLU(H)$  \n",
    "$S = AW_{2} + b_{2}$  \n",
    "$P = Softmax(S)$  \n",
    "$L = -LogLikelihood(P)$\n",
    "\n",
    "\n",
    "**Backward**\n",
    "\n",
    "$\\frac{\\partial L}{\\partial S} = P-T$　:　T는 Label  \n",
    "$\\frac{\\partial L}{\\partial W_{2}} = \\frac{\\partial S}{\\partial W_{2}}\\frac{\\partial L}{\\partial S} = A^T(P-T)$ 　채워주세요  \n",
    "$\\frac{\\partial L}{\\partial b_{2}} = 1*\\frac{\\partial L}{\\partial S} = P-T$  \n",
    "$\\frac{\\partial L}{\\partial A} = \\frac{\\partial L}{\\partial S}\\frac{\\partial S}{\\partial A} = (P-T)W_2^T$　채워주세요  \n",
    "$\\frac{\\partial L}{\\partial H} = \\frac{\\partial A}{\\partial H}\\frac{\\partial L}{\\partial A}$  \n",
    "$\\frac{\\partial L}{\\partial W_{1}} = \\frac{\\partial H}{\\partial W_{1}}\\frac{\\partial L}{\\partial H} = X^{T}\\frac{\\partial L}{\\partial H}$  \n",
    "$\\frac{\\partial L}{\\partial b_{1}} = \\frac{\\partial L}{\\partial H}$  "
   ]
  },
  {
   "cell_type": "markdown",
   "metadata": {},
   "source": [
    "# Assignment 2"
   ]
  },
  {
   "cell_type": "markdown",
   "metadata": {},
   "source": [
    "같이 드린 파일중 model.py라는 파일이 있을거에요!!!  \n",
    "그 친구의 빈칸을 채워주시면 되겠습니다~!!  \n",
    "model.py의 함수는 assignment3의 모델 만들기에서 사용되니 참고하시면서 채워주시면 도움이 될거에요!"
   ]
  },
  {
   "cell_type": "markdown",
   "metadata": {},
   "source": [
    "# Assignment 3"
   ]
  },
  {
   "cell_type": "markdown",
   "metadata": {},
   "source": [
    "자 이제 저희가 구현한 모델을 가지고 한번 cifar-10 dataset을 학습해볼게요!!  \n",
    "근데 시작하기에 앞서 pip install keras 를 해주세요!!  \n",
    "\n",
    "3번과제의 목적은 하이퍼파라미터를 튜닝하던 다른방법을 사용하던 해서 마지막에 그림그리기에서 높은 validation accuracy가 나오도록 하는 과제입니다!!  \n",
    "\n",
    "모델을 2층이아니라 본인만의 3층으로 발전시켜도 좋구요 다른 여러가지 방법들이 있겠죠!?!?!?  \n",
    "\n",
    "가장 높은 validation accuracy를 뽑으신 분께 상품을 드리겠습니다아~!!!"
   ]
  },
  {
   "cell_type": "markdown",
   "metadata": {},
   "source": [
    "### 데이터 load\n",
    "\n",
    "keras 프레임워크를 이용하여 데이터를 로드해 옵니다.  \n",
    "32*32*3차원의 데이터를 3072차원으로 바꾸는 것 까지 해드릴게요.\n",
    "필요하면 sklearn.preprocessing의 scaler를 사용해보셔도 좋습니다!"
   ]
  },
  {
   "cell_type": "code",
   "execution_count": 1,
   "metadata": {},
   "outputs": [],
   "source": [
    "#from keras.datasets import cifar10\n",
    "import numpy as np\n",
    "from matplotlib import pyplot as plt"
   ]
  },
  {
   "cell_type": "code",
   "execution_count": 2,
   "metadata": {},
   "outputs": [],
   "source": [
    "#(x_train, y_train), (x_test, y_test) = cifar10.load_data()"
   ]
  },
  {
   "cell_type": "code",
   "execution_count": 3,
   "metadata": {},
   "outputs": [],
   "source": [
    "x_train = np.load(\"./x_train_data.npy\")\n",
    "y_train = np.load(\"./y_train_data.npy\")\n",
    "x_test = np.load(\"./x_test_data.npy\")\n",
    "y_test = np.load(\"./y_test_data.npy\")"
   ]
  },
  {
   "cell_type": "code",
   "execution_count": 4,
   "metadata": {},
   "outputs": [],
   "source": [
    "def preprocessing_data(x_train, x_test, y_train, y_test):\n",
    "    #change dtype\n",
    "    x_train = np.array(x_train, dtype=np.float64)\n",
    "    x_test = np.array(x_test, dtype=np.float64)\n",
    "    \n",
    "    #reshaping\n",
    "    x_train = np.reshape(x_train, (x_train.shape[0], -1))\n",
    "    x_test = np.reshape(x_test, (x_test.shape[0], -1))\n",
    "    \n",
    "    y_train = np.reshape(y_train, (y_train.shape[0],))\n",
    "    y_test = np.reshape(y_test, (y_test.shape[0],))\n",
    "        \n",
    "    #normalizing\n",
    "    mean_value = np.mean(x_train, axis=0)\n",
    "    x_train -= mean_value\n",
    "    x_test -= mean_value\n",
    "    \n",
    "    return x_train, x_test, y_train, y_test"
   ]
  },
  {
   "cell_type": "code",
   "execution_count": 5,
   "metadata": {},
   "outputs": [],
   "source": [
    "x_train, x_test, y_train, y_test = preprocessing_data(x_train, x_test, y_train, y_test)"
   ]
  },
  {
   "cell_type": "code",
   "execution_count": 6,
   "metadata": {},
   "outputs": [
    {
     "name": "stdout",
     "output_type": "stream",
     "text": [
      "(5000, 3072)\n",
      "(1000, 3072)\n",
      "(5000,)\n",
      "(1000,)\n"
     ]
    }
   ],
   "source": [
    "print(x_train.shape)\n",
    "print(x_test.shape)\n",
    "print(y_train.shape)\n",
    "print(y_test.shape)"
   ]
  },
  {
   "cell_type": "markdown",
   "metadata": {},
   "source": [
    "데이터가 너무 많아서 5000개랑 1000개만 사용해보도록 할게요"
   ]
  },
  {
   "cell_type": "code",
   "execution_count": 7,
   "metadata": {},
   "outputs": [],
   "source": [
    "x_train = x_train[:5000]\n",
    "y_train = y_train[:5000]\n",
    "x_test = x_test[:1000]\n",
    "y_test = y_test[:1000]"
   ]
  },
  {
   "cell_type": "markdown",
   "metadata": {},
   "source": [
    "### 데이터 확인\n",
    "\n",
    "실제 데이터가 어떻게 생겼는지 한번 봅시다"
   ]
  },
  {
   "cell_type": "code",
   "execution_count": 8,
   "metadata": {},
   "outputs": [
    {
     "data": {
      "text/plain": [
       "array([[ -72.4542,  -74.3766,  -69.681 , ...,   -4.4978,  -34.203 ,\n",
       "         -42.7262],\n",
       "       [  22.5458,   40.6234,   54.319 , ...,   15.5022,    6.797 ,\n",
       "          29.2738],\n",
       "       [ 123.5458,  118.6234,  122.319 , ...,  -47.4978,  -40.203 ,\n",
       "         -30.7262],\n",
       "       ...,\n",
       "       [  35.5458,   26.6234,   12.319 , ...,  -85.4978,  -48.203 ,\n",
       "         -30.7262],\n",
       "       [  22.5458,   15.6234,   -7.681 , ...,   66.5022,  120.797 ,\n",
       "          -0.7262],\n",
       "       [ -86.4542, -104.3766, -111.681 , ...,   28.5022,   15.797 ,\n",
       "         -14.7262]])"
      ]
     },
     "execution_count": 8,
     "metadata": {},
     "output_type": "execute_result"
    }
   ],
   "source": [
    "x_train"
   ]
  },
  {
   "cell_type": "markdown",
   "metadata": {},
   "source": [
    "### 하이퍼파라미터 설정\n",
    "\n",
    "이제 하이퍼파라미터를 설정해볼게요.  \n",
    "hidden_size, epoch_size, batch_size, learning_rate등은 전부 하이퍼 파라미터이니 바꾸면서 도전해보세요!!"
   ]
  },
  {
   "cell_type": "code",
   "execution_count": 8,
   "metadata": {},
   "outputs": [],
   "source": [
    "input_size = 32 * 32 * 3\n",
    "hidden_size = 230\n",
    "output_size = 10\n",
    "epoch_size = 500\n",
    "batch_size = 100\n",
    "learning_rate = 0.0001\n",
    "N = x_train.shape[0]"
   ]
  },
  {
   "cell_type": "markdown",
   "metadata": {},
   "source": [
    "### 모델 만들기\n",
    "\n",
    "input_size, hidden_size, output_size는 데이터에 맞게 잘 설정해주세요."
   ]
  },
  {
   "cell_type": "markdown",
   "metadata": {},
   "source": [
    "**TWO LAYER**"
   ]
  },
  {
   "cell_type": "code",
   "execution_count": 14,
   "metadata": {},
   "outputs": [],
   "source": [
    "from Model_Layer import TwoLayerNet, ThreeLayerNet"
   ]
  },
  {
   "cell_type": "code",
   "execution_count": 15,
   "metadata": {},
   "outputs": [],
   "source": [
    "nn = TwoLayerNet(input_size, hidden_size, output_size)"
   ]
  },
  {
   "cell_type": "code",
   "execution_count": 17,
   "metadata": {},
   "outputs": [
    {
     "name": "stdout",
     "output_type": "stream",
     "text": [
      "0 test accuracy : 0.34\n",
      "0 test loss     : 1.9142349909156746\n",
      "10 test accuracy : 0.342\n",
      "10 test loss     : 1.9615663643664734\n",
      "20 test accuracy : 0.348\n",
      "20 test loss     : 2.0908296463994556\n",
      "30 test accuracy : 0.272\n",
      "30 test loss     : 2.3709970660564177\n",
      "40 test accuracy : 0.311\n",
      "40 test loss     : 2.285110121065045\n",
      "50 test accuracy : 0.29\n",
      "50 test loss     : 2.357778050840388\n",
      "60 test accuracy : 0.301\n",
      "60 test loss     : 2.365481519371042\n",
      "70 test accuracy : 0.286\n",
      "70 test loss     : 2.6347749405693848\n",
      "80 test accuracy : 0.298\n",
      "80 test loss     : 2.723836430472603\n",
      "90 test accuracy : 0.287\n",
      "90 test loss     : 2.670130606478856\n",
      "100 test accuracy : 0.296\n",
      "100 test loss     : 2.769930622287048\n",
      "110 test accuracy : 0.282\n",
      "110 test loss     : 2.9159151311128397\n",
      "120 test accuracy : 0.306\n",
      "120 test loss     : 2.971927331530721\n",
      "130 test accuracy : 0.275\n",
      "130 test loss     : 3.0896289560216728\n",
      "140 test accuracy : 0.29\n",
      "140 test loss     : 2.9550544485695847\n",
      "150 test accuracy : 0.285\n",
      "150 test loss     : 3.1096552346169744\n",
      "160 test accuracy : 0.306\n",
      "160 test loss     : 3.0815855940228243\n",
      "170 test accuracy : 0.295\n",
      "170 test loss     : 3.063965298464629\n",
      "180 test accuracy : 0.282\n",
      "180 test loss     : 3.2998078030403986\n",
      "190 test accuracy : 0.285\n",
      "190 test loss     : 3.295079626280542\n"
     ]
    }
   ],
   "source": [
    "history = {'val_acc': [],'val_loss': []} #기록해서 그림 그리자!\n",
    "\n",
    "#코드를 보며 epoch, batch에 대해서 이해해봅시다.\n",
    "for i in range(epoch_size):\n",
    "    for j in range(N//batch_size):\n",
    "        batch_mask = np.random.choice(N, batch_size) #이번 배치에서 쓸 데이터들 인덱스 추출\n",
    "        x_batch = x_train[batch_mask]\n",
    "        t_batch = y_train[batch_mask]\n",
    "        \n",
    "        nn.backward(x_batch, t_batch) # 가중치 갱신\n",
    "    \n",
    "    #accuracy와 loss를 기록해둡시다.\n",
    "    history[\"val_acc\"].append(nn.accuracy(x_test, y_test))\n",
    "    history[\"val_loss\"].append(nn.forward(x_test, y_test))\n",
    "    \n",
    "    if i % 10 == 0:\n",
    "        print(i, \"test accuracy :\", nn.accuracy(x_test, y_test))\n",
    "        print(i, \"test loss     :\", nn.forward(x_test, y_test))"
   ]
  },
  {
   "cell_type": "code",
   "execution_count": 42,
   "metadata": {},
   "outputs": [],
   "source": [
    "def plot_acc_loss(history):\n",
    "    fig = plt.figure()\n",
    "    ax_acc = fig.add_subplot(111)\n",
    "\n",
    "    ax_acc.plot(range(epoch_size), history['val_acc'], label='정확도(%)', color='darkred')\n",
    "    #plt.text(3, 14.7, \"<----------------정확도(%)\", verticalalignment='top', horizontalalignment='right')\n",
    "    plt.xlabel('epochs')\n",
    "    plt.ylabel('Validation Accuracy(%)')\n",
    "    ax_acc.grid(linestyle='--', color='lavender')\n",
    "    ax_loss = ax_acc.twinx()\n",
    "    ax_loss.plot(range(epoch_size), history['val_loss'], label='오차', color='darkblue')\n",
    "    #plt.text(3, 2.2, \"<----------------오차\", verticalalignment='top', horizontalalignment='left')\n",
    "    plt.ylabel('Validation Error')\n",
    "    ax_loss.yaxis.tick_right()\n",
    "    ax_loss.grid(linestyle='--', color='lavender')\n",
    "\n",
    "    # 그래프 표시\n",
    "    plt.show()\n",
    "\n",
    "    # 나의 최고 validation accuracy는? 두구두구~\n",
    "    print(\"나의 최고 validation accuracy : \",max(history['val_acc']))"
   ]
  },
  {
   "cell_type": "code",
   "execution_count": 27,
   "metadata": {},
   "outputs": [
    {
     "data": {
      "image/png": "[encoded data removed]",
      "text/plain": [
       "<Figure size 432x288 with 2 Axes>"
      ]
     },
     "metadata": {
      "needs_background": "light"
     },
     "output_type": "display_data"
    },
    {
     "name": "stdout",
     "output_type": "stream",
     "text": [
      "나의 최고 validation accuracy :  0.355\n"
     ]
    }
   ],
   "source": [
    "plot_acc_loss(history)"
   ]
  },
  {
   "cell_type": "markdown",
   "metadata": {},
   "source": [
    "**TWO LAYER에서 hidden size hyperparameter tuning**"
   ]
  },
  {
   "cell_type": "code",
   "execution_count": 30,
   "metadata": {},
   "outputs": [
    {
     "name": "stdout",
     "output_type": "stream",
     "text": [
      "hidden: 10\n",
      "30 test accuracy : 0.319\n",
      "30 test loss     : 2.032114341522019\n",
      "==================================================\n",
      "hidden: 30\n",
      "30 test accuracy : 0.317\n",
      "30 test loss     : 2.226776805411433\n",
      "==================================================\n",
      "hidden: 50\n",
      "30 test accuracy : 0.352\n",
      "30 test loss     : 2.0439164805932\n",
      "==================================================\n",
      "hidden: 70\n",
      "30 test accuracy : 0.344\n",
      "30 test loss     : 2.003342419039822\n",
      "==================================================\n",
      "hidden: 90\n",
      "30 test accuracy : 0.333\n",
      "30 test loss     : 2.0269276694629834\n",
      "==================================================\n",
      "hidden: 110\n",
      "30 test accuracy : 0.314\n",
      "30 test loss     : 2.179114309272252\n",
      "==================================================\n",
      "hidden: 130\n",
      "30 test accuracy : 0.316\n",
      "30 test loss     : 2.153323507525447\n",
      "==================================================\n",
      "hidden: 150\n",
      "30 test accuracy : 0.302\n",
      "30 test loss     : 2.248543179352294\n",
      "==================================================\n",
      "hidden: 170\n",
      "30 test accuracy : 0.322\n",
      "30 test loss     : 2.1123246652743846\n",
      "==================================================\n",
      "hidden: 190\n",
      "30 test accuracy : 0.315\n",
      "30 test loss     : 2.1050102214564377\n",
      "==================================================\n",
      "hidden: 210\n",
      "30 test accuracy : 0.326\n",
      "30 test loss     : 2.0212498270087713\n",
      "==================================================\n",
      "hidden: 230\n",
      "30 test accuracy : 0.32\n",
      "30 test loss     : 2.072505544618239\n",
      "==================================================\n",
      "hidden: 250\n",
      "30 test accuracy : 0.324\n",
      "30 test loss     : 2.0663814071379316\n",
      "==================================================\n",
      "hidden: 270\n",
      "30 test accuracy : 0.34\n",
      "30 test loss     : 1.9778734985057376\n",
      "==================================================\n",
      "hidden: 290\n",
      "30 test accuracy : 0.335\n",
      "30 test loss     : 2.076626068152429\n",
      "==================================================\n",
      "hidden: 310\n",
      "30 test accuracy : 0.304\n",
      "30 test loss     : 2.145343996938591\n",
      "==================================================\n",
      "hidden: 330\n",
      "30 test accuracy : 0.365\n",
      "30 test loss     : 1.962441901648511\n",
      "==================================================\n",
      "hidden: 350\n",
      "30 test accuracy : 0.335\n",
      "30 test loss     : 2.039126906543326\n",
      "==================================================\n",
      "hidden: 370\n",
      "30 test accuracy : 0.297\n",
      "30 test loss     : 2.120525020898515\n",
      "==================================================\n",
      "hidden: 390\n",
      "30 test accuracy : 0.341\n",
      "30 test loss     : 2.0256308987050753\n",
      "==================================================\n",
      "hidden: 410\n",
      "30 test accuracy : 0.353\n",
      "30 test loss     : 1.9819315265012118\n",
      "==================================================\n",
      "hidden: 430\n",
      "30 test accuracy : 0.307\n",
      "30 test loss     : 2.1660912229589053\n",
      "==================================================\n",
      "hidden: 450\n",
      "30 test accuracy : 0.334\n",
      "30 test loss     : 2.116790457525791\n",
      "==================================================\n",
      "hidden: 470\n",
      "30 test accuracy : 0.312\n",
      "30 test loss     : 2.178490066790112\n",
      "==================================================\n",
      "hidden: 490\n",
      "30 test accuracy : 0.334\n",
      "30 test loss     : 2.082729080574594\n",
      "==================================================\n"
     ]
    }
   ],
   "source": [
    "hidden_result = {\"val_acc\":[], \"val_loss\":[]}\n",
    "epoch_size = 30\n",
    "hidden_size = np.arange(10, 500, 20)\n",
    "\n",
    "for hidden in hidden_size:\n",
    "    print(\"hidden:\", hidden)\n",
    "    nn = TwoLayerNet(input_size, hidden, output_size)\n",
    "    history = {'val_acc': [],'val_loss': []} \n",
    "    #코드를 보며 epoch, batch에 대해서 이해해봅시다.\n",
    "    for i in range(epoch_size+1):\n",
    "        for j in range(N//batch_size):\n",
    "            batch_mask = np.random.choice(N, batch_size) #이번 배치에서 쓸 데이터들 인덱스 추출\n",
    "            x_batch = x_train[batch_mask]\n",
    "            t_batch = y_train[batch_mask]\n",
    "\n",
    "            nn.backward(x_batch, t_batch) # 가중치 갱신\n",
    "\n",
    "        #accuracy와 loss를 기록해둡시다.\n",
    "        history[\"val_acc\"].append(nn.accuracy(x_test, y_test))\n",
    "        history[\"val_loss\"].append(nn.forward(x_test, y_test))\n",
    "\n",
    "        if i==30:\n",
    "            print(i, \"test accuracy :\", nn.accuracy(x_test, y_test))\n",
    "            print(i, \"test loss     :\", nn.forward(x_test, y_test))\n",
    "    hidden_result[\"val_acc\"].append(max(history[\"val_acc\"]))\n",
    "    hidden_result[\"val_loss\"].append(min(history[\"val_loss\"]))\n",
    "    print(\"=\"*50)"
   ]
  },
  {
   "cell_type": "code",
   "execution_count": 39,
   "metadata": {},
   "outputs": [
    {
     "name": "stdout",
     "output_type": "stream",
     "text": [
      "490\n"
     ]
    },
    {
     "data": {
      "image/png": "[encoded data removed]",
      "text/plain": [
       "<Figure size 864x360 with 1 Axes>"
      ]
     },
     "metadata": {
      "needs_background": "light"
     },
     "output_type": "display_data"
    }
   ],
   "source": [
    "plt.figure(figsize=(12, 5))\n",
    "plt.plot(np.arange(10, 500, 20), hidden_result[\"val_acc\"], label=\"accuracy\")\n",
    "plt.plot(np.arange(10, 500, 20), hidden_result[\"val_loss\"], label=\"loss\")\n",
    "plt.grid(True); plt.legend([\"accuracy\", \"loss\"], loc=\"upper right\")\n",
    "plt.xticks(np.arange(10, 500, 20))\n",
    "print(np.arange(10, 500, 20)[np.argmax(hidden_result[\"val_acc\"])] )\n",
    "\n",
    "# hidden node의 수를 조절해보았는 때 크게 차이는 없어보인다."
   ]
  },
  {
   "cell_type": "code",
   "execution_count": 46,
   "metadata": {},
   "outputs": [
    {
     "name": "stdout",
     "output_type": "stream",
     "text": [
      "0\n",
      "10\n",
      "20\n",
      "30\n",
      "40\n",
      "50\n",
      "60\n",
      "70\n",
      "80\n",
      "90\n",
      "100\n",
      "110\n",
      "120\n",
      "130\n",
      "140\n",
      "150\n",
      "160\n",
      "170\n",
      "180\n",
      "190\n"
     ]
    },
    {
     "data": {
      "image/png": "[encoded data removed]",
      "text/plain": [
       "<Figure size 432x288 with 2 Axes>"
      ]
     },
     "metadata": {
      "needs_background": "light"
     },
     "output_type": "display_data"
    },
    {
     "name": "stdout",
     "output_type": "stream",
     "text": [
      "나의 최고 validation accuracy :  0.366\n"
     ]
    }
   ],
   "source": [
    "nn = TwoLayerNet(input_size, 490, output_size)\n",
    "epoch_size = 200\n",
    "batch_size = 100\n",
    "\n",
    "history = {'val_acc': [],'val_loss': []} \n",
    "for i in range(epoch_size):\n",
    "    if(i%10==0):print(i)\n",
    "    for j in range(N//batch_size):\n",
    "        batch_mask = np.random.choice(N, batch_size) \n",
    "        x_batch = x_train[batch_mask]\n",
    "        t_batch = y_train[batch_mask]\n",
    "        nn.backward(x_batch, t_batch) \n",
    "        \n",
    "    history[\"val_acc\"].append(nn.accuracy(x_test, y_test))\n",
    "    history[\"val_loss\"].append(nn.forward(x_test, y_test))\n",
    "    \n",
    "plot_acc_loss(history)"
   ]
  },
  {
   "cell_type": "markdown",
   "metadata": {},
   "source": [
    "---"
   ]
  },
  {
   "cell_type": "markdown",
   "metadata": {},
   "source": [
    "**THREE LAYER**"
   ]
  },
  {
   "cell_type": "code",
   "execution_count": 10,
   "metadata": {},
   "outputs": [],
   "source": [
    "input_size = 3072\n",
    "hidden1_size = 1000\n",
    "hidden2_size = 500\n",
    "output_size = 10\n",
    "\n",
    "epoch_size = 1000\n",
    "batch_size = 100\n",
    "learning_rate = 0.00001\n",
    "N = x_train.shape[0]"
   ]
  },
  {
   "cell_type": "code",
   "execution_count": 11,
   "metadata": {},
   "outputs": [],
   "source": [
    "from Model_Layer import TwoLayerNet, ThreeLayerNet, FourLayerNet"
   ]
  },
  {
   "cell_type": "code",
   "execution_count": 12,
   "metadata": {},
   "outputs": [],
   "source": [
    "three_nn = ThreeLayerNet(input_size, hidden1_size, hidden2_size, output_size)"
   ]
  },
  {
   "cell_type": "code",
   "execution_count": 13,
   "metadata": {},
   "outputs": [
    {
     "name": "stdout",
     "output_type": "stream",
     "text": [
      "0 test accuracy : 0.112\n",
      "0 test loss     : 2.3313558223454254\n",
      "10 test accuracy : 0.091\n",
      "10 test loss     : 2.2779403948820764\n",
      "20 test accuracy : 0.221\n",
      "20 test loss     : 2.128547902808091\n",
      "30 test accuracy : 0.218\n",
      "30 test loss     : 2.0376092440325366\n",
      "40 test accuracy : 0.273\n",
      "40 test loss     : 1.9253585942408258\n",
      "50 test accuracy : 0.284\n",
      "50 test loss     : 1.8909917201625894\n",
      "60 test accuracy : 0.301\n",
      "60 test loss     : 1.858763050999247\n",
      "70 test accuracy : 0.329\n",
      "70 test loss     : 1.8479350648238428\n",
      "80 test accuracy : 0.337\n",
      "80 test loss     : 1.8401921239204064\n",
      "90 test accuracy : 0.341\n",
      "90 test loss     : 1.8235917434127356\n",
      "100 test accuracy : 0.353\n",
      "100 test loss     : 1.860957521023308\n",
      "110 test accuracy : 0.354\n",
      "110 test loss     : 1.863074390984477\n",
      "120 test accuracy : 0.35\n",
      "120 test loss     : 1.8978807931734774\n",
      "130 test accuracy : 0.346\n",
      "130 test loss     : 1.960179925001866\n",
      "140 test accuracy : 0.352\n",
      "140 test loss     : 1.9548839937282718\n",
      "150 test accuracy : 0.363\n",
      "150 test loss     : 1.9887258217357284\n",
      "160 test accuracy : 0.342\n",
      "160 test loss     : 2.0227811192261886\n",
      "170 test accuracy : 0.339\n",
      "170 test loss     : 2.103910323859347\n",
      "180 test accuracy : 0.309\n",
      "180 test loss     : 2.2063053920853375\n",
      "190 test accuracy : 0.301\n",
      "190 test loss     : 2.2501135144889064\n",
      "200 test accuracy : 0.322\n",
      "200 test loss     : 2.252401581174725\n",
      "210 test accuracy : 0.32\n",
      "210 test loss     : 2.3119634989895466\n",
      "220 test accuracy : 0.32\n",
      "220 test loss     : 2.4418007161369353\n",
      "230 test accuracy : 0.304\n",
      "230 test loss     : 2.429954352929661\n",
      "240 test accuracy : 0.323\n",
      "240 test loss     : 2.5223961952193137\n",
      "250 test accuracy : 0.314\n",
      "250 test loss     : 2.613510646718795\n",
      "260 test accuracy : 0.294\n",
      "260 test loss     : 2.756786508475101\n",
      "270 test accuracy : 0.309\n",
      "270 test loss     : 2.794959738188384\n",
      "280 test accuracy : 0.314\n",
      "280 test loss     : 2.844827210321001\n",
      "290 test accuracy : 0.3\n",
      "290 test loss     : 2.907829517061826\n",
      "300 test accuracy : 0.305\n",
      "300 test loss     : 2.9316065651316805\n",
      "310 test accuracy : 0.303\n",
      "310 test loss     : 2.9727464673980313\n",
      "320 test accuracy : 0.309\n",
      "320 test loss     : 2.9958047199300797\n",
      "330 test accuracy : 0.322\n",
      "330 test loss     : 3.136787550736858\n",
      "340 test accuracy : 0.281\n",
      "340 test loss     : 3.3000797932598136\n",
      "350 test accuracy : 0.293\n",
      "350 test loss     : 3.2165414065660443\n",
      "360 test accuracy : 0.292\n",
      "360 test loss     : 3.31037412167634\n",
      "370 test accuracy : 0.3\n",
      "370 test loss     : 3.4195601705443495\n",
      "380 test accuracy : 0.296\n",
      "380 test loss     : 3.408818630140366\n",
      "390 test accuracy : 0.289\n",
      "390 test loss     : 3.551682310245058\n",
      "400 test accuracy : 0.28\n",
      "400 test loss     : 3.82058199329085\n",
      "410 test accuracy : 0.281\n",
      "410 test loss     : 3.751823785778278\n",
      "420 test accuracy : 0.288\n",
      "420 test loss     : 3.89081847011504\n",
      "430 test accuracy : 0.284\n",
      "430 test loss     : 3.709463843286157\n",
      "440 test accuracy : 0.297\n",
      "440 test loss     : 3.736382060840864\n",
      "450 test accuracy : 0.288\n",
      "450 test loss     : 3.9692972265947537\n",
      "460 test accuracy : 0.276\n",
      "460 test loss     : 4.089075226664843\n",
      "470 test accuracy : 0.275\n",
      "470 test loss     : 3.8903562944404726\n",
      "480 test accuracy : 0.274\n",
      "480 test loss     : 4.121520740183049\n",
      "490 test accuracy : 0.289\n",
      "490 test loss     : 4.080475929769811\n",
      "500 test accuracy : 0.276\n",
      "500 test loss     : 4.265581454656215\n",
      "510 test accuracy : 0.288\n",
      "510 test loss     : 4.219729238726438\n",
      "520 test accuracy : 0.272\n",
      "520 test loss     : 4.310945711347708\n",
      "530 test accuracy : 0.274\n",
      "530 test loss     : 4.326982813291728\n",
      "540 test accuracy : 0.279\n",
      "540 test loss     : 4.381467060255274\n",
      "550 test accuracy : 0.273\n",
      "550 test loss     : 4.352370267062662\n",
      "560 test accuracy : 0.258\n",
      "560 test loss     : 4.497499029535536\n",
      "570 test accuracy : 0.28\n",
      "570 test loss     : 4.558801776990623\n",
      "580 test accuracy : 0.273\n",
      "580 test loss     : 4.554862660496004\n",
      "590 test accuracy : 0.265\n",
      "590 test loss     : 4.836066474485422\n",
      "600 test accuracy : 0.272\n",
      "600 test loss     : 4.820061335848104\n",
      "610 test accuracy : 0.263\n",
      "610 test loss     : 5.139417198629573\n",
      "620 test accuracy : 0.26\n",
      "620 test loss     : 4.8927141238992355\n",
      "630 test accuracy : 0.263\n",
      "630 test loss     : 4.981226388345343\n",
      "640 test accuracy : 0.265\n",
      "640 test loss     : 5.0433844876115375\n",
      "650 test accuracy : 0.272\n",
      "650 test loss     : 5.009657765759423\n",
      "660 test accuracy : 0.269\n",
      "660 test loss     : 5.0759820859506855\n",
      "670 test accuracy : 0.279\n",
      "670 test loss     : 5.186922724008689\n",
      "680 test accuracy : 0.284\n",
      "680 test loss     : 5.302353835645139\n",
      "690 test accuracy : 0.278\n",
      "690 test loss     : 5.3477732988319655\n",
      "700 test accuracy : 0.271\n",
      "700 test loss     : 5.321473078323653\n",
      "710 test accuracy : 0.274\n",
      "710 test loss     : 5.283314039171073\n",
      "720 test accuracy : 0.261\n",
      "720 test loss     : 5.249993186776223\n",
      "730 test accuracy : 0.272\n",
      "730 test loss     : 5.384616877593189\n",
      "740 test accuracy : 0.277\n",
      "740 test loss     : 5.525504762064294\n",
      "750 test accuracy : 0.266\n",
      "750 test loss     : 5.5976113655910655\n",
      "760 test accuracy : 0.272\n",
      "760 test loss     : 5.904666978854693\n",
      "770 test accuracy : 0.264\n",
      "770 test loss     : 6.007796959223968\n",
      "780 test accuracy : 0.255\n",
      "780 test loss     : 5.88847091960081\n",
      "790 test accuracy : 0.262\n",
      "790 test loss     : 5.611836748155125\n",
      "800 test accuracy : 0.271\n",
      "800 test loss     : 5.740503156910589\n",
      "810 test accuracy : 0.254\n",
      "810 test loss     : 5.802496919014422\n",
      "820 test accuracy : 0.275\n",
      "820 test loss     : 5.879734178315044\n",
      "830 test accuracy : 0.264\n",
      "830 test loss     : 5.972290641381111\n",
      "840 test accuracy : 0.279\n",
      "840 test loss     : 5.916806116702411\n",
      "850 test accuracy : 0.266\n",
      "850 test loss     : 6.198838197862389\n",
      "860 test accuracy : 0.275\n",
      "860 test loss     : 6.485506300352206\n",
      "870 test accuracy : 0.265\n",
      "870 test loss     : 6.303445706240182\n",
      "880 test accuracy : 0.268\n",
      "880 test loss     : 6.200984902285214\n",
      "890 test accuracy : 0.267\n",
      "890 test loss     : 6.36696539226999\n",
      "900 test accuracy : 0.263\n",
      "900 test loss     : 6.372240070057606\n",
      "910 test accuracy : 0.26\n",
      "910 test loss     : 6.389936756326946\n",
      "920 test accuracy : 0.256\n",
      "920 test loss     : 6.30803859928023\n",
      "930 test accuracy : 0.263\n",
      "930 test loss     : 6.379993489134421\n",
      "940 test accuracy : 0.246\n",
      "940 test loss     : 6.753598597072706\n",
      "950 test accuracy : 0.276\n",
      "950 test loss     : 6.865943283361086\n",
      "960 test accuracy : 0.248\n",
      "960 test loss     : 7.110441308091554\n",
      "970 test accuracy : 0.27\n",
      "970 test loss     : 6.823847718972139\n",
      "980 test accuracy : 0.268\n",
      "980 test loss     : 6.501419968852655\n",
      "990 test accuracy : 0.259\n",
      "990 test loss     : 6.637033996939515\n"
     ]
    }
   ],
   "source": [
    "history = {'val_acc': [],'val_loss': []} #기록해서 그림 그리자!\n",
    "\n",
    "#코드를 보며 epoch, batch에 대해서 이해해봅시다.\n",
    "for i in range(epoch_size):\n",
    "    for j in range(N//batch_size):\n",
    "        batch_mask = np.random.choice(N, batch_size) #이번 배치에서 쓸 데이터들 인덱스 추출\n",
    "        x_batch = x_train[batch_mask]\n",
    "        t_batch = y_train[batch_mask]\n",
    "        three_nn.backward(x_batch, t_batch, learning_rate) # 가중치 갱신\n",
    "    \n",
    "    #accuracy와 loss를 기록해둡시다.\n",
    "    history[\"val_acc\"].append(three_nn.accuracy(x_test, y_test))\n",
    "    history[\"val_loss\"].append(three_nn.forward(x_test, y_test))\n",
    "    \n",
    "    if i % 10 == 0:\n",
    "        print(i, \"test accuracy :\", three_nn.accuracy(x_test, y_test))\n",
    "        print(i, \"test loss     :\", three_nn.forward(x_test, y_test))"
   ]
  },
  {
   "cell_type": "code",
   "execution_count": 14,
   "metadata": {},
   "outputs": [
    {
     "data": {
      "image/png": "[encoded data removed]",
      "text/plain": [
       "<Figure size 432x288 with 2 Axes>"
      ]
     },
     "metadata": {
      "needs_background": "light"
     },
     "output_type": "display_data"
    },
    {
     "name": "stdout",
     "output_type": "stream",
     "text": [
      "나의 최고 validation accuracy :  0.366\n"
     ]
    }
   ],
   "source": [
    "fig = plt.figure()\n",
    "ax_acc = fig.add_subplot(111)\n",
    "\n",
    "ax_acc.plot(range(epoch_size), history['val_acc'], label='정확도(%)', color='darkred')\n",
    "#plt.text(3, 14.7, \"<----------------정확도(%)\", verticalalignment='top', horizontalalignment='right')\n",
    "plt.xlabel('epochs')\n",
    "plt.ylabel('Validation Accuracy(%)')\n",
    "ax_acc.grid(linestyle='--', color='lavender')\n",
    "ax_loss = ax_acc.twinx()\n",
    "ax_loss.plot(range(epoch_size), history['val_loss'], label='오차', color='darkblue')\n",
    "#plt.text(3, 2.2, \"<----------------오차\", verticalalignment='top', horizontalalignment='left')\n",
    "plt.ylabel('Validation Error')\n",
    "ax_loss.yaxis.tick_right()\n",
    "ax_loss.grid(linestyle='--', color='lavender')\n",
    "\n",
    "# 그래프 표시\n",
    "plt.show()\n",
    "\n",
    "# 나의 최고 validation accuracy는? 두구두구~\n",
    "print(\"나의 최고 validation accuracy : \",max(history['val_acc']))\n",
    "\n",
    "# layer를 3개로 쌓아보았는데 크게 차이는 없어보인다 ㅠㅠ"
   ]
  },
  {
   "cell_type": "code",
   "execution_count": 47,
   "metadata": {},
   "outputs": [
    {
     "name": "stdout",
     "output_type": "stream",
     "text": [
      "hidden1: 50 hidden2: 50\n",
      "0 test accuracy : 0.102\n",
      "0 test loss     : 2.5481889295598177\n",
      "50 test accuracy : 0.23\n",
      "50 test loss     : 2.0685832218005573\n",
      "100 test accuracy : 0.306\n",
      "100 test loss     : 1.9302520131437164\n",
      "==================================================\n",
      "hidden1: 50 hidden2: 100\n",
      "0 test accuracy : 0.089\n",
      "0 test loss     : 2.5647967815365926\n",
      "50 test accuracy : 0.3\n",
      "50 test loss     : 1.9582314095030613\n",
      "100 test accuracy : 0.354\n",
      "100 test loss     : 1.869508206994492\n",
      "==================================================\n",
      "hidden1: 50 hidden2: 150\n",
      "0 test accuracy : 0.103\n",
      "0 test loss     : 2.487127340238197\n",
      "50 test accuracy : 0.291\n",
      "50 test loss     : 2.001717661491397\n",
      "100 test accuracy : 0.336\n",
      "100 test loss     : 1.8928990601842979\n",
      "==================================================\n",
      "hidden1: 50 hidden2: 200\n",
      "0 test accuracy : 0.089\n",
      "0 test loss     : 2.4715255816824064\n",
      "50 test accuracy : 0.26\n",
      "50 test loss     : 2.051894183141107\n",
      "100 test accuracy : 0.337\n",
      "100 test loss     : 1.910410966970996\n",
      "==================================================\n",
      "hidden1: 50 hidden2: 250\n",
      "0 test accuracy : 0.102\n",
      "0 test loss     : 2.430501858794385\n",
      "50 test accuracy : 0.269\n",
      "50 test loss     : 1.9881449982825186\n",
      "100 test accuracy : 0.347\n",
      "100 test loss     : 1.848083348944724\n",
      "==================================================\n",
      "hidden1: 100 hidden2: 50\n",
      "0 test accuracy : 0.109\n",
      "0 test loss     : 2.7922999270963125\n",
      "50 test accuracy : 0.086\n",
      "50 test loss     : 2.320969642644155\n",
      "100 test accuracy : 0.244\n",
      "100 test loss     : 2.1119519130340496\n",
      "==================================================\n",
      "hidden1: 100 hidden2: 100\n",
      "0 test accuracy : 0.102\n",
      "0 test loss     : 2.534573477381876\n",
      "50 test accuracy : 0.271\n",
      "50 test loss     : 1.9672281607486215\n",
      "100 test accuracy : 0.363\n",
      "100 test loss     : 1.8688450873003395\n",
      "==================================================\n",
      "hidden1: 100 hidden2: 150\n",
      "0 test accuracy : 0.106\n",
      "0 test loss     : 2.482008345780069\n",
      "50 test accuracy : 0.224\n",
      "50 test loss     : 2.079449215709211\n",
      "100 test accuracy : 0.344\n",
      "100 test loss     : 1.8861336980882748\n",
      "==================================================\n",
      "hidden1: 100 hidden2: 200\n",
      "0 test accuracy : 0.102\n",
      "0 test loss     : 2.463843222659592\n",
      "50 test accuracy : 0.266\n",
      "50 test loss     : 2.0510958624768048\n",
      "100 test accuracy : 0.332\n",
      "100 test loss     : 1.9254297801344014\n",
      "==================================================\n",
      "hidden1: 100 hidden2: 250\n",
      "0 test accuracy : 0.109\n",
      "0 test loss     : 2.414809196065691\n",
      "50 test accuracy : 0.281\n",
      "50 test loss     : 1.9531943191205108\n",
      "100 test accuracy : 0.359\n",
      "100 test loss     : 1.9068462143603238\n",
      "==================================================\n",
      "hidden1: 150 hidden2: 50\n",
      "0 test accuracy : 0.1\n",
      "0 test loss     : 2.7195294759020077\n",
      "50 test accuracy : 0.263\n",
      "50 test loss     : 2.023633546639053\n",
      "100 test accuracy : 0.35\n",
      "100 test loss     : 1.934429242301087\n",
      "==================================================\n",
      "hidden1: 150 hidden2: 100\n",
      "0 test accuracy : 0.112\n",
      "0 test loss     : 2.5669066892295067\n",
      "50 test accuracy : 0.264\n",
      "50 test loss     : 1.9789218817760401\n",
      "100 test accuracy : 0.32\n",
      "100 test loss     : 1.9137312869856815\n",
      "==================================================\n",
      "hidden1: 150 hidden2: 150\n",
      "0 test accuracy : 0.1\n",
      "0 test loss     : 2.4190361907696634\n",
      "50 test accuracy : 0.243\n",
      "50 test loss     : 2.000528834956717\n",
      "100 test accuracy : 0.316\n",
      "100 test loss     : 1.914979420586067\n",
      "==================================================\n",
      "hidden1: 150 hidden2: 200\n",
      "0 test accuracy : 0.103\n",
      "0 test loss     : 2.4603379149071545\n",
      "50 test accuracy : 0.269\n",
      "50 test loss     : 1.9987972795403615\n",
      "100 test accuracy : 0.355\n",
      "100 test loss     : 1.8647907819883407\n",
      "==================================================\n",
      "hidden1: 150 hidden2: 250\n",
      "0 test accuracy : 0.112\n",
      "0 test loss     : 2.4204065199066993\n",
      "50 test accuracy : 0.248\n",
      "50 test loss     : 1.9934590024953\n",
      "100 test accuracy : 0.303\n",
      "100 test loss     : 1.9139149790494667\n",
      "==================================================\n",
      "hidden1: 200 hidden2: 50\n",
      "0 test accuracy : 0.103\n",
      "0 test loss     : 2.646898160526707\n",
      "50 test accuracy : 0.118\n",
      "50 test loss     : 2.3077360039380093\n",
      "100 test accuracy : 0.229\n",
      "100 test loss     : 2.2094455442344203\n",
      "==================================================\n",
      "hidden1: 200 hidden2: 100\n",
      "0 test accuracy : 0.089\n",
      "0 test loss     : 2.9951393738409315\n",
      "50 test accuracy : 0.24\n",
      "50 test loss     : 2.108109468015016\n",
      "100 test accuracy : 0.304\n",
      "100 test loss     : 2.06970129211117\n",
      "==================================================\n",
      "hidden1: 200 hidden2: 150\n",
      "0 test accuracy : 0.112\n",
      "0 test loss     : 2.4237933083335013\n",
      "50 test accuracy : 0.272\n",
      "50 test loss     : 1.9291104076198553\n",
      "100 test accuracy : 0.338\n",
      "100 test loss     : 1.8763793017712376\n",
      "==================================================\n",
      "hidden1: 200 hidden2: 200\n",
      "0 test accuracy : 0.09\n",
      "0 test loss     : 2.469935674405947\n",
      "50 test accuracy : 0.295\n",
      "50 test loss     : 1.9167559249870896\n",
      "100 test accuracy : 0.332\n",
      "100 test loss     : 1.854599405901746\n",
      "==================================================\n",
      "hidden1: 200 hidden2: 250\n",
      "0 test accuracy : 0.112\n",
      "0 test loss     : 2.465356660082326\n",
      "50 test accuracy : 0.127\n",
      "50 test loss     : 2.292811936259066\n",
      "100 test accuracy : 0.27\n",
      "100 test loss     : 1.9676062684659783\n",
      "==================================================\n",
      "hidden1: 250 hidden2: 50\n",
      "0 test accuracy : 0.106\n",
      "0 test loss     : 2.535656710678688\n",
      "50 test accuracy : 0.277\n",
      "50 test loss     : 1.9749418723461316\n",
      "100 test accuracy : 0.353\n",
      "100 test loss     : 1.8802196102500988\n",
      "==================================================\n",
      "hidden1: 250 hidden2: 100\n",
      "0 test accuracy : 0.089\n",
      "0 test loss     : 2.5341666208874964\n",
      "50 test accuracy : 0.246\n",
      "50 test loss     : 2.047624773439459\n",
      "100 test accuracy : 0.32\n",
      "100 test loss     : 1.895852504779897\n",
      "==================================================\n",
      "hidden1: 250 hidden2: 150\n",
      "0 test accuracy : 0.103\n",
      "0 test loss     : 2.3709284003346793\n",
      "50 test accuracy : 0.268\n",
      "50 test loss     : 1.948019943467653\n",
      "100 test accuracy : 0.322\n",
      "100 test loss     : 1.879458218416043\n",
      "==================================================\n",
      "hidden1: 250 hidden2: 200\n",
      "0 test accuracy : 0.102\n",
      "0 test loss     : 2.5568310053491734\n",
      "50 test accuracy : 0.211\n",
      "50 test loss     : 2.096911634970904\n",
      "100 test accuracy : 0.319\n",
      "100 test loss     : 1.9083946692164278\n",
      "==================================================\n",
      "hidden1: 250 hidden2: 250\n",
      "0 test accuracy : 0.1\n",
      "0 test loss     : 2.5421527650344125\n",
      "50 test accuracy : 0.284\n",
      "50 test loss     : 1.9413223869653042\n",
      "100 test accuracy : 0.338\n",
      "100 test loss     : 1.8988637698269357\n",
      "==================================================\n"
     ]
    }
   ],
   "source": [
    "hidden_result = {\"val_acc\":[], \"val_loss\":[]}\n",
    "epoch_size = 100\n",
    "batch_size = 100\n",
    "hidden1_size = np.arange(50, 300, 50)\n",
    "hidden2_size = np.arange(50, 300, 50)\n",
    "\n",
    "for hidden1 in hidden1_size:\n",
    "    for hidden2 in hidden2_size:\n",
    "        print(\"hidden1:\", hidden1, \"hidden2:\", hidden2)\n",
    "        nn = ThreeLayerNet(input_size, hidden1, hidden2, output_size)\n",
    "        history = {'val_acc': [],'val_loss': []} \n",
    "        #코드를 보며 epoch, batch에 대해서 이해해봅시다.\n",
    "        for i in range(epoch_size+1):\n",
    "            for j in range(N//batch_size):\n",
    "                batch_mask = np.random.choice(N, batch_size) #이번 배치에서 쓸 데이터들 인덱스 추출\n",
    "                x_batch = x_train[batch_mask]\n",
    "                t_batch = y_train[batch_mask]\n",
    "\n",
    "                nn.backward(x_batch, t_batch) # 가중치 갱신\n",
    "\n",
    "            #accuracy와 loss를 기록해둡시다.\n",
    "            history[\"val_acc\"].append(nn.accuracy(x_test, y_test))\n",
    "            history[\"val_loss\"].append(nn.forward(x_test, y_test))\n",
    "\n",
    "            if i%50==0:\n",
    "                print(i, \"test accuracy :\", nn.accuracy(x_test, y_test))\n",
    "                print(i, \"test loss     :\", nn.forward(x_test, y_test))\n",
    "        hidden_result[\"val_acc\"].append(max(history[\"val_acc\"]))\n",
    "        hidden_result[\"val_loss\"].append(min(history[\"val_loss\"]))\n",
    "        print(\"=\"*50)"
   ]
  },
  {
   "cell_type": "code",
   "execution_count": 54,
   "metadata": {},
   "outputs": [
    {
     "data": {
      "text/plain": [
       "0.37"
      ]
     },
     "execution_count": 54,
     "metadata": {},
     "output_type": "execute_result"
    }
   ],
   "source": [
    "# hidden1 100, hidden2 100일 때 acc 높았다\n",
    "max(hidden_result[\"val_acc\"])"
   ]
  },
  {
   "cell_type": "code",
   "execution_count": 53,
   "metadata": {},
   "outputs": [
    {
     "data": {
      "text/plain": [
       "<matplotlib.legend.Legend at 0x1a82d08fb38>"
      ]
     },
     "execution_count": 53,
     "metadata": {},
     "output_type": "execute_result"
    },
    {
     "data": {
      "image/png": "[encoded data removed]",
      "text/plain": [
       "<Figure size 864x360 with 1 Axes>"
      ]
     },
     "metadata": {
      "needs_background": "light"
     },
     "output_type": "display_data"
    }
   ],
   "source": [
    "plt.figure(figsize=(12, 5))\n",
    "plt.plot(hidden_result[\"val_acc\"], label=\"accuracy\")\n",
    "plt.plot(hidden_result[\"val_loss\"], label=\"loss\")\n",
    "plt.grid(True); plt.legend([\"accuracy\", \"loss\"], loc=\"upper right\")"
   ]
  },
  {
   "cell_type": "code",
   "execution_count": null,
   "metadata": {},
   "outputs": [],
   "source": []
  }
 ],
 "metadata": {
  "kernelspec": {
   "display_name": "Python 3",
   "language": "python",
   "name": "python3"
  },
  "language_info": {
   "codemirror_mode": {
    "name": "ipython",
    "version": 3
   },
   "file_extension": ".py",
   "mimetype": "text/x-python",
   "name": "python",
   "nbconvert_exporter": "python",
   "pygments_lexer": "ipython3",
   "version": "3.7.3"
  }
 },
 "nbformat": 4,
 "nbformat_minor": 4
}
