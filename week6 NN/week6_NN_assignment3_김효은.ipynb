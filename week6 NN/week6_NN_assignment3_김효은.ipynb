{
 "cells": [
  {
   "cell_type": "code",
   "execution_count": 1,
   "metadata": {},
   "outputs": [],
   "source": [
    "# 각각의 neuron은 weight를 갖고있다.\n",
    "# 이 때 weight는 이전 layer의 node를 위한 weight와 bias를 위한 weight(1개)로 구성된다.\n",
    "# 따라서 아래 예시에서도 input_node의 수 + 1 만큼의 weight를 생성한 것이다. (hidden layer에서)\n",
    "\n",
    "# hidden layer의 weight의 수 = input node의 수 + 1(for bias)\n",
    "# output layer의 weight의 수 = hidden node의 수 + 1(for bias)"
   ]
  },
  {
   "cell_type": "code",
   "execution_count": 2,
   "metadata": {},
   "outputs": [
    {
     "name": "stdout",
     "output_type": "stream",
     "text": [
      "[{'weights': [0.13436424411240122, 0.8474337369372327, 0.763774618976614]}]\n",
      "[{'weights': [0.2550690257394217, 0.49543508709194095]}, {'weights': [0.4494910647887381, 0.651592972722763]}]\n"
     ]
    }
   ],
   "source": [
    "from random import seed\n",
    "from random import random\n",
    "import numpy as np\n",
    " \n",
    "# 네트워크 초기 설정\n",
    "def initialize_network(n_inputs, n_hidden, n_outputs):\n",
    "    network = list()\n",
    "    # input layer와 hidden layer를 연결하는 가중치\n",
    "    # n_inputs + 1을 해준 이유는 input neuron에 대한 weight + bias에 대한 weight\n",
    "    hidden_layer = [{'weights':[random() for i in range(n_inputs + 1)]} for i in range(n_hidden)]\n",
    "    network.append(hidden_layer)\n",
    "    # hidden layer와 output layer를 연결하는 가중치 -> 따라서 hidden layer의 neuron의 수 + 1(for bias)\n",
    "    output_layer = [{'weights':[random() for i in range(n_hidden + 1)]} for i in range(n_outputs)]\n",
    "    network.append(output_layer)\n",
    "    return network\n",
    " \n",
    "seed(1)\n",
    "network = initialize_network(2, 1, 2) \n",
    "# input layer의 node 2개 - hidden layer의 node 1개 - output layer의 node 2개\n",
    "for layer in network:\n",
    "    print(layer)\n",
    "\n",
    "# network의 첫번째 딕셔너리에는 input layer와 hidden layer를 연결하는 weight\n",
    "# network의 두번째 딕셔너리에는 hidden layer와 output layer를 연결하는 weight"
   ]
  },
  {
   "cell_type": "code",
   "execution_count": 3,
   "metadata": {},
   "outputs": [],
   "source": [
    "# linear 연산 수행\n",
    "def activate(weights, inputs):\n",
    "    activation = weights[-1]\n",
    "    # 위에서 이미 bias는 더해주었기 때문에 아래에서는 range(len(weights)-1)만큼만 돈다\n",
    "    for i in range(len(weights)-1):\n",
    "        activation += inputs[i]*weights[i]  # linear combination 연산 수행\n",
    "    return activation\n",
    "\n",
    "# activation function\n",
    "def sigmoid(activation):\n",
    "    return 1/(1+np.exp(-activation)) # 시그모이드 구현\n",
    "\n",
    "# 순전파\n",
    "def forward_propagate(network, row):\n",
    "    inputs = row\n",
    "    for layer in network:\n",
    "        new_inputs = []\n",
    "        for neuron in layer:\n",
    "            # 이전 layer의 neuron과 다음 layer와의 neuron을 연결하는 가중치의 선형결합\n",
    "            activation = activate(neuron['weights'], inputs)  \n",
    "            # 위에서의 연산 결과가 activation function(여기서는 sigmoid)을 통과\n",
    "            neuron['output'] = sigmoid(activation) # 나온 계산 값을 그대로 쓰나요? \n",
    "            # 그 결과를 new_inputs에 추가\n",
    "            new_inputs.append(neuron['output']) # new_input은 다음 히든층에 들어갈 값이죠?\n",
    "        # 위에서 구한 new_inputs를 inputs으로 넘겨주고, 이 inputs는 다음 layer 연산에서 사용된다.\n",
    "        inputs = new_inputs\n",
    "    return inputs"
   ]
  },
  {
   "cell_type": "markdown",
   "metadata": {},
   "source": [
    "**Q. 여기까지는 순전파 학습과정이었습니다. 이 과정이 끝나면 가중치가 바뀌나요?  \n",
    "답변을 답변의 근거 코딩 결과와 함께 보여주세요.**"
   ]
  },
  {
   "cell_type": "markdown",
   "metadata": {},
   "source": [
    "A. 이 과정에서는 가중치가 **업데이트 되지 않는다.**  \n",
    "단순히 sigmoid(weight_vector*input_vector) 결과를 다시 다음 layer로 넘겨주는 연산만 수행한다.   \n",
    "함수에서도 network의 weights가 업데이트 되는 코드는 찾아볼 수 없다."
   ]
  },
  {
   "cell_type": "code",
   "execution_count": 4,
   "metadata": {},
   "outputs": [
    {
     "name": "stdout",
     "output_type": "stream",
     "text": [
      "[0.6629970129852887, 0.7253160725279748]\n"
     ]
    }
   ],
   "source": [
    "row = [1, 0, None]\n",
    "output = forward_propagate(network, row)\n",
    "print(output)"
   ]
  },
  {
   "cell_type": "code",
   "execution_count": 5,
   "metadata": {},
   "outputs": [],
   "source": [
    "def sigmoid_derivative(output):\n",
    "    # 시그모이드 활성화함수를 통과한 output에 대한 미분값\n",
    "    return output*(1.0-output) # 시그모이드 미분\n",
    "\n",
    "def backward_propagate_error(network, expected):\n",
    "    # 마지막의 layer부터 미분값을 계산해나간다. -> 그래서 reversed 사용\n",
    "    for i in reversed(range(len(network))):\n",
    "        layer = network[i]\n",
    "        errors = []\n",
    "        # 마지막의 layer가 아닌 경우\n",
    "        if i != len(network)-1:\n",
    "            for j in range(len(layer)):\n",
    "                error = 0.0\n",
    "                # 바로 앞의 layer 정보 받아온다\n",
    "                for neuron in network[i + 1]:\n",
    "                    error += (neuron['weights'][j] * neuron['delta'])\n",
    "                errors.append(error) \n",
    "        # 마지막의 layer인 경우\n",
    "        else:\n",
    "            for j in range(len(layer)):\n",
    "                neuron = layer[j]\n",
    "                # 밑에서 gradient descent를 += 형식으로 업데이트 하는 것으로 보아\n",
    "                # 오차 미분한 것을 -(실제-예측)가 아니라 (실제-예측)로 표기해야 맞다.\n",
    "                errors.append(expected[j]-neuron['output']) # 역전파시 오차는 어떻게 설정했나요?\n",
    "        for j in range(len(layer)):\n",
    "            neuron = layer[j]\n",
    "            # 오차를 weight에 대해 편미분한 결과를 key delta에 저장한다.\n",
    "            neuron['delta'] = errors[j]*sigmoid_derivative(neuron['output']) # 시그모이드 함수를 사용한 역전파 "
   ]
  },
  {
   "cell_type": "code",
   "execution_count": 6,
   "metadata": {},
   "outputs": [
    {
     "name": "stdout",
     "output_type": "stream",
     "text": [
      "[{'weights': [0.13436424411240122, 0.8474337369372327, 0.763774618976614], 'output': 0.7105668883115941, 'delta': -0.002711797799238243}]\n",
      "[{'weights': [0.2550690257394217, 0.49543508709194095], 'output': 0.6629970129852887, 'delta': -0.14813473120687762}, {'weights': [0.4494910647887381, 0.651592972722763], 'output': 0.7253160725279748, 'delta': 0.05472601157879688}]\n"
     ]
    }
   ],
   "source": [
    "expected = [0, 1]\n",
    "\n",
    "backward_propagate_error(network, expected)\n",
    "for layer in network:\n",
    "    print(layer)"
   ]
  },
  {
   "cell_type": "code",
   "execution_count": 7,
   "metadata": {},
   "outputs": [],
   "source": [
    "def weights_update(network, row, l_rate):\n",
    "    for i in range(len(network)):\n",
    "        inputs = row[:-1] # feature 데이터\n",
    "        if i != 0:\n",
    "            inputs = [neuron['output'] for neuron in network[i - 1]] # 이전 layer에서의 결과\n",
    "        for neuron in network[i]:\n",
    "            for j in range(len(inputs)):\n",
    "                neuron['weights'][j] += l_rate * neuron['delta'] * inputs[j]\n",
    "            neuron['weights'][-1] += l_rate* neuron['delta']  # 퍼셉트론 학습 규칙\n",
    "            \n",
    "\n",
    "def train_network(network, train, l_rate, n_epoch, n_outputs):\n",
    "    for epoch in range(n_epoch):\n",
    "        sum_error = 0\n",
    "        # 하나의 데이터 추출\n",
    "        for row in train:\n",
    "            # 하나의 데이터에 대해서 outputs 계산\n",
    "            outputs = forward_propagate(network, row) # 순전파 \n",
    "            # target을 one-hot vector로 표시하기 위한 코드\n",
    "            expected = [0 for i in range(n_outputs)]\n",
    "            expected[row[-1]] = 1\n",
    "            # 예측값의 오차 합\n",
    "            # (실제-예측)^2의 합이 오차\n",
    "            sum_error += sum( [(expected[i] - outputs[i])**2 for i in range(len(expected))] ) / 2 \n",
    "            backward_propagate_error(network, expected)\n",
    "            weights_update(network, row, l_rate)\n",
    "        print('>epoch=%d, lrate=%.3f, error=%.3f' % (epoch, l_rate, sum_error))"
   ]
  },
  {
   "cell_type": "code",
   "execution_count": 8,
   "metadata": {},
   "outputs": [],
   "source": [
    "seed(1)\n",
    "dataset = [[2.7810836,2.550537003,0],\n",
    "           [1.465489372,2.362125076,0],\n",
    "           [3.396561688,4.400293529,0],\n",
    "           [1.38807019,1.850220317,0],\n",
    "           [3.06407232,3.005305973,0],\n",
    "           [7.627531214,2.759262235,1],\n",
    "           [5.332441248,2.088626775,1],\n",
    "           [6.922596716,1.77106367,1],\n",
    "           [8.675418651,-0.242068655,1],\n",
    "           [7.673756466,3.508563011,1]]"
   ]
  },
  {
   "cell_type": "code",
   "execution_count": 9,
   "metadata": {},
   "outputs": [],
   "source": [
    "n_inputs = 2 # 뉴럴렛의 입력노드로 뭐가 들어가죠? 그럼 입력 노드의 개수는?\n",
    "n_outputs = 2 # 뉴럴렛의 출력노드의 개수는 뭐라고 했죠? "
   ]
  },
  {
   "cell_type": "code",
   "execution_count": 10,
   "metadata": {},
   "outputs": [
    {
     "name": "stdout",
     "output_type": "stream",
     "text": [
      ">epoch=0, lrate=1.000, error=4.976\n",
      ">epoch=1, lrate=1.000, error=4.971\n",
      ">epoch=2, lrate=1.000, error=4.963\n",
      ">epoch=3, lrate=1.000, error=4.948\n",
      ">epoch=4, lrate=1.000, error=4.908\n",
      ">epoch=5, lrate=1.000, error=4.544\n",
      ">epoch=6, lrate=1.000, error=3.267\n",
      ">epoch=7, lrate=1.000, error=3.409\n",
      ">epoch=8, lrate=1.000, error=3.296\n",
      ">epoch=9, lrate=1.000, error=3.172\n",
      ">epoch=10, lrate=1.000, error=3.048\n",
      ">epoch=11, lrate=1.000, error=2.914\n",
      ">epoch=12, lrate=1.000, error=2.712\n",
      ">epoch=13, lrate=1.000, error=2.073\n",
      ">epoch=14, lrate=1.000, error=1.430\n",
      ">epoch=15, lrate=1.000, error=1.067\n",
      ">epoch=16, lrate=1.000, error=0.807\n",
      ">epoch=17, lrate=1.000, error=0.610\n",
      ">epoch=18, lrate=1.000, error=0.462\n",
      ">epoch=19, lrate=1.000, error=0.352\n",
      ">epoch=20, lrate=1.000, error=0.272\n",
      ">epoch=21, lrate=1.000, error=0.215\n",
      ">epoch=22, lrate=1.000, error=0.173\n",
      ">epoch=23, lrate=1.000, error=0.143\n",
      ">epoch=24, lrate=1.000, error=0.121\n",
      ">epoch=25, lrate=1.000, error=0.104\n",
      ">epoch=26, lrate=1.000, error=0.091\n",
      ">epoch=27, lrate=1.000, error=0.080\n",
      ">epoch=28, lrate=1.000, error=0.072\n",
      ">epoch=29, lrate=1.000, error=0.065\n",
      ">epoch=30, lrate=1.000, error=0.059\n",
      ">epoch=31, lrate=1.000, error=0.054\n",
      ">epoch=32, lrate=1.000, error=0.050\n",
      ">epoch=33, lrate=1.000, error=0.047\n",
      ">epoch=34, lrate=1.000, error=0.043\n",
      ">epoch=35, lrate=1.000, error=0.041\n",
      ">epoch=36, lrate=1.000, error=0.038\n",
      ">epoch=37, lrate=1.000, error=0.036\n",
      ">epoch=38, lrate=1.000, error=0.034\n",
      ">epoch=39, lrate=1.000, error=0.032\n",
      "[{'weights': [-0.01587424909833512, 0.7511215825654615, 0.7268014091345364], 'output': 0.9623562211880412, 'delta': -1.2095901621867437e-05}, {'weights': [0.39544835595535843, -0.3528187375155402, 0.1480401030949619], 'output': 0.8711075658284395, 'delta': 0.000470111868238571}, {'weights': [0.57363082830247, 0.6866145900631054, 0.05331294519583975], 'output': 0.9989565460811627, 'delta': 9.942658483133896e-07}, {'weights': [-1.4000785253854762, 1.9668853494569156, 0.8346130305731332], 'output': 0.04937268448763546, 'delta': -0.0007006241643867207}, {'weights': [0.5551995712767336, -0.7719862646673309, 0.15468813699200476], 'output': 0.8403499718101575, 'delta': 0.0006337926068415578}, {'weights': [0.7707790999685025, 0.3061484198923988, 0.9778335009323901], 'output': 0.9996533250859748, 'delta': -4.252865005129634e-07}, {'weights': [1.0505352729961086, -1.4594545545224111, -0.5332808153953832], 'output': 0.9127899874117138, 'delta': 0.0008240847831275884}, {'weights': [0.5221664721927048, 0.9416881810376904, 0.3804998222919323], 'output': 0.9995434993871832, 'delta': -1.8596692628087497e-07}, {'weights': [-1.0564998530900465, 1.5145410674116433, 0.41034071509290515], 'output': 0.08950636340736706, 'delta': -0.0008787387458121618}, {'weights': [0.2893335619095706, -0.045787632870378084, 0.32571904785117645], 'output': 0.9145791545144318, 'delta': 0.00020044847143477472}, {'weights': [0.5916363991808717, -0.7425904098841596, -0.12516912686328496], 'output': 0.8533304223418811, 'delta': 0.0006719811244194408}]\n",
      "[{'weights': [0.03534810408654475, -0.5021136626509722, -0.5985202855547894, 2.608407529809884, -0.5313089676525861, 0.01386793690041113, -1.3585193336709105, 0.4253768154942716, 1.993986950180192, -0.6411161886902513, -0.6644636562587735, 0.2045553174686606], 'output': 0.05385163881843116, 'delta': -0.0027438293045241985}, {'weights': [-0.0571579889490123, 0.748672536221473, -0.17645749095888716, -2.05665246459415, 0.8694652902835328, -0.30900767416959013, 1.7588974811021887, 0.20684235204837279, -1.4055146529311453, 0.21880814021960898, 0.9435632149279528, -0.7087278392248415], 'output': 0.9364868929506804, 'delta': 0.00377770830663032}]\n"
     ]
    }
   ],
   "source": [
    "network = initialize_network(n_inputs, 11, n_outputs)\n",
    "train_network(network, dataset, 1, 40, n_outputs) # 자유롭게 설정하고 최적을 찾아보세요.\n",
    "for neuron in network:\n",
    "    print(neuron)"
   ]
  },
  {
   "cell_type": "code",
   "execution_count": 11,
   "metadata": {},
   "outputs": [],
   "source": [
    "# 학습한 네트워크로 예측값을 뽑아보자.\n",
    "\n",
    "def predict(network, row):\n",
    "    outputs = forward_propagate(network, row)\n",
    "    return np.argmax(outputs) # 순전파 결과에서 어떤것이 최종 아웃풋이 되나요?"
   ]
  },
  {
   "cell_type": "code",
   "execution_count": 12,
   "metadata": {},
   "outputs": [
    {
     "name": "stdout",
     "output_type": "stream",
     "text": [
      "실제값=0, 예측값=0\n",
      "실제값=0, 예측값=0\n",
      "실제값=0, 예측값=0\n",
      "실제값=0, 예측값=0\n",
      "실제값=0, 예측값=0\n",
      "실제값=1, 예측값=1\n",
      "실제값=1, 예측값=1\n",
      "실제값=1, 예측값=1\n",
      "실제값=1, 예측값=1\n",
      "실제값=1, 예측값=1\n"
     ]
    }
   ],
   "source": [
    "# 네트워크가 잘 학습되었는지 확인해보자. \n",
    "\n",
    "for row in dataset:\n",
    "    prediction = predict(network, row) # 앞서 최적(학습)시킨 네트워크로 잘 학습되었는지 평가 \n",
    "    print('실제값=%d, 예측값=%d' % (row[-1], prediction))"
   ]
  }
 ],
 "metadata": {
  "kernelspec": {
   "display_name": "Python 3",
   "language": "python",
   "name": "python3"
  },
  "language_info": {
   "codemirror_mode": {
    "name": "ipython",
    "version": 3
   },
   "file_extension": ".py",
   "mimetype": "text/x-python",
   "name": "python",
   "nbconvert_exporter": "python",
   "pygments_lexer": "ipython3",
   "version": "3.7.3"
  }
 },
 "nbformat": 4,
 "nbformat_minor": 4
}
